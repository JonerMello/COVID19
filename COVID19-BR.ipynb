{
 "cells": [
  {
   "cell_type": "markdown",
   "metadata": {},
   "source": [
    "# Monitoramento de casos de CVID19 no Brasil e no Mundo"
   ]
  },
  {
   "cell_type": "markdown",
   "metadata": {},
   "source": [
    "**Este notebook tem como objetivo aplicar técnicas de análise da dados, somente para fins didáticos.**"
   ]
  },
  {
   "cell_type": "markdown",
   "metadata": {},
   "source": [
    "### INFORMAÇÕES SOBRE AS BASES UTILIZADAS\n",
    "\n",
    "* Base utilizada para extrair dados do Brasil e Estados foram [G1  Globo](https://g1.globo.com/bemestar/coronavirus/noticia/2020/03/27/casos-de-coronavirus-no-brasil-em-27-de-marco.ghtml) Fonte: Ministério da Saúde até 15 de março; secretarias estaduais da Saúde a partir de 16 de março.Criado com Datawrapper\n",
    "\n",
    "* Base utilizada para extrair dados dos Municipios foram [brasil.io](https://brasil.io/dataset/covid19/caso) Boletins informativos baseado no Ministério da Saúde e secretarias estaduais da Saúde.\n",
    "\n",
    "* Base utilizada para extrair dados dos Mundial foram [BNO News]( https://bnonews.com/index.php/2020/03/the-latest-coronavirus-cases ) Boletins informativos baseado nos dados da OMS.\n",
    "\n",
    "* Base utilizada para extrair dados dos Estados foram [Ministério da Saúde]( https://covid.saude.gov.br/ )\n",
    "\n",
    "*Nenhuma copia deste notebook é permitida sem citar a fonte original.*"
   ]
  },
  {
   "cell_type": "code",
   "execution_count": 55,
   "metadata": {},
   "outputs": [],
   "source": [
    "#import folium\n",
    "import pandas as pd\n",
    "import numpy as np\n",
    "import cufflinks as cf\n",
    "import plotly\n",
    "import plotly.graph_objs as go\n",
    "import plotly.offline as py\n",
    "import matplotlib.pyplot as plt\n",
    "from numpy import nan as NA\n",
    "from plotly.offline import iplot\n",
    "from PIL import Image\n",
    "from wordcloud import WordCloud, STOPWORDS, ImageColorGenerator\n",
    "%matplotlib inline"
   ]
  },
  {
   "cell_type": "code",
   "execution_count": 56,
   "metadata": {},
   "outputs": [
    {
     "data": {
      "text/html": [
       "        <script type=\"text/javascript\">\n",
       "        window.PlotlyConfig = {MathJaxConfig: 'local'};\n",
       "        if (window.MathJax) {MathJax.Hub.Config({SVG: {font: \"STIX-Web\"}});}\n",
       "        if (typeof require !== 'undefined') {\n",
       "        require.undef(\"plotly\");\n",
       "        requirejs.config({\n",
       "            paths: {\n",
       "                'plotly': ['https://cdn.plot.ly/plotly-latest.min']\n",
       "            }\n",
       "        });\n",
       "        require(['plotly'], function(Plotly) {\n",
       "            window._Plotly = Plotly;\n",
       "        });\n",
       "        }\n",
       "        </script>\n",
       "        "
      ]
     },
     "metadata": {},
     "output_type": "display_data"
    },
    {
     "data": {
      "text/html": [
       "        <script type=\"text/javascript\">\n",
       "        window.PlotlyConfig = {MathJaxConfig: 'local'};\n",
       "        if (window.MathJax) {MathJax.Hub.Config({SVG: {font: \"STIX-Web\"}});}\n",
       "        if (typeof require !== 'undefined') {\n",
       "        require.undef(\"plotly\");\n",
       "        requirejs.config({\n",
       "            paths: {\n",
       "                'plotly': ['https://cdn.plot.ly/plotly-latest.min']\n",
       "            }\n",
       "        });\n",
       "        require(['plotly'], function(Plotly) {\n",
       "            window._Plotly = Plotly;\n",
       "        });\n",
       "        }\n",
       "        </script>\n",
       "        "
      ]
     },
     "metadata": {},
     "output_type": "display_data"
    }
   ],
   "source": [
    "#Fonte: Ministério da Saúde até 15 de março; secretarias estaduais da Saúde a partir de 16 de março. \n",
    "dadosdia = pd.read_csv('DB/data-43mJk.csv', sep=',' ,index_col=None)\n",
    "#Dados atualizados em 27/03/2020 às 18:10\n",
    "dadosgeral = pd.read_csv('DB/data-eXkcW.csv', sep=',' ,index_col=None)\n",
    "cf.go_offline()\n",
    "plotly.offline.init_notebook_mode(connected=True)"
   ]
  },
  {
   "cell_type": "code",
   "execution_count": 57,
   "metadata": {},
   "outputs": [],
   "source": [
    "dadosdia.columns = ['data', 'casos', 'mortes','coluna1']\n"
   ]
  },
  {
   "cell_type": "code",
   "execution_count": 58,
   "metadata": {},
   "outputs": [
    {
     "data": {
      "application/vnd.plotly.v1+json": {
       "config": {
        "plotlyServerURL": "https://plot.ly"
       },
       "data": [
        {
         "mode": "lines+text",
         "name": "Confirmados",
         "text": [
          1,
          1,
          1,
          2,
          2,
          2,
          2,
          3,
          8,
          13,
          25,
          25,
          25,
          34,
          52,
          77,
          98,
          98,
          98,
          234,
          349,
          529,
          647,
          977,
          1226,
          1604,
          1960,
          2271,
          2555,
          2988,
          3477,
          3928,
          4313,
          4661,
          5812,
          6931,
          8076,
          9216
         ],
         "textposition": "top center",
         "type": "scatter",
         "x": [
          "26-fev",
          "27-fev",
          "28-fev",
          "29-fev",
          "1-mar",
          "2-mar",
          "3-mar",
          "4-mar",
          "5-mar",
          "6-mar",
          "7-mar",
          "8-mar",
          "9-mar",
          "10-mar",
          "11-mar",
          "12-mar",
          "13-mar",
          "14-mar",
          "15-mar",
          "16-mar",
          "17-mar",
          "18-mar",
          "19-mar",
          "20-mar",
          "21-mar",
          "22-mar",
          "23-mar",
          "24-mar",
          "25-mar",
          "26-mar",
          "27-mar",
          "28-mar",
          "29-mar",
          "30-mar",
          "31-mar",
          "1-abr",
          "2-abr",
          "3-abr"
         ],
         "y": [
          1,
          1,
          1,
          2,
          2,
          2,
          2,
          3,
          8,
          13,
          25,
          25,
          25,
          34,
          52,
          77,
          98,
          98,
          98,
          234,
          349,
          529,
          647,
          977,
          1226,
          1604,
          1960,
          2271,
          2555,
          2988,
          3477,
          3928,
          4313,
          4661,
          5812,
          6931,
          8076,
          9216
         ]
        },
        {
         "mode": "lines+text",
         "name": "Mortes",
         "text": [
          0,
          0,
          0,
          0,
          0,
          0,
          0,
          0,
          0,
          0,
          0,
          0,
          0,
          0,
          0,
          0,
          0,
          0,
          0,
          0,
          1,
          4,
          7,
          11,
          18,
          25,
          34,
          47,
          59,
          77,
          93,
          133,
          139,
          165,
          202,
          242,
          327,
          365
         ],
         "textposition": "top center",
         "type": "scatter",
         "x": [
          "26-fev",
          "27-fev",
          "28-fev",
          "29-fev",
          "1-mar",
          "2-mar",
          "3-mar",
          "4-mar",
          "5-mar",
          "6-mar",
          "7-mar",
          "8-mar",
          "9-mar",
          "10-mar",
          "11-mar",
          "12-mar",
          "13-mar",
          "14-mar",
          "15-mar",
          "16-mar",
          "17-mar",
          "18-mar",
          "19-mar",
          "20-mar",
          "21-mar",
          "22-mar",
          "23-mar",
          "24-mar",
          "25-mar",
          "26-mar",
          "27-mar",
          "28-mar",
          "29-mar",
          "30-mar",
          "31-mar",
          "1-abr",
          "2-abr",
          "3-abr"
         ],
         "y": [
          0,
          0,
          0,
          0,
          0,
          0,
          0,
          0,
          0,
          0,
          0,
          0,
          0,
          0,
          0,
          0,
          0,
          0,
          0,
          0,
          1,
          4,
          7,
          11,
          18,
          25,
          34,
          47,
          59,
          77,
          93,
          133,
          139,
          165,
          202,
          242,
          327,
          365
         ]
        }
       ],
       "layout": {
        "direction": "clockwise",
        "legend": {
         "title": {
          "text": "<b> </b>"
         }
        },
        "showlegend": true,
        "template": {
         "data": {
          "bar": [
           {
            "error_x": {
             "color": "#2a3f5f"
            },
            "error_y": {
             "color": "#2a3f5f"
            },
            "marker": {
             "line": {
              "color": "white",
              "width": 0.5
             }
            },
            "type": "bar"
           }
          ],
          "barpolar": [
           {
            "marker": {
             "line": {
              "color": "white",
              "width": 0.5
             }
            },
            "type": "barpolar"
           }
          ],
          "carpet": [
           {
            "aaxis": {
             "endlinecolor": "#2a3f5f",
             "gridcolor": "#C8D4E3",
             "linecolor": "#C8D4E3",
             "minorgridcolor": "#C8D4E3",
             "startlinecolor": "#2a3f5f"
            },
            "baxis": {
             "endlinecolor": "#2a3f5f",
             "gridcolor": "#C8D4E3",
             "linecolor": "#C8D4E3",
             "minorgridcolor": "#C8D4E3",
             "startlinecolor": "#2a3f5f"
            },
            "type": "carpet"
           }
          ],
          "choropleth": [
           {
            "colorbar": {
             "outlinewidth": 0,
             "ticks": ""
            },
            "type": "choropleth"
           }
          ],
          "contour": [
           {
            "colorbar": {
             "outlinewidth": 0,
             "ticks": ""
            },
            "colorscale": [
             [
              0,
              "#0d0887"
             ],
             [
              0.1111111111111111,
              "#46039f"
             ],
             [
              0.2222222222222222,
              "#7201a8"
             ],
             [
              0.3333333333333333,
              "#9c179e"
             ],
             [
              0.4444444444444444,
              "#bd3786"
             ],
             [
              0.5555555555555556,
              "#d8576b"
             ],
             [
              0.6666666666666666,
              "#ed7953"
             ],
             [
              0.7777777777777778,
              "#fb9f3a"
             ],
             [
              0.8888888888888888,
              "#fdca26"
             ],
             [
              1,
              "#f0f921"
             ]
            ],
            "type": "contour"
           }
          ],
          "contourcarpet": [
           {
            "colorbar": {
             "outlinewidth": 0,
             "ticks": ""
            },
            "type": "contourcarpet"
           }
          ],
          "heatmap": [
           {
            "colorbar": {
             "outlinewidth": 0,
             "ticks": ""
            },
            "colorscale": [
             [
              0,
              "#0d0887"
             ],
             [
              0.1111111111111111,
              "#46039f"
             ],
             [
              0.2222222222222222,
              "#7201a8"
             ],
             [
              0.3333333333333333,
              "#9c179e"
             ],
             [
              0.4444444444444444,
              "#bd3786"
             ],
             [
              0.5555555555555556,
              "#d8576b"
             ],
             [
              0.6666666666666666,
              "#ed7953"
             ],
             [
              0.7777777777777778,
              "#fb9f3a"
             ],
             [
              0.8888888888888888,
              "#fdca26"
             ],
             [
              1,
              "#f0f921"
             ]
            ],
            "type": "heatmap"
           }
          ],
          "heatmapgl": [
           {
            "colorbar": {
             "outlinewidth": 0,
             "ticks": ""
            },
            "colorscale": [
             [
              0,
              "#0d0887"
             ],
             [
              0.1111111111111111,
              "#46039f"
             ],
             [
              0.2222222222222222,
              "#7201a8"
             ],
             [
              0.3333333333333333,
              "#9c179e"
             ],
             [
              0.4444444444444444,
              "#bd3786"
             ],
             [
              0.5555555555555556,
              "#d8576b"
             ],
             [
              0.6666666666666666,
              "#ed7953"
             ],
             [
              0.7777777777777778,
              "#fb9f3a"
             ],
             [
              0.8888888888888888,
              "#fdca26"
             ],
             [
              1,
              "#f0f921"
             ]
            ],
            "type": "heatmapgl"
           }
          ],
          "histogram": [
           {
            "marker": {
             "colorbar": {
              "outlinewidth": 0,
              "ticks": ""
             }
            },
            "type": "histogram"
           }
          ],
          "histogram2d": [
           {
            "colorbar": {
             "outlinewidth": 0,
             "ticks": ""
            },
            "colorscale": [
             [
              0,
              "#0d0887"
             ],
             [
              0.1111111111111111,
              "#46039f"
             ],
             [
              0.2222222222222222,
              "#7201a8"
             ],
             [
              0.3333333333333333,
              "#9c179e"
             ],
             [
              0.4444444444444444,
              "#bd3786"
             ],
             [
              0.5555555555555556,
              "#d8576b"
             ],
             [
              0.6666666666666666,
              "#ed7953"
             ],
             [
              0.7777777777777778,
              "#fb9f3a"
             ],
             [
              0.8888888888888888,
              "#fdca26"
             ],
             [
              1,
              "#f0f921"
             ]
            ],
            "type": "histogram2d"
           }
          ],
          "histogram2dcontour": [
           {
            "colorbar": {
             "outlinewidth": 0,
             "ticks": ""
            },
            "colorscale": [
             [
              0,
              "#0d0887"
             ],
             [
              0.1111111111111111,
              "#46039f"
             ],
             [
              0.2222222222222222,
              "#7201a8"
             ],
             [
              0.3333333333333333,
              "#9c179e"
             ],
             [
              0.4444444444444444,
              "#bd3786"
             ],
             [
              0.5555555555555556,
              "#d8576b"
             ],
             [
              0.6666666666666666,
              "#ed7953"
             ],
             [
              0.7777777777777778,
              "#fb9f3a"
             ],
             [
              0.8888888888888888,
              "#fdca26"
             ],
             [
              1,
              "#f0f921"
             ]
            ],
            "type": "histogram2dcontour"
           }
          ],
          "mesh3d": [
           {
            "colorbar": {
             "outlinewidth": 0,
             "ticks": ""
            },
            "type": "mesh3d"
           }
          ],
          "parcoords": [
           {
            "line": {
             "colorbar": {
              "outlinewidth": 0,
              "ticks": ""
             }
            },
            "type": "parcoords"
           }
          ],
          "pie": [
           {
            "automargin": true,
            "type": "pie"
           }
          ],
          "scatter": [
           {
            "marker": {
             "colorbar": {
              "outlinewidth": 0,
              "ticks": ""
             }
            },
            "type": "scatter"
           }
          ],
          "scatter3d": [
           {
            "line": {
             "colorbar": {
              "outlinewidth": 0,
              "ticks": ""
             }
            },
            "marker": {
             "colorbar": {
              "outlinewidth": 0,
              "ticks": ""
             }
            },
            "type": "scatter3d"
           }
          ],
          "scattercarpet": [
           {
            "marker": {
             "colorbar": {
              "outlinewidth": 0,
              "ticks": ""
             }
            },
            "type": "scattercarpet"
           }
          ],
          "scattergeo": [
           {
            "marker": {
             "colorbar": {
              "outlinewidth": 0,
              "ticks": ""
             }
            },
            "type": "scattergeo"
           }
          ],
          "scattergl": [
           {
            "marker": {
             "colorbar": {
              "outlinewidth": 0,
              "ticks": ""
             }
            },
            "type": "scattergl"
           }
          ],
          "scattermapbox": [
           {
            "marker": {
             "colorbar": {
              "outlinewidth": 0,
              "ticks": ""
             }
            },
            "type": "scattermapbox"
           }
          ],
          "scatterpolar": [
           {
            "marker": {
             "colorbar": {
              "outlinewidth": 0,
              "ticks": ""
             }
            },
            "type": "scatterpolar"
           }
          ],
          "scatterpolargl": [
           {
            "marker": {
             "colorbar": {
              "outlinewidth": 0,
              "ticks": ""
             }
            },
            "type": "scatterpolargl"
           }
          ],
          "scatterternary": [
           {
            "marker": {
             "colorbar": {
              "outlinewidth": 0,
              "ticks": ""
             }
            },
            "type": "scatterternary"
           }
          ],
          "surface": [
           {
            "colorbar": {
             "outlinewidth": 0,
             "ticks": ""
            },
            "colorscale": [
             [
              0,
              "#0d0887"
             ],
             [
              0.1111111111111111,
              "#46039f"
             ],
             [
              0.2222222222222222,
              "#7201a8"
             ],
             [
              0.3333333333333333,
              "#9c179e"
             ],
             [
              0.4444444444444444,
              "#bd3786"
             ],
             [
              0.5555555555555556,
              "#d8576b"
             ],
             [
              0.6666666666666666,
              "#ed7953"
             ],
             [
              0.7777777777777778,
              "#fb9f3a"
             ],
             [
              0.8888888888888888,
              "#fdca26"
             ],
             [
              1,
              "#f0f921"
             ]
            ],
            "type": "surface"
           }
          ],
          "table": [
           {
            "cells": {
             "fill": {
              "color": "#EBF0F8"
             },
             "line": {
              "color": "white"
             }
            },
            "header": {
             "fill": {
              "color": "#C8D4E3"
             },
             "line": {
              "color": "white"
             }
            },
            "type": "table"
           }
          ]
         },
         "layout": {
          "annotationdefaults": {
           "arrowcolor": "#2a3f5f",
           "arrowhead": 0,
           "arrowwidth": 1
          },
          "coloraxis": {
           "colorbar": {
            "outlinewidth": 0,
            "ticks": ""
           }
          },
          "colorscale": {
           "diverging": [
            [
             0,
             "#8e0152"
            ],
            [
             0.1,
             "#c51b7d"
            ],
            [
             0.2,
             "#de77ae"
            ],
            [
             0.3,
             "#f1b6da"
            ],
            [
             0.4,
             "#fde0ef"
            ],
            [
             0.5,
             "#f7f7f7"
            ],
            [
             0.6,
             "#e6f5d0"
            ],
            [
             0.7,
             "#b8e186"
            ],
            [
             0.8,
             "#7fbc41"
            ],
            [
             0.9,
             "#4d9221"
            ],
            [
             1,
             "#276419"
            ]
           ],
           "sequential": [
            [
             0,
             "#0d0887"
            ],
            [
             0.1111111111111111,
             "#46039f"
            ],
            [
             0.2222222222222222,
             "#7201a8"
            ],
            [
             0.3333333333333333,
             "#9c179e"
            ],
            [
             0.4444444444444444,
             "#bd3786"
            ],
            [
             0.5555555555555556,
             "#d8576b"
            ],
            [
             0.6666666666666666,
             "#ed7953"
            ],
            [
             0.7777777777777778,
             "#fb9f3a"
            ],
            [
             0.8888888888888888,
             "#fdca26"
            ],
            [
             1,
             "#f0f921"
            ]
           ],
           "sequentialminus": [
            [
             0,
             "#0d0887"
            ],
            [
             0.1111111111111111,
             "#46039f"
            ],
            [
             0.2222222222222222,
             "#7201a8"
            ],
            [
             0.3333333333333333,
             "#9c179e"
            ],
            [
             0.4444444444444444,
             "#bd3786"
            ],
            [
             0.5555555555555556,
             "#d8576b"
            ],
            [
             0.6666666666666666,
             "#ed7953"
            ],
            [
             0.7777777777777778,
             "#fb9f3a"
            ],
            [
             0.8888888888888888,
             "#fdca26"
            ],
            [
             1,
             "#f0f921"
            ]
           ]
          },
          "colorway": [
           "#636efa",
           "#EF553B",
           "#00cc96",
           "#ab63fa",
           "#FFA15A",
           "#19d3f3",
           "#FF6692",
           "#B6E880",
           "#FF97FF",
           "#FECB52"
          ],
          "font": {
           "color": "#2a3f5f"
          },
          "geo": {
           "bgcolor": "white",
           "lakecolor": "white",
           "landcolor": "white",
           "showlakes": true,
           "showland": true,
           "subunitcolor": "#C8D4E3"
          },
          "hoverlabel": {
           "align": "left"
          },
          "hovermode": "closest",
          "mapbox": {
           "style": "light"
          },
          "paper_bgcolor": "white",
          "plot_bgcolor": "white",
          "polar": {
           "angularaxis": {
            "gridcolor": "#EBF0F8",
            "linecolor": "#EBF0F8",
            "ticks": ""
           },
           "bgcolor": "white",
           "radialaxis": {
            "gridcolor": "#EBF0F8",
            "linecolor": "#EBF0F8",
            "ticks": ""
           }
          },
          "scene": {
           "xaxis": {
            "backgroundcolor": "white",
            "gridcolor": "#DFE8F3",
            "gridwidth": 2,
            "linecolor": "#EBF0F8",
            "showbackground": true,
            "ticks": "",
            "zerolinecolor": "#EBF0F8"
           },
           "yaxis": {
            "backgroundcolor": "white",
            "gridcolor": "#DFE8F3",
            "gridwidth": 2,
            "linecolor": "#EBF0F8",
            "showbackground": true,
            "ticks": "",
            "zerolinecolor": "#EBF0F8"
           },
           "zaxis": {
            "backgroundcolor": "white",
            "gridcolor": "#DFE8F3",
            "gridwidth": 2,
            "linecolor": "#EBF0F8",
            "showbackground": true,
            "ticks": "",
            "zerolinecolor": "#EBF0F8"
           }
          },
          "shapedefaults": {
           "line": {
            "color": "#2a3f5f"
           }
          },
          "ternary": {
           "aaxis": {
            "gridcolor": "#DFE8F3",
            "linecolor": "#A2B1C6",
            "ticks": ""
           },
           "baxis": {
            "gridcolor": "#DFE8F3",
            "linecolor": "#A2B1C6",
            "ticks": ""
           },
           "bgcolor": "white",
           "caxis": {
            "gridcolor": "#DFE8F3",
            "linecolor": "#A2B1C6",
            "ticks": ""
           }
          },
          "title": {
           "x": 0.05
          },
          "xaxis": {
           "automargin": true,
           "gridcolor": "#EBF0F8",
           "linecolor": "#EBF0F8",
           "ticks": "",
           "title": {
            "standoff": 15
           },
           "zerolinecolor": "#EBF0F8",
           "zerolinewidth": 2
          },
          "yaxis": {
           "automargin": true,
           "gridcolor": "#EBF0F8",
           "linecolor": "#EBF0F8",
           "ticks": "",
           "title": {
            "standoff": 15
           },
           "zerolinecolor": "#EBF0F8",
           "zerolinewidth": 2
          }
         }
        },
        "title": {
         "text": "Casos acumulados por dia"
        }
       }
      },
      "text/html": [
       "<div>\n",
       "        \n",
       "        \n",
       "            <div id=\"924c8c2d-5a4e-4003-8348-fcc06583b899\" class=\"plotly-graph-div\" style=\"height:525px; width:100%;\"></div>\n",
       "            <script type=\"text/javascript\">\n",
       "                require([\"plotly\"], function(Plotly) {\n",
       "                    window.PLOTLYENV=window.PLOTLYENV || {};\n",
       "                    \n",
       "                if (document.getElementById(\"924c8c2d-5a4e-4003-8348-fcc06583b899\")) {\n",
       "                    Plotly.newPlot(\n",
       "                        '924c8c2d-5a4e-4003-8348-fcc06583b899',\n",
       "                        [{\"mode\": \"lines+text\", \"name\": \"Confirmados\", \"text\": [1.0, 1.0, 1.0, 2.0, 2.0, 2.0, 2.0, 3.0, 8.0, 13.0, 25.0, 25.0, 25.0, 34.0, 52.0, 77.0, 98.0, 98.0, 98.0, 234.0, 349.0, 529.0, 647.0, 977.0, 1226.0, 1604.0, 1960.0, 2271.0, 2555.0, 2988.0, 3477.0, 3928.0, 4313.0, 4661.0, 5812.0, 6931.0, 8076.0, 9216.0], \"textposition\": \"top center\", \"type\": \"scatter\", \"x\": [\"26-fev\", \"27-fev\", \"28-fev\", \"29-fev\", \"1-mar\", \"2-mar\", \"3-mar\", \"4-mar\", \"5-mar\", \"6-mar\", \"7-mar\", \"8-mar\", \"9-mar\", \"10-mar\", \"11-mar\", \"12-mar\", \"13-mar\", \"14-mar\", \"15-mar\", \"16-mar\", \"17-mar\", \"18-mar\", \"19-mar\", \"20-mar\", \"21-mar\", \"22-mar\", \"23-mar\", \"24-mar\", \"25-mar\", \"26-mar\", \"27-mar\", \"28-mar\", \"29-mar\", \"30-mar\", \"31-mar\", \"1-abr\", \"2-abr\", \"3-abr\"], \"y\": [1, 1, 1, 2, 2, 2, 2, 3, 8, 13, 25, 25, 25, 34, 52, 77, 98, 98, 98, 234, 349, 529, 647, 977, 1226, 1604, 1960, 2271, 2555, 2988, 3477, 3928, 4313, 4661, 5812, 6931, 8076, 9216]}, {\"mode\": \"lines+text\", \"name\": \"Mortes\", \"text\": [0.0, 0.0, 0.0, 0.0, 0.0, 0.0, 0.0, 0.0, 0.0, 0.0, 0.0, 0.0, 0.0, 0.0, 0.0, 0.0, 0.0, 0.0, 0.0, 0.0, 1.0, 4.0, 7.0, 11.0, 18.0, 25.0, 34.0, 47.0, 59.0, 77.0, 93.0, 133.0, 139.0, 165.0, 202.0, 242.0, 327.0, 365.0], \"textposition\": \"top center\", \"type\": \"scatter\", \"x\": [\"26-fev\", \"27-fev\", \"28-fev\", \"29-fev\", \"1-mar\", \"2-mar\", \"3-mar\", \"4-mar\", \"5-mar\", \"6-mar\", \"7-mar\", \"8-mar\", \"9-mar\", \"10-mar\", \"11-mar\", \"12-mar\", \"13-mar\", \"14-mar\", \"15-mar\", \"16-mar\", \"17-mar\", \"18-mar\", \"19-mar\", \"20-mar\", \"21-mar\", \"22-mar\", \"23-mar\", \"24-mar\", \"25-mar\", \"26-mar\", \"27-mar\", \"28-mar\", \"29-mar\", \"30-mar\", \"31-mar\", \"1-abr\", \"2-abr\", \"3-abr\"], \"y\": [0, 0, 0, 0, 0, 0, 0, 0, 0, 0, 0, 0, 0, 0, 0, 0, 0, 0, 0, 0, 1, 4, 7, 11, 18, 25, 34, 47, 59, 77, 93, 133, 139, 165, 202, 242, 327, 365]}],\n",
       "                        {\"direction\": \"clockwise\", \"legend\": {\"title\": {\"text\": \"<b> </b>\"}}, \"showlegend\": true, \"template\": {\"data\": {\"bar\": [{\"error_x\": {\"color\": \"#2a3f5f\"}, \"error_y\": {\"color\": \"#2a3f5f\"}, \"marker\": {\"line\": {\"color\": \"white\", \"width\": 0.5}}, \"type\": \"bar\"}], \"barpolar\": [{\"marker\": {\"line\": {\"color\": \"white\", \"width\": 0.5}}, \"type\": \"barpolar\"}], \"carpet\": [{\"aaxis\": {\"endlinecolor\": \"#2a3f5f\", \"gridcolor\": \"#C8D4E3\", \"linecolor\": \"#C8D4E3\", \"minorgridcolor\": \"#C8D4E3\", \"startlinecolor\": \"#2a3f5f\"}, \"baxis\": {\"endlinecolor\": \"#2a3f5f\", \"gridcolor\": \"#C8D4E3\", \"linecolor\": \"#C8D4E3\", \"minorgridcolor\": \"#C8D4E3\", \"startlinecolor\": \"#2a3f5f\"}, \"type\": \"carpet\"}], \"choropleth\": [{\"colorbar\": {\"outlinewidth\": 0, \"ticks\": \"\"}, \"type\": \"choropleth\"}], \"contour\": [{\"colorbar\": {\"outlinewidth\": 0, \"ticks\": \"\"}, \"colorscale\": [[0.0, \"#0d0887\"], [0.1111111111111111, \"#46039f\"], [0.2222222222222222, \"#7201a8\"], [0.3333333333333333, \"#9c179e\"], [0.4444444444444444, \"#bd3786\"], [0.5555555555555556, \"#d8576b\"], [0.6666666666666666, \"#ed7953\"], [0.7777777777777778, \"#fb9f3a\"], [0.8888888888888888, \"#fdca26\"], [1.0, \"#f0f921\"]], \"type\": \"contour\"}], \"contourcarpet\": [{\"colorbar\": {\"outlinewidth\": 0, \"ticks\": \"\"}, \"type\": \"contourcarpet\"}], \"heatmap\": [{\"colorbar\": {\"outlinewidth\": 0, \"ticks\": \"\"}, \"colorscale\": [[0.0, \"#0d0887\"], [0.1111111111111111, \"#46039f\"], [0.2222222222222222, \"#7201a8\"], [0.3333333333333333, \"#9c179e\"], [0.4444444444444444, \"#bd3786\"], [0.5555555555555556, \"#d8576b\"], [0.6666666666666666, \"#ed7953\"], [0.7777777777777778, \"#fb9f3a\"], [0.8888888888888888, \"#fdca26\"], [1.0, \"#f0f921\"]], \"type\": \"heatmap\"}], \"heatmapgl\": [{\"colorbar\": {\"outlinewidth\": 0, \"ticks\": \"\"}, \"colorscale\": [[0.0, \"#0d0887\"], [0.1111111111111111, \"#46039f\"], [0.2222222222222222, \"#7201a8\"], [0.3333333333333333, \"#9c179e\"], [0.4444444444444444, \"#bd3786\"], [0.5555555555555556, \"#d8576b\"], [0.6666666666666666, \"#ed7953\"], [0.7777777777777778, \"#fb9f3a\"], [0.8888888888888888, \"#fdca26\"], [1.0, \"#f0f921\"]], \"type\": \"heatmapgl\"}], \"histogram\": [{\"marker\": {\"colorbar\": {\"outlinewidth\": 0, \"ticks\": \"\"}}, \"type\": \"histogram\"}], \"histogram2d\": [{\"colorbar\": {\"outlinewidth\": 0, \"ticks\": \"\"}, \"colorscale\": [[0.0, \"#0d0887\"], [0.1111111111111111, \"#46039f\"], [0.2222222222222222, \"#7201a8\"], [0.3333333333333333, \"#9c179e\"], [0.4444444444444444, \"#bd3786\"], [0.5555555555555556, \"#d8576b\"], [0.6666666666666666, \"#ed7953\"], [0.7777777777777778, \"#fb9f3a\"], [0.8888888888888888, \"#fdca26\"], [1.0, \"#f0f921\"]], \"type\": \"histogram2d\"}], \"histogram2dcontour\": [{\"colorbar\": {\"outlinewidth\": 0, \"ticks\": \"\"}, \"colorscale\": [[0.0, \"#0d0887\"], [0.1111111111111111, \"#46039f\"], [0.2222222222222222, \"#7201a8\"], [0.3333333333333333, \"#9c179e\"], [0.4444444444444444, \"#bd3786\"], [0.5555555555555556, \"#d8576b\"], [0.6666666666666666, \"#ed7953\"], [0.7777777777777778, \"#fb9f3a\"], [0.8888888888888888, \"#fdca26\"], [1.0, \"#f0f921\"]], \"type\": \"histogram2dcontour\"}], \"mesh3d\": [{\"colorbar\": {\"outlinewidth\": 0, \"ticks\": \"\"}, \"type\": \"mesh3d\"}], \"parcoords\": [{\"line\": {\"colorbar\": {\"outlinewidth\": 0, \"ticks\": \"\"}}, \"type\": \"parcoords\"}], \"pie\": [{\"automargin\": true, \"type\": \"pie\"}], \"scatter\": [{\"marker\": {\"colorbar\": {\"outlinewidth\": 0, \"ticks\": \"\"}}, \"type\": \"scatter\"}], \"scatter3d\": [{\"line\": {\"colorbar\": {\"outlinewidth\": 0, \"ticks\": \"\"}}, \"marker\": {\"colorbar\": {\"outlinewidth\": 0, \"ticks\": \"\"}}, \"type\": \"scatter3d\"}], \"scattercarpet\": [{\"marker\": {\"colorbar\": {\"outlinewidth\": 0, \"ticks\": \"\"}}, \"type\": \"scattercarpet\"}], \"scattergeo\": [{\"marker\": {\"colorbar\": {\"outlinewidth\": 0, \"ticks\": \"\"}}, \"type\": \"scattergeo\"}], \"scattergl\": [{\"marker\": {\"colorbar\": {\"outlinewidth\": 0, \"ticks\": \"\"}}, \"type\": \"scattergl\"}], \"scattermapbox\": [{\"marker\": {\"colorbar\": {\"outlinewidth\": 0, \"ticks\": \"\"}}, \"type\": \"scattermapbox\"}], \"scatterpolar\": [{\"marker\": {\"colorbar\": {\"outlinewidth\": 0, \"ticks\": \"\"}}, \"type\": \"scatterpolar\"}], \"scatterpolargl\": [{\"marker\": {\"colorbar\": {\"outlinewidth\": 0, \"ticks\": \"\"}}, \"type\": \"scatterpolargl\"}], \"scatterternary\": [{\"marker\": {\"colorbar\": {\"outlinewidth\": 0, \"ticks\": \"\"}}, \"type\": \"scatterternary\"}], \"surface\": [{\"colorbar\": {\"outlinewidth\": 0, \"ticks\": \"\"}, \"colorscale\": [[0.0, \"#0d0887\"], [0.1111111111111111, \"#46039f\"], [0.2222222222222222, \"#7201a8\"], [0.3333333333333333, \"#9c179e\"], [0.4444444444444444, \"#bd3786\"], [0.5555555555555556, \"#d8576b\"], [0.6666666666666666, \"#ed7953\"], [0.7777777777777778, \"#fb9f3a\"], [0.8888888888888888, \"#fdca26\"], [1.0, \"#f0f921\"]], \"type\": \"surface\"}], \"table\": [{\"cells\": {\"fill\": {\"color\": \"#EBF0F8\"}, \"line\": {\"color\": \"white\"}}, \"header\": {\"fill\": {\"color\": \"#C8D4E3\"}, \"line\": {\"color\": \"white\"}}, \"type\": \"table\"}]}, \"layout\": {\"annotationdefaults\": {\"arrowcolor\": \"#2a3f5f\", \"arrowhead\": 0, \"arrowwidth\": 1}, \"coloraxis\": {\"colorbar\": {\"outlinewidth\": 0, \"ticks\": \"\"}}, \"colorscale\": {\"diverging\": [[0, \"#8e0152\"], [0.1, \"#c51b7d\"], [0.2, \"#de77ae\"], [0.3, \"#f1b6da\"], [0.4, \"#fde0ef\"], [0.5, \"#f7f7f7\"], [0.6, \"#e6f5d0\"], [0.7, \"#b8e186\"], [0.8, \"#7fbc41\"], [0.9, \"#4d9221\"], [1, \"#276419\"]], \"sequential\": [[0.0, \"#0d0887\"], [0.1111111111111111, \"#46039f\"], [0.2222222222222222, \"#7201a8\"], [0.3333333333333333, \"#9c179e\"], [0.4444444444444444, \"#bd3786\"], [0.5555555555555556, \"#d8576b\"], [0.6666666666666666, \"#ed7953\"], [0.7777777777777778, \"#fb9f3a\"], [0.8888888888888888, \"#fdca26\"], [1.0, \"#f0f921\"]], \"sequentialminus\": [[0.0, \"#0d0887\"], [0.1111111111111111, \"#46039f\"], [0.2222222222222222, \"#7201a8\"], [0.3333333333333333, \"#9c179e\"], [0.4444444444444444, \"#bd3786\"], [0.5555555555555556, \"#d8576b\"], [0.6666666666666666, \"#ed7953\"], [0.7777777777777778, \"#fb9f3a\"], [0.8888888888888888, \"#fdca26\"], [1.0, \"#f0f921\"]]}, \"colorway\": [\"#636efa\", \"#EF553B\", \"#00cc96\", \"#ab63fa\", \"#FFA15A\", \"#19d3f3\", \"#FF6692\", \"#B6E880\", \"#FF97FF\", \"#FECB52\"], \"font\": {\"color\": \"#2a3f5f\"}, \"geo\": {\"bgcolor\": \"white\", \"lakecolor\": \"white\", \"landcolor\": \"white\", \"showlakes\": true, \"showland\": true, \"subunitcolor\": \"#C8D4E3\"}, \"hoverlabel\": {\"align\": \"left\"}, \"hovermode\": \"closest\", \"mapbox\": {\"style\": \"light\"}, \"paper_bgcolor\": \"white\", \"plot_bgcolor\": \"white\", \"polar\": {\"angularaxis\": {\"gridcolor\": \"#EBF0F8\", \"linecolor\": \"#EBF0F8\", \"ticks\": \"\"}, \"bgcolor\": \"white\", \"radialaxis\": {\"gridcolor\": \"#EBF0F8\", \"linecolor\": \"#EBF0F8\", \"ticks\": \"\"}}, \"scene\": {\"xaxis\": {\"backgroundcolor\": \"white\", \"gridcolor\": \"#DFE8F3\", \"gridwidth\": 2, \"linecolor\": \"#EBF0F8\", \"showbackground\": true, \"ticks\": \"\", \"zerolinecolor\": \"#EBF0F8\"}, \"yaxis\": {\"backgroundcolor\": \"white\", \"gridcolor\": \"#DFE8F3\", \"gridwidth\": 2, \"linecolor\": \"#EBF0F8\", \"showbackground\": true, \"ticks\": \"\", \"zerolinecolor\": \"#EBF0F8\"}, \"zaxis\": {\"backgroundcolor\": \"white\", \"gridcolor\": \"#DFE8F3\", \"gridwidth\": 2, \"linecolor\": \"#EBF0F8\", \"showbackground\": true, \"ticks\": \"\", \"zerolinecolor\": \"#EBF0F8\"}}, \"shapedefaults\": {\"line\": {\"color\": \"#2a3f5f\"}}, \"ternary\": {\"aaxis\": {\"gridcolor\": \"#DFE8F3\", \"linecolor\": \"#A2B1C6\", \"ticks\": \"\"}, \"baxis\": {\"gridcolor\": \"#DFE8F3\", \"linecolor\": \"#A2B1C6\", \"ticks\": \"\"}, \"bgcolor\": \"white\", \"caxis\": {\"gridcolor\": \"#DFE8F3\", \"linecolor\": \"#A2B1C6\", \"ticks\": \"\"}}, \"title\": {\"x\": 0.05}, \"xaxis\": {\"automargin\": true, \"gridcolor\": \"#EBF0F8\", \"linecolor\": \"#EBF0F8\", \"ticks\": \"\", \"title\": {\"standoff\": 15}, \"zerolinecolor\": \"#EBF0F8\", \"zerolinewidth\": 2}, \"yaxis\": {\"automargin\": true, \"gridcolor\": \"#EBF0F8\", \"linecolor\": \"#EBF0F8\", \"ticks\": \"\", \"title\": {\"standoff\": 15}, \"zerolinecolor\": \"#EBF0F8\", \"zerolinewidth\": 2}}}, \"title\": {\"text\": \"Casos acumulados por dia\"}},\n",
       "                        {\"responsive\": true}\n",
       "                    ).then(function(){\n",
       "                            \n",
       "var gd = document.getElementById('924c8c2d-5a4e-4003-8348-fcc06583b899');\n",
       "var x = new MutationObserver(function (mutations, observer) {{\n",
       "        var display = window.getComputedStyle(gd).display;\n",
       "        if (!display || display === 'none') {{\n",
       "            console.log([gd, 'removed!']);\n",
       "            Plotly.purge(gd);\n",
       "            observer.disconnect();\n",
       "        }}\n",
       "}});\n",
       "\n",
       "// Listen for the removal of the full notebook cells\n",
       "var notebookContainer = gd.closest('#notebook-container');\n",
       "if (notebookContainer) {{\n",
       "    x.observe(notebookContainer, {childList: true});\n",
       "}}\n",
       "\n",
       "// Listen for the clearing of the current output cell\n",
       "var outputEl = gd.closest('.output');\n",
       "if (outputEl) {{\n",
       "    x.observe(outputEl, {childList: true});\n",
       "}}\n",
       "\n",
       "                        })\n",
       "                };\n",
       "                });\n",
       "            </script>\n",
       "        </div>"
      ]
     },
     "metadata": {},
     "output_type": "display_data"
    }
   ],
   "source": [
    "# Plot confirmed cases\n",
    "\n",
    "fig = go.Figure(\n",
    "    [\n",
    "        go.Scatter(x = dadosdia.data, y = dadosdia.casos, mode=\"lines+text\",\n",
    "    name=\"Confirmados\",\n",
    "    text=dadosdia.casos,\n",
    "    textposition=\"top center\"),\n",
    "        go.Scatter(x = dadosdia.data, y = dadosdia.mortes, mode=\"lines+text\",\n",
    "    name=\"Mortes\",\n",
    "    text=dadosdia.mortes,\n",
    "    textposition=\"top center\"), \n",
    "      #  go.Scatter(x = dadosdia.data, y = curados, mode=\"lines+text\",\n",
    "   # name=\"Curados\",\n",
    "   # text=curados,\n",
    "   # textposition=\"top center\"),  \n",
    "    ]\n",
    ")\n",
    "\n",
    "fig.update_layout(title='Casos acumulados por dia',legend_title='<b> </b>',\n",
    "                   \n",
    "                   showlegend=True, template=\"plotly_white\",direction='clockwise')\n",
    "\n",
    "fig.show()"
   ]
  },
  {
   "cell_type": "code",
   "execution_count": 59,
   "metadata": {},
   "outputs": [
    {
     "data": {
      "application/vnd.plotly.v1+json": {
       "config": {
        "linkText": "Export to plot.ly",
        "plotlyServerURL": "https://plot.ly",
        "showLink": true
       },
       "data": [
        {
         "histfunc": "count",
         "histnorm": "",
         "marker": {
          "color": "rgba(255, 153, 51, 1.0)",
          "line": {
           "color": "#4D5663",
           "width": 1.3
          }
         },
         "name": "data",
         "nbinsx": 10,
         "opacity": 0.8,
         "orientation": "v",
         "type": "histogram",
         "x": [
          "26-fev",
          "27-fev",
          "28-fev",
          "29-fev",
          "1-mar",
          "2-mar",
          "3-mar",
          "4-mar",
          "5-mar",
          "6-mar",
          "7-mar",
          "8-mar",
          "9-mar",
          "10-mar",
          "11-mar",
          "12-mar",
          "13-mar",
          "14-mar",
          "15-mar",
          "16-mar",
          "17-mar",
          "18-mar",
          "19-mar",
          "20-mar",
          "21-mar",
          "22-mar",
          "23-mar",
          "24-mar",
          "25-mar",
          "26-mar",
          "27-mar",
          "28-mar",
          "29-mar",
          "30-mar",
          "31-mar",
          "1-abr",
          "2-abr",
          "3-abr"
         ],
         "xaxis": "x",
         "yaxis": "y"
        },
        {
         "line": {
          "color": "rgba(128, 128, 128, 1.0)",
          "dash": "solid",
          "shape": "linear",
          "width": 1.3
         },
         "marker": {
          "size": 2,
          "symbol": "circle"
         },
         "mode": "markers",
         "name": "data",
         "text": "",
         "type": "scatter",
         "x": [
          1,
          1,
          1,
          2,
          2,
          2,
          2,
          3,
          8,
          13,
          25,
          25,
          25,
          34,
          52,
          77,
          98,
          98,
          98,
          234,
          349,
          529,
          647,
          977,
          1226,
          1604,
          1960,
          2271,
          2555,
          2988,
          3477,
          3928,
          4313,
          4661,
          5812,
          6931,
          8076,
          9216
         ],
         "xaxis": "x2",
         "y": [
          "26-fev",
          "27-fev",
          "28-fev",
          "29-fev",
          "1-mar",
          "2-mar",
          "3-mar",
          "4-mar",
          "5-mar",
          "6-mar",
          "7-mar",
          "8-mar",
          "9-mar",
          "10-mar",
          "11-mar",
          "12-mar",
          "13-mar",
          "14-mar",
          "15-mar",
          "16-mar",
          "17-mar",
          "18-mar",
          "19-mar",
          "20-mar",
          "21-mar",
          "22-mar",
          "23-mar",
          "24-mar",
          "25-mar",
          "26-mar",
          "27-mar",
          "28-mar",
          "29-mar",
          "30-mar",
          "31-mar",
          "1-abr",
          "2-abr",
          "3-abr"
         ],
         "yaxis": "y2"
        },
        {
         "line": {
          "color": "rgba(128, 128, 128, 1.0)",
          "dash": "solid",
          "shape": "linear",
          "width": 1.3
         },
         "marker": {
          "size": 2,
          "symbol": "circle"
         },
         "mode": "markers",
         "name": "data",
         "text": "",
         "type": "scatter",
         "x": [
          0,
          0,
          0,
          0,
          0,
          0,
          0,
          0,
          0,
          0,
          0,
          0,
          0,
          0,
          0,
          0,
          0,
          0,
          0,
          0,
          1,
          4,
          7,
          11,
          18,
          25,
          34,
          47,
          59,
          77,
          93,
          133,
          139,
          165,
          202,
          242,
          327,
          365
         ],
         "xaxis": "x3",
         "y": [
          "26-fev",
          "27-fev",
          "28-fev",
          "29-fev",
          "1-mar",
          "2-mar",
          "3-mar",
          "4-mar",
          "5-mar",
          "6-mar",
          "7-mar",
          "8-mar",
          "9-mar",
          "10-mar",
          "11-mar",
          "12-mar",
          "13-mar",
          "14-mar",
          "15-mar",
          "16-mar",
          "17-mar",
          "18-mar",
          "19-mar",
          "20-mar",
          "21-mar",
          "22-mar",
          "23-mar",
          "24-mar",
          "25-mar",
          "26-mar",
          "27-mar",
          "28-mar",
          "29-mar",
          "30-mar",
          "31-mar",
          "1-abr",
          "2-abr",
          "3-abr"
         ],
         "yaxis": "y3"
        },
        {
         "line": {
          "color": "rgba(128, 128, 128, 1.0)",
          "dash": "solid",
          "shape": "linear",
          "width": 1.3
         },
         "marker": {
          "size": 2,
          "symbol": "circle"
         },
         "mode": "markers",
         "name": "data",
         "text": "",
         "type": "scatter",
         "x": [
          "undefined",
          "undefined",
          "undefined",
          "undefined",
          "undefined",
          "undefined",
          "undefined",
          "undefined",
          "undefined",
          "undefined",
          "undefined",
          "undefined",
          "undefined",
          "undefined",
          "undefined",
          "undefined",
          "undefined",
          "undefined",
          "undefined",
          "undefined",
          "undefined",
          "undefined",
          "undefined",
          "undefined",
          "undefined",
          "undefined",
          "undefined",
          "undefined",
          "undefined",
          "undefined",
          "undefined",
          "undefined",
          "undefined",
          "undefined",
          "undefined",
          "undefined",
          "undefined",
          "undefined"
         ],
         "xaxis": "x4",
         "y": [
          "26-fev",
          "27-fev",
          "28-fev",
          "29-fev",
          "1-mar",
          "2-mar",
          "3-mar",
          "4-mar",
          "5-mar",
          "6-mar",
          "7-mar",
          "8-mar",
          "9-mar",
          "10-mar",
          "11-mar",
          "12-mar",
          "13-mar",
          "14-mar",
          "15-mar",
          "16-mar",
          "17-mar",
          "18-mar",
          "19-mar",
          "20-mar",
          "21-mar",
          "22-mar",
          "23-mar",
          "24-mar",
          "25-mar",
          "26-mar",
          "27-mar",
          "28-mar",
          "29-mar",
          "30-mar",
          "31-mar",
          "1-abr",
          "2-abr",
          "3-abr"
         ],
         "yaxis": "y4"
        },
        {
         "line": {
          "color": "rgba(128, 128, 128, 1.0)",
          "dash": "solid",
          "shape": "linear",
          "width": 1.3
         },
         "marker": {
          "size": 2,
          "symbol": "circle"
         },
         "mode": "markers",
         "name": "casos",
         "text": "",
         "type": "scatter",
         "x": [
          "26-fev",
          "27-fev",
          "28-fev",
          "29-fev",
          "1-mar",
          "2-mar",
          "3-mar",
          "4-mar",
          "5-mar",
          "6-mar",
          "7-mar",
          "8-mar",
          "9-mar",
          "10-mar",
          "11-mar",
          "12-mar",
          "13-mar",
          "14-mar",
          "15-mar",
          "16-mar",
          "17-mar",
          "18-mar",
          "19-mar",
          "20-mar",
          "21-mar",
          "22-mar",
          "23-mar",
          "24-mar",
          "25-mar",
          "26-mar",
          "27-mar",
          "28-mar",
          "29-mar",
          "30-mar",
          "31-mar",
          "1-abr",
          "2-abr",
          "3-abr"
         ],
         "xaxis": "x5",
         "y": [
          1,
          1,
          1,
          2,
          2,
          2,
          2,
          3,
          8,
          13,
          25,
          25,
          25,
          34,
          52,
          77,
          98,
          98,
          98,
          234,
          349,
          529,
          647,
          977,
          1226,
          1604,
          1960,
          2271,
          2555,
          2988,
          3477,
          3928,
          4313,
          4661,
          5812,
          6931,
          8076,
          9216
         ],
         "yaxis": "y5"
        },
        {
         "histfunc": "count",
         "histnorm": "",
         "marker": {
          "color": "rgba(55, 128, 191, 1.0)",
          "line": {
           "color": "#4D5663",
           "width": 1.3
          }
         },
         "name": "casos",
         "nbinsx": 10,
         "opacity": 0.8,
         "orientation": "v",
         "type": "histogram",
         "x": [
          1,
          1,
          1,
          2,
          2,
          2,
          2,
          3,
          8,
          13,
          25,
          25,
          25,
          34,
          52,
          77,
          98,
          98,
          98,
          234,
          349,
          529,
          647,
          977,
          1226,
          1604,
          1960,
          2271,
          2555,
          2988,
          3477,
          3928,
          4313,
          4661,
          5812,
          6931,
          8076,
          9216
         ],
         "xaxis": "x6",
         "yaxis": "y6"
        },
        {
         "line": {
          "color": "rgba(128, 128, 128, 1.0)",
          "dash": "solid",
          "shape": "linear",
          "width": 1.3
         },
         "marker": {
          "size": 2,
          "symbol": "circle"
         },
         "mode": "markers",
         "name": "casos",
         "text": "",
         "type": "scatter",
         "x": [
          0,
          0,
          0,
          0,
          0,
          0,
          0,
          0,
          0,
          0,
          0,
          0,
          0,
          0,
          0,
          0,
          0,
          0,
          0,
          0,
          1,
          4,
          7,
          11,
          18,
          25,
          34,
          47,
          59,
          77,
          93,
          133,
          139,
          165,
          202,
          242,
          327,
          365
         ],
         "xaxis": "x7",
         "y": [
          1,
          1,
          1,
          2,
          2,
          2,
          2,
          3,
          8,
          13,
          25,
          25,
          25,
          34,
          52,
          77,
          98,
          98,
          98,
          234,
          349,
          529,
          647,
          977,
          1226,
          1604,
          1960,
          2271,
          2555,
          2988,
          3477,
          3928,
          4313,
          4661,
          5812,
          6931,
          8076,
          9216
         ],
         "yaxis": "y7"
        },
        {
         "line": {
          "color": "rgba(128, 128, 128, 1.0)",
          "dash": "solid",
          "shape": "linear",
          "width": 1.3
         },
         "marker": {
          "size": 2,
          "symbol": "circle"
         },
         "mode": "markers",
         "name": "casos",
         "text": "",
         "type": "scatter",
         "x": [
          "undefined",
          "undefined",
          "undefined",
          "undefined",
          "undefined",
          "undefined",
          "undefined",
          "undefined",
          "undefined",
          "undefined",
          "undefined",
          "undefined",
          "undefined",
          "undefined",
          "undefined",
          "undefined",
          "undefined",
          "undefined",
          "undefined",
          "undefined",
          "undefined",
          "undefined",
          "undefined",
          "undefined",
          "undefined",
          "undefined",
          "undefined",
          "undefined",
          "undefined",
          "undefined",
          "undefined",
          "undefined",
          "undefined",
          "undefined",
          "undefined",
          "undefined",
          "undefined",
          "undefined"
         ],
         "xaxis": "x8",
         "y": [
          1,
          1,
          1,
          2,
          2,
          2,
          2,
          3,
          8,
          13,
          25,
          25,
          25,
          34,
          52,
          77,
          98,
          98,
          98,
          234,
          349,
          529,
          647,
          977,
          1226,
          1604,
          1960,
          2271,
          2555,
          2988,
          3477,
          3928,
          4313,
          4661,
          5812,
          6931,
          8076,
          9216
         ],
         "yaxis": "y8"
        },
        {
         "line": {
          "color": "rgba(128, 128, 128, 1.0)",
          "dash": "solid",
          "shape": "linear",
          "width": 1.3
         },
         "marker": {
          "size": 2,
          "symbol": "circle"
         },
         "mode": "markers",
         "name": "mortes",
         "text": "",
         "type": "scatter",
         "x": [
          "26-fev",
          "27-fev",
          "28-fev",
          "29-fev",
          "1-mar",
          "2-mar",
          "3-mar",
          "4-mar",
          "5-mar",
          "6-mar",
          "7-mar",
          "8-mar",
          "9-mar",
          "10-mar",
          "11-mar",
          "12-mar",
          "13-mar",
          "14-mar",
          "15-mar",
          "16-mar",
          "17-mar",
          "18-mar",
          "19-mar",
          "20-mar",
          "21-mar",
          "22-mar",
          "23-mar",
          "24-mar",
          "25-mar",
          "26-mar",
          "27-mar",
          "28-mar",
          "29-mar",
          "30-mar",
          "31-mar",
          "1-abr",
          "2-abr",
          "3-abr"
         ],
         "xaxis": "x9",
         "y": [
          0,
          0,
          0,
          0,
          0,
          0,
          0,
          0,
          0,
          0,
          0,
          0,
          0,
          0,
          0,
          0,
          0,
          0,
          0,
          0,
          1,
          4,
          7,
          11,
          18,
          25,
          34,
          47,
          59,
          77,
          93,
          133,
          139,
          165,
          202,
          242,
          327,
          365
         ],
         "yaxis": "y9"
        },
        {
         "line": {
          "color": "rgba(128, 128, 128, 1.0)",
          "dash": "solid",
          "shape": "linear",
          "width": 1.3
         },
         "marker": {
          "size": 2,
          "symbol": "circle"
         },
         "mode": "markers",
         "name": "mortes",
         "text": "",
         "type": "scatter",
         "x": [
          1,
          1,
          1,
          2,
          2,
          2,
          2,
          3,
          8,
          13,
          25,
          25,
          25,
          34,
          52,
          77,
          98,
          98,
          98,
          234,
          349,
          529,
          647,
          977,
          1226,
          1604,
          1960,
          2271,
          2555,
          2988,
          3477,
          3928,
          4313,
          4661,
          5812,
          6931,
          8076,
          9216
         ],
         "xaxis": "x10",
         "y": [
          0,
          0,
          0,
          0,
          0,
          0,
          0,
          0,
          0,
          0,
          0,
          0,
          0,
          0,
          0,
          0,
          0,
          0,
          0,
          0,
          1,
          4,
          7,
          11,
          18,
          25,
          34,
          47,
          59,
          77,
          93,
          133,
          139,
          165,
          202,
          242,
          327,
          365
         ],
         "yaxis": "y10"
        },
        {
         "histfunc": "count",
         "histnorm": "",
         "marker": {
          "color": "rgba(50, 171, 96, 1.0)",
          "line": {
           "color": "#4D5663",
           "width": 1.3
          }
         },
         "name": "mortes",
         "nbinsx": 10,
         "opacity": 0.8,
         "orientation": "v",
         "type": "histogram",
         "x": [
          0,
          0,
          0,
          0,
          0,
          0,
          0,
          0,
          0,
          0,
          0,
          0,
          0,
          0,
          0,
          0,
          0,
          0,
          0,
          0,
          1,
          4,
          7,
          11,
          18,
          25,
          34,
          47,
          59,
          77,
          93,
          133,
          139,
          165,
          202,
          242,
          327,
          365
         ],
         "xaxis": "x11",
         "yaxis": "y11"
        },
        {
         "line": {
          "color": "rgba(128, 128, 128, 1.0)",
          "dash": "solid",
          "shape": "linear",
          "width": 1.3
         },
         "marker": {
          "size": 2,
          "symbol": "circle"
         },
         "mode": "markers",
         "name": "mortes",
         "text": "",
         "type": "scatter",
         "x": [
          "undefined",
          "undefined",
          "undefined",
          "undefined",
          "undefined",
          "undefined",
          "undefined",
          "undefined",
          "undefined",
          "undefined",
          "undefined",
          "undefined",
          "undefined",
          "undefined",
          "undefined",
          "undefined",
          "undefined",
          "undefined",
          "undefined",
          "undefined",
          "undefined",
          "undefined",
          "undefined",
          "undefined",
          "undefined",
          "undefined",
          "undefined",
          "undefined",
          "undefined",
          "undefined",
          "undefined",
          "undefined",
          "undefined",
          "undefined",
          "undefined",
          "undefined",
          "undefined",
          "undefined"
         ],
         "xaxis": "x12",
         "y": [
          0,
          0,
          0,
          0,
          0,
          0,
          0,
          0,
          0,
          0,
          0,
          0,
          0,
          0,
          0,
          0,
          0,
          0,
          0,
          0,
          1,
          4,
          7,
          11,
          18,
          25,
          34,
          47,
          59,
          77,
          93,
          133,
          139,
          165,
          202,
          242,
          327,
          365
         ],
         "yaxis": "y12"
        },
        {
         "line": {
          "color": "rgba(128, 128, 128, 1.0)",
          "dash": "solid",
          "shape": "linear",
          "width": 1.3
         },
         "marker": {
          "size": 2,
          "symbol": "circle"
         },
         "mode": "markers",
         "name": "coluna1",
         "text": "",
         "type": "scatter",
         "x": [
          "26-fev",
          "27-fev",
          "28-fev",
          "29-fev",
          "1-mar",
          "2-mar",
          "3-mar",
          "4-mar",
          "5-mar",
          "6-mar",
          "7-mar",
          "8-mar",
          "9-mar",
          "10-mar",
          "11-mar",
          "12-mar",
          "13-mar",
          "14-mar",
          "15-mar",
          "16-mar",
          "17-mar",
          "18-mar",
          "19-mar",
          "20-mar",
          "21-mar",
          "22-mar",
          "23-mar",
          "24-mar",
          "25-mar",
          "26-mar",
          "27-mar",
          "28-mar",
          "29-mar",
          "30-mar",
          "31-mar",
          "1-abr",
          "2-abr",
          "3-abr"
         ],
         "xaxis": "x13",
         "y": [
          "undefined",
          "undefined",
          "undefined",
          "undefined",
          "undefined",
          "undefined",
          "undefined",
          "undefined",
          "undefined",
          "undefined",
          "undefined",
          "undefined",
          "undefined",
          "undefined",
          "undefined",
          "undefined",
          "undefined",
          "undefined",
          "undefined",
          "undefined",
          "undefined",
          "undefined",
          "undefined",
          "undefined",
          "undefined",
          "undefined",
          "undefined",
          "undefined",
          "undefined",
          "undefined",
          "undefined",
          "undefined",
          "undefined",
          "undefined",
          "undefined",
          "undefined",
          "undefined",
          "undefined"
         ],
         "yaxis": "y13"
        },
        {
         "line": {
          "color": "rgba(128, 128, 128, 1.0)",
          "dash": "solid",
          "shape": "linear",
          "width": 1.3
         },
         "marker": {
          "size": 2,
          "symbol": "circle"
         },
         "mode": "markers",
         "name": "coluna1",
         "text": "",
         "type": "scatter",
         "x": [
          1,
          1,
          1,
          2,
          2,
          2,
          2,
          3,
          8,
          13,
          25,
          25,
          25,
          34,
          52,
          77,
          98,
          98,
          98,
          234,
          349,
          529,
          647,
          977,
          1226,
          1604,
          1960,
          2271,
          2555,
          2988,
          3477,
          3928,
          4313,
          4661,
          5812,
          6931,
          8076,
          9216
         ],
         "xaxis": "x14",
         "y": [
          "undefined",
          "undefined",
          "undefined",
          "undefined",
          "undefined",
          "undefined",
          "undefined",
          "undefined",
          "undefined",
          "undefined",
          "undefined",
          "undefined",
          "undefined",
          "undefined",
          "undefined",
          "undefined",
          "undefined",
          "undefined",
          "undefined",
          "undefined",
          "undefined",
          "undefined",
          "undefined",
          "undefined",
          "undefined",
          "undefined",
          "undefined",
          "undefined",
          "undefined",
          "undefined",
          "undefined",
          "undefined",
          "undefined",
          "undefined",
          "undefined",
          "undefined",
          "undefined",
          "undefined"
         ],
         "yaxis": "y14"
        },
        {
         "line": {
          "color": "rgba(128, 128, 128, 1.0)",
          "dash": "solid",
          "shape": "linear",
          "width": 1.3
         },
         "marker": {
          "size": 2,
          "symbol": "circle"
         },
         "mode": "markers",
         "name": "coluna1",
         "text": "",
         "type": "scatter",
         "x": [
          0,
          0,
          0,
          0,
          0,
          0,
          0,
          0,
          0,
          0,
          0,
          0,
          0,
          0,
          0,
          0,
          0,
          0,
          0,
          0,
          1,
          4,
          7,
          11,
          18,
          25,
          34,
          47,
          59,
          77,
          93,
          133,
          139,
          165,
          202,
          242,
          327,
          365
         ],
         "xaxis": "x15",
         "y": [
          "undefined",
          "undefined",
          "undefined",
          "undefined",
          "undefined",
          "undefined",
          "undefined",
          "undefined",
          "undefined",
          "undefined",
          "undefined",
          "undefined",
          "undefined",
          "undefined",
          "undefined",
          "undefined",
          "undefined",
          "undefined",
          "undefined",
          "undefined",
          "undefined",
          "undefined",
          "undefined",
          "undefined",
          "undefined",
          "undefined",
          "undefined",
          "undefined",
          "undefined",
          "undefined",
          "undefined",
          "undefined",
          "undefined",
          "undefined",
          "undefined",
          "undefined",
          "undefined",
          "undefined"
         ],
         "yaxis": "y15"
        },
        {
         "histfunc": "count",
         "histnorm": "",
         "marker": {
          "color": "rgba(128, 0, 128, 1.0)",
          "line": {
           "color": "#4D5663",
           "width": 1.3
          }
         },
         "name": "coluna1",
         "nbinsx": 10,
         "opacity": 0.8,
         "orientation": "v",
         "type": "histogram",
         "x": [
          "undefined",
          "undefined",
          "undefined",
          "undefined",
          "undefined",
          "undefined",
          "undefined",
          "undefined",
          "undefined",
          "undefined",
          "undefined",
          "undefined",
          "undefined",
          "undefined",
          "undefined",
          "undefined",
          "undefined",
          "undefined",
          "undefined",
          "undefined",
          "undefined",
          "undefined",
          "undefined",
          "undefined",
          "undefined",
          "undefined",
          "undefined",
          "undefined",
          "undefined",
          "undefined",
          "undefined",
          "undefined",
          "undefined",
          "undefined",
          "undefined",
          "undefined",
          "undefined",
          "undefined"
         ],
         "xaxis": "x16",
         "yaxis": "y16"
        }
       ],
       "layout": {
        "bargap": 0.02,
        "legend": {
         "bgcolor": "#F5F6F9",
         "font": {
          "color": "#4D5663"
         }
        },
        "paper_bgcolor": "#F5F6F9",
        "plot_bgcolor": "#F5F6F9",
        "showlegend": false,
        "template": {
         "data": {
          "bar": [
           {
            "error_x": {
             "color": "#2a3f5f"
            },
            "error_y": {
             "color": "#2a3f5f"
            },
            "marker": {
             "line": {
              "color": "#E5ECF6",
              "width": 0.5
             }
            },
            "type": "bar"
           }
          ],
          "barpolar": [
           {
            "marker": {
             "line": {
              "color": "#E5ECF6",
              "width": 0.5
             }
            },
            "type": "barpolar"
           }
          ],
          "carpet": [
           {
            "aaxis": {
             "endlinecolor": "#2a3f5f",
             "gridcolor": "white",
             "linecolor": "white",
             "minorgridcolor": "white",
             "startlinecolor": "#2a3f5f"
            },
            "baxis": {
             "endlinecolor": "#2a3f5f",
             "gridcolor": "white",
             "linecolor": "white",
             "minorgridcolor": "white",
             "startlinecolor": "#2a3f5f"
            },
            "type": "carpet"
           }
          ],
          "choropleth": [
           {
            "colorbar": {
             "outlinewidth": 0,
             "ticks": ""
            },
            "type": "choropleth"
           }
          ],
          "contour": [
           {
            "colorbar": {
             "outlinewidth": 0,
             "ticks": ""
            },
            "colorscale": [
             [
              0,
              "#0d0887"
             ],
             [
              0.1111111111111111,
              "#46039f"
             ],
             [
              0.2222222222222222,
              "#7201a8"
             ],
             [
              0.3333333333333333,
              "#9c179e"
             ],
             [
              0.4444444444444444,
              "#bd3786"
             ],
             [
              0.5555555555555556,
              "#d8576b"
             ],
             [
              0.6666666666666666,
              "#ed7953"
             ],
             [
              0.7777777777777778,
              "#fb9f3a"
             ],
             [
              0.8888888888888888,
              "#fdca26"
             ],
             [
              1,
              "#f0f921"
             ]
            ],
            "type": "contour"
           }
          ],
          "contourcarpet": [
           {
            "colorbar": {
             "outlinewidth": 0,
             "ticks": ""
            },
            "type": "contourcarpet"
           }
          ],
          "heatmap": [
           {
            "colorbar": {
             "outlinewidth": 0,
             "ticks": ""
            },
            "colorscale": [
             [
              0,
              "#0d0887"
             ],
             [
              0.1111111111111111,
              "#46039f"
             ],
             [
              0.2222222222222222,
              "#7201a8"
             ],
             [
              0.3333333333333333,
              "#9c179e"
             ],
             [
              0.4444444444444444,
              "#bd3786"
             ],
             [
              0.5555555555555556,
              "#d8576b"
             ],
             [
              0.6666666666666666,
              "#ed7953"
             ],
             [
              0.7777777777777778,
              "#fb9f3a"
             ],
             [
              0.8888888888888888,
              "#fdca26"
             ],
             [
              1,
              "#f0f921"
             ]
            ],
            "type": "heatmap"
           }
          ],
          "heatmapgl": [
           {
            "colorbar": {
             "outlinewidth": 0,
             "ticks": ""
            },
            "colorscale": [
             [
              0,
              "#0d0887"
             ],
             [
              0.1111111111111111,
              "#46039f"
             ],
             [
              0.2222222222222222,
              "#7201a8"
             ],
             [
              0.3333333333333333,
              "#9c179e"
             ],
             [
              0.4444444444444444,
              "#bd3786"
             ],
             [
              0.5555555555555556,
              "#d8576b"
             ],
             [
              0.6666666666666666,
              "#ed7953"
             ],
             [
              0.7777777777777778,
              "#fb9f3a"
             ],
             [
              0.8888888888888888,
              "#fdca26"
             ],
             [
              1,
              "#f0f921"
             ]
            ],
            "type": "heatmapgl"
           }
          ],
          "histogram": [
           {
            "marker": {
             "colorbar": {
              "outlinewidth": 0,
              "ticks": ""
             }
            },
            "type": "histogram"
           }
          ],
          "histogram2d": [
           {
            "colorbar": {
             "outlinewidth": 0,
             "ticks": ""
            },
            "colorscale": [
             [
              0,
              "#0d0887"
             ],
             [
              0.1111111111111111,
              "#46039f"
             ],
             [
              0.2222222222222222,
              "#7201a8"
             ],
             [
              0.3333333333333333,
              "#9c179e"
             ],
             [
              0.4444444444444444,
              "#bd3786"
             ],
             [
              0.5555555555555556,
              "#d8576b"
             ],
             [
              0.6666666666666666,
              "#ed7953"
             ],
             [
              0.7777777777777778,
              "#fb9f3a"
             ],
             [
              0.8888888888888888,
              "#fdca26"
             ],
             [
              1,
              "#f0f921"
             ]
            ],
            "type": "histogram2d"
           }
          ],
          "histogram2dcontour": [
           {
            "colorbar": {
             "outlinewidth": 0,
             "ticks": ""
            },
            "colorscale": [
             [
              0,
              "#0d0887"
             ],
             [
              0.1111111111111111,
              "#46039f"
             ],
             [
              0.2222222222222222,
              "#7201a8"
             ],
             [
              0.3333333333333333,
              "#9c179e"
             ],
             [
              0.4444444444444444,
              "#bd3786"
             ],
             [
              0.5555555555555556,
              "#d8576b"
             ],
             [
              0.6666666666666666,
              "#ed7953"
             ],
             [
              0.7777777777777778,
              "#fb9f3a"
             ],
             [
              0.8888888888888888,
              "#fdca26"
             ],
             [
              1,
              "#f0f921"
             ]
            ],
            "type": "histogram2dcontour"
           }
          ],
          "mesh3d": [
           {
            "colorbar": {
             "outlinewidth": 0,
             "ticks": ""
            },
            "type": "mesh3d"
           }
          ],
          "parcoords": [
           {
            "line": {
             "colorbar": {
              "outlinewidth": 0,
              "ticks": ""
             }
            },
            "type": "parcoords"
           }
          ],
          "pie": [
           {
            "automargin": true,
            "type": "pie"
           }
          ],
          "scatter": [
           {
            "marker": {
             "colorbar": {
              "outlinewidth": 0,
              "ticks": ""
             }
            },
            "type": "scatter"
           }
          ],
          "scatter3d": [
           {
            "line": {
             "colorbar": {
              "outlinewidth": 0,
              "ticks": ""
             }
            },
            "marker": {
             "colorbar": {
              "outlinewidth": 0,
              "ticks": ""
             }
            },
            "type": "scatter3d"
           }
          ],
          "scattercarpet": [
           {
            "marker": {
             "colorbar": {
              "outlinewidth": 0,
              "ticks": ""
             }
            },
            "type": "scattercarpet"
           }
          ],
          "scattergeo": [
           {
            "marker": {
             "colorbar": {
              "outlinewidth": 0,
              "ticks": ""
             }
            },
            "type": "scattergeo"
           }
          ],
          "scattergl": [
           {
            "marker": {
             "colorbar": {
              "outlinewidth": 0,
              "ticks": ""
             }
            },
            "type": "scattergl"
           }
          ],
          "scattermapbox": [
           {
            "marker": {
             "colorbar": {
              "outlinewidth": 0,
              "ticks": ""
             }
            },
            "type": "scattermapbox"
           }
          ],
          "scatterpolar": [
           {
            "marker": {
             "colorbar": {
              "outlinewidth": 0,
              "ticks": ""
             }
            },
            "type": "scatterpolar"
           }
          ],
          "scatterpolargl": [
           {
            "marker": {
             "colorbar": {
              "outlinewidth": 0,
              "ticks": ""
             }
            },
            "type": "scatterpolargl"
           }
          ],
          "scatterternary": [
           {
            "marker": {
             "colorbar": {
              "outlinewidth": 0,
              "ticks": ""
             }
            },
            "type": "scatterternary"
           }
          ],
          "surface": [
           {
            "colorbar": {
             "outlinewidth": 0,
             "ticks": ""
            },
            "colorscale": [
             [
              0,
              "#0d0887"
             ],
             [
              0.1111111111111111,
              "#46039f"
             ],
             [
              0.2222222222222222,
              "#7201a8"
             ],
             [
              0.3333333333333333,
              "#9c179e"
             ],
             [
              0.4444444444444444,
              "#bd3786"
             ],
             [
              0.5555555555555556,
              "#d8576b"
             ],
             [
              0.6666666666666666,
              "#ed7953"
             ],
             [
              0.7777777777777778,
              "#fb9f3a"
             ],
             [
              0.8888888888888888,
              "#fdca26"
             ],
             [
              1,
              "#f0f921"
             ]
            ],
            "type": "surface"
           }
          ],
          "table": [
           {
            "cells": {
             "fill": {
              "color": "#EBF0F8"
             },
             "line": {
              "color": "white"
             }
            },
            "header": {
             "fill": {
              "color": "#C8D4E3"
             },
             "line": {
              "color": "white"
             }
            },
            "type": "table"
           }
          ]
         },
         "layout": {
          "annotationdefaults": {
           "arrowcolor": "#2a3f5f",
           "arrowhead": 0,
           "arrowwidth": 1
          },
          "coloraxis": {
           "colorbar": {
            "outlinewidth": 0,
            "ticks": ""
           }
          },
          "colorscale": {
           "diverging": [
            [
             0,
             "#8e0152"
            ],
            [
             0.1,
             "#c51b7d"
            ],
            [
             0.2,
             "#de77ae"
            ],
            [
             0.3,
             "#f1b6da"
            ],
            [
             0.4,
             "#fde0ef"
            ],
            [
             0.5,
             "#f7f7f7"
            ],
            [
             0.6,
             "#e6f5d0"
            ],
            [
             0.7,
             "#b8e186"
            ],
            [
             0.8,
             "#7fbc41"
            ],
            [
             0.9,
             "#4d9221"
            ],
            [
             1,
             "#276419"
            ]
           ],
           "sequential": [
            [
             0,
             "#0d0887"
            ],
            [
             0.1111111111111111,
             "#46039f"
            ],
            [
             0.2222222222222222,
             "#7201a8"
            ],
            [
             0.3333333333333333,
             "#9c179e"
            ],
            [
             0.4444444444444444,
             "#bd3786"
            ],
            [
             0.5555555555555556,
             "#d8576b"
            ],
            [
             0.6666666666666666,
             "#ed7953"
            ],
            [
             0.7777777777777778,
             "#fb9f3a"
            ],
            [
             0.8888888888888888,
             "#fdca26"
            ],
            [
             1,
             "#f0f921"
            ]
           ],
           "sequentialminus": [
            [
             0,
             "#0d0887"
            ],
            [
             0.1111111111111111,
             "#46039f"
            ],
            [
             0.2222222222222222,
             "#7201a8"
            ],
            [
             0.3333333333333333,
             "#9c179e"
            ],
            [
             0.4444444444444444,
             "#bd3786"
            ],
            [
             0.5555555555555556,
             "#d8576b"
            ],
            [
             0.6666666666666666,
             "#ed7953"
            ],
            [
             0.7777777777777778,
             "#fb9f3a"
            ],
            [
             0.8888888888888888,
             "#fdca26"
            ],
            [
             1,
             "#f0f921"
            ]
           ]
          },
          "colorway": [
           "#636efa",
           "#EF553B",
           "#00cc96",
           "#ab63fa",
           "#FFA15A",
           "#19d3f3",
           "#FF6692",
           "#B6E880",
           "#FF97FF",
           "#FECB52"
          ],
          "font": {
           "color": "#2a3f5f"
          },
          "geo": {
           "bgcolor": "white",
           "lakecolor": "white",
           "landcolor": "#E5ECF6",
           "showlakes": true,
           "showland": true,
           "subunitcolor": "white"
          },
          "hoverlabel": {
           "align": "left"
          },
          "hovermode": "closest",
          "mapbox": {
           "style": "light"
          },
          "paper_bgcolor": "white",
          "plot_bgcolor": "#E5ECF6",
          "polar": {
           "angularaxis": {
            "gridcolor": "white",
            "linecolor": "white",
            "ticks": ""
           },
           "bgcolor": "#E5ECF6",
           "radialaxis": {
            "gridcolor": "white",
            "linecolor": "white",
            "ticks": ""
           }
          },
          "scene": {
           "xaxis": {
            "backgroundcolor": "#E5ECF6",
            "gridcolor": "white",
            "gridwidth": 2,
            "linecolor": "white",
            "showbackground": true,
            "ticks": "",
            "zerolinecolor": "white"
           },
           "yaxis": {
            "backgroundcolor": "#E5ECF6",
            "gridcolor": "white",
            "gridwidth": 2,
            "linecolor": "white",
            "showbackground": true,
            "ticks": "",
            "zerolinecolor": "white"
           },
           "zaxis": {
            "backgroundcolor": "#E5ECF6",
            "gridcolor": "white",
            "gridwidth": 2,
            "linecolor": "white",
            "showbackground": true,
            "ticks": "",
            "zerolinecolor": "white"
           }
          },
          "shapedefaults": {
           "line": {
            "color": "#2a3f5f"
           }
          },
          "ternary": {
           "aaxis": {
            "gridcolor": "white",
            "linecolor": "white",
            "ticks": ""
           },
           "baxis": {
            "gridcolor": "white",
            "linecolor": "white",
            "ticks": ""
           },
           "bgcolor": "#E5ECF6",
           "caxis": {
            "gridcolor": "white",
            "linecolor": "white",
            "ticks": ""
           }
          },
          "title": {
           "x": 0.05
          },
          "xaxis": {
           "automargin": true,
           "gridcolor": "white",
           "linecolor": "white",
           "ticks": "",
           "title": {
            "standoff": 15
           },
           "zerolinecolor": "white",
           "zerolinewidth": 2
          },
          "yaxis": {
           "automargin": true,
           "gridcolor": "white",
           "linecolor": "white",
           "ticks": "",
           "title": {
            "standoff": 15
           },
           "zerolinecolor": "white",
           "zerolinewidth": 2
          }
         }
        },
        "title": {
         "font": {
          "color": "#4D5663"
         }
        },
        "xaxis": {
         "anchor": "y",
         "domain": [
          0,
          0.2125
         ],
         "gridcolor": "#E1E5ED",
         "showgrid": false,
         "tickfont": {
          "color": "#4D5663"
         },
         "title": {
          "font": {
           "color": "#4D5663"
          },
          "text": ""
         },
         "zerolinecolor": "#E1E5ED"
        },
        "xaxis10": {
         "anchor": "y10",
         "domain": [
          0.2625,
          0.475
         ],
         "gridcolor": "#E1E5ED",
         "showgrid": false,
         "tickfont": {
          "color": "#4D5663"
         },
         "title": {
          "font": {
           "color": "#4D5663"
          },
          "text": ""
         },
         "zerolinecolor": "#E1E5ED"
        },
        "xaxis11": {
         "anchor": "y11",
         "domain": [
          0.525,
          0.7375
         ],
         "gridcolor": "#E1E5ED",
         "showgrid": false,
         "tickfont": {
          "color": "#4D5663"
         },
         "title": {
          "font": {
           "color": "#4D5663"
          },
          "text": ""
         },
         "zerolinecolor": "#E1E5ED"
        },
        "xaxis12": {
         "anchor": "y12",
         "domain": [
          0.7875,
          1
         ],
         "gridcolor": "#E1E5ED",
         "showgrid": false,
         "tickfont": {
          "color": "#4D5663"
         },
         "title": {
          "font": {
           "color": "#4D5663"
          },
          "text": ""
         },
         "zerolinecolor": "#E1E5ED"
        },
        "xaxis13": {
         "anchor": "y13",
         "domain": [
          0,
          0.2125
         ],
         "gridcolor": "#E1E5ED",
         "showgrid": false,
         "tickfont": {
          "color": "#4D5663"
         },
         "title": {
          "font": {
           "color": "#4D5663"
          },
          "text": ""
         },
         "zerolinecolor": "#E1E5ED"
        },
        "xaxis14": {
         "anchor": "y14",
         "domain": [
          0.2625,
          0.475
         ],
         "gridcolor": "#E1E5ED",
         "showgrid": false,
         "tickfont": {
          "color": "#4D5663"
         },
         "title": {
          "font": {
           "color": "#4D5663"
          },
          "text": ""
         },
         "zerolinecolor": "#E1E5ED"
        },
        "xaxis15": {
         "anchor": "y15",
         "domain": [
          0.525,
          0.7375
         ],
         "gridcolor": "#E1E5ED",
         "showgrid": false,
         "tickfont": {
          "color": "#4D5663"
         },
         "title": {
          "font": {
           "color": "#4D5663"
          },
          "text": ""
         },
         "zerolinecolor": "#E1E5ED"
        },
        "xaxis16": {
         "anchor": "y16",
         "domain": [
          0.7875,
          1
         ],
         "gridcolor": "#E1E5ED",
         "showgrid": false,
         "tickfont": {
          "color": "#4D5663"
         },
         "title": {
          "font": {
           "color": "#4D5663"
          },
          "text": ""
         },
         "zerolinecolor": "#E1E5ED"
        },
        "xaxis2": {
         "anchor": "y2",
         "domain": [
          0.2625,
          0.475
         ],
         "gridcolor": "#E1E5ED",
         "showgrid": false,
         "tickfont": {
          "color": "#4D5663"
         },
         "title": {
          "font": {
           "color": "#4D5663"
          },
          "text": ""
         },
         "zerolinecolor": "#E1E5ED"
        },
        "xaxis3": {
         "anchor": "y3",
         "domain": [
          0.525,
          0.7375
         ],
         "gridcolor": "#E1E5ED",
         "showgrid": false,
         "tickfont": {
          "color": "#4D5663"
         },
         "title": {
          "font": {
           "color": "#4D5663"
          },
          "text": ""
         },
         "zerolinecolor": "#E1E5ED"
        },
        "xaxis4": {
         "anchor": "y4",
         "domain": [
          0.7875,
          1
         ],
         "gridcolor": "#E1E5ED",
         "showgrid": false,
         "tickfont": {
          "color": "#4D5663"
         },
         "title": {
          "font": {
           "color": "#4D5663"
          },
          "text": ""
         },
         "zerolinecolor": "#E1E5ED"
        },
        "xaxis5": {
         "anchor": "y5",
         "domain": [
          0,
          0.2125
         ],
         "gridcolor": "#E1E5ED",
         "showgrid": false,
         "tickfont": {
          "color": "#4D5663"
         },
         "title": {
          "font": {
           "color": "#4D5663"
          },
          "text": ""
         },
         "zerolinecolor": "#E1E5ED"
        },
        "xaxis6": {
         "anchor": "y6",
         "domain": [
          0.2625,
          0.475
         ],
         "gridcolor": "#E1E5ED",
         "showgrid": false,
         "tickfont": {
          "color": "#4D5663"
         },
         "title": {
          "font": {
           "color": "#4D5663"
          },
          "text": ""
         },
         "zerolinecolor": "#E1E5ED"
        },
        "xaxis7": {
         "anchor": "y7",
         "domain": [
          0.525,
          0.7375
         ],
         "gridcolor": "#E1E5ED",
         "showgrid": false,
         "tickfont": {
          "color": "#4D5663"
         },
         "title": {
          "font": {
           "color": "#4D5663"
          },
          "text": ""
         },
         "zerolinecolor": "#E1E5ED"
        },
        "xaxis8": {
         "anchor": "y8",
         "domain": [
          0.7875,
          1
         ],
         "gridcolor": "#E1E5ED",
         "showgrid": false,
         "tickfont": {
          "color": "#4D5663"
         },
         "title": {
          "font": {
           "color": "#4D5663"
          },
          "text": ""
         },
         "zerolinecolor": "#E1E5ED"
        },
        "xaxis9": {
         "anchor": "y9",
         "domain": [
          0,
          0.2125
         ],
         "gridcolor": "#E1E5ED",
         "showgrid": false,
         "tickfont": {
          "color": "#4D5663"
         },
         "title": {
          "font": {
           "color": "#4D5663"
          },
          "text": ""
         },
         "zerolinecolor": "#E1E5ED"
        },
        "yaxis": {
         "anchor": "x",
         "domain": [
          0.8025,
          1
         ],
         "gridcolor": "#E1E5ED",
         "showgrid": false,
         "tickfont": {
          "color": "#4D5663"
         },
         "title": {
          "font": {
           "color": "#4D5663"
          },
          "text": ""
         },
         "zerolinecolor": "#E1E5ED"
        },
        "yaxis10": {
         "anchor": "x10",
         "domain": [
          0.2675,
          0.465
         ],
         "gridcolor": "#E1E5ED",
         "showgrid": false,
         "tickfont": {
          "color": "#4D5663"
         },
         "title": {
          "font": {
           "color": "#4D5663"
          },
          "text": ""
         },
         "zerolinecolor": "#E1E5ED"
        },
        "yaxis11": {
         "anchor": "x11",
         "domain": [
          0.2675,
          0.465
         ],
         "gridcolor": "#E1E5ED",
         "showgrid": false,
         "tickfont": {
          "color": "#4D5663"
         },
         "title": {
          "font": {
           "color": "#4D5663"
          },
          "text": ""
         },
         "zerolinecolor": "#E1E5ED"
        },
        "yaxis12": {
         "anchor": "x12",
         "domain": [
          0.2675,
          0.465
         ],
         "gridcolor": "#E1E5ED",
         "showgrid": false,
         "tickfont": {
          "color": "#4D5663"
         },
         "title": {
          "font": {
           "color": "#4D5663"
          },
          "text": ""
         },
         "zerolinecolor": "#E1E5ED"
        },
        "yaxis13": {
         "anchor": "x13",
         "domain": [
          0,
          0.1975
         ],
         "gridcolor": "#E1E5ED",
         "showgrid": false,
         "tickfont": {
          "color": "#4D5663"
         },
         "title": {
          "font": {
           "color": "#4D5663"
          },
          "text": ""
         },
         "zerolinecolor": "#E1E5ED"
        },
        "yaxis14": {
         "anchor": "x14",
         "domain": [
          0,
          0.1975
         ],
         "gridcolor": "#E1E5ED",
         "showgrid": false,
         "tickfont": {
          "color": "#4D5663"
         },
         "title": {
          "font": {
           "color": "#4D5663"
          },
          "text": ""
         },
         "zerolinecolor": "#E1E5ED"
        },
        "yaxis15": {
         "anchor": "x15",
         "domain": [
          0,
          0.1975
         ],
         "gridcolor": "#E1E5ED",
         "showgrid": false,
         "tickfont": {
          "color": "#4D5663"
         },
         "title": {
          "font": {
           "color": "#4D5663"
          },
          "text": ""
         },
         "zerolinecolor": "#E1E5ED"
        },
        "yaxis16": {
         "anchor": "x16",
         "domain": [
          0,
          0.1975
         ],
         "gridcolor": "#E1E5ED",
         "showgrid": false,
         "tickfont": {
          "color": "#4D5663"
         },
         "title": {
          "font": {
           "color": "#4D5663"
          },
          "text": ""
         },
         "zerolinecolor": "#E1E5ED"
        },
        "yaxis2": {
         "anchor": "x2",
         "domain": [
          0.8025,
          1
         ],
         "gridcolor": "#E1E5ED",
         "showgrid": false,
         "tickfont": {
          "color": "#4D5663"
         },
         "title": {
          "font": {
           "color": "#4D5663"
          },
          "text": ""
         },
         "zerolinecolor": "#E1E5ED"
        },
        "yaxis3": {
         "anchor": "x3",
         "domain": [
          0.8025,
          1
         ],
         "gridcolor": "#E1E5ED",
         "showgrid": false,
         "tickfont": {
          "color": "#4D5663"
         },
         "title": {
          "font": {
           "color": "#4D5663"
          },
          "text": ""
         },
         "zerolinecolor": "#E1E5ED"
        },
        "yaxis4": {
         "anchor": "x4",
         "domain": [
          0.8025,
          1
         ],
         "gridcolor": "#E1E5ED",
         "showgrid": false,
         "tickfont": {
          "color": "#4D5663"
         },
         "title": {
          "font": {
           "color": "#4D5663"
          },
          "text": ""
         },
         "zerolinecolor": "#E1E5ED"
        },
        "yaxis5": {
         "anchor": "x5",
         "domain": [
          0.535,
          0.7325
         ],
         "gridcolor": "#E1E5ED",
         "showgrid": false,
         "tickfont": {
          "color": "#4D5663"
         },
         "title": {
          "font": {
           "color": "#4D5663"
          },
          "text": ""
         },
         "zerolinecolor": "#E1E5ED"
        },
        "yaxis6": {
         "anchor": "x6",
         "domain": [
          0.535,
          0.7325
         ],
         "gridcolor": "#E1E5ED",
         "showgrid": false,
         "tickfont": {
          "color": "#4D5663"
         },
         "title": {
          "font": {
           "color": "#4D5663"
          },
          "text": ""
         },
         "zerolinecolor": "#E1E5ED"
        },
        "yaxis7": {
         "anchor": "x7",
         "domain": [
          0.535,
          0.7325
         ],
         "gridcolor": "#E1E5ED",
         "showgrid": false,
         "tickfont": {
          "color": "#4D5663"
         },
         "title": {
          "font": {
           "color": "#4D5663"
          },
          "text": ""
         },
         "zerolinecolor": "#E1E5ED"
        },
        "yaxis8": {
         "anchor": "x8",
         "domain": [
          0.535,
          0.7325
         ],
         "gridcolor": "#E1E5ED",
         "showgrid": false,
         "tickfont": {
          "color": "#4D5663"
         },
         "title": {
          "font": {
           "color": "#4D5663"
          },
          "text": ""
         },
         "zerolinecolor": "#E1E5ED"
        },
        "yaxis9": {
         "anchor": "x9",
         "domain": [
          0.2675,
          0.465
         ],
         "gridcolor": "#E1E5ED",
         "showgrid": false,
         "tickfont": {
          "color": "#4D5663"
         },
         "title": {
          "font": {
           "color": "#4D5663"
          },
          "text": ""
         },
         "zerolinecolor": "#E1E5ED"
        }
       }
      },
      "text/html": [
       "<div>\n",
       "        \n",
       "        \n",
       "            <div id=\"9673ed32-ab7b-44a1-bf11-c077d89a8d54\" class=\"plotly-graph-div\" style=\"height:525px; width:100%;\"></div>\n",
       "            <script type=\"text/javascript\">\n",
       "                require([\"plotly\"], function(Plotly) {\n",
       "                    window.PLOTLYENV=window.PLOTLYENV || {};\n",
       "                    window.PLOTLYENV.BASE_URL='https://plot.ly';\n",
       "                    \n",
       "                if (document.getElementById(\"9673ed32-ab7b-44a1-bf11-c077d89a8d54\")) {\n",
       "                    Plotly.newPlot(\n",
       "                        '9673ed32-ab7b-44a1-bf11-c077d89a8d54',\n",
       "                        [{\"histfunc\": \"count\", \"histnorm\": \"\", \"marker\": {\"color\": \"rgba(255, 153, 51, 1.0)\", \"line\": {\"color\": \"#4D5663\", \"width\": 1.3}}, \"name\": \"data\", \"nbinsx\": 10, \"opacity\": 0.8, \"orientation\": \"v\", \"type\": \"histogram\", \"x\": [\"26-fev\", \"27-fev\", \"28-fev\", \"29-fev\", \"1-mar\", \"2-mar\", \"3-mar\", \"4-mar\", \"5-mar\", \"6-mar\", \"7-mar\", \"8-mar\", \"9-mar\", \"10-mar\", \"11-mar\", \"12-mar\", \"13-mar\", \"14-mar\", \"15-mar\", \"16-mar\", \"17-mar\", \"18-mar\", \"19-mar\", \"20-mar\", \"21-mar\", \"22-mar\", \"23-mar\", \"24-mar\", \"25-mar\", \"26-mar\", \"27-mar\", \"28-mar\", \"29-mar\", \"30-mar\", \"31-mar\", \"1-abr\", \"2-abr\", \"3-abr\"], \"xaxis\": \"x\", \"yaxis\": \"y\"}, {\"line\": {\"color\": \"rgba(128, 128, 128, 1.0)\", \"dash\": \"solid\", \"shape\": \"linear\", \"width\": 1.3}, \"marker\": {\"size\": 2, \"symbol\": \"circle\"}, \"mode\": \"markers\", \"name\": \"data\", \"text\": \"\", \"type\": \"scatter\", \"x\": [1, 1, 1, 2, 2, 2, 2, 3, 8, 13, 25, 25, 25, 34, 52, 77, 98, 98, 98, 234, 349, 529, 647, 977, 1226, 1604, 1960, 2271, 2555, 2988, 3477, 3928, 4313, 4661, 5812, 6931, 8076, 9216], \"xaxis\": \"x2\", \"y\": [\"26-fev\", \"27-fev\", \"28-fev\", \"29-fev\", \"1-mar\", \"2-mar\", \"3-mar\", \"4-mar\", \"5-mar\", \"6-mar\", \"7-mar\", \"8-mar\", \"9-mar\", \"10-mar\", \"11-mar\", \"12-mar\", \"13-mar\", \"14-mar\", \"15-mar\", \"16-mar\", \"17-mar\", \"18-mar\", \"19-mar\", \"20-mar\", \"21-mar\", \"22-mar\", \"23-mar\", \"24-mar\", \"25-mar\", \"26-mar\", \"27-mar\", \"28-mar\", \"29-mar\", \"30-mar\", \"31-mar\", \"1-abr\", \"2-abr\", \"3-abr\"], \"yaxis\": \"y2\"}, {\"line\": {\"color\": \"rgba(128, 128, 128, 1.0)\", \"dash\": \"solid\", \"shape\": \"linear\", \"width\": 1.3}, \"marker\": {\"size\": 2, \"symbol\": \"circle\"}, \"mode\": \"markers\", \"name\": \"data\", \"text\": \"\", \"type\": \"scatter\", \"x\": [0, 0, 0, 0, 0, 0, 0, 0, 0, 0, 0, 0, 0, 0, 0, 0, 0, 0, 0, 0, 1, 4, 7, 11, 18, 25, 34, 47, 59, 77, 93, 133, 139, 165, 202, 242, 327, 365], \"xaxis\": \"x3\", \"y\": [\"26-fev\", \"27-fev\", \"28-fev\", \"29-fev\", \"1-mar\", \"2-mar\", \"3-mar\", \"4-mar\", \"5-mar\", \"6-mar\", \"7-mar\", \"8-mar\", \"9-mar\", \"10-mar\", \"11-mar\", \"12-mar\", \"13-mar\", \"14-mar\", \"15-mar\", \"16-mar\", \"17-mar\", \"18-mar\", \"19-mar\", \"20-mar\", \"21-mar\", \"22-mar\", \"23-mar\", \"24-mar\", \"25-mar\", \"26-mar\", \"27-mar\", \"28-mar\", \"29-mar\", \"30-mar\", \"31-mar\", \"1-abr\", \"2-abr\", \"3-abr\"], \"yaxis\": \"y3\"}, {\"line\": {\"color\": \"rgba(128, 128, 128, 1.0)\", \"dash\": \"solid\", \"shape\": \"linear\", \"width\": 1.3}, \"marker\": {\"size\": 2, \"symbol\": \"circle\"}, \"mode\": \"markers\", \"name\": \"data\", \"text\": \"\", \"type\": \"scatter\", \"x\": [\"undefined\", \"undefined\", \"undefined\", \"undefined\", \"undefined\", \"undefined\", \"undefined\", \"undefined\", \"undefined\", \"undefined\", \"undefined\", \"undefined\", \"undefined\", \"undefined\", \"undefined\", \"undefined\", \"undefined\", \"undefined\", \"undefined\", \"undefined\", \"undefined\", \"undefined\", \"undefined\", \"undefined\", \"undefined\", \"undefined\", \"undefined\", \"undefined\", \"undefined\", \"undefined\", \"undefined\", \"undefined\", \"undefined\", \"undefined\", \"undefined\", \"undefined\", \"undefined\", \"undefined\"], \"xaxis\": \"x4\", \"y\": [\"26-fev\", \"27-fev\", \"28-fev\", \"29-fev\", \"1-mar\", \"2-mar\", \"3-mar\", \"4-mar\", \"5-mar\", \"6-mar\", \"7-mar\", \"8-mar\", \"9-mar\", \"10-mar\", \"11-mar\", \"12-mar\", \"13-mar\", \"14-mar\", \"15-mar\", \"16-mar\", \"17-mar\", \"18-mar\", \"19-mar\", \"20-mar\", \"21-mar\", \"22-mar\", \"23-mar\", \"24-mar\", \"25-mar\", \"26-mar\", \"27-mar\", \"28-mar\", \"29-mar\", \"30-mar\", \"31-mar\", \"1-abr\", \"2-abr\", \"3-abr\"], \"yaxis\": \"y4\"}, {\"line\": {\"color\": \"rgba(128, 128, 128, 1.0)\", \"dash\": \"solid\", \"shape\": \"linear\", \"width\": 1.3}, \"marker\": {\"size\": 2, \"symbol\": \"circle\"}, \"mode\": \"markers\", \"name\": \"casos\", \"text\": \"\", \"type\": \"scatter\", \"x\": [\"26-fev\", \"27-fev\", \"28-fev\", \"29-fev\", \"1-mar\", \"2-mar\", \"3-mar\", \"4-mar\", \"5-mar\", \"6-mar\", \"7-mar\", \"8-mar\", \"9-mar\", \"10-mar\", \"11-mar\", \"12-mar\", \"13-mar\", \"14-mar\", \"15-mar\", \"16-mar\", \"17-mar\", \"18-mar\", \"19-mar\", \"20-mar\", \"21-mar\", \"22-mar\", \"23-mar\", \"24-mar\", \"25-mar\", \"26-mar\", \"27-mar\", \"28-mar\", \"29-mar\", \"30-mar\", \"31-mar\", \"1-abr\", \"2-abr\", \"3-abr\"], \"xaxis\": \"x5\", \"y\": [1, 1, 1, 2, 2, 2, 2, 3, 8, 13, 25, 25, 25, 34, 52, 77, 98, 98, 98, 234, 349, 529, 647, 977, 1226, 1604, 1960, 2271, 2555, 2988, 3477, 3928, 4313, 4661, 5812, 6931, 8076, 9216], \"yaxis\": \"y5\"}, {\"histfunc\": \"count\", \"histnorm\": \"\", \"marker\": {\"color\": \"rgba(55, 128, 191, 1.0)\", \"line\": {\"color\": \"#4D5663\", \"width\": 1.3}}, \"name\": \"casos\", \"nbinsx\": 10, \"opacity\": 0.8, \"orientation\": \"v\", \"type\": \"histogram\", \"x\": [1, 1, 1, 2, 2, 2, 2, 3, 8, 13, 25, 25, 25, 34, 52, 77, 98, 98, 98, 234, 349, 529, 647, 977, 1226, 1604, 1960, 2271, 2555, 2988, 3477, 3928, 4313, 4661, 5812, 6931, 8076, 9216], \"xaxis\": \"x6\", \"yaxis\": \"y6\"}, {\"line\": {\"color\": \"rgba(128, 128, 128, 1.0)\", \"dash\": \"solid\", \"shape\": \"linear\", \"width\": 1.3}, \"marker\": {\"size\": 2, \"symbol\": \"circle\"}, \"mode\": \"markers\", \"name\": \"casos\", \"text\": \"\", \"type\": \"scatter\", \"x\": [0, 0, 0, 0, 0, 0, 0, 0, 0, 0, 0, 0, 0, 0, 0, 0, 0, 0, 0, 0, 1, 4, 7, 11, 18, 25, 34, 47, 59, 77, 93, 133, 139, 165, 202, 242, 327, 365], \"xaxis\": \"x7\", \"y\": [1, 1, 1, 2, 2, 2, 2, 3, 8, 13, 25, 25, 25, 34, 52, 77, 98, 98, 98, 234, 349, 529, 647, 977, 1226, 1604, 1960, 2271, 2555, 2988, 3477, 3928, 4313, 4661, 5812, 6931, 8076, 9216], \"yaxis\": \"y7\"}, {\"line\": {\"color\": \"rgba(128, 128, 128, 1.0)\", \"dash\": \"solid\", \"shape\": \"linear\", \"width\": 1.3}, \"marker\": {\"size\": 2, \"symbol\": \"circle\"}, \"mode\": \"markers\", \"name\": \"casos\", \"text\": \"\", \"type\": \"scatter\", \"x\": [\"undefined\", \"undefined\", \"undefined\", \"undefined\", \"undefined\", \"undefined\", \"undefined\", \"undefined\", \"undefined\", \"undefined\", \"undefined\", \"undefined\", \"undefined\", \"undefined\", \"undefined\", \"undefined\", \"undefined\", \"undefined\", \"undefined\", \"undefined\", \"undefined\", \"undefined\", \"undefined\", \"undefined\", \"undefined\", \"undefined\", \"undefined\", \"undefined\", \"undefined\", \"undefined\", \"undefined\", \"undefined\", \"undefined\", \"undefined\", \"undefined\", \"undefined\", \"undefined\", \"undefined\"], \"xaxis\": \"x8\", \"y\": [1, 1, 1, 2, 2, 2, 2, 3, 8, 13, 25, 25, 25, 34, 52, 77, 98, 98, 98, 234, 349, 529, 647, 977, 1226, 1604, 1960, 2271, 2555, 2988, 3477, 3928, 4313, 4661, 5812, 6931, 8076, 9216], \"yaxis\": \"y8\"}, {\"line\": {\"color\": \"rgba(128, 128, 128, 1.0)\", \"dash\": \"solid\", \"shape\": \"linear\", \"width\": 1.3}, \"marker\": {\"size\": 2, \"symbol\": \"circle\"}, \"mode\": \"markers\", \"name\": \"mortes\", \"text\": \"\", \"type\": \"scatter\", \"x\": [\"26-fev\", \"27-fev\", \"28-fev\", \"29-fev\", \"1-mar\", \"2-mar\", \"3-mar\", \"4-mar\", \"5-mar\", \"6-mar\", \"7-mar\", \"8-mar\", \"9-mar\", \"10-mar\", \"11-mar\", \"12-mar\", \"13-mar\", \"14-mar\", \"15-mar\", \"16-mar\", \"17-mar\", \"18-mar\", \"19-mar\", \"20-mar\", \"21-mar\", \"22-mar\", \"23-mar\", \"24-mar\", \"25-mar\", \"26-mar\", \"27-mar\", \"28-mar\", \"29-mar\", \"30-mar\", \"31-mar\", \"1-abr\", \"2-abr\", \"3-abr\"], \"xaxis\": \"x9\", \"y\": [0, 0, 0, 0, 0, 0, 0, 0, 0, 0, 0, 0, 0, 0, 0, 0, 0, 0, 0, 0, 1, 4, 7, 11, 18, 25, 34, 47, 59, 77, 93, 133, 139, 165, 202, 242, 327, 365], \"yaxis\": \"y9\"}, {\"line\": {\"color\": \"rgba(128, 128, 128, 1.0)\", \"dash\": \"solid\", \"shape\": \"linear\", \"width\": 1.3}, \"marker\": {\"size\": 2, \"symbol\": \"circle\"}, \"mode\": \"markers\", \"name\": \"mortes\", \"text\": \"\", \"type\": \"scatter\", \"x\": [1, 1, 1, 2, 2, 2, 2, 3, 8, 13, 25, 25, 25, 34, 52, 77, 98, 98, 98, 234, 349, 529, 647, 977, 1226, 1604, 1960, 2271, 2555, 2988, 3477, 3928, 4313, 4661, 5812, 6931, 8076, 9216], \"xaxis\": \"x10\", \"y\": [0, 0, 0, 0, 0, 0, 0, 0, 0, 0, 0, 0, 0, 0, 0, 0, 0, 0, 0, 0, 1, 4, 7, 11, 18, 25, 34, 47, 59, 77, 93, 133, 139, 165, 202, 242, 327, 365], \"yaxis\": \"y10\"}, {\"histfunc\": \"count\", \"histnorm\": \"\", \"marker\": {\"color\": \"rgba(50, 171, 96, 1.0)\", \"line\": {\"color\": \"#4D5663\", \"width\": 1.3}}, \"name\": \"mortes\", \"nbinsx\": 10, \"opacity\": 0.8, \"orientation\": \"v\", \"type\": \"histogram\", \"x\": [0, 0, 0, 0, 0, 0, 0, 0, 0, 0, 0, 0, 0, 0, 0, 0, 0, 0, 0, 0, 1, 4, 7, 11, 18, 25, 34, 47, 59, 77, 93, 133, 139, 165, 202, 242, 327, 365], \"xaxis\": \"x11\", \"yaxis\": \"y11\"}, {\"line\": {\"color\": \"rgba(128, 128, 128, 1.0)\", \"dash\": \"solid\", \"shape\": \"linear\", \"width\": 1.3}, \"marker\": {\"size\": 2, \"symbol\": \"circle\"}, \"mode\": \"markers\", \"name\": \"mortes\", \"text\": \"\", \"type\": \"scatter\", \"x\": [\"undefined\", \"undefined\", \"undefined\", \"undefined\", \"undefined\", \"undefined\", \"undefined\", \"undefined\", \"undefined\", \"undefined\", \"undefined\", \"undefined\", \"undefined\", \"undefined\", \"undefined\", \"undefined\", \"undefined\", \"undefined\", \"undefined\", \"undefined\", \"undefined\", \"undefined\", \"undefined\", \"undefined\", \"undefined\", \"undefined\", \"undefined\", \"undefined\", \"undefined\", \"undefined\", \"undefined\", \"undefined\", \"undefined\", \"undefined\", \"undefined\", \"undefined\", \"undefined\", \"undefined\"], \"xaxis\": \"x12\", \"y\": [0, 0, 0, 0, 0, 0, 0, 0, 0, 0, 0, 0, 0, 0, 0, 0, 0, 0, 0, 0, 1, 4, 7, 11, 18, 25, 34, 47, 59, 77, 93, 133, 139, 165, 202, 242, 327, 365], \"yaxis\": \"y12\"}, {\"line\": {\"color\": \"rgba(128, 128, 128, 1.0)\", \"dash\": \"solid\", \"shape\": \"linear\", \"width\": 1.3}, \"marker\": {\"size\": 2, \"symbol\": \"circle\"}, \"mode\": \"markers\", \"name\": \"coluna1\", \"text\": \"\", \"type\": \"scatter\", \"x\": [\"26-fev\", \"27-fev\", \"28-fev\", \"29-fev\", \"1-mar\", \"2-mar\", \"3-mar\", \"4-mar\", \"5-mar\", \"6-mar\", \"7-mar\", \"8-mar\", \"9-mar\", \"10-mar\", \"11-mar\", \"12-mar\", \"13-mar\", \"14-mar\", \"15-mar\", \"16-mar\", \"17-mar\", \"18-mar\", \"19-mar\", \"20-mar\", \"21-mar\", \"22-mar\", \"23-mar\", \"24-mar\", \"25-mar\", \"26-mar\", \"27-mar\", \"28-mar\", \"29-mar\", \"30-mar\", \"31-mar\", \"1-abr\", \"2-abr\", \"3-abr\"], \"xaxis\": \"x13\", \"y\": [\"undefined\", \"undefined\", \"undefined\", \"undefined\", \"undefined\", \"undefined\", \"undefined\", \"undefined\", \"undefined\", \"undefined\", \"undefined\", \"undefined\", \"undefined\", \"undefined\", \"undefined\", \"undefined\", \"undefined\", \"undefined\", \"undefined\", \"undefined\", \"undefined\", \"undefined\", \"undefined\", \"undefined\", \"undefined\", \"undefined\", \"undefined\", \"undefined\", \"undefined\", \"undefined\", \"undefined\", \"undefined\", \"undefined\", \"undefined\", \"undefined\", \"undefined\", \"undefined\", \"undefined\"], \"yaxis\": \"y13\"}, {\"line\": {\"color\": \"rgba(128, 128, 128, 1.0)\", \"dash\": \"solid\", \"shape\": \"linear\", \"width\": 1.3}, \"marker\": {\"size\": 2, \"symbol\": \"circle\"}, \"mode\": \"markers\", \"name\": \"coluna1\", \"text\": \"\", \"type\": \"scatter\", \"x\": [1, 1, 1, 2, 2, 2, 2, 3, 8, 13, 25, 25, 25, 34, 52, 77, 98, 98, 98, 234, 349, 529, 647, 977, 1226, 1604, 1960, 2271, 2555, 2988, 3477, 3928, 4313, 4661, 5812, 6931, 8076, 9216], \"xaxis\": \"x14\", \"y\": [\"undefined\", \"undefined\", \"undefined\", \"undefined\", \"undefined\", \"undefined\", \"undefined\", \"undefined\", \"undefined\", \"undefined\", \"undefined\", \"undefined\", \"undefined\", \"undefined\", \"undefined\", \"undefined\", \"undefined\", \"undefined\", \"undefined\", \"undefined\", \"undefined\", \"undefined\", \"undefined\", \"undefined\", \"undefined\", \"undefined\", \"undefined\", \"undefined\", \"undefined\", \"undefined\", \"undefined\", \"undefined\", \"undefined\", \"undefined\", \"undefined\", \"undefined\", \"undefined\", \"undefined\"], \"yaxis\": \"y14\"}, {\"line\": {\"color\": \"rgba(128, 128, 128, 1.0)\", \"dash\": \"solid\", \"shape\": \"linear\", \"width\": 1.3}, \"marker\": {\"size\": 2, \"symbol\": \"circle\"}, \"mode\": \"markers\", \"name\": \"coluna1\", \"text\": \"\", \"type\": \"scatter\", \"x\": [0, 0, 0, 0, 0, 0, 0, 0, 0, 0, 0, 0, 0, 0, 0, 0, 0, 0, 0, 0, 1, 4, 7, 11, 18, 25, 34, 47, 59, 77, 93, 133, 139, 165, 202, 242, 327, 365], \"xaxis\": \"x15\", \"y\": [\"undefined\", \"undefined\", \"undefined\", \"undefined\", \"undefined\", \"undefined\", \"undefined\", \"undefined\", \"undefined\", \"undefined\", \"undefined\", \"undefined\", \"undefined\", \"undefined\", \"undefined\", \"undefined\", \"undefined\", \"undefined\", \"undefined\", \"undefined\", \"undefined\", \"undefined\", \"undefined\", \"undefined\", \"undefined\", \"undefined\", \"undefined\", \"undefined\", \"undefined\", \"undefined\", \"undefined\", \"undefined\", \"undefined\", \"undefined\", \"undefined\", \"undefined\", \"undefined\", \"undefined\"], \"yaxis\": \"y15\"}, {\"histfunc\": \"count\", \"histnorm\": \"\", \"marker\": {\"color\": \"rgba(128, 0, 128, 1.0)\", \"line\": {\"color\": \"#4D5663\", \"width\": 1.3}}, \"name\": \"coluna1\", \"nbinsx\": 10, \"opacity\": 0.8, \"orientation\": \"v\", \"type\": \"histogram\", \"x\": [\"undefined\", \"undefined\", \"undefined\", \"undefined\", \"undefined\", \"undefined\", \"undefined\", \"undefined\", \"undefined\", \"undefined\", \"undefined\", \"undefined\", \"undefined\", \"undefined\", \"undefined\", \"undefined\", \"undefined\", \"undefined\", \"undefined\", \"undefined\", \"undefined\", \"undefined\", \"undefined\", \"undefined\", \"undefined\", \"undefined\", \"undefined\", \"undefined\", \"undefined\", \"undefined\", \"undefined\", \"undefined\", \"undefined\", \"undefined\", \"undefined\", \"undefined\", \"undefined\", \"undefined\"], \"xaxis\": \"x16\", \"yaxis\": \"y16\"}],\n",
       "                        {\"bargap\": 0.02, \"legend\": {\"bgcolor\": \"#F5F6F9\", \"font\": {\"color\": \"#4D5663\"}}, \"paper_bgcolor\": \"#F5F6F9\", \"plot_bgcolor\": \"#F5F6F9\", \"showlegend\": false, \"template\": {\"data\": {\"bar\": [{\"error_x\": {\"color\": \"#2a3f5f\"}, \"error_y\": {\"color\": \"#2a3f5f\"}, \"marker\": {\"line\": {\"color\": \"#E5ECF6\", \"width\": 0.5}}, \"type\": \"bar\"}], \"barpolar\": [{\"marker\": {\"line\": {\"color\": \"#E5ECF6\", \"width\": 0.5}}, \"type\": \"barpolar\"}], \"carpet\": [{\"aaxis\": {\"endlinecolor\": \"#2a3f5f\", \"gridcolor\": \"white\", \"linecolor\": \"white\", \"minorgridcolor\": \"white\", \"startlinecolor\": \"#2a3f5f\"}, \"baxis\": {\"endlinecolor\": \"#2a3f5f\", \"gridcolor\": \"white\", \"linecolor\": \"white\", \"minorgridcolor\": \"white\", \"startlinecolor\": \"#2a3f5f\"}, \"type\": \"carpet\"}], \"choropleth\": [{\"colorbar\": {\"outlinewidth\": 0, \"ticks\": \"\"}, \"type\": \"choropleth\"}], \"contour\": [{\"colorbar\": {\"outlinewidth\": 0, \"ticks\": \"\"}, \"colorscale\": [[0.0, \"#0d0887\"], [0.1111111111111111, \"#46039f\"], [0.2222222222222222, \"#7201a8\"], [0.3333333333333333, \"#9c179e\"], [0.4444444444444444, \"#bd3786\"], [0.5555555555555556, \"#d8576b\"], [0.6666666666666666, \"#ed7953\"], [0.7777777777777778, \"#fb9f3a\"], [0.8888888888888888, \"#fdca26\"], [1.0, \"#f0f921\"]], \"type\": \"contour\"}], \"contourcarpet\": [{\"colorbar\": {\"outlinewidth\": 0, \"ticks\": \"\"}, \"type\": \"contourcarpet\"}], \"heatmap\": [{\"colorbar\": {\"outlinewidth\": 0, \"ticks\": \"\"}, \"colorscale\": [[0.0, \"#0d0887\"], [0.1111111111111111, \"#46039f\"], [0.2222222222222222, \"#7201a8\"], [0.3333333333333333, \"#9c179e\"], [0.4444444444444444, \"#bd3786\"], [0.5555555555555556, \"#d8576b\"], [0.6666666666666666, \"#ed7953\"], [0.7777777777777778, \"#fb9f3a\"], [0.8888888888888888, \"#fdca26\"], [1.0, \"#f0f921\"]], \"type\": \"heatmap\"}], \"heatmapgl\": [{\"colorbar\": {\"outlinewidth\": 0, \"ticks\": \"\"}, \"colorscale\": [[0.0, \"#0d0887\"], [0.1111111111111111, \"#46039f\"], [0.2222222222222222, \"#7201a8\"], [0.3333333333333333, \"#9c179e\"], [0.4444444444444444, \"#bd3786\"], [0.5555555555555556, \"#d8576b\"], [0.6666666666666666, \"#ed7953\"], [0.7777777777777778, \"#fb9f3a\"], [0.8888888888888888, \"#fdca26\"], [1.0, \"#f0f921\"]], \"type\": \"heatmapgl\"}], \"histogram\": [{\"marker\": {\"colorbar\": {\"outlinewidth\": 0, \"ticks\": \"\"}}, \"type\": \"histogram\"}], \"histogram2d\": [{\"colorbar\": {\"outlinewidth\": 0, \"ticks\": \"\"}, \"colorscale\": [[0.0, \"#0d0887\"], [0.1111111111111111, \"#46039f\"], [0.2222222222222222, \"#7201a8\"], [0.3333333333333333, \"#9c179e\"], [0.4444444444444444, \"#bd3786\"], [0.5555555555555556, \"#d8576b\"], [0.6666666666666666, \"#ed7953\"], [0.7777777777777778, \"#fb9f3a\"], [0.8888888888888888, \"#fdca26\"], [1.0, \"#f0f921\"]], \"type\": \"histogram2d\"}], \"histogram2dcontour\": [{\"colorbar\": {\"outlinewidth\": 0, \"ticks\": \"\"}, \"colorscale\": [[0.0, \"#0d0887\"], [0.1111111111111111, \"#46039f\"], [0.2222222222222222, \"#7201a8\"], [0.3333333333333333, \"#9c179e\"], [0.4444444444444444, \"#bd3786\"], [0.5555555555555556, \"#d8576b\"], [0.6666666666666666, \"#ed7953\"], [0.7777777777777778, \"#fb9f3a\"], [0.8888888888888888, \"#fdca26\"], [1.0, \"#f0f921\"]], \"type\": \"histogram2dcontour\"}], \"mesh3d\": [{\"colorbar\": {\"outlinewidth\": 0, \"ticks\": \"\"}, \"type\": \"mesh3d\"}], \"parcoords\": [{\"line\": {\"colorbar\": {\"outlinewidth\": 0, \"ticks\": \"\"}}, \"type\": \"parcoords\"}], \"pie\": [{\"automargin\": true, \"type\": \"pie\"}], \"scatter\": [{\"marker\": {\"colorbar\": {\"outlinewidth\": 0, \"ticks\": \"\"}}, \"type\": \"scatter\"}], \"scatter3d\": [{\"line\": {\"colorbar\": {\"outlinewidth\": 0, \"ticks\": \"\"}}, \"marker\": {\"colorbar\": {\"outlinewidth\": 0, \"ticks\": \"\"}}, \"type\": \"scatter3d\"}], \"scattercarpet\": [{\"marker\": {\"colorbar\": {\"outlinewidth\": 0, \"ticks\": \"\"}}, \"type\": \"scattercarpet\"}], \"scattergeo\": [{\"marker\": {\"colorbar\": {\"outlinewidth\": 0, \"ticks\": \"\"}}, \"type\": \"scattergeo\"}], \"scattergl\": [{\"marker\": {\"colorbar\": {\"outlinewidth\": 0, \"ticks\": \"\"}}, \"type\": \"scattergl\"}], \"scattermapbox\": [{\"marker\": {\"colorbar\": {\"outlinewidth\": 0, \"ticks\": \"\"}}, \"type\": \"scattermapbox\"}], \"scatterpolar\": [{\"marker\": {\"colorbar\": {\"outlinewidth\": 0, \"ticks\": \"\"}}, \"type\": \"scatterpolar\"}], \"scatterpolargl\": [{\"marker\": {\"colorbar\": {\"outlinewidth\": 0, \"ticks\": \"\"}}, \"type\": \"scatterpolargl\"}], \"scatterternary\": [{\"marker\": {\"colorbar\": {\"outlinewidth\": 0, \"ticks\": \"\"}}, \"type\": \"scatterternary\"}], \"surface\": [{\"colorbar\": {\"outlinewidth\": 0, \"ticks\": \"\"}, \"colorscale\": [[0.0, \"#0d0887\"], [0.1111111111111111, \"#46039f\"], [0.2222222222222222, \"#7201a8\"], [0.3333333333333333, \"#9c179e\"], [0.4444444444444444, \"#bd3786\"], [0.5555555555555556, \"#d8576b\"], [0.6666666666666666, \"#ed7953\"], [0.7777777777777778, \"#fb9f3a\"], [0.8888888888888888, \"#fdca26\"], [1.0, \"#f0f921\"]], \"type\": \"surface\"}], \"table\": [{\"cells\": {\"fill\": {\"color\": \"#EBF0F8\"}, \"line\": {\"color\": \"white\"}}, \"header\": {\"fill\": {\"color\": \"#C8D4E3\"}, \"line\": {\"color\": \"white\"}}, \"type\": \"table\"}]}, \"layout\": {\"annotationdefaults\": {\"arrowcolor\": \"#2a3f5f\", \"arrowhead\": 0, \"arrowwidth\": 1}, \"coloraxis\": {\"colorbar\": {\"outlinewidth\": 0, \"ticks\": \"\"}}, \"colorscale\": {\"diverging\": [[0, \"#8e0152\"], [0.1, \"#c51b7d\"], [0.2, \"#de77ae\"], [0.3, \"#f1b6da\"], [0.4, \"#fde0ef\"], [0.5, \"#f7f7f7\"], [0.6, \"#e6f5d0\"], [0.7, \"#b8e186\"], [0.8, \"#7fbc41\"], [0.9, \"#4d9221\"], [1, \"#276419\"]], \"sequential\": [[0.0, \"#0d0887\"], [0.1111111111111111, \"#46039f\"], [0.2222222222222222, \"#7201a8\"], [0.3333333333333333, \"#9c179e\"], [0.4444444444444444, \"#bd3786\"], [0.5555555555555556, \"#d8576b\"], [0.6666666666666666, \"#ed7953\"], [0.7777777777777778, \"#fb9f3a\"], [0.8888888888888888, \"#fdca26\"], [1.0, \"#f0f921\"]], \"sequentialminus\": [[0.0, \"#0d0887\"], [0.1111111111111111, \"#46039f\"], [0.2222222222222222, \"#7201a8\"], [0.3333333333333333, \"#9c179e\"], [0.4444444444444444, \"#bd3786\"], [0.5555555555555556, \"#d8576b\"], [0.6666666666666666, \"#ed7953\"], [0.7777777777777778, \"#fb9f3a\"], [0.8888888888888888, \"#fdca26\"], [1.0, \"#f0f921\"]]}, \"colorway\": [\"#636efa\", \"#EF553B\", \"#00cc96\", \"#ab63fa\", \"#FFA15A\", \"#19d3f3\", \"#FF6692\", \"#B6E880\", \"#FF97FF\", \"#FECB52\"], \"font\": {\"color\": \"#2a3f5f\"}, \"geo\": {\"bgcolor\": \"white\", \"lakecolor\": \"white\", \"landcolor\": \"#E5ECF6\", \"showlakes\": true, \"showland\": true, \"subunitcolor\": \"white\"}, \"hoverlabel\": {\"align\": \"left\"}, \"hovermode\": \"closest\", \"mapbox\": {\"style\": \"light\"}, \"paper_bgcolor\": \"white\", \"plot_bgcolor\": \"#E5ECF6\", \"polar\": {\"angularaxis\": {\"gridcolor\": \"white\", \"linecolor\": \"white\", \"ticks\": \"\"}, \"bgcolor\": \"#E5ECF6\", \"radialaxis\": {\"gridcolor\": \"white\", \"linecolor\": \"white\", \"ticks\": \"\"}}, \"scene\": {\"xaxis\": {\"backgroundcolor\": \"#E5ECF6\", \"gridcolor\": \"white\", \"gridwidth\": 2, \"linecolor\": \"white\", \"showbackground\": true, \"ticks\": \"\", \"zerolinecolor\": \"white\"}, \"yaxis\": {\"backgroundcolor\": \"#E5ECF6\", \"gridcolor\": \"white\", \"gridwidth\": 2, \"linecolor\": \"white\", \"showbackground\": true, \"ticks\": \"\", \"zerolinecolor\": \"white\"}, \"zaxis\": {\"backgroundcolor\": \"#E5ECF6\", \"gridcolor\": \"white\", \"gridwidth\": 2, \"linecolor\": \"white\", \"showbackground\": true, \"ticks\": \"\", \"zerolinecolor\": \"white\"}}, \"shapedefaults\": {\"line\": {\"color\": \"#2a3f5f\"}}, \"ternary\": {\"aaxis\": {\"gridcolor\": \"white\", \"linecolor\": \"white\", \"ticks\": \"\"}, \"baxis\": {\"gridcolor\": \"white\", \"linecolor\": \"white\", \"ticks\": \"\"}, \"bgcolor\": \"#E5ECF6\", \"caxis\": {\"gridcolor\": \"white\", \"linecolor\": \"white\", \"ticks\": \"\"}}, \"title\": {\"x\": 0.05}, \"xaxis\": {\"automargin\": true, \"gridcolor\": \"white\", \"linecolor\": \"white\", \"ticks\": \"\", \"title\": {\"standoff\": 15}, \"zerolinecolor\": \"white\", \"zerolinewidth\": 2}, \"yaxis\": {\"automargin\": true, \"gridcolor\": \"white\", \"linecolor\": \"white\", \"ticks\": \"\", \"title\": {\"standoff\": 15}, \"zerolinecolor\": \"white\", \"zerolinewidth\": 2}}}, \"title\": {\"font\": {\"color\": \"#4D5663\"}}, \"xaxis\": {\"anchor\": \"y\", \"domain\": [0.0, 0.2125], \"gridcolor\": \"#E1E5ED\", \"showgrid\": false, \"tickfont\": {\"color\": \"#4D5663\"}, \"title\": {\"font\": {\"color\": \"#4D5663\"}, \"text\": \"\"}, \"zerolinecolor\": \"#E1E5ED\"}, \"xaxis10\": {\"anchor\": \"y10\", \"domain\": [0.2625, 0.475], \"gridcolor\": \"#E1E5ED\", \"showgrid\": false, \"tickfont\": {\"color\": \"#4D5663\"}, \"title\": {\"font\": {\"color\": \"#4D5663\"}, \"text\": \"\"}, \"zerolinecolor\": \"#E1E5ED\"}, \"xaxis11\": {\"anchor\": \"y11\", \"domain\": [0.525, 0.7375], \"gridcolor\": \"#E1E5ED\", \"showgrid\": false, \"tickfont\": {\"color\": \"#4D5663\"}, \"title\": {\"font\": {\"color\": \"#4D5663\"}, \"text\": \"\"}, \"zerolinecolor\": \"#E1E5ED\"}, \"xaxis12\": {\"anchor\": \"y12\", \"domain\": [0.7875, 1.0], \"gridcolor\": \"#E1E5ED\", \"showgrid\": false, \"tickfont\": {\"color\": \"#4D5663\"}, \"title\": {\"font\": {\"color\": \"#4D5663\"}, \"text\": \"\"}, \"zerolinecolor\": \"#E1E5ED\"}, \"xaxis13\": {\"anchor\": \"y13\", \"domain\": [0.0, 0.2125], \"gridcolor\": \"#E1E5ED\", \"showgrid\": false, \"tickfont\": {\"color\": \"#4D5663\"}, \"title\": {\"font\": {\"color\": \"#4D5663\"}, \"text\": \"\"}, \"zerolinecolor\": \"#E1E5ED\"}, \"xaxis14\": {\"anchor\": \"y14\", \"domain\": [0.2625, 0.475], \"gridcolor\": \"#E1E5ED\", \"showgrid\": false, \"tickfont\": {\"color\": \"#4D5663\"}, \"title\": {\"font\": {\"color\": \"#4D5663\"}, \"text\": \"\"}, \"zerolinecolor\": \"#E1E5ED\"}, \"xaxis15\": {\"anchor\": \"y15\", \"domain\": [0.525, 0.7375], \"gridcolor\": \"#E1E5ED\", \"showgrid\": false, \"tickfont\": {\"color\": \"#4D5663\"}, \"title\": {\"font\": {\"color\": \"#4D5663\"}, \"text\": \"\"}, \"zerolinecolor\": \"#E1E5ED\"}, \"xaxis16\": {\"anchor\": \"y16\", \"domain\": [0.7875, 1.0], \"gridcolor\": \"#E1E5ED\", \"showgrid\": false, \"tickfont\": {\"color\": \"#4D5663\"}, \"title\": {\"font\": {\"color\": \"#4D5663\"}, \"text\": \"\"}, \"zerolinecolor\": \"#E1E5ED\"}, \"xaxis2\": {\"anchor\": \"y2\", \"domain\": [0.2625, 0.475], \"gridcolor\": \"#E1E5ED\", \"showgrid\": false, \"tickfont\": {\"color\": \"#4D5663\"}, \"title\": {\"font\": {\"color\": \"#4D5663\"}, \"text\": \"\"}, \"zerolinecolor\": \"#E1E5ED\"}, \"xaxis3\": {\"anchor\": \"y3\", \"domain\": [0.525, 0.7375], \"gridcolor\": \"#E1E5ED\", \"showgrid\": false, \"tickfont\": {\"color\": \"#4D5663\"}, \"title\": {\"font\": {\"color\": \"#4D5663\"}, \"text\": \"\"}, \"zerolinecolor\": \"#E1E5ED\"}, \"xaxis4\": {\"anchor\": \"y4\", \"domain\": [0.7875, 1.0], \"gridcolor\": \"#E1E5ED\", \"showgrid\": false, \"tickfont\": {\"color\": \"#4D5663\"}, \"title\": {\"font\": {\"color\": \"#4D5663\"}, \"text\": \"\"}, \"zerolinecolor\": \"#E1E5ED\"}, \"xaxis5\": {\"anchor\": \"y5\", \"domain\": [0.0, 0.2125], \"gridcolor\": \"#E1E5ED\", \"showgrid\": false, \"tickfont\": {\"color\": \"#4D5663\"}, \"title\": {\"font\": {\"color\": \"#4D5663\"}, \"text\": \"\"}, \"zerolinecolor\": \"#E1E5ED\"}, \"xaxis6\": {\"anchor\": \"y6\", \"domain\": [0.2625, 0.475], \"gridcolor\": \"#E1E5ED\", \"showgrid\": false, \"tickfont\": {\"color\": \"#4D5663\"}, \"title\": {\"font\": {\"color\": \"#4D5663\"}, \"text\": \"\"}, \"zerolinecolor\": \"#E1E5ED\"}, \"xaxis7\": {\"anchor\": \"y7\", \"domain\": [0.525, 0.7375], \"gridcolor\": \"#E1E5ED\", \"showgrid\": false, \"tickfont\": {\"color\": \"#4D5663\"}, \"title\": {\"font\": {\"color\": \"#4D5663\"}, \"text\": \"\"}, \"zerolinecolor\": \"#E1E5ED\"}, \"xaxis8\": {\"anchor\": \"y8\", \"domain\": [0.7875, 1.0], \"gridcolor\": \"#E1E5ED\", \"showgrid\": false, \"tickfont\": {\"color\": \"#4D5663\"}, \"title\": {\"font\": {\"color\": \"#4D5663\"}, \"text\": \"\"}, \"zerolinecolor\": \"#E1E5ED\"}, \"xaxis9\": {\"anchor\": \"y9\", \"domain\": [0.0, 0.2125], \"gridcolor\": \"#E1E5ED\", \"showgrid\": false, \"tickfont\": {\"color\": \"#4D5663\"}, \"title\": {\"font\": {\"color\": \"#4D5663\"}, \"text\": \"\"}, \"zerolinecolor\": \"#E1E5ED\"}, \"yaxis\": {\"anchor\": \"x\", \"domain\": [0.8025, 1.0], \"gridcolor\": \"#E1E5ED\", \"showgrid\": false, \"tickfont\": {\"color\": \"#4D5663\"}, \"title\": {\"font\": {\"color\": \"#4D5663\"}, \"text\": \"\"}, \"zerolinecolor\": \"#E1E5ED\"}, \"yaxis10\": {\"anchor\": \"x10\", \"domain\": [0.2675, 0.465], \"gridcolor\": \"#E1E5ED\", \"showgrid\": false, \"tickfont\": {\"color\": \"#4D5663\"}, \"title\": {\"font\": {\"color\": \"#4D5663\"}, \"text\": \"\"}, \"zerolinecolor\": \"#E1E5ED\"}, \"yaxis11\": {\"anchor\": \"x11\", \"domain\": [0.2675, 0.465], \"gridcolor\": \"#E1E5ED\", \"showgrid\": false, \"tickfont\": {\"color\": \"#4D5663\"}, \"title\": {\"font\": {\"color\": \"#4D5663\"}, \"text\": \"\"}, \"zerolinecolor\": \"#E1E5ED\"}, \"yaxis12\": {\"anchor\": \"x12\", \"domain\": [0.2675, 0.465], \"gridcolor\": \"#E1E5ED\", \"showgrid\": false, \"tickfont\": {\"color\": \"#4D5663\"}, \"title\": {\"font\": {\"color\": \"#4D5663\"}, \"text\": \"\"}, \"zerolinecolor\": \"#E1E5ED\"}, \"yaxis13\": {\"anchor\": \"x13\", \"domain\": [0.0, 0.1975], \"gridcolor\": \"#E1E5ED\", \"showgrid\": false, \"tickfont\": {\"color\": \"#4D5663\"}, \"title\": {\"font\": {\"color\": \"#4D5663\"}, \"text\": \"\"}, \"zerolinecolor\": \"#E1E5ED\"}, \"yaxis14\": {\"anchor\": \"x14\", \"domain\": [0.0, 0.1975], \"gridcolor\": \"#E1E5ED\", \"showgrid\": false, \"tickfont\": {\"color\": \"#4D5663\"}, \"title\": {\"font\": {\"color\": \"#4D5663\"}, \"text\": \"\"}, \"zerolinecolor\": \"#E1E5ED\"}, \"yaxis15\": {\"anchor\": \"x15\", \"domain\": [0.0, 0.1975], \"gridcolor\": \"#E1E5ED\", \"showgrid\": false, \"tickfont\": {\"color\": \"#4D5663\"}, \"title\": {\"font\": {\"color\": \"#4D5663\"}, \"text\": \"\"}, \"zerolinecolor\": \"#E1E5ED\"}, \"yaxis16\": {\"anchor\": \"x16\", \"domain\": [0.0, 0.1975], \"gridcolor\": \"#E1E5ED\", \"showgrid\": false, \"tickfont\": {\"color\": \"#4D5663\"}, \"title\": {\"font\": {\"color\": \"#4D5663\"}, \"text\": \"\"}, \"zerolinecolor\": \"#E1E5ED\"}, \"yaxis2\": {\"anchor\": \"x2\", \"domain\": [0.8025, 1.0], \"gridcolor\": \"#E1E5ED\", \"showgrid\": false, \"tickfont\": {\"color\": \"#4D5663\"}, \"title\": {\"font\": {\"color\": \"#4D5663\"}, \"text\": \"\"}, \"zerolinecolor\": \"#E1E5ED\"}, \"yaxis3\": {\"anchor\": \"x3\", \"domain\": [0.8025, 1.0], \"gridcolor\": \"#E1E5ED\", \"showgrid\": false, \"tickfont\": {\"color\": \"#4D5663\"}, \"title\": {\"font\": {\"color\": \"#4D5663\"}, \"text\": \"\"}, \"zerolinecolor\": \"#E1E5ED\"}, \"yaxis4\": {\"anchor\": \"x4\", \"domain\": [0.8025, 1.0], \"gridcolor\": \"#E1E5ED\", \"showgrid\": false, \"tickfont\": {\"color\": \"#4D5663\"}, \"title\": {\"font\": {\"color\": \"#4D5663\"}, \"text\": \"\"}, \"zerolinecolor\": \"#E1E5ED\"}, \"yaxis5\": {\"anchor\": \"x5\", \"domain\": [0.535, 0.7325], \"gridcolor\": \"#E1E5ED\", \"showgrid\": false, \"tickfont\": {\"color\": \"#4D5663\"}, \"title\": {\"font\": {\"color\": \"#4D5663\"}, \"text\": \"\"}, \"zerolinecolor\": \"#E1E5ED\"}, \"yaxis6\": {\"anchor\": \"x6\", \"domain\": [0.535, 0.7325], \"gridcolor\": \"#E1E5ED\", \"showgrid\": false, \"tickfont\": {\"color\": \"#4D5663\"}, \"title\": {\"font\": {\"color\": \"#4D5663\"}, \"text\": \"\"}, \"zerolinecolor\": \"#E1E5ED\"}, \"yaxis7\": {\"anchor\": \"x7\", \"domain\": [0.535, 0.7325], \"gridcolor\": \"#E1E5ED\", \"showgrid\": false, \"tickfont\": {\"color\": \"#4D5663\"}, \"title\": {\"font\": {\"color\": \"#4D5663\"}, \"text\": \"\"}, \"zerolinecolor\": \"#E1E5ED\"}, \"yaxis8\": {\"anchor\": \"x8\", \"domain\": [0.535, 0.7325], \"gridcolor\": \"#E1E5ED\", \"showgrid\": false, \"tickfont\": {\"color\": \"#4D5663\"}, \"title\": {\"font\": {\"color\": \"#4D5663\"}, \"text\": \"\"}, \"zerolinecolor\": \"#E1E5ED\"}, \"yaxis9\": {\"anchor\": \"x9\", \"domain\": [0.2675, 0.465], \"gridcolor\": \"#E1E5ED\", \"showgrid\": false, \"tickfont\": {\"color\": \"#4D5663\"}, \"title\": {\"font\": {\"color\": \"#4D5663\"}, \"text\": \"\"}, \"zerolinecolor\": \"#E1E5ED\"}},\n",
       "                        {\"showLink\": true, \"linkText\": \"Export to plot.ly\", \"plotlyServerURL\": \"https://plot.ly\", \"responsive\": true}\n",
       "                    ).then(function(){\n",
       "                            \n",
       "var gd = document.getElementById('9673ed32-ab7b-44a1-bf11-c077d89a8d54');\n",
       "var x = new MutationObserver(function (mutations, observer) {{\n",
       "        var display = window.getComputedStyle(gd).display;\n",
       "        if (!display || display === 'none') {{\n",
       "            console.log([gd, 'removed!']);\n",
       "            Plotly.purge(gd);\n",
       "            observer.disconnect();\n",
       "        }}\n",
       "}});\n",
       "\n",
       "// Listen for the removal of the full notebook cells\n",
       "var notebookContainer = gd.closest('#notebook-container');\n",
       "if (notebookContainer) {{\n",
       "    x.observe(notebookContainer, {childList: true});\n",
       "}}\n",
       "\n",
       "// Listen for the clearing of the current output cell\n",
       "var outputEl = gd.closest('.output');\n",
       "if (outputEl) {{\n",
       "    x.observe(outputEl, {childList: true});\n",
       "}}\n",
       "\n",
       "                        })\n",
       "                };\n",
       "                });\n",
       "            </script>\n",
       "        </div>"
      ]
     },
     "metadata": {},
     "output_type": "display_data"
    }
   ],
   "source": [
    "#labels = [dadosdia.data]\n",
    "#values = [dadosdia.casos]\n",
    "#fig = go.Figure(data=[go.Pie(labels=labels, values=values, textinfo='label+percent')])\n",
    "#fig.show()\n",
    "dadosdia.scatter_matrix()"
   ]
  },
  {
   "cell_type": "code",
   "execution_count": 60,
   "metadata": {},
   "outputs": [
    {
     "data": {
      "application/vnd.plotly.v1+json": {
       "config": {
        "plotlyServerURL": "https://plot.ly"
       },
       "data": [
        {
         "line": {
          "shape": "spline"
         },
         "mode": "markers+lines",
         "name": "São Paulo",
         "type": "scatter",
         "x": [
          "16-mar",
          "17-mar",
          "18-mar",
          "19-mar",
          "20-mar",
          "21-mar",
          "22-mar",
          "23-mar",
          "24-mar",
          "25-mar",
          "26-mar",
          "27-mar",
          "28-mar",
          "29-mar",
          "30-mar",
          "31-mar",
          "1º-abr",
          "2-abr",
          "3-abr"
         ],
         "y": [
          152,
          164,
          240,
          286,
          396,
          459,
          631,
          745,
          810,
          862,
          1052,
          1223,
          1406,
          1451,
          1517,
          2339,
          2981,
          3506,
          4048
         ]
        },
        {
         "line": {
          "shape": "spline"
         },
         "mode": "markers+lines",
         "name": "Rio de Janeiro",
         "type": "scatter",
         "x": [
          "16-mar",
          "17-mar",
          "18-mar",
          "19-mar",
          "20-mar",
          "21-mar",
          "22-mar",
          "23-mar",
          "24-mar",
          "25-mar",
          "26-mar",
          "27-mar",
          "28-mar",
          "29-mar",
          "30-mar",
          "31-mar",
          "1º-abr",
          "2-abr",
          "3-abr"
         ],
         "y": [
          31,
          33,
          63,
          66,
          109,
          119,
          186,
          233,
          305,
          370,
          421,
          493,
          558,
          600,
          657,
          708,
          832,
          992,
          1074
         ]
        },
        {
         "line": {
          "shape": "spline"
         },
         "mode": "markers+lines",
         "name": "Rio Grande do Sul",
         "type": "scatter",
         "x": [
          "16-mar",
          "17-mar",
          "18-mar",
          "19-mar",
          "20-mar",
          "21-mar",
          "22-mar",
          "23-mar",
          "24-mar",
          "25-mar",
          "26-mar",
          "27-mar",
          "28-mar",
          "29-mar",
          "30-mar",
          "31-mar",
          "1º-abr",
          "2-abr",
          "3-abr"
         ],
         "y": [
          6,
          19,
          28,
          37,
          56,
          71,
          77,
          96,
          112,
          162,
          190,
          197,
          200,
          239,
          254,
          305,
          316,
          386,
          410
         ]
        },
        {
         "line": {
          "shape": "spline"
         },
         "mode": "markers+lines",
         "name": "Distrito Federal",
         "type": "scatter",
         "x": [
          "16-mar",
          "17-mar",
          "18-mar",
          "19-mar",
          "20-mar",
          "21-mar",
          "22-mar",
          "23-mar",
          "24-mar",
          "25-mar",
          "26-mar",
          "27-mar",
          "28-mar",
          "29-mar",
          "30-mar",
          "31-mar",
          "1º-abr",
          "2-abr",
          "3-abr"
         ],
         "y": [
          13,
          19,
          36,
          42,
          87,
          112,
          131,
          146,
          177,
          191,
          203,
          242,
          260,
          298,
          312,
          333,
          370,
          377,
          422
         ]
        },
        {
         "mode": "markers+lines",
         "name": "Ceará",
         "type": "scatter",
         "x": [
          "16-mar",
          "17-mar",
          "18-mar",
          "19-mar",
          "20-mar",
          "21-mar",
          "22-mar",
          "23-mar",
          "24-mar",
          "25-mar",
          "26-mar",
          "27-mar",
          "28-mar",
          "29-mar",
          "30-mar",
          "31-mar",
          "1º-abr",
          "2-abr",
          "3-abr"
         ],
         "y": [
          0,
          11,
          20,
          24,
          68,
          84,
          125,
          164,
          185,
          211,
          238,
          282,
          322,
          359,
          382,
          401,
          445,
          563,
          658
         ]
        },
        {
         "mode": "markers+lines",
         "name": "Goiás",
         "type": "scatter",
         "x": [
          "16-mar",
          "17-mar",
          "18-mar",
          "19-mar",
          "20-mar",
          "21-mar",
          "22-mar",
          "23-mar",
          "24-mar",
          "25-mar",
          "26-mar",
          "27-mar",
          "28-mar",
          "29-mar",
          "30-mar",
          "31-mar",
          "1º-abr",
          "2-abr",
          "3-abr"
         ],
         "y": [
          3,
          10,
          12,
          15,
          15,
          18,
          21,
          23,
          29,
          29,
          38,
          49,
          56,
          58,
          60,
          65,
          73,
          73,
          88
         ]
        },
        {
         "mode": "markers+lines",
         "name": "Acre",
         "type": "scatter",
         "x": [
          "16-mar",
          "17-mar",
          "18-mar",
          "19-mar",
          "20-mar",
          "21-mar",
          "22-mar",
          "23-mar",
          "24-mar",
          "25-mar",
          "26-mar",
          "27-mar",
          "28-mar",
          "29-mar",
          "30-mar",
          "31-mar",
          "1º-abr",
          "2-abr",
          "3-abr"
         ],
         "y": [
          0,
          3,
          3,
          3,
          7,
          11,
          11,
          17,
          21,
          23,
          23,
          25,
          25,
          34,
          41,
          42,
          43,
          45,
          46
         ]
        },
        {
         "mode": "markers+lines",
         "name": "Alagoas",
         "type": "scatter",
         "x": [
          "16-mar",
          "17-mar",
          "18-mar",
          "19-mar",
          "20-mar",
          "21-mar",
          "22-mar",
          "23-mar",
          "24-mar",
          "25-mar",
          "26-mar",
          "27-mar",
          "28-mar",
          "29-mar",
          "30-mar",
          "31-mar",
          "1º-abr",
          "2-abr",
          "3-abr"
         ],
         "y": [
          1,
          1,
          1,
          4,
          6,
          7,
          7,
          8,
          10,
          11,
          11,
          12,
          14,
          14,
          17,
          18,
          18,
          18,
          23
         ]
        },
        {
         "mode": "markers+lines",
         "name": "Amazonas",
         "type": "scatter",
         "x": [
          "16-mar",
          "17-mar",
          "18-mar",
          "19-mar",
          "20-mar",
          "21-mar",
          "22-mar",
          "23-mar",
          "24-mar",
          "25-mar",
          "26-mar",
          "27-mar",
          "28-mar",
          "29-mar",
          "30-mar",
          "31-mar",
          "1º-abr",
          "2-abr",
          "3-abr"
         ],
         "y": [
          1,
          1,
          2,
          3,
          7,
          26,
          26,
          32,
          47,
          54,
          67,
          81,
          111,
          140,
          151,
          175,
          200,
          229,
          260
         ]
        },
        {
         "mode": "markers+lines",
         "name": "Amapá",
         "type": "scatter",
         "x": [
          "16-mar",
          "17-mar",
          "18-mar",
          "19-mar",
          "20-mar",
          "21-mar",
          "22-mar",
          "23-mar",
          "24-mar",
          "25-mar",
          "26-mar",
          "27-mar",
          "28-mar",
          "29-mar",
          "30-mar",
          "31-mar",
          "1º-abr",
          "2-abr",
          "3-abr"
         ],
         "y": [
          0,
          0,
          0,
          0,
          1,
          1,
          1,
          1,
          1,
          2,
          2,
          3,
          4,
          4,
          8,
          10,
          11,
          12,
          19
         ]
        },
        {
         "mode": "markers+lines",
         "name": "Bahia",
         "type": "scatter",
         "x": [
          "16-mar",
          "17-mar",
          "18-mar",
          "19-mar",
          "20-mar",
          "21-mar",
          "22-mar",
          "23-mar",
          "24-mar",
          "25-mar",
          "26-mar",
          "27-mar",
          "28-mar",
          "29-mar",
          "30-mar",
          "31-mar",
          "1º-abr",
          "2-abr",
          "3-abr"
         ],
         "y": [
          2,
          16,
          27,
          31,
          34,
          49,
          55,
          63,
          79,
          91,
          108,
          123,
          127,
          156,
          176,
          217,
          246,
          267,
          290
         ]
        },
        {
         "mode": "markers+lines",
         "name": "Espírito Santo",
         "type": "scatter",
         "x": [
          "16-mar",
          "17-mar",
          "18-mar",
          "19-mar",
          "20-mar",
          "21-mar",
          "22-mar",
          "23-mar",
          "24-mar",
          "25-mar",
          "26-mar",
          "27-mar",
          "28-mar",
          "29-mar",
          "30-mar",
          "31-mar",
          "1º-abr",
          "2-abr",
          "3-abr"
         ],
         "y": [
          1,
          8,
          11,
          13,
          16,
          26,
          26,
          33,
          40,
          40,
          48,
          54,
          61,
          72,
          85,
          97,
          120,
          139,
          153
         ]
        },
        {
         "mode": "markers+lines",
         "name": "Maranhão",
         "type": "scatter",
         "x": [
          "16-mar",
          "17-mar",
          "18-mar",
          "19-mar",
          "20-mar",
          "21-mar",
          "22-mar",
          "23-mar",
          "24-mar",
          "25-mar",
          "26-mar",
          "27-mar",
          "28-mar",
          "29-mar",
          "30-mar",
          "31-mar",
          "1º-abr",
          "2-abr",
          "3-abr"
         ],
         "y": [
          0,
          0,
          0,
          0,
          0,
          2,
          2,
          8,
          8,
          8,
          10,
          14,
          14,
          22,
          31,
          52,
          71,
          81,
          88
         ]
        },
        {
         "mode": "markers+lines",
         "name": "Mato Grosso",
         "type": "scatter",
         "x": [
          "16-mar",
          "17-mar",
          "18-mar",
          "19-mar",
          "20-mar",
          "21-mar",
          "22-mar",
          "23-mar",
          "24-mar",
          "25-mar",
          "26-mar",
          "27-mar",
          "28-mar",
          "29-mar",
          "30-mar",
          "31-mar",
          "1º-abr",
          "2-abr",
          "3-abr"
         ],
         "y": [
          0,
          0,
          0,
          0,
          1,
          2,
          2,
          6,
          7,
          9,
          11,
          11,
          11,
          11,
          18,
          25,
          28,
          41,
          44
         ]
        },
        {
         "mode": "markers+lines",
         "name": "Mato Grosso do Sul",
         "type": "scatter",
         "x": [
          "16-mar",
          "17-mar",
          "18-mar",
          "19-mar",
          "20-mar",
          "21-mar",
          "22-mar",
          "23-mar",
          "24-mar",
          "25-mar",
          "26-mar",
          "27-mar",
          "28-mar",
          "29-mar",
          "30-mar",
          "31-mar",
          "1º-abr",
          "2-abr",
          "3-abr"
         ],
         "y": [
          2,
          6,
          7,
          9,
          12,
          16,
          21,
          21,
          24,
          24,
          25,
          28,
          31,
          36,
          44,
          48,
          51,
          53,
          60
         ]
        },
        {
         "mode": "markers+lines",
         "name": "Minas Gerais",
         "type": "scatter",
         "x": [
          "16-mar",
          "17-mar",
          "18-mar",
          "19-mar",
          "20-mar",
          "21-mar",
          "22-mar",
          "23-mar",
          "24-mar",
          "25-mar",
          "26-mar",
          "27-mar",
          "28-mar",
          "29-mar",
          "30-mar",
          "31-mar",
          "1º-abr",
          "2-abr",
          "3-abr"
         ],
         "y": [
          5,
          14,
          19,
          29,
          38,
          55,
          83,
          128,
          130,
          133,
          153,
          189,
          205,
          231,
          261,
          275,
          314,
          370,
          397
         ]
        },
        {
         "mode": "markers+lines",
         "name": "Pará",
         "type": "scatter",
         "x": [
          "16-mar",
          "17-mar",
          "18-mar",
          "19-mar",
          "20-mar",
          "21-mar",
          "22-mar",
          "23-mar",
          "24-mar",
          "25-mar",
          "26-mar",
          "27-mar",
          "28-mar",
          "29-mar",
          "30-mar",
          "31-mar",
          "1º-abr",
          "2-abr",
          "3-abr"
         ],
         "y": [
          0,
          0,
          1,
          1,
          2,
          4,
          4,
          5,
          5,
          7,
          13,
          16,
          17,
          20,
          26,
          34,
          40,
          49,
          75
         ]
        },
        {
         "mode": "markers+lines",
         "name": "Paraíba",
         "type": "scatter",
         "x": [
          "16-mar",
          "17-mar",
          "18-mar",
          "19-mar",
          "20-mar",
          "21-mar",
          "22-mar",
          "23-mar",
          "24-mar",
          "25-mar",
          "26-mar",
          "27-mar",
          "28-mar",
          "29-mar",
          "30-mar",
          "31-mar",
          "1º-abr",
          "2-abr",
          "3-abr"
         ],
         "y": [
          0,
          0,
          1,
          1,
          1,
          1,
          1,
          2,
          3,
          5,
          6,
          10,
          14,
          14,
          17,
          19,
          21,
          29,
          32
         ]
        },
        {
         "mode": "markers+lines",
         "name": "Paraná",
         "type": "scatter",
         "x": [
          "16-mar",
          "17-mar",
          "18-mar",
          "19-mar",
          "20-mar",
          "21-mar",
          "22-mar",
          "23-mar",
          "24-mar",
          "25-mar",
          "26-mar",
          "27-mar",
          "28-mar",
          "29-mar",
          "30-mar",
          "31-mar",
          "1º-abr",
          "2-abr",
          "3-abr"
         ],
         "y": [
          6,
          12,
          14,
          23,
          36,
          43,
          54,
          60,
          70,
          97,
          106,
          125,
          137,
          152,
          160,
          185,
          229,
          258,
          307
         ]
        },
        {
         "mode": "markers+lines",
         "name": "Pernambuco",
         "type": "scatter",
         "x": [
          "16-mar",
          "17-mar",
          "18-mar",
          "19-mar",
          "20-mar",
          "21-mar",
          "22-mar",
          "23-mar",
          "24-mar",
          "25-mar",
          "26-mar",
          "27-mar",
          "28-mar",
          "29-mar",
          "30-mar",
          "31-mar",
          "1º-abr",
          "2-abr",
          "3-abr"
         ],
         "y": [
          2,
          19,
          22,
          28,
          31,
          33,
          37,
          42,
          42,
          46,
          48,
          57,
          68,
          73,
          77,
          87,
          95,
          106,
          136
         ]
        },
        {
         "mode": "markers+lines",
         "name": "Piauí",
         "type": "scatter",
         "x": [
          "16-mar",
          "17-mar",
          "18-mar",
          "19-mar",
          "20-mar",
          "21-mar",
          "22-mar",
          "23-mar",
          "24-mar",
          "25-mar",
          "26-mar",
          "27-mar",
          "28-mar",
          "29-mar",
          "30-mar",
          "31-mar",
          "1º-abr",
          "2-abr",
          "3-abr"
         ],
         "y": [
          0,
          0,
          0,
          3,
          4,
          4,
          6,
          6,
          8,
          8,
          9,
          9,
          11,
          16,
          18,
          18,
          19,
          19,
          22
         ]
        },
        {
         "mode": "markers+lines",
         "name": "Rio Grande do Norte",
         "type": "scatter",
         "x": [
          "16-mar",
          "17-mar",
          "18-mar",
          "19-mar",
          "20-mar",
          "21-mar",
          "22-mar",
          "23-mar",
          "24-mar",
          "25-mar",
          "26-mar",
          "27-mar",
          "28-mar",
          "29-mar",
          "30-mar",
          "31-mar",
          "1º-abr",
          "2-abr",
          "3-abr"
         ],
         "y": [
          1,
          1,
          1,
          1,
          1,
          9,
          9,
          13,
          14,
          14,
          19,
          28,
          45,
          68,
          77,
          82,
          92,
          106,
          176
         ]
        },
        {
         "mode": "markers+lines",
         "name": "Rondônia",
         "type": "scatter",
         "x": [
          "16-mar",
          "17-mar",
          "18-mar",
          "19-mar",
          "20-mar",
          "21-mar",
          "22-mar",
          "23-mar",
          "24-mar",
          "25-mar",
          "26-mar",
          "27-mar",
          "28-mar",
          "29-mar",
          "30-mar",
          "31-mar",
          "1º-abr",
          "2-abr",
          "3-abr"
         ],
         "y": [
          0,
          0,
          0,
          0,
          1,
          3,
          3,
          3,
          5,
          5,
          6,
          6,
          6,
          6,
          8,
          9,
          9,
          10,
          10
         ]
        },
        {
         "mode": "markers+lines",
         "name": "Roraima",
         "type": "scatter",
         "x": [
          "16-mar",
          "17-mar",
          "18-mar",
          "19-mar",
          "20-mar",
          "21-mar",
          "22-mar",
          "23-mar",
          "24-mar",
          "25-mar",
          "26-mar",
          "27-mar",
          "28-mar",
          "29-mar",
          "30-mar",
          "31-mar",
          "1º-abr",
          "2-abr",
          "3-abr"
         ],
         "y": [
          0,
          0,
          0,
          0,
          0,
          2,
          2,
          2,
          8,
          8,
          8,
          12,
          16,
          16,
          16,
          22,
          26,
          30,
          37
         ]
        },
        {
         "mode": "markers+lines",
         "name": "Santa Catarina",
         "type": "scatter",
         "x": [
          "16-mar",
          "17-mar",
          "18-mar",
          "19-mar",
          "20-mar",
          "21-mar",
          "22-mar",
          "23-mar",
          "24-mar",
          "25-mar",
          "26-mar",
          "27-mar",
          "28-mar",
          "29-mar",
          "30-mar",
          "31-mar",
          "1º-abr",
          "2-abr",
          "3-abr"
         ],
         "y": [
          7,
          7,
          14,
          21,
          40,
          57,
          68,
          86,
          109,
          122,
          149,
          163,
          184,
          197,
          219,
          235,
          247,
          281,
          301
         ]
        },
        {
         "mode": "markers+lines",
         "name": "Sergipe",
         "type": "scatter",
         "x": [
          "16-mar",
          "17-mar",
          "18-mar",
          "19-mar",
          "20-mar",
          "21-mar",
          "22-mar",
          "23-mar",
          "24-mar",
          "25-mar",
          "26-mar",
          "27-mar",
          "28-mar",
          "29-mar",
          "30-mar",
          "31-mar",
          "1º-abr",
          "2-abr",
          "3-abr"
         ],
         "y": [
          1,
          5,
          6,
          6,
          7,
          10,
          10,
          10,
          15,
          16,
          16,
          16,
          16,
          16,
          18,
          20,
          22,
          24,
          27
         ]
        },
        {
         "mode": "markers+lines",
         "name": "Tocantins",
         "type": "scatter",
         "x": [
          "16-mar",
          "17-mar",
          "18-mar",
          "19-mar",
          "20-mar",
          "21-mar",
          "22-mar",
          "23-mar",
          "24-mar",
          "25-mar",
          "26-mar",
          "27-mar",
          "28-mar",
          "29-mar",
          "30-mar",
          "31-mar",
          "1º-abr",
          "2-abr",
          "3-abr"
         ],
         "y": [
          0,
          0,
          1,
          1,
          1,
          2,
          5,
          7,
          7,
          7,
          8,
          9,
          9,
          10,
          11,
          12,
          12,
          12,
          13
         ]
        }
       ],
       "layout": {
        "direction": "clockwise",
        "legend": {
         "title": {
          "text": "<b> Estados/DF </b>"
         }
        },
        "showlegend": true,
        "template": {
         "data": {
          "bar": [
           {
            "error_x": {
             "color": "#2a3f5f"
            },
            "error_y": {
             "color": "#2a3f5f"
            },
            "marker": {
             "line": {
              "color": "white",
              "width": 0.5
             }
            },
            "type": "bar"
           }
          ],
          "barpolar": [
           {
            "marker": {
             "line": {
              "color": "white",
              "width": 0.5
             }
            },
            "type": "barpolar"
           }
          ],
          "carpet": [
           {
            "aaxis": {
             "endlinecolor": "#2a3f5f",
             "gridcolor": "#C8D4E3",
             "linecolor": "#C8D4E3",
             "minorgridcolor": "#C8D4E3",
             "startlinecolor": "#2a3f5f"
            },
            "baxis": {
             "endlinecolor": "#2a3f5f",
             "gridcolor": "#C8D4E3",
             "linecolor": "#C8D4E3",
             "minorgridcolor": "#C8D4E3",
             "startlinecolor": "#2a3f5f"
            },
            "type": "carpet"
           }
          ],
          "choropleth": [
           {
            "colorbar": {
             "outlinewidth": 0,
             "ticks": ""
            },
            "type": "choropleth"
           }
          ],
          "contour": [
           {
            "colorbar": {
             "outlinewidth": 0,
             "ticks": ""
            },
            "colorscale": [
             [
              0,
              "#0d0887"
             ],
             [
              0.1111111111111111,
              "#46039f"
             ],
             [
              0.2222222222222222,
              "#7201a8"
             ],
             [
              0.3333333333333333,
              "#9c179e"
             ],
             [
              0.4444444444444444,
              "#bd3786"
             ],
             [
              0.5555555555555556,
              "#d8576b"
             ],
             [
              0.6666666666666666,
              "#ed7953"
             ],
             [
              0.7777777777777778,
              "#fb9f3a"
             ],
             [
              0.8888888888888888,
              "#fdca26"
             ],
             [
              1,
              "#f0f921"
             ]
            ],
            "type": "contour"
           }
          ],
          "contourcarpet": [
           {
            "colorbar": {
             "outlinewidth": 0,
             "ticks": ""
            },
            "type": "contourcarpet"
           }
          ],
          "heatmap": [
           {
            "colorbar": {
             "outlinewidth": 0,
             "ticks": ""
            },
            "colorscale": [
             [
              0,
              "#0d0887"
             ],
             [
              0.1111111111111111,
              "#46039f"
             ],
             [
              0.2222222222222222,
              "#7201a8"
             ],
             [
              0.3333333333333333,
              "#9c179e"
             ],
             [
              0.4444444444444444,
              "#bd3786"
             ],
             [
              0.5555555555555556,
              "#d8576b"
             ],
             [
              0.6666666666666666,
              "#ed7953"
             ],
             [
              0.7777777777777778,
              "#fb9f3a"
             ],
             [
              0.8888888888888888,
              "#fdca26"
             ],
             [
              1,
              "#f0f921"
             ]
            ],
            "type": "heatmap"
           }
          ],
          "heatmapgl": [
           {
            "colorbar": {
             "outlinewidth": 0,
             "ticks": ""
            },
            "colorscale": [
             [
              0,
              "#0d0887"
             ],
             [
              0.1111111111111111,
              "#46039f"
             ],
             [
              0.2222222222222222,
              "#7201a8"
             ],
             [
              0.3333333333333333,
              "#9c179e"
             ],
             [
              0.4444444444444444,
              "#bd3786"
             ],
             [
              0.5555555555555556,
              "#d8576b"
             ],
             [
              0.6666666666666666,
              "#ed7953"
             ],
             [
              0.7777777777777778,
              "#fb9f3a"
             ],
             [
              0.8888888888888888,
              "#fdca26"
             ],
             [
              1,
              "#f0f921"
             ]
            ],
            "type": "heatmapgl"
           }
          ],
          "histogram": [
           {
            "marker": {
             "colorbar": {
              "outlinewidth": 0,
              "ticks": ""
             }
            },
            "type": "histogram"
           }
          ],
          "histogram2d": [
           {
            "colorbar": {
             "outlinewidth": 0,
             "ticks": ""
            },
            "colorscale": [
             [
              0,
              "#0d0887"
             ],
             [
              0.1111111111111111,
              "#46039f"
             ],
             [
              0.2222222222222222,
              "#7201a8"
             ],
             [
              0.3333333333333333,
              "#9c179e"
             ],
             [
              0.4444444444444444,
              "#bd3786"
             ],
             [
              0.5555555555555556,
              "#d8576b"
             ],
             [
              0.6666666666666666,
              "#ed7953"
             ],
             [
              0.7777777777777778,
              "#fb9f3a"
             ],
             [
              0.8888888888888888,
              "#fdca26"
             ],
             [
              1,
              "#f0f921"
             ]
            ],
            "type": "histogram2d"
           }
          ],
          "histogram2dcontour": [
           {
            "colorbar": {
             "outlinewidth": 0,
             "ticks": ""
            },
            "colorscale": [
             [
              0,
              "#0d0887"
             ],
             [
              0.1111111111111111,
              "#46039f"
             ],
             [
              0.2222222222222222,
              "#7201a8"
             ],
             [
              0.3333333333333333,
              "#9c179e"
             ],
             [
              0.4444444444444444,
              "#bd3786"
             ],
             [
              0.5555555555555556,
              "#d8576b"
             ],
             [
              0.6666666666666666,
              "#ed7953"
             ],
             [
              0.7777777777777778,
              "#fb9f3a"
             ],
             [
              0.8888888888888888,
              "#fdca26"
             ],
             [
              1,
              "#f0f921"
             ]
            ],
            "type": "histogram2dcontour"
           }
          ],
          "mesh3d": [
           {
            "colorbar": {
             "outlinewidth": 0,
             "ticks": ""
            },
            "type": "mesh3d"
           }
          ],
          "parcoords": [
           {
            "line": {
             "colorbar": {
              "outlinewidth": 0,
              "ticks": ""
             }
            },
            "type": "parcoords"
           }
          ],
          "pie": [
           {
            "automargin": true,
            "type": "pie"
           }
          ],
          "scatter": [
           {
            "marker": {
             "colorbar": {
              "outlinewidth": 0,
              "ticks": ""
             }
            },
            "type": "scatter"
           }
          ],
          "scatter3d": [
           {
            "line": {
             "colorbar": {
              "outlinewidth": 0,
              "ticks": ""
             }
            },
            "marker": {
             "colorbar": {
              "outlinewidth": 0,
              "ticks": ""
             }
            },
            "type": "scatter3d"
           }
          ],
          "scattercarpet": [
           {
            "marker": {
             "colorbar": {
              "outlinewidth": 0,
              "ticks": ""
             }
            },
            "type": "scattercarpet"
           }
          ],
          "scattergeo": [
           {
            "marker": {
             "colorbar": {
              "outlinewidth": 0,
              "ticks": ""
             }
            },
            "type": "scattergeo"
           }
          ],
          "scattergl": [
           {
            "marker": {
             "colorbar": {
              "outlinewidth": 0,
              "ticks": ""
             }
            },
            "type": "scattergl"
           }
          ],
          "scattermapbox": [
           {
            "marker": {
             "colorbar": {
              "outlinewidth": 0,
              "ticks": ""
             }
            },
            "type": "scattermapbox"
           }
          ],
          "scatterpolar": [
           {
            "marker": {
             "colorbar": {
              "outlinewidth": 0,
              "ticks": ""
             }
            },
            "type": "scatterpolar"
           }
          ],
          "scatterpolargl": [
           {
            "marker": {
             "colorbar": {
              "outlinewidth": 0,
              "ticks": ""
             }
            },
            "type": "scatterpolargl"
           }
          ],
          "scatterternary": [
           {
            "marker": {
             "colorbar": {
              "outlinewidth": 0,
              "ticks": ""
             }
            },
            "type": "scatterternary"
           }
          ],
          "surface": [
           {
            "colorbar": {
             "outlinewidth": 0,
             "ticks": ""
            },
            "colorscale": [
             [
              0,
              "#0d0887"
             ],
             [
              0.1111111111111111,
              "#46039f"
             ],
             [
              0.2222222222222222,
              "#7201a8"
             ],
             [
              0.3333333333333333,
              "#9c179e"
             ],
             [
              0.4444444444444444,
              "#bd3786"
             ],
             [
              0.5555555555555556,
              "#d8576b"
             ],
             [
              0.6666666666666666,
              "#ed7953"
             ],
             [
              0.7777777777777778,
              "#fb9f3a"
             ],
             [
              0.8888888888888888,
              "#fdca26"
             ],
             [
              1,
              "#f0f921"
             ]
            ],
            "type": "surface"
           }
          ],
          "table": [
           {
            "cells": {
             "fill": {
              "color": "#EBF0F8"
             },
             "line": {
              "color": "white"
             }
            },
            "header": {
             "fill": {
              "color": "#C8D4E3"
             },
             "line": {
              "color": "white"
             }
            },
            "type": "table"
           }
          ]
         },
         "layout": {
          "annotationdefaults": {
           "arrowcolor": "#2a3f5f",
           "arrowhead": 0,
           "arrowwidth": 1
          },
          "coloraxis": {
           "colorbar": {
            "outlinewidth": 0,
            "ticks": ""
           }
          },
          "colorscale": {
           "diverging": [
            [
             0,
             "#8e0152"
            ],
            [
             0.1,
             "#c51b7d"
            ],
            [
             0.2,
             "#de77ae"
            ],
            [
             0.3,
             "#f1b6da"
            ],
            [
             0.4,
             "#fde0ef"
            ],
            [
             0.5,
             "#f7f7f7"
            ],
            [
             0.6,
             "#e6f5d0"
            ],
            [
             0.7,
             "#b8e186"
            ],
            [
             0.8,
             "#7fbc41"
            ],
            [
             0.9,
             "#4d9221"
            ],
            [
             1,
             "#276419"
            ]
           ],
           "sequential": [
            [
             0,
             "#0d0887"
            ],
            [
             0.1111111111111111,
             "#46039f"
            ],
            [
             0.2222222222222222,
             "#7201a8"
            ],
            [
             0.3333333333333333,
             "#9c179e"
            ],
            [
             0.4444444444444444,
             "#bd3786"
            ],
            [
             0.5555555555555556,
             "#d8576b"
            ],
            [
             0.6666666666666666,
             "#ed7953"
            ],
            [
             0.7777777777777778,
             "#fb9f3a"
            ],
            [
             0.8888888888888888,
             "#fdca26"
            ],
            [
             1,
             "#f0f921"
            ]
           ],
           "sequentialminus": [
            [
             0,
             "#0d0887"
            ],
            [
             0.1111111111111111,
             "#46039f"
            ],
            [
             0.2222222222222222,
             "#7201a8"
            ],
            [
             0.3333333333333333,
             "#9c179e"
            ],
            [
             0.4444444444444444,
             "#bd3786"
            ],
            [
             0.5555555555555556,
             "#d8576b"
            ],
            [
             0.6666666666666666,
             "#ed7953"
            ],
            [
             0.7777777777777778,
             "#fb9f3a"
            ],
            [
             0.8888888888888888,
             "#fdca26"
            ],
            [
             1,
             "#f0f921"
            ]
           ]
          },
          "colorway": [
           "#636efa",
           "#EF553B",
           "#00cc96",
           "#ab63fa",
           "#FFA15A",
           "#19d3f3",
           "#FF6692",
           "#B6E880",
           "#FF97FF",
           "#FECB52"
          ],
          "font": {
           "color": "#2a3f5f"
          },
          "geo": {
           "bgcolor": "white",
           "lakecolor": "white",
           "landcolor": "white",
           "showlakes": true,
           "showland": true,
           "subunitcolor": "#C8D4E3"
          },
          "hoverlabel": {
           "align": "left"
          },
          "hovermode": "closest",
          "mapbox": {
           "style": "light"
          },
          "paper_bgcolor": "white",
          "plot_bgcolor": "white",
          "polar": {
           "angularaxis": {
            "gridcolor": "#EBF0F8",
            "linecolor": "#EBF0F8",
            "ticks": ""
           },
           "bgcolor": "white",
           "radialaxis": {
            "gridcolor": "#EBF0F8",
            "linecolor": "#EBF0F8",
            "ticks": ""
           }
          },
          "scene": {
           "xaxis": {
            "backgroundcolor": "white",
            "gridcolor": "#DFE8F3",
            "gridwidth": 2,
            "linecolor": "#EBF0F8",
            "showbackground": true,
            "ticks": "",
            "zerolinecolor": "#EBF0F8"
           },
           "yaxis": {
            "backgroundcolor": "white",
            "gridcolor": "#DFE8F3",
            "gridwidth": 2,
            "linecolor": "#EBF0F8",
            "showbackground": true,
            "ticks": "",
            "zerolinecolor": "#EBF0F8"
           },
           "zaxis": {
            "backgroundcolor": "white",
            "gridcolor": "#DFE8F3",
            "gridwidth": 2,
            "linecolor": "#EBF0F8",
            "showbackground": true,
            "ticks": "",
            "zerolinecolor": "#EBF0F8"
           }
          },
          "shapedefaults": {
           "line": {
            "color": "#2a3f5f"
           }
          },
          "ternary": {
           "aaxis": {
            "gridcolor": "#DFE8F3",
            "linecolor": "#A2B1C6",
            "ticks": ""
           },
           "baxis": {
            "gridcolor": "#DFE8F3",
            "linecolor": "#A2B1C6",
            "ticks": ""
           },
           "bgcolor": "white",
           "caxis": {
            "gridcolor": "#DFE8F3",
            "linecolor": "#A2B1C6",
            "ticks": ""
           }
          },
          "title": {
           "x": 0.05
          },
          "xaxis": {
           "automargin": true,
           "gridcolor": "#EBF0F8",
           "linecolor": "#EBF0F8",
           "ticks": "",
           "title": {
            "standoff": 15
           },
           "zerolinecolor": "#EBF0F8",
           "zerolinewidth": 2
          },
          "yaxis": {
           "automargin": true,
           "gridcolor": "#EBF0F8",
           "linecolor": "#EBF0F8",
           "ticks": "",
           "title": {
            "standoff": 15
           },
           "zerolinecolor": "#EBF0F8",
           "zerolinewidth": 2
          }
         }
        },
        "title": {
         "text": "Casos acumulados por Estado"
        }
       }
      },
      "text/html": [
       "<div>\n",
       "        \n",
       "        \n",
       "            <div id=\"63c45586-9b4a-41f0-b5a5-ed1e97c5c3d6\" class=\"plotly-graph-div\" style=\"height:525px; width:100%;\"></div>\n",
       "            <script type=\"text/javascript\">\n",
       "                require([\"plotly\"], function(Plotly) {\n",
       "                    window.PLOTLYENV=window.PLOTLYENV || {};\n",
       "                    \n",
       "                if (document.getElementById(\"63c45586-9b4a-41f0-b5a5-ed1e97c5c3d6\")) {\n",
       "                    Plotly.newPlot(\n",
       "                        '63c45586-9b4a-41f0-b5a5-ed1e97c5c3d6',\n",
       "                        [{\"line\": {\"shape\": \"spline\"}, \"mode\": \"markers+lines\", \"name\": \"S\\u00e3o Paulo\", \"type\": \"scatter\", \"x\": [\"16-mar\", \"17-mar\", \"18-mar\", \"19-mar\", \"20-mar\", \"21-mar\", \"22-mar\", \"23-mar\", \"24-mar\", \"25-mar\", \"26-mar\", \"27-mar\", \"28-mar\", \"29-mar\", \"30-mar\", \"31-mar\", \"1\\u00ba-abr\", \"2-abr\", \"3-abr\"], \"y\": [152, 164, 240, 286, 396, 459, 631, 745, 810, 862, 1052, 1223, 1406, 1451, 1517, 2339, 2981, 3506, 4048]}, {\"line\": {\"shape\": \"spline\"}, \"mode\": \"markers+lines\", \"name\": \"Rio de Janeiro\", \"type\": \"scatter\", \"x\": [\"16-mar\", \"17-mar\", \"18-mar\", \"19-mar\", \"20-mar\", \"21-mar\", \"22-mar\", \"23-mar\", \"24-mar\", \"25-mar\", \"26-mar\", \"27-mar\", \"28-mar\", \"29-mar\", \"30-mar\", \"31-mar\", \"1\\u00ba-abr\", \"2-abr\", \"3-abr\"], \"y\": [31, 33, 63, 66, 109, 119, 186, 233, 305, 370, 421, 493, 558, 600, 657, 708, 832, 992, 1074]}, {\"line\": {\"shape\": \"spline\"}, \"mode\": \"markers+lines\", \"name\": \"Rio Grande do Sul\", \"type\": \"scatter\", \"x\": [\"16-mar\", \"17-mar\", \"18-mar\", \"19-mar\", \"20-mar\", \"21-mar\", \"22-mar\", \"23-mar\", \"24-mar\", \"25-mar\", \"26-mar\", \"27-mar\", \"28-mar\", \"29-mar\", \"30-mar\", \"31-mar\", \"1\\u00ba-abr\", \"2-abr\", \"3-abr\"], \"y\": [6, 19, 28, 37, 56, 71, 77, 96, 112, 162, 190, 197, 200, 239, 254, 305, 316, 386, 410]}, {\"line\": {\"shape\": \"spline\"}, \"mode\": \"markers+lines\", \"name\": \"Distrito Federal\", \"type\": \"scatter\", \"x\": [\"16-mar\", \"17-mar\", \"18-mar\", \"19-mar\", \"20-mar\", \"21-mar\", \"22-mar\", \"23-mar\", \"24-mar\", \"25-mar\", \"26-mar\", \"27-mar\", \"28-mar\", \"29-mar\", \"30-mar\", \"31-mar\", \"1\\u00ba-abr\", \"2-abr\", \"3-abr\"], \"y\": [13, 19, 36, 42, 87, 112, 131, 146, 177, 191, 203, 242, 260, 298, 312, 333, 370, 377, 422]}, {\"mode\": \"markers+lines\", \"name\": \"Cear\\u00e1\", \"type\": \"scatter\", \"x\": [\"16-mar\", \"17-mar\", \"18-mar\", \"19-mar\", \"20-mar\", \"21-mar\", \"22-mar\", \"23-mar\", \"24-mar\", \"25-mar\", \"26-mar\", \"27-mar\", \"28-mar\", \"29-mar\", \"30-mar\", \"31-mar\", \"1\\u00ba-abr\", \"2-abr\", \"3-abr\"], \"y\": [0, 11, 20, 24, 68, 84, 125, 164, 185, 211, 238, 282, 322, 359, 382, 401, 445, 563, 658]}, {\"mode\": \"markers+lines\", \"name\": \"Goi\\u00e1s\", \"type\": \"scatter\", \"x\": [\"16-mar\", \"17-mar\", \"18-mar\", \"19-mar\", \"20-mar\", \"21-mar\", \"22-mar\", \"23-mar\", \"24-mar\", \"25-mar\", \"26-mar\", \"27-mar\", \"28-mar\", \"29-mar\", \"30-mar\", \"31-mar\", \"1\\u00ba-abr\", \"2-abr\", \"3-abr\"], \"y\": [3, 10, 12, 15, 15, 18, 21, 23, 29, 29, 38, 49, 56, 58, 60, 65, 73, 73, 88]}, {\"mode\": \"markers+lines\", \"name\": \"Acre\", \"type\": \"scatter\", \"x\": [\"16-mar\", \"17-mar\", \"18-mar\", \"19-mar\", \"20-mar\", \"21-mar\", \"22-mar\", \"23-mar\", \"24-mar\", \"25-mar\", \"26-mar\", \"27-mar\", \"28-mar\", \"29-mar\", \"30-mar\", \"31-mar\", \"1\\u00ba-abr\", \"2-abr\", \"3-abr\"], \"y\": [0, 3, 3, 3, 7, 11, 11, 17, 21, 23, 23, 25, 25, 34, 41, 42, 43, 45, 46]}, {\"mode\": \"markers+lines\", \"name\": \"Alagoas\", \"type\": \"scatter\", \"x\": [\"16-mar\", \"17-mar\", \"18-mar\", \"19-mar\", \"20-mar\", \"21-mar\", \"22-mar\", \"23-mar\", \"24-mar\", \"25-mar\", \"26-mar\", \"27-mar\", \"28-mar\", \"29-mar\", \"30-mar\", \"31-mar\", \"1\\u00ba-abr\", \"2-abr\", \"3-abr\"], \"y\": [1, 1, 1, 4, 6, 7, 7, 8, 10, 11, 11, 12, 14, 14, 17, 18, 18, 18, 23]}, {\"mode\": \"markers+lines\", \"name\": \"Amazonas\", \"type\": \"scatter\", \"x\": [\"16-mar\", \"17-mar\", \"18-mar\", \"19-mar\", \"20-mar\", \"21-mar\", \"22-mar\", \"23-mar\", \"24-mar\", \"25-mar\", \"26-mar\", \"27-mar\", \"28-mar\", \"29-mar\", \"30-mar\", \"31-mar\", \"1\\u00ba-abr\", \"2-abr\", \"3-abr\"], \"y\": [1, 1, 2, 3, 7, 26, 26, 32, 47, 54, 67, 81, 111, 140, 151, 175, 200, 229, 260]}, {\"mode\": \"markers+lines\", \"name\": \"Amap\\u00e1\", \"type\": \"scatter\", \"x\": [\"16-mar\", \"17-mar\", \"18-mar\", \"19-mar\", \"20-mar\", \"21-mar\", \"22-mar\", \"23-mar\", \"24-mar\", \"25-mar\", \"26-mar\", \"27-mar\", \"28-mar\", \"29-mar\", \"30-mar\", \"31-mar\", \"1\\u00ba-abr\", \"2-abr\", \"3-abr\"], \"y\": [0, 0, 0, 0, 1, 1, 1, 1, 1, 2, 2, 3, 4, 4, 8, 10, 11, 12, 19]}, {\"mode\": \"markers+lines\", \"name\": \"Bahia\", \"type\": \"scatter\", \"x\": [\"16-mar\", \"17-mar\", \"18-mar\", \"19-mar\", \"20-mar\", \"21-mar\", \"22-mar\", \"23-mar\", \"24-mar\", \"25-mar\", \"26-mar\", \"27-mar\", \"28-mar\", \"29-mar\", \"30-mar\", \"31-mar\", \"1\\u00ba-abr\", \"2-abr\", \"3-abr\"], \"y\": [2, 16, 27, 31, 34, 49, 55, 63, 79, 91, 108, 123, 127, 156, 176, 217, 246, 267, 290]}, {\"mode\": \"markers+lines\", \"name\": \"Esp\\u00edrito Santo\", \"type\": \"scatter\", \"x\": [\"16-mar\", \"17-mar\", \"18-mar\", \"19-mar\", \"20-mar\", \"21-mar\", \"22-mar\", \"23-mar\", \"24-mar\", \"25-mar\", \"26-mar\", \"27-mar\", \"28-mar\", \"29-mar\", \"30-mar\", \"31-mar\", \"1\\u00ba-abr\", \"2-abr\", \"3-abr\"], \"y\": [1, 8, 11, 13, 16, 26, 26, 33, 40, 40, 48, 54, 61, 72, 85, 97, 120, 139, 153]}, {\"mode\": \"markers+lines\", \"name\": \"Maranh\\u00e3o\", \"type\": \"scatter\", \"x\": [\"16-mar\", \"17-mar\", \"18-mar\", \"19-mar\", \"20-mar\", \"21-mar\", \"22-mar\", \"23-mar\", \"24-mar\", \"25-mar\", \"26-mar\", \"27-mar\", \"28-mar\", \"29-mar\", \"30-mar\", \"31-mar\", \"1\\u00ba-abr\", \"2-abr\", \"3-abr\"], \"y\": [0, 0, 0, 0, 0, 2, 2, 8, 8, 8, 10, 14, 14, 22, 31, 52, 71, 81, 88]}, {\"mode\": \"markers+lines\", \"name\": \"Mato Grosso\", \"type\": \"scatter\", \"x\": [\"16-mar\", \"17-mar\", \"18-mar\", \"19-mar\", \"20-mar\", \"21-mar\", \"22-mar\", \"23-mar\", \"24-mar\", \"25-mar\", \"26-mar\", \"27-mar\", \"28-mar\", \"29-mar\", \"30-mar\", \"31-mar\", \"1\\u00ba-abr\", \"2-abr\", \"3-abr\"], \"y\": [0, 0, 0, 0, 1, 2, 2, 6, 7, 9, 11, 11, 11, 11, 18, 25, 28, 41, 44]}, {\"mode\": \"markers+lines\", \"name\": \"Mato Grosso do Sul\", \"type\": \"scatter\", \"x\": [\"16-mar\", \"17-mar\", \"18-mar\", \"19-mar\", \"20-mar\", \"21-mar\", \"22-mar\", \"23-mar\", \"24-mar\", \"25-mar\", \"26-mar\", \"27-mar\", \"28-mar\", \"29-mar\", \"30-mar\", \"31-mar\", \"1\\u00ba-abr\", \"2-abr\", \"3-abr\"], \"y\": [2, 6, 7, 9, 12, 16, 21, 21, 24, 24, 25, 28, 31, 36, 44, 48, 51, 53, 60]}, {\"mode\": \"markers+lines\", \"name\": \"Minas Gerais\", \"type\": \"scatter\", \"x\": [\"16-mar\", \"17-mar\", \"18-mar\", \"19-mar\", \"20-mar\", \"21-mar\", \"22-mar\", \"23-mar\", \"24-mar\", \"25-mar\", \"26-mar\", \"27-mar\", \"28-mar\", \"29-mar\", \"30-mar\", \"31-mar\", \"1\\u00ba-abr\", \"2-abr\", \"3-abr\"], \"y\": [5, 14, 19, 29, 38, 55, 83, 128, 130, 133, 153, 189, 205, 231, 261, 275, 314, 370, 397]}, {\"mode\": \"markers+lines\", \"name\": \"Par\\u00e1\", \"type\": \"scatter\", \"x\": [\"16-mar\", \"17-mar\", \"18-mar\", \"19-mar\", \"20-mar\", \"21-mar\", \"22-mar\", \"23-mar\", \"24-mar\", \"25-mar\", \"26-mar\", \"27-mar\", \"28-mar\", \"29-mar\", \"30-mar\", \"31-mar\", \"1\\u00ba-abr\", \"2-abr\", \"3-abr\"], \"y\": [0, 0, 1, 1, 2, 4, 4, 5, 5, 7, 13, 16, 17, 20, 26, 34, 40, 49, 75]}, {\"mode\": \"markers+lines\", \"name\": \"Para\\u00edba\", \"type\": \"scatter\", \"x\": [\"16-mar\", \"17-mar\", \"18-mar\", \"19-mar\", \"20-mar\", \"21-mar\", \"22-mar\", \"23-mar\", \"24-mar\", \"25-mar\", \"26-mar\", \"27-mar\", \"28-mar\", \"29-mar\", \"30-mar\", \"31-mar\", \"1\\u00ba-abr\", \"2-abr\", \"3-abr\"], \"y\": [0, 0, 1, 1, 1, 1, 1, 2, 3, 5, 6, 10, 14, 14, 17, 19, 21, 29, 32]}, {\"mode\": \"markers+lines\", \"name\": \"Paran\\u00e1\", \"type\": \"scatter\", \"x\": [\"16-mar\", \"17-mar\", \"18-mar\", \"19-mar\", \"20-mar\", \"21-mar\", \"22-mar\", \"23-mar\", \"24-mar\", \"25-mar\", \"26-mar\", \"27-mar\", \"28-mar\", \"29-mar\", \"30-mar\", \"31-mar\", \"1\\u00ba-abr\", \"2-abr\", \"3-abr\"], \"y\": [6, 12, 14, 23, 36, 43, 54, 60, 70, 97, 106, 125, 137, 152, 160, 185, 229, 258, 307]}, {\"mode\": \"markers+lines\", \"name\": \"Pernambuco\", \"type\": \"scatter\", \"x\": [\"16-mar\", \"17-mar\", \"18-mar\", \"19-mar\", \"20-mar\", \"21-mar\", \"22-mar\", \"23-mar\", \"24-mar\", \"25-mar\", \"26-mar\", \"27-mar\", \"28-mar\", \"29-mar\", \"30-mar\", \"31-mar\", \"1\\u00ba-abr\", \"2-abr\", \"3-abr\"], \"y\": [2, 19, 22, 28, 31, 33, 37, 42, 42, 46, 48, 57, 68, 73, 77, 87, 95, 106, 136]}, {\"mode\": \"markers+lines\", \"name\": \"Piau\\u00ed\", \"type\": \"scatter\", \"x\": [\"16-mar\", \"17-mar\", \"18-mar\", \"19-mar\", \"20-mar\", \"21-mar\", \"22-mar\", \"23-mar\", \"24-mar\", \"25-mar\", \"26-mar\", \"27-mar\", \"28-mar\", \"29-mar\", \"30-mar\", \"31-mar\", \"1\\u00ba-abr\", \"2-abr\", \"3-abr\"], \"y\": [0, 0, 0, 3, 4, 4, 6, 6, 8, 8, 9, 9, 11, 16, 18, 18, 19, 19, 22]}, {\"mode\": \"markers+lines\", \"name\": \"Rio Grande do Norte\", \"type\": \"scatter\", \"x\": [\"16-mar\", \"17-mar\", \"18-mar\", \"19-mar\", \"20-mar\", \"21-mar\", \"22-mar\", \"23-mar\", \"24-mar\", \"25-mar\", \"26-mar\", \"27-mar\", \"28-mar\", \"29-mar\", \"30-mar\", \"31-mar\", \"1\\u00ba-abr\", \"2-abr\", \"3-abr\"], \"y\": [1, 1, 1, 1, 1, 9, 9, 13, 14, 14, 19, 28, 45, 68, 77, 82, 92, 106, 176]}, {\"mode\": \"markers+lines\", \"name\": \"Rond\\u00f4nia\", \"type\": \"scatter\", \"x\": [\"16-mar\", \"17-mar\", \"18-mar\", \"19-mar\", \"20-mar\", \"21-mar\", \"22-mar\", \"23-mar\", \"24-mar\", \"25-mar\", \"26-mar\", \"27-mar\", \"28-mar\", \"29-mar\", \"30-mar\", \"31-mar\", \"1\\u00ba-abr\", \"2-abr\", \"3-abr\"], \"y\": [0, 0, 0, 0, 1, 3, 3, 3, 5, 5, 6, 6, 6, 6, 8, 9, 9, 10, 10]}, {\"mode\": \"markers+lines\", \"name\": \"Roraima\", \"type\": \"scatter\", \"x\": [\"16-mar\", \"17-mar\", \"18-mar\", \"19-mar\", \"20-mar\", \"21-mar\", \"22-mar\", \"23-mar\", \"24-mar\", \"25-mar\", \"26-mar\", \"27-mar\", \"28-mar\", \"29-mar\", \"30-mar\", \"31-mar\", \"1\\u00ba-abr\", \"2-abr\", \"3-abr\"], \"y\": [0, 0, 0, 0, 0, 2, 2, 2, 8, 8, 8, 12, 16, 16, 16, 22, 26, 30, 37]}, {\"mode\": \"markers+lines\", \"name\": \"Santa Catarina\", \"type\": \"scatter\", \"x\": [\"16-mar\", \"17-mar\", \"18-mar\", \"19-mar\", \"20-mar\", \"21-mar\", \"22-mar\", \"23-mar\", \"24-mar\", \"25-mar\", \"26-mar\", \"27-mar\", \"28-mar\", \"29-mar\", \"30-mar\", \"31-mar\", \"1\\u00ba-abr\", \"2-abr\", \"3-abr\"], \"y\": [7, 7, 14, 21, 40, 57, 68, 86, 109, 122, 149, 163, 184, 197, 219, 235, 247, 281, 301]}, {\"mode\": \"markers+lines\", \"name\": \"Sergipe\", \"type\": \"scatter\", \"x\": [\"16-mar\", \"17-mar\", \"18-mar\", \"19-mar\", \"20-mar\", \"21-mar\", \"22-mar\", \"23-mar\", \"24-mar\", \"25-mar\", \"26-mar\", \"27-mar\", \"28-mar\", \"29-mar\", \"30-mar\", \"31-mar\", \"1\\u00ba-abr\", \"2-abr\", \"3-abr\"], \"y\": [1, 5, 6, 6, 7, 10, 10, 10, 15, 16, 16, 16, 16, 16, 18, 20, 22, 24, 27]}, {\"mode\": \"markers+lines\", \"name\": \"Tocantins\", \"type\": \"scatter\", \"x\": [\"16-mar\", \"17-mar\", \"18-mar\", \"19-mar\", \"20-mar\", \"21-mar\", \"22-mar\", \"23-mar\", \"24-mar\", \"25-mar\", \"26-mar\", \"27-mar\", \"28-mar\", \"29-mar\", \"30-mar\", \"31-mar\", \"1\\u00ba-abr\", \"2-abr\", \"3-abr\"], \"y\": [0, 0, 1, 1, 1, 2, 5, 7, 7, 7, 8, 9, 9, 10, 11, 12, 12, 12, 13]}],\n",
       "                        {\"direction\": \"clockwise\", \"legend\": {\"title\": {\"text\": \"<b> Estados/DF </b>\"}}, \"showlegend\": true, \"template\": {\"data\": {\"bar\": [{\"error_x\": {\"color\": \"#2a3f5f\"}, \"error_y\": {\"color\": \"#2a3f5f\"}, \"marker\": {\"line\": {\"color\": \"white\", \"width\": 0.5}}, \"type\": \"bar\"}], \"barpolar\": [{\"marker\": {\"line\": {\"color\": \"white\", \"width\": 0.5}}, \"type\": \"barpolar\"}], \"carpet\": [{\"aaxis\": {\"endlinecolor\": \"#2a3f5f\", \"gridcolor\": \"#C8D4E3\", \"linecolor\": \"#C8D4E3\", \"minorgridcolor\": \"#C8D4E3\", \"startlinecolor\": \"#2a3f5f\"}, \"baxis\": {\"endlinecolor\": \"#2a3f5f\", \"gridcolor\": \"#C8D4E3\", \"linecolor\": \"#C8D4E3\", \"minorgridcolor\": \"#C8D4E3\", \"startlinecolor\": \"#2a3f5f\"}, \"type\": \"carpet\"}], \"choropleth\": [{\"colorbar\": {\"outlinewidth\": 0, \"ticks\": \"\"}, \"type\": \"choropleth\"}], \"contour\": [{\"colorbar\": {\"outlinewidth\": 0, \"ticks\": \"\"}, \"colorscale\": [[0.0, \"#0d0887\"], [0.1111111111111111, \"#46039f\"], [0.2222222222222222, \"#7201a8\"], [0.3333333333333333, \"#9c179e\"], [0.4444444444444444, \"#bd3786\"], [0.5555555555555556, \"#d8576b\"], [0.6666666666666666, \"#ed7953\"], [0.7777777777777778, \"#fb9f3a\"], [0.8888888888888888, \"#fdca26\"], [1.0, \"#f0f921\"]], \"type\": \"contour\"}], \"contourcarpet\": [{\"colorbar\": {\"outlinewidth\": 0, \"ticks\": \"\"}, \"type\": \"contourcarpet\"}], \"heatmap\": [{\"colorbar\": {\"outlinewidth\": 0, \"ticks\": \"\"}, \"colorscale\": [[0.0, \"#0d0887\"], [0.1111111111111111, \"#46039f\"], [0.2222222222222222, \"#7201a8\"], [0.3333333333333333, \"#9c179e\"], [0.4444444444444444, \"#bd3786\"], [0.5555555555555556, \"#d8576b\"], [0.6666666666666666, \"#ed7953\"], [0.7777777777777778, \"#fb9f3a\"], [0.8888888888888888, \"#fdca26\"], [1.0, \"#f0f921\"]], \"type\": \"heatmap\"}], \"heatmapgl\": [{\"colorbar\": {\"outlinewidth\": 0, \"ticks\": \"\"}, \"colorscale\": [[0.0, \"#0d0887\"], [0.1111111111111111, \"#46039f\"], [0.2222222222222222, \"#7201a8\"], [0.3333333333333333, \"#9c179e\"], [0.4444444444444444, \"#bd3786\"], [0.5555555555555556, \"#d8576b\"], [0.6666666666666666, \"#ed7953\"], [0.7777777777777778, \"#fb9f3a\"], [0.8888888888888888, \"#fdca26\"], [1.0, \"#f0f921\"]], \"type\": \"heatmapgl\"}], \"histogram\": [{\"marker\": {\"colorbar\": {\"outlinewidth\": 0, \"ticks\": \"\"}}, \"type\": \"histogram\"}], \"histogram2d\": [{\"colorbar\": {\"outlinewidth\": 0, \"ticks\": \"\"}, \"colorscale\": [[0.0, \"#0d0887\"], [0.1111111111111111, \"#46039f\"], [0.2222222222222222, \"#7201a8\"], [0.3333333333333333, \"#9c179e\"], [0.4444444444444444, \"#bd3786\"], [0.5555555555555556, \"#d8576b\"], [0.6666666666666666, \"#ed7953\"], [0.7777777777777778, \"#fb9f3a\"], [0.8888888888888888, \"#fdca26\"], [1.0, \"#f0f921\"]], \"type\": \"histogram2d\"}], \"histogram2dcontour\": [{\"colorbar\": {\"outlinewidth\": 0, \"ticks\": \"\"}, \"colorscale\": [[0.0, \"#0d0887\"], [0.1111111111111111, \"#46039f\"], [0.2222222222222222, \"#7201a8\"], [0.3333333333333333, \"#9c179e\"], [0.4444444444444444, \"#bd3786\"], [0.5555555555555556, \"#d8576b\"], [0.6666666666666666, \"#ed7953\"], [0.7777777777777778, \"#fb9f3a\"], [0.8888888888888888, \"#fdca26\"], [1.0, \"#f0f921\"]], \"type\": \"histogram2dcontour\"}], \"mesh3d\": [{\"colorbar\": {\"outlinewidth\": 0, \"ticks\": \"\"}, \"type\": \"mesh3d\"}], \"parcoords\": [{\"line\": {\"colorbar\": {\"outlinewidth\": 0, \"ticks\": \"\"}}, \"type\": \"parcoords\"}], \"pie\": [{\"automargin\": true, \"type\": \"pie\"}], \"scatter\": [{\"marker\": {\"colorbar\": {\"outlinewidth\": 0, \"ticks\": \"\"}}, \"type\": \"scatter\"}], \"scatter3d\": [{\"line\": {\"colorbar\": {\"outlinewidth\": 0, \"ticks\": \"\"}}, \"marker\": {\"colorbar\": {\"outlinewidth\": 0, \"ticks\": \"\"}}, \"type\": \"scatter3d\"}], \"scattercarpet\": [{\"marker\": {\"colorbar\": {\"outlinewidth\": 0, \"ticks\": \"\"}}, \"type\": \"scattercarpet\"}], \"scattergeo\": [{\"marker\": {\"colorbar\": {\"outlinewidth\": 0, \"ticks\": \"\"}}, \"type\": \"scattergeo\"}], \"scattergl\": [{\"marker\": {\"colorbar\": {\"outlinewidth\": 0, \"ticks\": \"\"}}, \"type\": \"scattergl\"}], \"scattermapbox\": [{\"marker\": {\"colorbar\": {\"outlinewidth\": 0, \"ticks\": \"\"}}, \"type\": \"scattermapbox\"}], \"scatterpolar\": [{\"marker\": {\"colorbar\": {\"outlinewidth\": 0, \"ticks\": \"\"}}, \"type\": \"scatterpolar\"}], \"scatterpolargl\": [{\"marker\": {\"colorbar\": {\"outlinewidth\": 0, \"ticks\": \"\"}}, \"type\": \"scatterpolargl\"}], \"scatterternary\": [{\"marker\": {\"colorbar\": {\"outlinewidth\": 0, \"ticks\": \"\"}}, \"type\": \"scatterternary\"}], \"surface\": [{\"colorbar\": {\"outlinewidth\": 0, \"ticks\": \"\"}, \"colorscale\": [[0.0, \"#0d0887\"], [0.1111111111111111, \"#46039f\"], [0.2222222222222222, \"#7201a8\"], [0.3333333333333333, \"#9c179e\"], [0.4444444444444444, \"#bd3786\"], [0.5555555555555556, \"#d8576b\"], [0.6666666666666666, \"#ed7953\"], [0.7777777777777778, \"#fb9f3a\"], [0.8888888888888888, \"#fdca26\"], [1.0, \"#f0f921\"]], \"type\": \"surface\"}], \"table\": [{\"cells\": {\"fill\": {\"color\": \"#EBF0F8\"}, \"line\": {\"color\": \"white\"}}, \"header\": {\"fill\": {\"color\": \"#C8D4E3\"}, \"line\": {\"color\": \"white\"}}, \"type\": \"table\"}]}, \"layout\": {\"annotationdefaults\": {\"arrowcolor\": \"#2a3f5f\", \"arrowhead\": 0, \"arrowwidth\": 1}, \"coloraxis\": {\"colorbar\": {\"outlinewidth\": 0, \"ticks\": \"\"}}, \"colorscale\": {\"diverging\": [[0, \"#8e0152\"], [0.1, \"#c51b7d\"], [0.2, \"#de77ae\"], [0.3, \"#f1b6da\"], [0.4, \"#fde0ef\"], [0.5, \"#f7f7f7\"], [0.6, \"#e6f5d0\"], [0.7, \"#b8e186\"], [0.8, \"#7fbc41\"], [0.9, \"#4d9221\"], [1, \"#276419\"]], \"sequential\": [[0.0, \"#0d0887\"], [0.1111111111111111, \"#46039f\"], [0.2222222222222222, \"#7201a8\"], [0.3333333333333333, \"#9c179e\"], [0.4444444444444444, \"#bd3786\"], [0.5555555555555556, \"#d8576b\"], [0.6666666666666666, \"#ed7953\"], [0.7777777777777778, \"#fb9f3a\"], [0.8888888888888888, \"#fdca26\"], [1.0, \"#f0f921\"]], \"sequentialminus\": [[0.0, \"#0d0887\"], [0.1111111111111111, \"#46039f\"], [0.2222222222222222, \"#7201a8\"], [0.3333333333333333, \"#9c179e\"], [0.4444444444444444, \"#bd3786\"], [0.5555555555555556, \"#d8576b\"], [0.6666666666666666, \"#ed7953\"], [0.7777777777777778, \"#fb9f3a\"], [0.8888888888888888, \"#fdca26\"], [1.0, \"#f0f921\"]]}, \"colorway\": [\"#636efa\", \"#EF553B\", \"#00cc96\", \"#ab63fa\", \"#FFA15A\", \"#19d3f3\", \"#FF6692\", \"#B6E880\", \"#FF97FF\", \"#FECB52\"], \"font\": {\"color\": \"#2a3f5f\"}, \"geo\": {\"bgcolor\": \"white\", \"lakecolor\": \"white\", \"landcolor\": \"white\", \"showlakes\": true, \"showland\": true, \"subunitcolor\": \"#C8D4E3\"}, \"hoverlabel\": {\"align\": \"left\"}, \"hovermode\": \"closest\", \"mapbox\": {\"style\": \"light\"}, \"paper_bgcolor\": \"white\", \"plot_bgcolor\": \"white\", \"polar\": {\"angularaxis\": {\"gridcolor\": \"#EBF0F8\", \"linecolor\": \"#EBF0F8\", \"ticks\": \"\"}, \"bgcolor\": \"white\", \"radialaxis\": {\"gridcolor\": \"#EBF0F8\", \"linecolor\": \"#EBF0F8\", \"ticks\": \"\"}}, \"scene\": {\"xaxis\": {\"backgroundcolor\": \"white\", \"gridcolor\": \"#DFE8F3\", \"gridwidth\": 2, \"linecolor\": \"#EBF0F8\", \"showbackground\": true, \"ticks\": \"\", \"zerolinecolor\": \"#EBF0F8\"}, \"yaxis\": {\"backgroundcolor\": \"white\", \"gridcolor\": \"#DFE8F3\", \"gridwidth\": 2, \"linecolor\": \"#EBF0F8\", \"showbackground\": true, \"ticks\": \"\", \"zerolinecolor\": \"#EBF0F8\"}, \"zaxis\": {\"backgroundcolor\": \"white\", \"gridcolor\": \"#DFE8F3\", \"gridwidth\": 2, \"linecolor\": \"#EBF0F8\", \"showbackground\": true, \"ticks\": \"\", \"zerolinecolor\": \"#EBF0F8\"}}, \"shapedefaults\": {\"line\": {\"color\": \"#2a3f5f\"}}, \"ternary\": {\"aaxis\": {\"gridcolor\": \"#DFE8F3\", \"linecolor\": \"#A2B1C6\", \"ticks\": \"\"}, \"baxis\": {\"gridcolor\": \"#DFE8F3\", \"linecolor\": \"#A2B1C6\", \"ticks\": \"\"}, \"bgcolor\": \"white\", \"caxis\": {\"gridcolor\": \"#DFE8F3\", \"linecolor\": \"#A2B1C6\", \"ticks\": \"\"}}, \"title\": {\"x\": 0.05}, \"xaxis\": {\"automargin\": true, \"gridcolor\": \"#EBF0F8\", \"linecolor\": \"#EBF0F8\", \"ticks\": \"\", \"title\": {\"standoff\": 15}, \"zerolinecolor\": \"#EBF0F8\", \"zerolinewidth\": 2}, \"yaxis\": {\"automargin\": true, \"gridcolor\": \"#EBF0F8\", \"linecolor\": \"#EBF0F8\", \"ticks\": \"\", \"title\": {\"standoff\": 15}, \"zerolinecolor\": \"#EBF0F8\", \"zerolinewidth\": 2}}}, \"title\": {\"text\": \"Casos acumulados por Estado\"}},\n",
       "                        {\"responsive\": true}\n",
       "                    ).then(function(){\n",
       "                            \n",
       "var gd = document.getElementById('63c45586-9b4a-41f0-b5a5-ed1e97c5c3d6');\n",
       "var x = new MutationObserver(function (mutations, observer) {{\n",
       "        var display = window.getComputedStyle(gd).display;\n",
       "        if (!display || display === 'none') {{\n",
       "            console.log([gd, 'removed!']);\n",
       "            Plotly.purge(gd);\n",
       "            observer.disconnect();\n",
       "        }}\n",
       "}});\n",
       "\n",
       "// Listen for the removal of the full notebook cells\n",
       "var notebookContainer = gd.closest('#notebook-container');\n",
       "if (notebookContainer) {{\n",
       "    x.observe(notebookContainer, {childList: true});\n",
       "}}\n",
       "\n",
       "// Listen for the clearing of the current output cell\n",
       "var outputEl = gd.closest('.output');\n",
       "if (outputEl) {{\n",
       "    x.observe(outputEl, {childList: true});\n",
       "}}\n",
       "\n",
       "                        })\n",
       "                };\n",
       "                });\n",
       "            </script>\n",
       "        </div>"
      ]
     },
     "metadata": {},
     "output_type": "display_data"
    }
   ],
   "source": [
    "# Plot confirmed cases\n",
    "fig = go.Figure(\n",
    "    [\n",
    "        go.Scatter(x = dadosgeral.Estado, y = dadosgeral.SP, mode = 'markers+lines', name=\"São Paulo\", line_shape='spline'),\n",
    "        go.Scatter(x = dadosgeral.Estado, y = dadosgeral.RJ, mode = 'markers+lines', name=\"Rio de Janeiro\", line_shape='spline'),\n",
    "         go.Scatter(x = dadosgeral.Estado, y = dadosgeral.RS, mode = 'markers+lines', name=\"Rio Grande do Sul\", line_shape='spline'),\n",
    "        go.Scatter(x = dadosgeral.Estado, y = dadosgeral.DF, mode = 'markers+lines', name=\"Distrito Federal\", line_shape='spline'),\n",
    "        go.Scatter(x = dadosgeral.Estado, y = dadosgeral.CE, mode = 'markers+lines', name=\"Ceará\"),\n",
    "        go.Scatter(x = dadosgeral.Estado, y = dadosgeral.GO, mode = 'markers+lines', name=\"Goiás\"),\n",
    "        go.Scatter(x = dadosgeral.Estado, y = dadosgeral.AC, mode = 'markers+lines', name=\"Acre\"),\n",
    "        go.Scatter(x = dadosgeral.Estado, y = dadosgeral.AL, mode = 'markers+lines', name=\"Alagoas\"),\n",
    "        go.Scatter(x = dadosgeral.Estado, y = dadosgeral.AM, mode = 'markers+lines', name=\"Amazonas\"),\n",
    "        go.Scatter(x = dadosgeral.Estado, y = dadosgeral.AP, mode = 'markers+lines', name=\"Amapá\"),\n",
    "        go.Scatter(x = dadosgeral.Estado, y = dadosgeral.BA, mode = 'markers+lines', name=\"Bahia\"),\n",
    "        \n",
    "        go.Scatter(x = dadosgeral.Estado, y = dadosgeral.ES, mode = 'markers+lines', name=\"Espírito Santo\"),\n",
    "        go.Scatter(x = dadosgeral.Estado, y = dadosgeral.MA, mode = 'markers+lines', name=\"Maranhão\"),\n",
    "        go.Scatter(x = dadosgeral.Estado, y = dadosgeral.MT, mode = 'markers+lines', name=\"Mato Grosso\"),\n",
    "        go.Scatter(x = dadosgeral.Estado, y = dadosgeral.MS, mode = 'markers+lines', name=\"Mato Grosso do Sul\"),\n",
    "        go.Scatter(x = dadosgeral.Estado, y = dadosgeral.MG, mode = 'markers+lines', name=\"Minas Gerais\"),\n",
    "        go.Scatter(x = dadosgeral.Estado, y = dadosgeral.PA, mode = 'markers+lines', name=\"Pará\"),\n",
    "        go.Scatter(x = dadosgeral.Estado, y = dadosgeral.PB, mode = 'markers+lines', name=\"Paraíba\"),\n",
    "        go.Scatter(x = dadosgeral.Estado, y = dadosgeral.PR, mode = 'markers+lines', name=\"Paraná\"),\n",
    "        go.Scatter(x = dadosgeral.Estado, y = dadosgeral.PE, mode = 'markers+lines', name=\"Pernambuco\"),\n",
    "        go.Scatter(x = dadosgeral.Estado, y = dadosgeral.PI, mode = 'markers+lines', name=\"Piauí\"),\n",
    "        go.Scatter(x = dadosgeral.Estado, y = dadosgeral.RN, mode = 'markers+lines', name=\"Rio Grande do Norte\"),\n",
    "        \n",
    "        go.Scatter(x = dadosgeral.Estado, y = dadosgeral.RO, mode = 'markers+lines', name=\"Rondônia\"),\n",
    "        go.Scatter(x = dadosgeral.Estado, y = dadosgeral.RR, mode = 'markers+lines', name=\"Roraima\"),\n",
    "        go.Scatter(x = dadosgeral.Estado, y = dadosgeral.SC, mode = 'markers+lines', name=\"Santa Catarina\"),\n",
    "        go.Scatter(x = dadosgeral.Estado, y = dadosgeral.SE, mode = 'markers+lines', name=\"Sergipe\"),\n",
    "        go.Scatter(x = dadosgeral.Estado, y = dadosgeral.TO, mode = 'markers+lines', name=\"Tocantins\"),\n",
    "    ]\n",
    ")\n",
    "\n",
    "fig.update_layout(title='Casos acumulados por Estado',legend_title='<b> Estados/DF </b>',\n",
    "                   \n",
    "                   showlegend=True, template=\"plotly_white\",direction='clockwise')\n",
    "\n",
    "fig.show()"
   ]
  },
  {
   "cell_type": "code",
   "execution_count": 61,
   "metadata": {},
   "outputs": [
    {
     "name": "stderr",
     "output_type": "stream",
     "text": [
      "C:\\Users\\joner\\anaconda3\\lib\\site-packages\\ipykernel_launcher.py:2: FutureWarning:\n",
      "\n",
      "Indexing with multiple keys (implicitly converted to a tuple of keys) will be deprecated, use a list instead.\n",
      "\n",
      "C:\\Users\\joner\\anaconda3\\lib\\site-packages\\ipykernel_launcher.py:5: FutureWarning:\n",
      "\n",
      "Indexing with multiple keys (implicitly converted to a tuple of keys) will be deprecated, use a list instead.\n",
      "\n",
      "C:\\Users\\joner\\anaconda3\\lib\\site-packages\\ipykernel_launcher.py:8: FutureWarning:\n",
      "\n",
      "Indexing with multiple keys (implicitly converted to a tuple of keys) will be deprecated, use a list instead.\n",
      "\n",
      "C:\\Users\\joner\\anaconda3\\lib\\site-packages\\ipykernel_launcher.py:11: FutureWarning:\n",
      "\n",
      "Indexing with multiple keys (implicitly converted to a tuple of keys) will be deprecated, use a list instead.\n",
      "\n",
      "C:\\Users\\joner\\anaconda3\\lib\\site-packages\\ipykernel_launcher.py:14: FutureWarning:\n",
      "\n",
      "Indexing with multiple keys (implicitly converted to a tuple of keys) will be deprecated, use a list instead.\n",
      "\n"
     ]
    }
   ],
   "source": [
    "#Região Norte\n",
    "norte = dadosgeral.groupby(['Estado'])['AC','AP','AM','PA','RO','RR','TO'].agg('sum')\n",
    "norte['Norte'] = norte.sum(axis=1)\n",
    "#Região Nordeste\n",
    "nordeste = dadosgeral.groupby(['Estado'])['AL','BA','CE','MA','PB','PE','PI','RN','SE'].agg('sum')\n",
    "nordeste['Nordeste'] = nordeste.sum(axis=1)\n",
    "#Região Centro-Oeste\n",
    "centroOeste = dadosgeral.groupby(['Estado'])['DF','GO','MT','MS'].agg('sum')\n",
    "centroOeste['CentroOeste'] = centroOeste.sum(axis=1)\n",
    "#Região Sudeste\n",
    "sudeste = dadosgeral.groupby(['Estado'])['ES','MG','RJ','SP'].agg('sum')\n",
    "sudeste['Sudeste'] = sudeste.sum(axis=1)\n",
    "#região Sul\n",
    "sul = dadosgeral.groupby(['Estado'])['PR','SC','RS'].agg('sum')\n",
    "sul['Sul'] = sul.sum(axis=1)\n"
   ]
  },
  {
   "cell_type": "code",
   "execution_count": 62,
   "metadata": {},
   "outputs": [
    {
     "data": {
      "application/vnd.plotly.v1+json": {
       "config": {
        "plotlyServerURL": "https://plot.ly"
       },
       "data": [
        {
         "labels": [
          "Norte",
          "Sul",
          "Nordeste",
          "Centro-Oeste",
          "Sudeste"
         ],
         "textinfo": "label+percent",
         "type": "pie",
         "values": [
          460,
          1018,
          1452,
          614,
          5672
         ]
        }
       ],
       "layout": {
        "template": {
         "data": {
          "bar": [
           {
            "error_x": {
             "color": "#2a3f5f"
            },
            "error_y": {
             "color": "#2a3f5f"
            },
            "marker": {
             "line": {
              "color": "#E5ECF6",
              "width": 0.5
             }
            },
            "type": "bar"
           }
          ],
          "barpolar": [
           {
            "marker": {
             "line": {
              "color": "#E5ECF6",
              "width": 0.5
             }
            },
            "type": "barpolar"
           }
          ],
          "carpet": [
           {
            "aaxis": {
             "endlinecolor": "#2a3f5f",
             "gridcolor": "white",
             "linecolor": "white",
             "minorgridcolor": "white",
             "startlinecolor": "#2a3f5f"
            },
            "baxis": {
             "endlinecolor": "#2a3f5f",
             "gridcolor": "white",
             "linecolor": "white",
             "minorgridcolor": "white",
             "startlinecolor": "#2a3f5f"
            },
            "type": "carpet"
           }
          ],
          "choropleth": [
           {
            "colorbar": {
             "outlinewidth": 0,
             "ticks": ""
            },
            "type": "choropleth"
           }
          ],
          "contour": [
           {
            "colorbar": {
             "outlinewidth": 0,
             "ticks": ""
            },
            "colorscale": [
             [
              0,
              "#0d0887"
             ],
             [
              0.1111111111111111,
              "#46039f"
             ],
             [
              0.2222222222222222,
              "#7201a8"
             ],
             [
              0.3333333333333333,
              "#9c179e"
             ],
             [
              0.4444444444444444,
              "#bd3786"
             ],
             [
              0.5555555555555556,
              "#d8576b"
             ],
             [
              0.6666666666666666,
              "#ed7953"
             ],
             [
              0.7777777777777778,
              "#fb9f3a"
             ],
             [
              0.8888888888888888,
              "#fdca26"
             ],
             [
              1,
              "#f0f921"
             ]
            ],
            "type": "contour"
           }
          ],
          "contourcarpet": [
           {
            "colorbar": {
             "outlinewidth": 0,
             "ticks": ""
            },
            "type": "contourcarpet"
           }
          ],
          "heatmap": [
           {
            "colorbar": {
             "outlinewidth": 0,
             "ticks": ""
            },
            "colorscale": [
             [
              0,
              "#0d0887"
             ],
             [
              0.1111111111111111,
              "#46039f"
             ],
             [
              0.2222222222222222,
              "#7201a8"
             ],
             [
              0.3333333333333333,
              "#9c179e"
             ],
             [
              0.4444444444444444,
              "#bd3786"
             ],
             [
              0.5555555555555556,
              "#d8576b"
             ],
             [
              0.6666666666666666,
              "#ed7953"
             ],
             [
              0.7777777777777778,
              "#fb9f3a"
             ],
             [
              0.8888888888888888,
              "#fdca26"
             ],
             [
              1,
              "#f0f921"
             ]
            ],
            "type": "heatmap"
           }
          ],
          "heatmapgl": [
           {
            "colorbar": {
             "outlinewidth": 0,
             "ticks": ""
            },
            "colorscale": [
             [
              0,
              "#0d0887"
             ],
             [
              0.1111111111111111,
              "#46039f"
             ],
             [
              0.2222222222222222,
              "#7201a8"
             ],
             [
              0.3333333333333333,
              "#9c179e"
             ],
             [
              0.4444444444444444,
              "#bd3786"
             ],
             [
              0.5555555555555556,
              "#d8576b"
             ],
             [
              0.6666666666666666,
              "#ed7953"
             ],
             [
              0.7777777777777778,
              "#fb9f3a"
             ],
             [
              0.8888888888888888,
              "#fdca26"
             ],
             [
              1,
              "#f0f921"
             ]
            ],
            "type": "heatmapgl"
           }
          ],
          "histogram": [
           {
            "marker": {
             "colorbar": {
              "outlinewidth": 0,
              "ticks": ""
             }
            },
            "type": "histogram"
           }
          ],
          "histogram2d": [
           {
            "colorbar": {
             "outlinewidth": 0,
             "ticks": ""
            },
            "colorscale": [
             [
              0,
              "#0d0887"
             ],
             [
              0.1111111111111111,
              "#46039f"
             ],
             [
              0.2222222222222222,
              "#7201a8"
             ],
             [
              0.3333333333333333,
              "#9c179e"
             ],
             [
              0.4444444444444444,
              "#bd3786"
             ],
             [
              0.5555555555555556,
              "#d8576b"
             ],
             [
              0.6666666666666666,
              "#ed7953"
             ],
             [
              0.7777777777777778,
              "#fb9f3a"
             ],
             [
              0.8888888888888888,
              "#fdca26"
             ],
             [
              1,
              "#f0f921"
             ]
            ],
            "type": "histogram2d"
           }
          ],
          "histogram2dcontour": [
           {
            "colorbar": {
             "outlinewidth": 0,
             "ticks": ""
            },
            "colorscale": [
             [
              0,
              "#0d0887"
             ],
             [
              0.1111111111111111,
              "#46039f"
             ],
             [
              0.2222222222222222,
              "#7201a8"
             ],
             [
              0.3333333333333333,
              "#9c179e"
             ],
             [
              0.4444444444444444,
              "#bd3786"
             ],
             [
              0.5555555555555556,
              "#d8576b"
             ],
             [
              0.6666666666666666,
              "#ed7953"
             ],
             [
              0.7777777777777778,
              "#fb9f3a"
             ],
             [
              0.8888888888888888,
              "#fdca26"
             ],
             [
              1,
              "#f0f921"
             ]
            ],
            "type": "histogram2dcontour"
           }
          ],
          "mesh3d": [
           {
            "colorbar": {
             "outlinewidth": 0,
             "ticks": ""
            },
            "type": "mesh3d"
           }
          ],
          "parcoords": [
           {
            "line": {
             "colorbar": {
              "outlinewidth": 0,
              "ticks": ""
             }
            },
            "type": "parcoords"
           }
          ],
          "pie": [
           {
            "automargin": true,
            "type": "pie"
           }
          ],
          "scatter": [
           {
            "marker": {
             "colorbar": {
              "outlinewidth": 0,
              "ticks": ""
             }
            },
            "type": "scatter"
           }
          ],
          "scatter3d": [
           {
            "line": {
             "colorbar": {
              "outlinewidth": 0,
              "ticks": ""
             }
            },
            "marker": {
             "colorbar": {
              "outlinewidth": 0,
              "ticks": ""
             }
            },
            "type": "scatter3d"
           }
          ],
          "scattercarpet": [
           {
            "marker": {
             "colorbar": {
              "outlinewidth": 0,
              "ticks": ""
             }
            },
            "type": "scattercarpet"
           }
          ],
          "scattergeo": [
           {
            "marker": {
             "colorbar": {
              "outlinewidth": 0,
              "ticks": ""
             }
            },
            "type": "scattergeo"
           }
          ],
          "scattergl": [
           {
            "marker": {
             "colorbar": {
              "outlinewidth": 0,
              "ticks": ""
             }
            },
            "type": "scattergl"
           }
          ],
          "scattermapbox": [
           {
            "marker": {
             "colorbar": {
              "outlinewidth": 0,
              "ticks": ""
             }
            },
            "type": "scattermapbox"
           }
          ],
          "scatterpolar": [
           {
            "marker": {
             "colorbar": {
              "outlinewidth": 0,
              "ticks": ""
             }
            },
            "type": "scatterpolar"
           }
          ],
          "scatterpolargl": [
           {
            "marker": {
             "colorbar": {
              "outlinewidth": 0,
              "ticks": ""
             }
            },
            "type": "scatterpolargl"
           }
          ],
          "scatterternary": [
           {
            "marker": {
             "colorbar": {
              "outlinewidth": 0,
              "ticks": ""
             }
            },
            "type": "scatterternary"
           }
          ],
          "surface": [
           {
            "colorbar": {
             "outlinewidth": 0,
             "ticks": ""
            },
            "colorscale": [
             [
              0,
              "#0d0887"
             ],
             [
              0.1111111111111111,
              "#46039f"
             ],
             [
              0.2222222222222222,
              "#7201a8"
             ],
             [
              0.3333333333333333,
              "#9c179e"
             ],
             [
              0.4444444444444444,
              "#bd3786"
             ],
             [
              0.5555555555555556,
              "#d8576b"
             ],
             [
              0.6666666666666666,
              "#ed7953"
             ],
             [
              0.7777777777777778,
              "#fb9f3a"
             ],
             [
              0.8888888888888888,
              "#fdca26"
             ],
             [
              1,
              "#f0f921"
             ]
            ],
            "type": "surface"
           }
          ],
          "table": [
           {
            "cells": {
             "fill": {
              "color": "#EBF0F8"
             },
             "line": {
              "color": "white"
             }
            },
            "header": {
             "fill": {
              "color": "#C8D4E3"
             },
             "line": {
              "color": "white"
             }
            },
            "type": "table"
           }
          ]
         },
         "layout": {
          "annotationdefaults": {
           "arrowcolor": "#2a3f5f",
           "arrowhead": 0,
           "arrowwidth": 1
          },
          "coloraxis": {
           "colorbar": {
            "outlinewidth": 0,
            "ticks": ""
           }
          },
          "colorscale": {
           "diverging": [
            [
             0,
             "#8e0152"
            ],
            [
             0.1,
             "#c51b7d"
            ],
            [
             0.2,
             "#de77ae"
            ],
            [
             0.3,
             "#f1b6da"
            ],
            [
             0.4,
             "#fde0ef"
            ],
            [
             0.5,
             "#f7f7f7"
            ],
            [
             0.6,
             "#e6f5d0"
            ],
            [
             0.7,
             "#b8e186"
            ],
            [
             0.8,
             "#7fbc41"
            ],
            [
             0.9,
             "#4d9221"
            ],
            [
             1,
             "#276419"
            ]
           ],
           "sequential": [
            [
             0,
             "#0d0887"
            ],
            [
             0.1111111111111111,
             "#46039f"
            ],
            [
             0.2222222222222222,
             "#7201a8"
            ],
            [
             0.3333333333333333,
             "#9c179e"
            ],
            [
             0.4444444444444444,
             "#bd3786"
            ],
            [
             0.5555555555555556,
             "#d8576b"
            ],
            [
             0.6666666666666666,
             "#ed7953"
            ],
            [
             0.7777777777777778,
             "#fb9f3a"
            ],
            [
             0.8888888888888888,
             "#fdca26"
            ],
            [
             1,
             "#f0f921"
            ]
           ],
           "sequentialminus": [
            [
             0,
             "#0d0887"
            ],
            [
             0.1111111111111111,
             "#46039f"
            ],
            [
             0.2222222222222222,
             "#7201a8"
            ],
            [
             0.3333333333333333,
             "#9c179e"
            ],
            [
             0.4444444444444444,
             "#bd3786"
            ],
            [
             0.5555555555555556,
             "#d8576b"
            ],
            [
             0.6666666666666666,
             "#ed7953"
            ],
            [
             0.7777777777777778,
             "#fb9f3a"
            ],
            [
             0.8888888888888888,
             "#fdca26"
            ],
            [
             1,
             "#f0f921"
            ]
           ]
          },
          "colorway": [
           "#636efa",
           "#EF553B",
           "#00cc96",
           "#ab63fa",
           "#FFA15A",
           "#19d3f3",
           "#FF6692",
           "#B6E880",
           "#FF97FF",
           "#FECB52"
          ],
          "font": {
           "color": "#2a3f5f"
          },
          "geo": {
           "bgcolor": "white",
           "lakecolor": "white",
           "landcolor": "#E5ECF6",
           "showlakes": true,
           "showland": true,
           "subunitcolor": "white"
          },
          "hoverlabel": {
           "align": "left"
          },
          "hovermode": "closest",
          "mapbox": {
           "style": "light"
          },
          "paper_bgcolor": "white",
          "plot_bgcolor": "#E5ECF6",
          "polar": {
           "angularaxis": {
            "gridcolor": "white",
            "linecolor": "white",
            "ticks": ""
           },
           "bgcolor": "#E5ECF6",
           "radialaxis": {
            "gridcolor": "white",
            "linecolor": "white",
            "ticks": ""
           }
          },
          "scene": {
           "xaxis": {
            "backgroundcolor": "#E5ECF6",
            "gridcolor": "white",
            "gridwidth": 2,
            "linecolor": "white",
            "showbackground": true,
            "ticks": "",
            "zerolinecolor": "white"
           },
           "yaxis": {
            "backgroundcolor": "#E5ECF6",
            "gridcolor": "white",
            "gridwidth": 2,
            "linecolor": "white",
            "showbackground": true,
            "ticks": "",
            "zerolinecolor": "white"
           },
           "zaxis": {
            "backgroundcolor": "#E5ECF6",
            "gridcolor": "white",
            "gridwidth": 2,
            "linecolor": "white",
            "showbackground": true,
            "ticks": "",
            "zerolinecolor": "white"
           }
          },
          "shapedefaults": {
           "line": {
            "color": "#2a3f5f"
           }
          },
          "ternary": {
           "aaxis": {
            "gridcolor": "white",
            "linecolor": "white",
            "ticks": ""
           },
           "baxis": {
            "gridcolor": "white",
            "linecolor": "white",
            "ticks": ""
           },
           "bgcolor": "#E5ECF6",
           "caxis": {
            "gridcolor": "white",
            "linecolor": "white",
            "ticks": ""
           }
          },
          "title": {
           "x": 0.05
          },
          "xaxis": {
           "automargin": true,
           "gridcolor": "white",
           "linecolor": "white",
           "ticks": "",
           "title": {
            "standoff": 15
           },
           "zerolinecolor": "white",
           "zerolinewidth": 2
          },
          "yaxis": {
           "automargin": true,
           "gridcolor": "white",
           "linecolor": "white",
           "ticks": "",
           "title": {
            "standoff": 15
           },
           "zerolinecolor": "white",
           "zerolinewidth": 2
          }
         }
        }
       }
      },
      "text/html": [
       "<div>\n",
       "        \n",
       "        \n",
       "            <div id=\"75f58c60-e2a6-48d5-b21d-5409de91b08c\" class=\"plotly-graph-div\" style=\"height:525px; width:100%;\"></div>\n",
       "            <script type=\"text/javascript\">\n",
       "                require([\"plotly\"], function(Plotly) {\n",
       "                    window.PLOTLYENV=window.PLOTLYENV || {};\n",
       "                    \n",
       "                if (document.getElementById(\"75f58c60-e2a6-48d5-b21d-5409de91b08c\")) {\n",
       "                    Plotly.newPlot(\n",
       "                        '75f58c60-e2a6-48d5-b21d-5409de91b08c',\n",
       "                        [{\"labels\": [\"Norte\", \"Sul\", \"Nordeste\", \"Centro-Oeste\", \"Sudeste\"], \"textinfo\": \"label+percent\", \"type\": \"pie\", \"values\": [460, 1018, 1452, 614, 5672]}],\n",
       "                        {\"template\": {\"data\": {\"bar\": [{\"error_x\": {\"color\": \"#2a3f5f\"}, \"error_y\": {\"color\": \"#2a3f5f\"}, \"marker\": {\"line\": {\"color\": \"#E5ECF6\", \"width\": 0.5}}, \"type\": \"bar\"}], \"barpolar\": [{\"marker\": {\"line\": {\"color\": \"#E5ECF6\", \"width\": 0.5}}, \"type\": \"barpolar\"}], \"carpet\": [{\"aaxis\": {\"endlinecolor\": \"#2a3f5f\", \"gridcolor\": \"white\", \"linecolor\": \"white\", \"minorgridcolor\": \"white\", \"startlinecolor\": \"#2a3f5f\"}, \"baxis\": {\"endlinecolor\": \"#2a3f5f\", \"gridcolor\": \"white\", \"linecolor\": \"white\", \"minorgridcolor\": \"white\", \"startlinecolor\": \"#2a3f5f\"}, \"type\": \"carpet\"}], \"choropleth\": [{\"colorbar\": {\"outlinewidth\": 0, \"ticks\": \"\"}, \"type\": \"choropleth\"}], \"contour\": [{\"colorbar\": {\"outlinewidth\": 0, \"ticks\": \"\"}, \"colorscale\": [[0.0, \"#0d0887\"], [0.1111111111111111, \"#46039f\"], [0.2222222222222222, \"#7201a8\"], [0.3333333333333333, \"#9c179e\"], [0.4444444444444444, \"#bd3786\"], [0.5555555555555556, \"#d8576b\"], [0.6666666666666666, \"#ed7953\"], [0.7777777777777778, \"#fb9f3a\"], [0.8888888888888888, \"#fdca26\"], [1.0, \"#f0f921\"]], \"type\": \"contour\"}], \"contourcarpet\": [{\"colorbar\": {\"outlinewidth\": 0, \"ticks\": \"\"}, \"type\": \"contourcarpet\"}], \"heatmap\": [{\"colorbar\": {\"outlinewidth\": 0, \"ticks\": \"\"}, \"colorscale\": [[0.0, \"#0d0887\"], [0.1111111111111111, \"#46039f\"], [0.2222222222222222, \"#7201a8\"], [0.3333333333333333, \"#9c179e\"], [0.4444444444444444, \"#bd3786\"], [0.5555555555555556, \"#d8576b\"], [0.6666666666666666, \"#ed7953\"], [0.7777777777777778, \"#fb9f3a\"], [0.8888888888888888, \"#fdca26\"], [1.0, \"#f0f921\"]], \"type\": \"heatmap\"}], \"heatmapgl\": [{\"colorbar\": {\"outlinewidth\": 0, \"ticks\": \"\"}, \"colorscale\": [[0.0, \"#0d0887\"], [0.1111111111111111, \"#46039f\"], [0.2222222222222222, \"#7201a8\"], [0.3333333333333333, \"#9c179e\"], [0.4444444444444444, \"#bd3786\"], [0.5555555555555556, \"#d8576b\"], [0.6666666666666666, \"#ed7953\"], [0.7777777777777778, \"#fb9f3a\"], [0.8888888888888888, \"#fdca26\"], [1.0, \"#f0f921\"]], \"type\": \"heatmapgl\"}], \"histogram\": [{\"marker\": {\"colorbar\": {\"outlinewidth\": 0, \"ticks\": \"\"}}, \"type\": \"histogram\"}], \"histogram2d\": [{\"colorbar\": {\"outlinewidth\": 0, \"ticks\": \"\"}, \"colorscale\": [[0.0, \"#0d0887\"], [0.1111111111111111, \"#46039f\"], [0.2222222222222222, \"#7201a8\"], [0.3333333333333333, \"#9c179e\"], [0.4444444444444444, \"#bd3786\"], [0.5555555555555556, \"#d8576b\"], [0.6666666666666666, \"#ed7953\"], [0.7777777777777778, \"#fb9f3a\"], [0.8888888888888888, \"#fdca26\"], [1.0, \"#f0f921\"]], \"type\": \"histogram2d\"}], \"histogram2dcontour\": [{\"colorbar\": {\"outlinewidth\": 0, \"ticks\": \"\"}, \"colorscale\": [[0.0, \"#0d0887\"], [0.1111111111111111, \"#46039f\"], [0.2222222222222222, \"#7201a8\"], [0.3333333333333333, \"#9c179e\"], [0.4444444444444444, \"#bd3786\"], [0.5555555555555556, \"#d8576b\"], [0.6666666666666666, \"#ed7953\"], [0.7777777777777778, \"#fb9f3a\"], [0.8888888888888888, \"#fdca26\"], [1.0, \"#f0f921\"]], \"type\": \"histogram2dcontour\"}], \"mesh3d\": [{\"colorbar\": {\"outlinewidth\": 0, \"ticks\": \"\"}, \"type\": \"mesh3d\"}], \"parcoords\": [{\"line\": {\"colorbar\": {\"outlinewidth\": 0, \"ticks\": \"\"}}, \"type\": \"parcoords\"}], \"pie\": [{\"automargin\": true, \"type\": \"pie\"}], \"scatter\": [{\"marker\": {\"colorbar\": {\"outlinewidth\": 0, \"ticks\": \"\"}}, \"type\": \"scatter\"}], \"scatter3d\": [{\"line\": {\"colorbar\": {\"outlinewidth\": 0, \"ticks\": \"\"}}, \"marker\": {\"colorbar\": {\"outlinewidth\": 0, \"ticks\": \"\"}}, \"type\": \"scatter3d\"}], \"scattercarpet\": [{\"marker\": {\"colorbar\": {\"outlinewidth\": 0, \"ticks\": \"\"}}, \"type\": \"scattercarpet\"}], \"scattergeo\": [{\"marker\": {\"colorbar\": {\"outlinewidth\": 0, \"ticks\": \"\"}}, \"type\": \"scattergeo\"}], \"scattergl\": [{\"marker\": {\"colorbar\": {\"outlinewidth\": 0, \"ticks\": \"\"}}, \"type\": \"scattergl\"}], \"scattermapbox\": [{\"marker\": {\"colorbar\": {\"outlinewidth\": 0, \"ticks\": \"\"}}, \"type\": \"scattermapbox\"}], \"scatterpolar\": [{\"marker\": {\"colorbar\": {\"outlinewidth\": 0, \"ticks\": \"\"}}, \"type\": \"scatterpolar\"}], \"scatterpolargl\": [{\"marker\": {\"colorbar\": {\"outlinewidth\": 0, \"ticks\": \"\"}}, \"type\": \"scatterpolargl\"}], \"scatterternary\": [{\"marker\": {\"colorbar\": {\"outlinewidth\": 0, \"ticks\": \"\"}}, \"type\": \"scatterternary\"}], \"surface\": [{\"colorbar\": {\"outlinewidth\": 0, \"ticks\": \"\"}, \"colorscale\": [[0.0, \"#0d0887\"], [0.1111111111111111, \"#46039f\"], [0.2222222222222222, \"#7201a8\"], [0.3333333333333333, \"#9c179e\"], [0.4444444444444444, \"#bd3786\"], [0.5555555555555556, \"#d8576b\"], [0.6666666666666666, \"#ed7953\"], [0.7777777777777778, \"#fb9f3a\"], [0.8888888888888888, \"#fdca26\"], [1.0, \"#f0f921\"]], \"type\": \"surface\"}], \"table\": [{\"cells\": {\"fill\": {\"color\": \"#EBF0F8\"}, \"line\": {\"color\": \"white\"}}, \"header\": {\"fill\": {\"color\": \"#C8D4E3\"}, \"line\": {\"color\": \"white\"}}, \"type\": \"table\"}]}, \"layout\": {\"annotationdefaults\": {\"arrowcolor\": \"#2a3f5f\", \"arrowhead\": 0, \"arrowwidth\": 1}, \"coloraxis\": {\"colorbar\": {\"outlinewidth\": 0, \"ticks\": \"\"}}, \"colorscale\": {\"diverging\": [[0, \"#8e0152\"], [0.1, \"#c51b7d\"], [0.2, \"#de77ae\"], [0.3, \"#f1b6da\"], [0.4, \"#fde0ef\"], [0.5, \"#f7f7f7\"], [0.6, \"#e6f5d0\"], [0.7, \"#b8e186\"], [0.8, \"#7fbc41\"], [0.9, \"#4d9221\"], [1, \"#276419\"]], \"sequential\": [[0.0, \"#0d0887\"], [0.1111111111111111, \"#46039f\"], [0.2222222222222222, \"#7201a8\"], [0.3333333333333333, \"#9c179e\"], [0.4444444444444444, \"#bd3786\"], [0.5555555555555556, \"#d8576b\"], [0.6666666666666666, \"#ed7953\"], [0.7777777777777778, \"#fb9f3a\"], [0.8888888888888888, \"#fdca26\"], [1.0, \"#f0f921\"]], \"sequentialminus\": [[0.0, \"#0d0887\"], [0.1111111111111111, \"#46039f\"], [0.2222222222222222, \"#7201a8\"], [0.3333333333333333, \"#9c179e\"], [0.4444444444444444, \"#bd3786\"], [0.5555555555555556, \"#d8576b\"], [0.6666666666666666, \"#ed7953\"], [0.7777777777777778, \"#fb9f3a\"], [0.8888888888888888, \"#fdca26\"], [1.0, \"#f0f921\"]]}, \"colorway\": [\"#636efa\", \"#EF553B\", \"#00cc96\", \"#ab63fa\", \"#FFA15A\", \"#19d3f3\", \"#FF6692\", \"#B6E880\", \"#FF97FF\", \"#FECB52\"], \"font\": {\"color\": \"#2a3f5f\"}, \"geo\": {\"bgcolor\": \"white\", \"lakecolor\": \"white\", \"landcolor\": \"#E5ECF6\", \"showlakes\": true, \"showland\": true, \"subunitcolor\": \"white\"}, \"hoverlabel\": {\"align\": \"left\"}, \"hovermode\": \"closest\", \"mapbox\": {\"style\": \"light\"}, \"paper_bgcolor\": \"white\", \"plot_bgcolor\": \"#E5ECF6\", \"polar\": {\"angularaxis\": {\"gridcolor\": \"white\", \"linecolor\": \"white\", \"ticks\": \"\"}, \"bgcolor\": \"#E5ECF6\", \"radialaxis\": {\"gridcolor\": \"white\", \"linecolor\": \"white\", \"ticks\": \"\"}}, \"scene\": {\"xaxis\": {\"backgroundcolor\": \"#E5ECF6\", \"gridcolor\": \"white\", \"gridwidth\": 2, \"linecolor\": \"white\", \"showbackground\": true, \"ticks\": \"\", \"zerolinecolor\": \"white\"}, \"yaxis\": {\"backgroundcolor\": \"#E5ECF6\", \"gridcolor\": \"white\", \"gridwidth\": 2, \"linecolor\": \"white\", \"showbackground\": true, \"ticks\": \"\", \"zerolinecolor\": \"white\"}, \"zaxis\": {\"backgroundcolor\": \"#E5ECF6\", \"gridcolor\": \"white\", \"gridwidth\": 2, \"linecolor\": \"white\", \"showbackground\": true, \"ticks\": \"\", \"zerolinecolor\": \"white\"}}, \"shapedefaults\": {\"line\": {\"color\": \"#2a3f5f\"}}, \"ternary\": {\"aaxis\": {\"gridcolor\": \"white\", \"linecolor\": \"white\", \"ticks\": \"\"}, \"baxis\": {\"gridcolor\": \"white\", \"linecolor\": \"white\", \"ticks\": \"\"}, \"bgcolor\": \"#E5ECF6\", \"caxis\": {\"gridcolor\": \"white\", \"linecolor\": \"white\", \"ticks\": \"\"}}, \"title\": {\"x\": 0.05}, \"xaxis\": {\"automargin\": true, \"gridcolor\": \"white\", \"linecolor\": \"white\", \"ticks\": \"\", \"title\": {\"standoff\": 15}, \"zerolinecolor\": \"white\", \"zerolinewidth\": 2}, \"yaxis\": {\"automargin\": true, \"gridcolor\": \"white\", \"linecolor\": \"white\", \"ticks\": \"\", \"title\": {\"standoff\": 15}, \"zerolinecolor\": \"white\", \"zerolinewidth\": 2}}}},\n",
       "                        {\"responsive\": true}\n",
       "                    ).then(function(){\n",
       "                            \n",
       "var gd = document.getElementById('75f58c60-e2a6-48d5-b21d-5409de91b08c');\n",
       "var x = new MutationObserver(function (mutations, observer) {{\n",
       "        var display = window.getComputedStyle(gd).display;\n",
       "        if (!display || display === 'none') {{\n",
       "            console.log([gd, 'removed!']);\n",
       "            Plotly.purge(gd);\n",
       "            observer.disconnect();\n",
       "        }}\n",
       "}});\n",
       "\n",
       "// Listen for the removal of the full notebook cells\n",
       "var notebookContainer = gd.closest('#notebook-container');\n",
       "if (notebookContainer) {{\n",
       "    x.observe(notebookContainer, {childList: true});\n",
       "}}\n",
       "\n",
       "// Listen for the clearing of the current output cell\n",
       "var outputEl = gd.closest('.output');\n",
       "if (outputEl) {{\n",
       "    x.observe(outputEl, {childList: true});\n",
       "}}\n",
       "\n",
       "                        })\n",
       "                };\n",
       "                });\n",
       "            </script>\n",
       "        </div>"
      ]
     },
     "metadata": {},
     "output_type": "display_data"
    }
   ],
   "source": [
    "labels = ['Norte','Sul','Nordeste','Centro-Oeste','Sudeste']\n",
    "values = [norte.Norte.max(),sul.Sul.max(), nordeste.Nordeste.max(),centroOeste.CentroOeste.max(),sudeste.Sudeste.max()]\n",
    "\n",
    "fig = go.Figure(data=[go.Pie(labels=labels, values=values, textinfo='label+percent')])\n",
    "fig.show()"
   ]
  },
  {
   "cell_type": "markdown",
   "metadata": {},
   "source": [
    "# Monitoramento de casos de CVID19 Estados e Cidades"
   ]
  },
  {
   "cell_type": "code",
   "execution_count": 63,
   "metadata": {},
   "outputs": [],
   "source": [
    "import json\n",
    "from pandas.io.json import json_normalize\n",
    "#brasil = pd.read_csv('covid19Dia.csv', sep=',' ,index_col=None)\n",
    "url = 'https://brasil.io/api/dataset/covid19/caso/data?format=json'\n",
    "cidades = pd.read_json(url)"
   ]
  },
  {
   "cell_type": "code",
   "execution_count": 64,
   "metadata": {},
   "outputs": [
    {
     "name": "stderr",
     "output_type": "stream",
     "text": [
      "C:\\Users\\joner\\anaconda3\\lib\\site-packages\\ipykernel_launcher.py:1: FutureWarning:\n",
      "\n",
      "pandas.io.json.json_normalize is deprecated, use pandas.json_normalize instead\n",
      "\n"
     ]
    }
   ],
   "source": [
    "brasil = json_normalize(cidades.results)\n"
   ]
  },
  {
   "cell_type": "code",
   "execution_count": 65,
   "metadata": {},
   "outputs": [],
   "source": [
    "#Estados\n",
    "dataSP =brasil[ brasil.city.isnull()]\n",
    "sp = dataSP [ dataSP.state == 'SP']\n",
    "\n",
    "dataRJ =brasil[ brasil.city.isnull() ]\n",
    "rj = dataRJ [ dataRJ.state == 'RJ']\n",
    "\n",
    "dataRS =brasil[ brasil.city.isnull() ]\n",
    "rs = dataRS [ dataRS.state == 'RS']\n",
    "#Ceará\n",
    "dataCE = brasil[ brasil.city.isnull() ]\n",
    "ce = dataCE [ dataCE.state == 'CE']\n",
    "#acre\n",
    "dataAC = brasil[ brasil.city.isnull() ]\n",
    "ac = dataAC [ dataAC.state == 'AC']\n",
    "#Alagoas\n",
    "dataAL = brasil[ brasil.city.isnull() ]\n",
    "al = dataAL [ dataAL.state == 'AL']\n",
    "#Amazonas\n",
    "dataAM = brasil[ brasil.city.isnull() ]\n",
    "am = dataAM [ dataAM.state == 'AM']\n",
    "#Amapá\n",
    "dataAP = brasil[ brasil.city.isnull() ]\n",
    "ap = dataAP [ dataAP.state == 'AP']\n",
    "#Bahia\n",
    "dataBA = brasil[ brasil.city.isnull() ]\n",
    "ba = dataBA [ dataBA.state == 'BA']\n",
    "#Distrito Federal\n",
    "dataDF = brasil[ brasil.city.isnull() ]\n",
    "df = dataDF [ dataDF.state == 'DF']\n",
    "#Espírito Santo\n",
    "dataES = brasil[ brasil.city.isnull() ]\n",
    "es = dataES [ dataES.state == 'ES']\n",
    "#Goiás\n",
    "dataGO = brasil[ brasil.city.isnull() ]\n",
    "goi = dataGO [ dataGO.state == 'GO']\n",
    "#Maranhão\n",
    "dataMA = brasil[ brasil.city.isnull() ]\n",
    "ma = dataMA [ dataMA.state == 'MA']\n",
    "#Mato Grosso\n",
    "dataMT = brasil[ brasil.city.isnull() ]\n",
    "mt = dataMT [ dataMT.state == 'MT']\n",
    "#Mato Grosso do Sul\n",
    "dataMS = brasil[ brasil.city.isnull() ]\n",
    "ms = dataMS [ dataMS.state == 'MS']\n",
    "#Minas Gerais\n",
    "dataMG = brasil[ brasil.city.isnull() ]\n",
    "mg = dataMG [ dataMG.state == 'MG']\n",
    "#Pará\n",
    "dataPA = brasil[ brasil.city.isnull() ]\n",
    "pa = dataPA [ dataPA.state == 'PA']\n",
    "#Paraíba\n",
    "dataPB = brasil[ brasil.city.isnull() ]\n",
    "pb = dataPB [ dataPB.state == 'PB']\n",
    "#Paraná\n",
    "dataPR = brasil[ brasil.city.isnull() ]\n",
    "pr = dataPR [ dataPR.state == 'PR']\n",
    "#Pernambuco\n",
    "dataPE = brasil[ brasil.city.isnull() ]\n",
    "pe = dataPE [ dataPE.state == 'PE']\n",
    "#Piauí\n",
    "dataPI = brasil[ brasil.city.isnull() ]\n",
    "pi = dataPI [ dataPI.state == 'PI']\n",
    "#Rio Grande do Norte\n",
    "dataRN = brasil[ brasil.city.isnull() ]\n",
    "rn = dataRN [ dataRN.state == 'RN']\n",
    "#Rondônia\n",
    "dataRO = brasil[ brasil.city.isnull() ]\n",
    "ro = dataRO [ dataRO.state == 'RO']\n",
    "#Roraima\n",
    "dataRR = brasil[ brasil.city.isnull() ]\n",
    "rr = dataRR[ dataRR.state == 'RR']\n",
    "#Santa Catarina\n",
    "dataSC = brasil[ brasil.city.isnull() ]\n",
    "sc = dataSC[ dataSC.state == 'SC']\n",
    "#Sergipe\n",
    "dataSE = brasil[ brasil.city.isnull() ]\n",
    "se = dataSE[ dataSE.state == 'SE']\n",
    "#Tocantins\n",
    "dataTO = brasil[ brasil.city.isnull() ]\n",
    "to = dataTO[ dataTO.state == 'TO']"
   ]
  },
  {
   "cell_type": "code",
   "execution_count": 66,
   "metadata": {},
   "outputs": [],
   "source": [
    "dataRS =brasil[ brasil.city.notnull() ]\n",
    "rs = dataRS [ (dataRS.state == 'RS')&(dataRS.date == '2020-04-03')].sort_values(by='confirmed',ascending=False)\n",
    "rs.groupby(['city'] )\n",
    "rs.fillna(0, inplace = True)\n",
    "#rs[['city','confirmed','deaths', 'date','total']]\n"
   ]
  },
  {
   "cell_type": "code",
   "execution_count": 67,
   "metadata": {},
   "outputs": [
    {
     "data": {
      "application/vnd.plotly.v1+json": {
       "config": {
        "plotlyServerURL": "https://plot.ly"
       },
       "data": [
        {
         "cells": {
          "align": "left",
          "fill": {
           "color": "lavender"
          },
          "values": [
           [
            "Porto Alegre",
            "Bagé",
            "Novo Hamburgo",
            "Caxias do Sul",
            "Bento Gonçalves",
            "Gravataí",
            "Canoas",
            "Torres",
            "São Leopoldo",
            "Lajeado",
            "Sant'Ana do Livramento",
            "Ivoti",
            "Viamão",
            "Estância Velha",
            "Alvorada",
            "Passo Fundo",
            "Pelotas",
            "Marau",
            "Erechim",
            "Campo Bom",
            "Serafina Corrêa",
            "Rio Grande",
            "Anta Gorda",
            "Santa Rosa",
            "Cachoeirinha",
            "Capão da Canoa",
            "Farroupilha",
            "São Sebastião do Caí",
            "Dois Irmãos",
            "Santa Maria",
            "São Gabriel",
            "Taquari",
            "Tramandaí",
            "Sapiranga",
            "São Domingos do Sul",
            "Uruguaiana",
            "Santo Antônio da Patrulha",
            "Santiago",
            "Taquara",
            "Sapucaia do Sul",
            "Alegrete",
            "Rolante",
            "Piratini",
            "Cachoeira do Sul",
            "Canguçu",
            "Capão do Leão",
            "Carlos Barbosa",
            "Cerro Grande do Sul",
            "Charqueadas",
            "Cruzeiro do Sul",
            "Dom Pedrito",
            "Eldorado do Sul",
            "Estrela",
            "Garibaldi",
            "Guaíba",
            "Nova Palma",
            "Osório",
            "Paraí",
            "Vila Maria"
           ],
           [
            233,
            18,
            14,
            13,
            9,
            9,
            8,
            8,
            8,
            6,
            5,
            4,
            4,
            3,
            3,
            3,
            3,
            3,
            3,
            3,
            3,
            2,
            2,
            2,
            2,
            2,
            2,
            2,
            2,
            2,
            1,
            1,
            1,
            1,
            1,
            1,
            1,
            1,
            1,
            1,
            1,
            1,
            1,
            1,
            1,
            1,
            1,
            1,
            1,
            1,
            1,
            1,
            1,
            1,
            1,
            1,
            1,
            1,
            1
           ],
           [
            4,
            0,
            1,
            0,
            0,
            0,
            0,
            0,
            0,
            0,
            0,
            1,
            0,
            0,
            0,
            0,
            0,
            0,
            0,
            0,
            0,
            0,
            0,
            0,
            0,
            0,
            0,
            0,
            0,
            0,
            0,
            0,
            0,
            0,
            0,
            0,
            0,
            0,
            0,
            0,
            0,
            0,
            0,
            0,
            0,
            0,
            0,
            0,
            0,
            0,
            0,
            0,
            0,
            0,
            0,
            0,
            0,
            0,
            0
           ]
          ]
         },
         "header": {
          "align": "left",
          "fill": {
           "color": "paleturquoise"
          },
          "values": [
           "Cidades  % 11.87<br><b>Total--</b>59</br>",
           "<br>Confirmados</br> <b>Total-</b>410",
           "<br>Mortes</br>  <b>Total-</b>6"
          ]
         },
         "type": "table"
        }
       ],
       "layout": {
        "template": {
         "data": {
          "bar": [
           {
            "error_x": {
             "color": "#2a3f5f"
            },
            "error_y": {
             "color": "#2a3f5f"
            },
            "marker": {
             "line": {
              "color": "#E5ECF6",
              "width": 0.5
             }
            },
            "type": "bar"
           }
          ],
          "barpolar": [
           {
            "marker": {
             "line": {
              "color": "#E5ECF6",
              "width": 0.5
             }
            },
            "type": "barpolar"
           }
          ],
          "carpet": [
           {
            "aaxis": {
             "endlinecolor": "#2a3f5f",
             "gridcolor": "white",
             "linecolor": "white",
             "minorgridcolor": "white",
             "startlinecolor": "#2a3f5f"
            },
            "baxis": {
             "endlinecolor": "#2a3f5f",
             "gridcolor": "white",
             "linecolor": "white",
             "minorgridcolor": "white",
             "startlinecolor": "#2a3f5f"
            },
            "type": "carpet"
           }
          ],
          "choropleth": [
           {
            "colorbar": {
             "outlinewidth": 0,
             "ticks": ""
            },
            "type": "choropleth"
           }
          ],
          "contour": [
           {
            "colorbar": {
             "outlinewidth": 0,
             "ticks": ""
            },
            "colorscale": [
             [
              0,
              "#0d0887"
             ],
             [
              0.1111111111111111,
              "#46039f"
             ],
             [
              0.2222222222222222,
              "#7201a8"
             ],
             [
              0.3333333333333333,
              "#9c179e"
             ],
             [
              0.4444444444444444,
              "#bd3786"
             ],
             [
              0.5555555555555556,
              "#d8576b"
             ],
             [
              0.6666666666666666,
              "#ed7953"
             ],
             [
              0.7777777777777778,
              "#fb9f3a"
             ],
             [
              0.8888888888888888,
              "#fdca26"
             ],
             [
              1,
              "#f0f921"
             ]
            ],
            "type": "contour"
           }
          ],
          "contourcarpet": [
           {
            "colorbar": {
             "outlinewidth": 0,
             "ticks": ""
            },
            "type": "contourcarpet"
           }
          ],
          "heatmap": [
           {
            "colorbar": {
             "outlinewidth": 0,
             "ticks": ""
            },
            "colorscale": [
             [
              0,
              "#0d0887"
             ],
             [
              0.1111111111111111,
              "#46039f"
             ],
             [
              0.2222222222222222,
              "#7201a8"
             ],
             [
              0.3333333333333333,
              "#9c179e"
             ],
             [
              0.4444444444444444,
              "#bd3786"
             ],
             [
              0.5555555555555556,
              "#d8576b"
             ],
             [
              0.6666666666666666,
              "#ed7953"
             ],
             [
              0.7777777777777778,
              "#fb9f3a"
             ],
             [
              0.8888888888888888,
              "#fdca26"
             ],
             [
              1,
              "#f0f921"
             ]
            ],
            "type": "heatmap"
           }
          ],
          "heatmapgl": [
           {
            "colorbar": {
             "outlinewidth": 0,
             "ticks": ""
            },
            "colorscale": [
             [
              0,
              "#0d0887"
             ],
             [
              0.1111111111111111,
              "#46039f"
             ],
             [
              0.2222222222222222,
              "#7201a8"
             ],
             [
              0.3333333333333333,
              "#9c179e"
             ],
             [
              0.4444444444444444,
              "#bd3786"
             ],
             [
              0.5555555555555556,
              "#d8576b"
             ],
             [
              0.6666666666666666,
              "#ed7953"
             ],
             [
              0.7777777777777778,
              "#fb9f3a"
             ],
             [
              0.8888888888888888,
              "#fdca26"
             ],
             [
              1,
              "#f0f921"
             ]
            ],
            "type": "heatmapgl"
           }
          ],
          "histogram": [
           {
            "marker": {
             "colorbar": {
              "outlinewidth": 0,
              "ticks": ""
             }
            },
            "type": "histogram"
           }
          ],
          "histogram2d": [
           {
            "colorbar": {
             "outlinewidth": 0,
             "ticks": ""
            },
            "colorscale": [
             [
              0,
              "#0d0887"
             ],
             [
              0.1111111111111111,
              "#46039f"
             ],
             [
              0.2222222222222222,
              "#7201a8"
             ],
             [
              0.3333333333333333,
              "#9c179e"
             ],
             [
              0.4444444444444444,
              "#bd3786"
             ],
             [
              0.5555555555555556,
              "#d8576b"
             ],
             [
              0.6666666666666666,
              "#ed7953"
             ],
             [
              0.7777777777777778,
              "#fb9f3a"
             ],
             [
              0.8888888888888888,
              "#fdca26"
             ],
             [
              1,
              "#f0f921"
             ]
            ],
            "type": "histogram2d"
           }
          ],
          "histogram2dcontour": [
           {
            "colorbar": {
             "outlinewidth": 0,
             "ticks": ""
            },
            "colorscale": [
             [
              0,
              "#0d0887"
             ],
             [
              0.1111111111111111,
              "#46039f"
             ],
             [
              0.2222222222222222,
              "#7201a8"
             ],
             [
              0.3333333333333333,
              "#9c179e"
             ],
             [
              0.4444444444444444,
              "#bd3786"
             ],
             [
              0.5555555555555556,
              "#d8576b"
             ],
             [
              0.6666666666666666,
              "#ed7953"
             ],
             [
              0.7777777777777778,
              "#fb9f3a"
             ],
             [
              0.8888888888888888,
              "#fdca26"
             ],
             [
              1,
              "#f0f921"
             ]
            ],
            "type": "histogram2dcontour"
           }
          ],
          "mesh3d": [
           {
            "colorbar": {
             "outlinewidth": 0,
             "ticks": ""
            },
            "type": "mesh3d"
           }
          ],
          "parcoords": [
           {
            "line": {
             "colorbar": {
              "outlinewidth": 0,
              "ticks": ""
             }
            },
            "type": "parcoords"
           }
          ],
          "pie": [
           {
            "automargin": true,
            "type": "pie"
           }
          ],
          "scatter": [
           {
            "marker": {
             "colorbar": {
              "outlinewidth": 0,
              "ticks": ""
             }
            },
            "type": "scatter"
           }
          ],
          "scatter3d": [
           {
            "line": {
             "colorbar": {
              "outlinewidth": 0,
              "ticks": ""
             }
            },
            "marker": {
             "colorbar": {
              "outlinewidth": 0,
              "ticks": ""
             }
            },
            "type": "scatter3d"
           }
          ],
          "scattercarpet": [
           {
            "marker": {
             "colorbar": {
              "outlinewidth": 0,
              "ticks": ""
             }
            },
            "type": "scattercarpet"
           }
          ],
          "scattergeo": [
           {
            "marker": {
             "colorbar": {
              "outlinewidth": 0,
              "ticks": ""
             }
            },
            "type": "scattergeo"
           }
          ],
          "scattergl": [
           {
            "marker": {
             "colorbar": {
              "outlinewidth": 0,
              "ticks": ""
             }
            },
            "type": "scattergl"
           }
          ],
          "scattermapbox": [
           {
            "marker": {
             "colorbar": {
              "outlinewidth": 0,
              "ticks": ""
             }
            },
            "type": "scattermapbox"
           }
          ],
          "scatterpolar": [
           {
            "marker": {
             "colorbar": {
              "outlinewidth": 0,
              "ticks": ""
             }
            },
            "type": "scatterpolar"
           }
          ],
          "scatterpolargl": [
           {
            "marker": {
             "colorbar": {
              "outlinewidth": 0,
              "ticks": ""
             }
            },
            "type": "scatterpolargl"
           }
          ],
          "scatterternary": [
           {
            "marker": {
             "colorbar": {
              "outlinewidth": 0,
              "ticks": ""
             }
            },
            "type": "scatterternary"
           }
          ],
          "surface": [
           {
            "colorbar": {
             "outlinewidth": 0,
             "ticks": ""
            },
            "colorscale": [
             [
              0,
              "#0d0887"
             ],
             [
              0.1111111111111111,
              "#46039f"
             ],
             [
              0.2222222222222222,
              "#7201a8"
             ],
             [
              0.3333333333333333,
              "#9c179e"
             ],
             [
              0.4444444444444444,
              "#bd3786"
             ],
             [
              0.5555555555555556,
              "#d8576b"
             ],
             [
              0.6666666666666666,
              "#ed7953"
             ],
             [
              0.7777777777777778,
              "#fb9f3a"
             ],
             [
              0.8888888888888888,
              "#fdca26"
             ],
             [
              1,
              "#f0f921"
             ]
            ],
            "type": "surface"
           }
          ],
          "table": [
           {
            "cells": {
             "fill": {
              "color": "#EBF0F8"
             },
             "line": {
              "color": "white"
             }
            },
            "header": {
             "fill": {
              "color": "#C8D4E3"
             },
             "line": {
              "color": "white"
             }
            },
            "type": "table"
           }
          ]
         },
         "layout": {
          "annotationdefaults": {
           "arrowcolor": "#2a3f5f",
           "arrowhead": 0,
           "arrowwidth": 1
          },
          "coloraxis": {
           "colorbar": {
            "outlinewidth": 0,
            "ticks": ""
           }
          },
          "colorscale": {
           "diverging": [
            [
             0,
             "#8e0152"
            ],
            [
             0.1,
             "#c51b7d"
            ],
            [
             0.2,
             "#de77ae"
            ],
            [
             0.3,
             "#f1b6da"
            ],
            [
             0.4,
             "#fde0ef"
            ],
            [
             0.5,
             "#f7f7f7"
            ],
            [
             0.6,
             "#e6f5d0"
            ],
            [
             0.7,
             "#b8e186"
            ],
            [
             0.8,
             "#7fbc41"
            ],
            [
             0.9,
             "#4d9221"
            ],
            [
             1,
             "#276419"
            ]
           ],
           "sequential": [
            [
             0,
             "#0d0887"
            ],
            [
             0.1111111111111111,
             "#46039f"
            ],
            [
             0.2222222222222222,
             "#7201a8"
            ],
            [
             0.3333333333333333,
             "#9c179e"
            ],
            [
             0.4444444444444444,
             "#bd3786"
            ],
            [
             0.5555555555555556,
             "#d8576b"
            ],
            [
             0.6666666666666666,
             "#ed7953"
            ],
            [
             0.7777777777777778,
             "#fb9f3a"
            ],
            [
             0.8888888888888888,
             "#fdca26"
            ],
            [
             1,
             "#f0f921"
            ]
           ],
           "sequentialminus": [
            [
             0,
             "#0d0887"
            ],
            [
             0.1111111111111111,
             "#46039f"
            ],
            [
             0.2222222222222222,
             "#7201a8"
            ],
            [
             0.3333333333333333,
             "#9c179e"
            ],
            [
             0.4444444444444444,
             "#bd3786"
            ],
            [
             0.5555555555555556,
             "#d8576b"
            ],
            [
             0.6666666666666666,
             "#ed7953"
            ],
            [
             0.7777777777777778,
             "#fb9f3a"
            ],
            [
             0.8888888888888888,
             "#fdca26"
            ],
            [
             1,
             "#f0f921"
            ]
           ]
          },
          "colorway": [
           "#636efa",
           "#EF553B",
           "#00cc96",
           "#ab63fa",
           "#FFA15A",
           "#19d3f3",
           "#FF6692",
           "#B6E880",
           "#FF97FF",
           "#FECB52"
          ],
          "font": {
           "color": "#2a3f5f"
          },
          "geo": {
           "bgcolor": "white",
           "lakecolor": "white",
           "landcolor": "#E5ECF6",
           "showlakes": true,
           "showland": true,
           "subunitcolor": "white"
          },
          "hoverlabel": {
           "align": "left"
          },
          "hovermode": "closest",
          "mapbox": {
           "style": "light"
          },
          "paper_bgcolor": "white",
          "plot_bgcolor": "#E5ECF6",
          "polar": {
           "angularaxis": {
            "gridcolor": "white",
            "linecolor": "white",
            "ticks": ""
           },
           "bgcolor": "#E5ECF6",
           "radialaxis": {
            "gridcolor": "white",
            "linecolor": "white",
            "ticks": ""
           }
          },
          "scene": {
           "xaxis": {
            "backgroundcolor": "#E5ECF6",
            "gridcolor": "white",
            "gridwidth": 2,
            "linecolor": "white",
            "showbackground": true,
            "ticks": "",
            "zerolinecolor": "white"
           },
           "yaxis": {
            "backgroundcolor": "#E5ECF6",
            "gridcolor": "white",
            "gridwidth": 2,
            "linecolor": "white",
            "showbackground": true,
            "ticks": "",
            "zerolinecolor": "white"
           },
           "zaxis": {
            "backgroundcolor": "#E5ECF6",
            "gridcolor": "white",
            "gridwidth": 2,
            "linecolor": "white",
            "showbackground": true,
            "ticks": "",
            "zerolinecolor": "white"
           }
          },
          "shapedefaults": {
           "line": {
            "color": "#2a3f5f"
           }
          },
          "ternary": {
           "aaxis": {
            "gridcolor": "white",
            "linecolor": "white",
            "ticks": ""
           },
           "baxis": {
            "gridcolor": "white",
            "linecolor": "white",
            "ticks": ""
           },
           "bgcolor": "#E5ECF6",
           "caxis": {
            "gridcolor": "white",
            "linecolor": "white",
            "ticks": ""
           }
          },
          "title": {
           "x": 0.05
          },
          "xaxis": {
           "automargin": true,
           "gridcolor": "white",
           "linecolor": "white",
           "ticks": "",
           "title": {
            "standoff": 15
           },
           "zerolinecolor": "white",
           "zerolinewidth": 2
          },
          "yaxis": {
           "automargin": true,
           "gridcolor": "white",
           "linecolor": "white",
           "ticks": "",
           "title": {
            "standoff": 15
           },
           "zerolinecolor": "white",
           "zerolinewidth": 2
          }
         }
        }
       }
      },
      "text/html": [
       "<div>\n",
       "        \n",
       "        \n",
       "            <div id=\"45b3f7bd-5796-4660-bac3-7e287dcd1a75\" class=\"plotly-graph-div\" style=\"height:525px; width:100%;\"></div>\n",
       "            <script type=\"text/javascript\">\n",
       "                require([\"plotly\"], function(Plotly) {\n",
       "                    window.PLOTLYENV=window.PLOTLYENV || {};\n",
       "                    \n",
       "                if (document.getElementById(\"45b3f7bd-5796-4660-bac3-7e287dcd1a75\")) {\n",
       "                    Plotly.newPlot(\n",
       "                        '45b3f7bd-5796-4660-bac3-7e287dcd1a75',\n",
       "                        [{\"cells\": {\"align\": \"left\", \"fill\": {\"color\": \"lavender\"}, \"values\": [[\"Porto Alegre\", \"Bag\\u00e9\", \"Novo Hamburgo\", \"Caxias do Sul\", \"Bento Gon\\u00e7alves\", \"Gravata\\u00ed\", \"Canoas\", \"Torres\", \"S\\u00e3o Leopoldo\", \"Lajeado\", \"Sant'Ana do Livramento\", \"Ivoti\", \"Viam\\u00e3o\", \"Est\\u00e2ncia Velha\", \"Alvorada\", \"Passo Fundo\", \"Pelotas\", \"Marau\", \"Erechim\", \"Campo Bom\", \"Serafina Corr\\u00eaa\", \"Rio Grande\", \"Anta Gorda\", \"Santa Rosa\", \"Cachoeirinha\", \"Cap\\u00e3o da Canoa\", \"Farroupilha\", \"S\\u00e3o Sebasti\\u00e3o do Ca\\u00ed\", \"Dois Irm\\u00e3os\", \"Santa Maria\", \"S\\u00e3o Gabriel\", \"Taquari\", \"Tramanda\\u00ed\", \"Sapiranga\", \"S\\u00e3o Domingos do Sul\", \"Uruguaiana\", \"Santo Ant\\u00f4nio da Patrulha\", \"Santiago\", \"Taquara\", \"Sapucaia do Sul\", \"Alegrete\", \"Rolante\", \"Piratini\", \"Cachoeira do Sul\", \"Cangu\\u00e7u\", \"Cap\\u00e3o do Le\\u00e3o\", \"Carlos Barbosa\", \"Cerro Grande do Sul\", \"Charqueadas\", \"Cruzeiro do Sul\", \"Dom Pedrito\", \"Eldorado do Sul\", \"Estrela\", \"Garibaldi\", \"Gua\\u00edba\", \"Nova Palma\", \"Os\\u00f3rio\", \"Para\\u00ed\", \"Vila Maria\"], [233, 18, 14, 13, 9, 9, 8, 8, 8, 6, 5, 4, 4, 3, 3, 3, 3, 3, 3, 3, 3, 2, 2, 2, 2, 2, 2, 2, 2, 2, 1, 1, 1, 1, 1, 1, 1, 1, 1, 1, 1, 1, 1, 1, 1, 1, 1, 1, 1, 1, 1, 1, 1, 1, 1, 1, 1, 1, 1], [4, 0, 1, 0, 0, 0, 0, 0, 0, 0, 0, 1, 0, 0, 0, 0, 0, 0, 0, 0, 0, 0, 0, 0, 0, 0, 0, 0, 0, 0, 0, 0, 0, 0, 0, 0, 0, 0, 0, 0, 0, 0, 0, 0, 0, 0, 0, 0, 0, 0, 0, 0, 0, 0, 0, 0, 0, 0, 0]]}, \"header\": {\"align\": \"left\", \"fill\": {\"color\": \"paleturquoise\"}, \"values\": [\"Cidades  % 11.87<br><b>Total--</b>59</br>\", \"<br>Confirmados</br> <b>Total-</b>410\", \"<br>Mortes</br>  <b>Total-</b>6\"]}, \"type\": \"table\"}],\n",
       "                        {\"template\": {\"data\": {\"bar\": [{\"error_x\": {\"color\": \"#2a3f5f\"}, \"error_y\": {\"color\": \"#2a3f5f\"}, \"marker\": {\"line\": {\"color\": \"#E5ECF6\", \"width\": 0.5}}, \"type\": \"bar\"}], \"barpolar\": [{\"marker\": {\"line\": {\"color\": \"#E5ECF6\", \"width\": 0.5}}, \"type\": \"barpolar\"}], \"carpet\": [{\"aaxis\": {\"endlinecolor\": \"#2a3f5f\", \"gridcolor\": \"white\", \"linecolor\": \"white\", \"minorgridcolor\": \"white\", \"startlinecolor\": \"#2a3f5f\"}, \"baxis\": {\"endlinecolor\": \"#2a3f5f\", \"gridcolor\": \"white\", \"linecolor\": \"white\", \"minorgridcolor\": \"white\", \"startlinecolor\": \"#2a3f5f\"}, \"type\": \"carpet\"}], \"choropleth\": [{\"colorbar\": {\"outlinewidth\": 0, \"ticks\": \"\"}, \"type\": \"choropleth\"}], \"contour\": [{\"colorbar\": {\"outlinewidth\": 0, \"ticks\": \"\"}, \"colorscale\": [[0.0, \"#0d0887\"], [0.1111111111111111, \"#46039f\"], [0.2222222222222222, \"#7201a8\"], [0.3333333333333333, \"#9c179e\"], [0.4444444444444444, \"#bd3786\"], [0.5555555555555556, \"#d8576b\"], [0.6666666666666666, \"#ed7953\"], [0.7777777777777778, \"#fb9f3a\"], [0.8888888888888888, \"#fdca26\"], [1.0, \"#f0f921\"]], \"type\": \"contour\"}], \"contourcarpet\": [{\"colorbar\": {\"outlinewidth\": 0, \"ticks\": \"\"}, \"type\": \"contourcarpet\"}], \"heatmap\": [{\"colorbar\": {\"outlinewidth\": 0, \"ticks\": \"\"}, \"colorscale\": [[0.0, \"#0d0887\"], [0.1111111111111111, \"#46039f\"], [0.2222222222222222, \"#7201a8\"], [0.3333333333333333, \"#9c179e\"], [0.4444444444444444, \"#bd3786\"], [0.5555555555555556, \"#d8576b\"], [0.6666666666666666, \"#ed7953\"], [0.7777777777777778, \"#fb9f3a\"], [0.8888888888888888, \"#fdca26\"], [1.0, \"#f0f921\"]], \"type\": \"heatmap\"}], \"heatmapgl\": [{\"colorbar\": {\"outlinewidth\": 0, \"ticks\": \"\"}, \"colorscale\": [[0.0, \"#0d0887\"], [0.1111111111111111, \"#46039f\"], [0.2222222222222222, \"#7201a8\"], [0.3333333333333333, \"#9c179e\"], [0.4444444444444444, \"#bd3786\"], [0.5555555555555556, \"#d8576b\"], [0.6666666666666666, \"#ed7953\"], [0.7777777777777778, \"#fb9f3a\"], [0.8888888888888888, \"#fdca26\"], [1.0, \"#f0f921\"]], \"type\": \"heatmapgl\"}], \"histogram\": [{\"marker\": {\"colorbar\": {\"outlinewidth\": 0, \"ticks\": \"\"}}, \"type\": \"histogram\"}], \"histogram2d\": [{\"colorbar\": {\"outlinewidth\": 0, \"ticks\": \"\"}, \"colorscale\": [[0.0, \"#0d0887\"], [0.1111111111111111, \"#46039f\"], [0.2222222222222222, \"#7201a8\"], [0.3333333333333333, \"#9c179e\"], [0.4444444444444444, \"#bd3786\"], [0.5555555555555556, \"#d8576b\"], [0.6666666666666666, \"#ed7953\"], [0.7777777777777778, \"#fb9f3a\"], [0.8888888888888888, \"#fdca26\"], [1.0, \"#f0f921\"]], \"type\": \"histogram2d\"}], \"histogram2dcontour\": [{\"colorbar\": {\"outlinewidth\": 0, \"ticks\": \"\"}, \"colorscale\": [[0.0, \"#0d0887\"], [0.1111111111111111, \"#46039f\"], [0.2222222222222222, \"#7201a8\"], [0.3333333333333333, \"#9c179e\"], [0.4444444444444444, \"#bd3786\"], [0.5555555555555556, \"#d8576b\"], [0.6666666666666666, \"#ed7953\"], [0.7777777777777778, \"#fb9f3a\"], [0.8888888888888888, \"#fdca26\"], [1.0, \"#f0f921\"]], \"type\": \"histogram2dcontour\"}], \"mesh3d\": [{\"colorbar\": {\"outlinewidth\": 0, \"ticks\": \"\"}, \"type\": \"mesh3d\"}], \"parcoords\": [{\"line\": {\"colorbar\": {\"outlinewidth\": 0, \"ticks\": \"\"}}, \"type\": \"parcoords\"}], \"pie\": [{\"automargin\": true, \"type\": \"pie\"}], \"scatter\": [{\"marker\": {\"colorbar\": {\"outlinewidth\": 0, \"ticks\": \"\"}}, \"type\": \"scatter\"}], \"scatter3d\": [{\"line\": {\"colorbar\": {\"outlinewidth\": 0, \"ticks\": \"\"}}, \"marker\": {\"colorbar\": {\"outlinewidth\": 0, \"ticks\": \"\"}}, \"type\": \"scatter3d\"}], \"scattercarpet\": [{\"marker\": {\"colorbar\": {\"outlinewidth\": 0, \"ticks\": \"\"}}, \"type\": \"scattercarpet\"}], \"scattergeo\": [{\"marker\": {\"colorbar\": {\"outlinewidth\": 0, \"ticks\": \"\"}}, \"type\": \"scattergeo\"}], \"scattergl\": [{\"marker\": {\"colorbar\": {\"outlinewidth\": 0, \"ticks\": \"\"}}, \"type\": \"scattergl\"}], \"scattermapbox\": [{\"marker\": {\"colorbar\": {\"outlinewidth\": 0, \"ticks\": \"\"}}, \"type\": \"scattermapbox\"}], \"scatterpolar\": [{\"marker\": {\"colorbar\": {\"outlinewidth\": 0, \"ticks\": \"\"}}, \"type\": \"scatterpolar\"}], \"scatterpolargl\": [{\"marker\": {\"colorbar\": {\"outlinewidth\": 0, \"ticks\": \"\"}}, \"type\": \"scatterpolargl\"}], \"scatterternary\": [{\"marker\": {\"colorbar\": {\"outlinewidth\": 0, \"ticks\": \"\"}}, \"type\": \"scatterternary\"}], \"surface\": [{\"colorbar\": {\"outlinewidth\": 0, \"ticks\": \"\"}, \"colorscale\": [[0.0, \"#0d0887\"], [0.1111111111111111, \"#46039f\"], [0.2222222222222222, \"#7201a8\"], [0.3333333333333333, \"#9c179e\"], [0.4444444444444444, \"#bd3786\"], [0.5555555555555556, \"#d8576b\"], [0.6666666666666666, \"#ed7953\"], [0.7777777777777778, \"#fb9f3a\"], [0.8888888888888888, \"#fdca26\"], [1.0, \"#f0f921\"]], \"type\": \"surface\"}], \"table\": [{\"cells\": {\"fill\": {\"color\": \"#EBF0F8\"}, \"line\": {\"color\": \"white\"}}, \"header\": {\"fill\": {\"color\": \"#C8D4E3\"}, \"line\": {\"color\": \"white\"}}, \"type\": \"table\"}]}, \"layout\": {\"annotationdefaults\": {\"arrowcolor\": \"#2a3f5f\", \"arrowhead\": 0, \"arrowwidth\": 1}, \"coloraxis\": {\"colorbar\": {\"outlinewidth\": 0, \"ticks\": \"\"}}, \"colorscale\": {\"diverging\": [[0, \"#8e0152\"], [0.1, \"#c51b7d\"], [0.2, \"#de77ae\"], [0.3, \"#f1b6da\"], [0.4, \"#fde0ef\"], [0.5, \"#f7f7f7\"], [0.6, \"#e6f5d0\"], [0.7, \"#b8e186\"], [0.8, \"#7fbc41\"], [0.9, \"#4d9221\"], [1, \"#276419\"]], \"sequential\": [[0.0, \"#0d0887\"], [0.1111111111111111, \"#46039f\"], [0.2222222222222222, \"#7201a8\"], [0.3333333333333333, \"#9c179e\"], [0.4444444444444444, \"#bd3786\"], [0.5555555555555556, \"#d8576b\"], [0.6666666666666666, \"#ed7953\"], [0.7777777777777778, \"#fb9f3a\"], [0.8888888888888888, \"#fdca26\"], [1.0, \"#f0f921\"]], \"sequentialminus\": [[0.0, \"#0d0887\"], [0.1111111111111111, \"#46039f\"], [0.2222222222222222, \"#7201a8\"], [0.3333333333333333, \"#9c179e\"], [0.4444444444444444, \"#bd3786\"], [0.5555555555555556, \"#d8576b\"], [0.6666666666666666, \"#ed7953\"], [0.7777777777777778, \"#fb9f3a\"], [0.8888888888888888, \"#fdca26\"], [1.0, \"#f0f921\"]]}, \"colorway\": [\"#636efa\", \"#EF553B\", \"#00cc96\", \"#ab63fa\", \"#FFA15A\", \"#19d3f3\", \"#FF6692\", \"#B6E880\", \"#FF97FF\", \"#FECB52\"], \"font\": {\"color\": \"#2a3f5f\"}, \"geo\": {\"bgcolor\": \"white\", \"lakecolor\": \"white\", \"landcolor\": \"#E5ECF6\", \"showlakes\": true, \"showland\": true, \"subunitcolor\": \"white\"}, \"hoverlabel\": {\"align\": \"left\"}, \"hovermode\": \"closest\", \"mapbox\": {\"style\": \"light\"}, \"paper_bgcolor\": \"white\", \"plot_bgcolor\": \"#E5ECF6\", \"polar\": {\"angularaxis\": {\"gridcolor\": \"white\", \"linecolor\": \"white\", \"ticks\": \"\"}, \"bgcolor\": \"#E5ECF6\", \"radialaxis\": {\"gridcolor\": \"white\", \"linecolor\": \"white\", \"ticks\": \"\"}}, \"scene\": {\"xaxis\": {\"backgroundcolor\": \"#E5ECF6\", \"gridcolor\": \"white\", \"gridwidth\": 2, \"linecolor\": \"white\", \"showbackground\": true, \"ticks\": \"\", \"zerolinecolor\": \"white\"}, \"yaxis\": {\"backgroundcolor\": \"#E5ECF6\", \"gridcolor\": \"white\", \"gridwidth\": 2, \"linecolor\": \"white\", \"showbackground\": true, \"ticks\": \"\", \"zerolinecolor\": \"white\"}, \"zaxis\": {\"backgroundcolor\": \"#E5ECF6\", \"gridcolor\": \"white\", \"gridwidth\": 2, \"linecolor\": \"white\", \"showbackground\": true, \"ticks\": \"\", \"zerolinecolor\": \"white\"}}, \"shapedefaults\": {\"line\": {\"color\": \"#2a3f5f\"}}, \"ternary\": {\"aaxis\": {\"gridcolor\": \"white\", \"linecolor\": \"white\", \"ticks\": \"\"}, \"baxis\": {\"gridcolor\": \"white\", \"linecolor\": \"white\", \"ticks\": \"\"}, \"bgcolor\": \"#E5ECF6\", \"caxis\": {\"gridcolor\": \"white\", \"linecolor\": \"white\", \"ticks\": \"\"}}, \"title\": {\"x\": 0.05}, \"xaxis\": {\"automargin\": true, \"gridcolor\": \"white\", \"linecolor\": \"white\", \"ticks\": \"\", \"title\": {\"standoff\": 15}, \"zerolinecolor\": \"white\", \"zerolinewidth\": 2}, \"yaxis\": {\"automargin\": true, \"gridcolor\": \"white\", \"linecolor\": \"white\", \"ticks\": \"\", \"title\": {\"standoff\": 15}, \"zerolinecolor\": \"white\", \"zerolinewidth\": 2}}}},\n",
       "                        {\"responsive\": true}\n",
       "                    ).then(function(){\n",
       "                            \n",
       "var gd = document.getElementById('45b3f7bd-5796-4660-bac3-7e287dcd1a75');\n",
       "var x = new MutationObserver(function (mutations, observer) {{\n",
       "        var display = window.getComputedStyle(gd).display;\n",
       "        if (!display || display === 'none') {{\n",
       "            console.log([gd, 'removed!']);\n",
       "            Plotly.purge(gd);\n",
       "            observer.disconnect();\n",
       "        }}\n",
       "}});\n",
       "\n",
       "// Listen for the removal of the full notebook cells\n",
       "var notebookContainer = gd.closest('#notebook-container');\n",
       "if (notebookContainer) {{\n",
       "    x.observe(notebookContainer, {childList: true});\n",
       "}}\n",
       "\n",
       "// Listen for the clearing of the current output cell\n",
       "var outputEl = gd.closest('.output');\n",
       "if (outputEl) {{\n",
       "    x.observe(outputEl, {childList: true});\n",
       "}}\n",
       "\n",
       "                        })\n",
       "                };\n",
       "                });\n",
       "            </script>\n",
       "        </div>"
      ]
     },
     "metadata": {},
     "output_type": "display_data"
    }
   ],
   "source": [
    "# '<b>Data-</b>'+ str(rs.date.unique())\n",
    "fig = go.Figure(data=[go.Table(\n",
    "    header=dict(values=['Cidades  % '+ str(round(rs.city.size*100/497,2)) +'<br><b>Total--</b>'+str(rs.city.size) +'</br>' ,\n",
    "                        '<br>Confirmados</br> <b>Total-</b>'+ str(rs.confirmed.sum()),\n",
    "                        '<br>Mortes</br>  <b>Total-</b>'+ str(rs.deaths.sum().astype(int))],\n",
    "                fill_color='paleturquoise',\n",
    "                align='left'),\n",
    "    cells=dict(values=[rs.city, rs.confirmed,rs.deaths],\n",
    "               fill_color='lavender',\n",
    "               align='left'))\n",
    "])\n",
    "\n",
    "fig.show()"
   ]
  },
  {
   "cell_type": "markdown",
   "metadata": {},
   "source": [
    "# Monitoramento de casos de CVID19  Mundo"
   ]
  },
  {
   "cell_type": "code",
   "execution_count": 68,
   "metadata": {},
   "outputs": [],
   "source": [
    "tables = pd.read_html('https://docs.google.com/spreadsheets/u/0/d/e/2PACX-1vR30F8lYP3jG7YOq8es0PBpJIE5yvRVZffOyaqC0GgMBN6yt0Q-NI8pxS7hd1F9dYXnowSC6zpZmW9D/pubhtml/sheet?headers=false&gid=0&range=A1:I200',keep_default_na=False)\n",
    "df = tables[0]\n"
   ]
  },
  {
   "cell_type": "code",
   "execution_count": 69,
   "metadata": {},
   "outputs": [],
   "source": [
    "mundo=pd.DataFrame(df[7:199]) \n",
    "mundo.columns = ['indice','pais','casos','novoscasos','mortes','novasmortes','pmortes','casoscriticos','recuperados','link']\n"
   ]
  },
  {
   "cell_type": "code",
   "execution_count": 70,
   "metadata": {},
   "outputs": [
    {
     "data": {
      "application/vnd.plotly.v1+json": {
       "config": {
        "plotlyServerURL": "https://plot.ly"
       },
       "data": [
        {
         "cells": {
          "align": "left",
          "fill": {
           "color": "lavender"
          },
          "values": [
           [
            "United States",
            "Spain",
            "Italy",
            "Germany",
            "China",
            "France",
            "Iran",
            "United Kingdom",
            "Turkey",
            "Switzerland",
            "Belgium",
            "Netherlands",
            "Canada",
            "Austria",
            "Portugal",
            "South Korea",
            "Brazil",
            "Israel",
            "Sweden",
            "Australia",
            "Norway",
            "Russia",
            "Ireland",
            "Denmark",
            "Czech Republic",
            "Chile",
            "Poland",
            "Romania",
            "Japan",
            "Malaysia",
            "Ecuador",
            "Philippines",
            "India",
            "Luxembourg",
            "Pakistan",
            "Saudi Arabia",
            "Indonesia",
            "Thailand",
            "Mexico",
            "Finland",
            "Greece",
            "Panama",
            "Serbia",
            "Peru",
            "South Africa",
            "United Arab Emirates",
            "Dominican Republic",
            "Iceland",
            "Argentina",
            "Qatar",
            "Colombia",
            "Algeria",
            "Singapore",
            "Ukraine",
            "Croatia",
            "Estonia",
            "Egypt",
            "Slovenia",
            "New Zealand",
            "Morocco",
            "Iraq",
            "Hong Kong",
            "Lithuania",
            "Armenia",
            "Moldova",
            "Diamond Princess",
            "Bahrain",
            "Hungary",
            "Bosnia",
            "Tunisia",
            "Kazakhstan",
            "Azerbaijan",
            "Lebanon",
            "Cameroon",
            "Latvia",
            "Bulgaria",
            "North Macedonia",
            "Kuwait",
            "Slovakia",
            "Andorra",
            "Belarus",
            "Cyprus",
            "Costa Rica",
            "Uruguay",
            "Taiwan",
            "Burkina Faso",
            "Jordan",
            "Albania",
            "Afghanistan",
            "Oman",
            "Cuba",
            "Honduras",
            "Uzbekistan",
            "San Marino",
            "Vietnam",
            "Senegal",
            "Ivory Coast",
            "Malta",
            "Nigeria",
            "Ghana",
            "Palestine",
            "Mauritius",
            "Montenegro",
            "Sri Lanka",
            "Georgia",
            "Venezuela",
            "DR Congo",
            "Kyrgyzstan",
            "Bolivia",
            "Kosovo",
            "Brunei",
            "Kenya",
            "Jersey",
            "Guernsey",
            "Isle of Man",
            "Cambodia",
            "Trinidad and Tobago",
            "Paraguay",
            "Gibraltar",
            "Northern Cyprus",
            "Rwanda",
            "Liechtenstein",
            "Niger",
            "Bangladesh",
            "Monaco",
            "Aruba",
            "Madagascar",
            "El Salvador",
            "Guinea",
            "Guatemala",
            "Djibouti",
            "Jamaica",
            "Barbados",
            "Uganda",
            "Congo Republic",
            "Macau",
            "Togo",
            "Mali",
            "Zambia",
            "French Polynesia",
            "Ethiopia",
            "Bermuda",
            "Cayman Islands",
            "Bahamas",
            "Sint Maarten",
            "Eritrea",
            "Gabon",
            "Myanmar",
            "Tanzania",
            "Guyana",
            "Maldives",
            "New Caledonia",
            "Haiti",
            "Syria",
            "Equatorial Guinea",
            "Mongolia",
            "Namibia",
            "Benin",
            "Saint Lucia",
            "Fiji",
            "Libya",
            "CuraÃ§ao",
            "Greenland",
            "Seychelles",
            "Suriname",
            "Grenada",
            "Laos",
            "Mozambique",
            "Zimbabwe",
            "Eswatini",
            "Guinea-Bissau",
            "Nepal",
            "Antigua and Barbuda",
            "St. Kitts and Nevis",
            "Sudan",
            "Angola",
            "Central African Republic",
            "Chad",
            "Vatican City",
            "St. BarthÃ©lemy",
            "Cape Verde",
            "Mauritania",
            "Liberia",
            "Montserrat",
            "Turks and Caicos Islands",
            "Somalia",
            "Nicaragua",
            "Bhutan",
            "The Gambia",
            "Botswana",
            "Belize",
            "British Virgin Islands"
           ],
           [
            "300615",
            "124736",
            "124632",
            "94461",
            "83349",
            "68605",
            "55743",
            "41903",
            "23934",
            "19943",
            "18431",
            "16627",
            "13849",
            "11589",
            "10524",
            "10156",
            "9216",
            "7589",
            "6443",
            "5550",
            "5519",
            "4731",
            "4604",
            "4258",
            "4194",
            "4161",
            "3627",
            "3613",
            "3497",
            "3483",
            "3465",
            "3094",
            "3076",
            "2729",
            "2724",
            "2179",
            "2092",
            "2067",
            "1688",
            "1882",
            "1673",
            "1673",
            "1624",
            "1595",
            "1505",
            "1505",
            "1488",
            "1417",
            "1353",
            "1325",
            "1267",
            "1251",
            "1189",
            "1096",
            "1079",
            "1018",
            "985",
            "977",
            "950",
            "883",
            "878",
            "863",
            "771",
            "770",
            "752",
            "712",
            "688",
            "678",
            "617",
            "553",
            "525",
            "521",
            "520",
            "509",
            "509",
            "503",
            "483",
            "479",
            "471",
            "466",
            "440",
            "426",
            "416",
            "386",
            "355",
            "318",
            "310",
            "333",
            "299",
            "299",
            "288",
            "264",
            "263",
            "259",
            "240",
            "219",
            "218",
            "213",
            "209",
            "205",
            "205",
            "196",
            "194",
            "162",
            "157",
            "153",
            "148",
            "144",
            "139",
            "135",
            "135",
            "126",
            "126",
            "114",
            "114",
            "114",
            "100",
            "96",
            "95",
            "88",
            "84",
            "75",
            "74",
            "70",
            "60",
            "60",
            "59",
            "56",
            "52",
            "50",
            "49",
            "47",
            "46",
            "45",
            "41",
            "41",
            "40",
            "39",
            "39",
            "37",
            "35",
            "35",
            "28",
            "24",
            "23",
            "22",
            "21",
            "20",
            "20",
            "19",
            "19",
            "18",
            "18",
            "16",
            "15",
            "14",
            "14",
            "13",
            "13",
            "12",
            "11",
            "11",
            "10",
            "10",
            "10",
            "10",
            "10",
            "10",
            "9",
            "9",
            "9",
            "9",
            "9",
            "9",
            "8",
            "8",
            "8",
            "7",
            "7",
            "6",
            "6",
            "6",
            "6",
            "5",
            "5",
            "5",
            "5",
            "5",
            "4",
            "4",
            "3",
            "3"
           ],
           [
            "22994",
            "5537",
            "4805",
            "3258",
            "80",
            "4267",
            "2560",
            "3735",
            "3013",
            "241",
            "1661",
            "904",
            "1353",
            "73",
            "638",
            "94",
            "160",
            "161",
            "365",
            "220",
            "148",
            "582",
            "331",
            "322",
            "103",
            "424",
            "244",
            "430",
            "368",
            "150",
            "97",
            "76",
            "486",
            "117",
            "38",
            "140",
            "106",
            "89",
            "178",
            "267",
            "60",
            "0",
            "148",
            "0",
            "0",
            "241",
            "0",
            "53",
            "88",
            "250",
            "0",
            "80",
            "75",
            "24",
            "0",
            "57",
            "0",
            "43",
            "82",
            "122",
            "58",
            "17",
            "75",
            "34",
            "161",
            "0",
            "15",
            "55",
            "38",
            "58",
            "61",
            "121",
            "12",
            "0",
            "16",
            "18",
            "53",
            "62",
            "21",
            "27",
            "89",
            "30",
            "0",
            "17",
            "7",
            "16",
            "0",
            "29",
            "25",
            "47",
            "19",
            "42",
            "42",
            "8",
            "3",
            "12",
            "24",
            "11",
            "19",
            "0",
            "11",
            "10",
            "20",
            "3",
            "2",
            "0",
            "14",
            "14",
            "7",
            "9",
            "2",
            "4",
            "8",
            "0",
            "0",
            "0",
            "3",
            "4",
            "0",
            "0",
            "0",
            "0",
            "0",
            "9",
            "0",
            "0",
            "0",
            "10",
            "0",
            "0",
            "0",
            "0",
            "0",
            "0",
            "0",
            "0",
            "0",
            "0",
            "0",
            "0",
            "0",
            "0",
            "0",
            "0",
            "0",
            "0",
            "0",
            "0",
            "0",
            "0",
            "0",
            "0",
            "0",
            "0",
            "0",
            "0",
            "0",
            "0",
            "0",
            "5",
            "0",
            "0",
            "0",
            "0",
            "0",
            "0",
            "0",
            "0",
            "0",
            "0",
            "0",
            "3",
            "0",
            "0",
            "0",
            "0",
            "0",
            "0",
            "0",
            "0",
            "0",
            "0",
            "0",
            "0",
            "0",
            "0",
            "0",
            "0",
            "0",
            "0",
            "0",
            "0"
           ],
           [
            "8129",
            "11814",
            "15362",
            "1365",
            "3326",
            "7560",
            "3452",
            "4313",
            "501",
            "632",
            "1283",
            "1651",
            "231",
            "186",
            "266",
            "177",
            "365",
            "43",
            "373",
            "30",
            "62",
            "43",
            "137",
            "161",
            "56",
            "27",
            "79",
            "140",
            "84",
            "57",
            "172",
            "144",
            "77",
            "31",
            "40",
            "29",
            "191",
            "20",
            "60",
            "20",
            "68",
            "41",
            "44",
            "61",
            "7",
            "10",
            "68",
            "4",
            "42",
            "3",
            "25",
            "130",
            "6",
            "28",
            "8",
            "13",
            "66",
            "22",
            "1",
            "58",
            "56",
            "4",
            "9",
            "7",
            "12",
            "11",
            "4",
            "32",
            "21",
            "19",
            "5",
            "5",
            "17",
            "8",
            "0",
            "17",
            "17",
            "1",
            "0",
            "17",
            "5",
            "13",
            "2",
            "4",
            "5",
            "16",
            "5",
            "18",
            "7",
            "1",
            "6",
            "15",
            "2",
            "32",
            "0",
            "2",
            "1",
            "0",
            "4",
            "5",
            "1",
            "7",
            "2",
            "5",
            "1",
            "7",
            "16",
            "1",
            "10",
            "1",
            "1",
            "4",
            "3",
            "2",
            "1",
            "0",
            "6",
            "3",
            "0",
            "2",
            "0",
            "0",
            "5",
            "8",
            "1",
            "0",
            "0",
            "3",
            "1",
            "1",
            "0",
            "2",
            "0",
            "0",
            "2",
            "0",
            "3",
            "3",
            "1",
            "0",
            "0",
            "0",
            "1",
            "1",
            "2",
            "0",
            "1",
            "1",
            "1",
            "4",
            "0",
            "0",
            "0",
            "2",
            "0",
            "0",
            "0",
            "0",
            "0",
            "0",
            "1",
            "1",
            "0",
            "0",
            "1",
            "0",
            "0",
            "0",
            "1",
            "0",
            "0",
            "0",
            "0",
            "0",
            "2",
            "2",
            "0",
            "0",
            "0",
            "0",
            "1",
            "1",
            "0",
            "0",
            "0",
            "0",
            "1",
            "0",
            "1",
            "1",
            "0",
            "0"
           ],
           [
            "737",
            "616",
            "681",
            "59",
            "4",
            "1053",
            "158",
            "708",
            "76",
            "28",
            "140",
            "164",
            "48",
            "18",
            "20",
            "3",
            "6",
            "3",
            "40",
            "2",
            "3",
            "9",
            "17",
            "22",
            "3",
            "5",
            "8",
            "7",
            "7",
            "4",
            "27",
            "8",
            "6",
            "0",
            "0",
            "4",
            "10",
            "1",
            "10",
            "1",
            "9",
            "0",
            "5",
            "0",
            "0",
            "1",
            "0",
            "0",
            "5",
            "0",
            "0",
            "25",
            "1",
            "1",
            "0",
            "1",
            "0",
            "2",
            "0",
            "11",
            "2",
            "0",
            "0",
            "0",
            "4",
            "0",
            "0",
            "6",
            "4",
            "1",
            "2",
            "0",
            "0",
            "0",
            "0",
            "3",
            "5",
            "1",
            "0",
            "1",
            "1",
            "0",
            "0",
            "0",
            "0",
            "0",
            "0",
            "2",
            "0",
            "0",
            "0",
            "1",
            "0",
            "0",
            "0",
            "1",
            "0",
            "0",
            "2",
            "0",
            "0",
            "0",
            "0",
            "1",
            "1",
            "0",
            "3",
            "0",
            "1",
            "0",
            "0",
            "0",
            "1",
            "0",
            "0",
            "0",
            "0",
            "0",
            "0",
            "0",
            "0",
            "0",
            "0",
            "2",
            "0",
            "0",
            "0",
            "1",
            "0",
            "0",
            "0",
            "0",
            "0",
            "0",
            "0",
            "0",
            "0",
            "0",
            "0",
            "0",
            "0",
            "0",
            "0",
            "0",
            "0",
            "0",
            "0",
            "0",
            "0",
            "0",
            "0",
            "0",
            "0",
            "0",
            "0",
            "0",
            "0",
            "0",
            "0",
            "0",
            "0",
            "0",
            "0",
            "0",
            "1",
            "0",
            "0",
            "0",
            "0",
            "0",
            "0",
            "0",
            "0",
            "0",
            "0",
            "0",
            "0",
            "0",
            "0",
            "0",
            "0",
            "0",
            "0",
            "0",
            "0",
            "0",
            "0",
            "0",
            "0",
            "0",
            "0",
            "0"
           ]
          ]
         },
         "header": {
          "align": "left",
          "fill": {
           "color": "paleturquoise"
          },
          "values": [
           "<br>Pais</br> <b>Total-</b>192",
           "<br>Confirmados</br>1163100",
           "<br>Novos Casos</br>63618",
           "<br>Mortes</br>63928",
           "<br>Novas Mortes</br>4824"
          ]
         },
         "type": "table"
        }
       ],
       "layout": {
        "template": {
         "data": {
          "bar": [
           {
            "error_x": {
             "color": "#2a3f5f"
            },
            "error_y": {
             "color": "#2a3f5f"
            },
            "marker": {
             "line": {
              "color": "#E5ECF6",
              "width": 0.5
             }
            },
            "type": "bar"
           }
          ],
          "barpolar": [
           {
            "marker": {
             "line": {
              "color": "#E5ECF6",
              "width": 0.5
             }
            },
            "type": "barpolar"
           }
          ],
          "carpet": [
           {
            "aaxis": {
             "endlinecolor": "#2a3f5f",
             "gridcolor": "white",
             "linecolor": "white",
             "minorgridcolor": "white",
             "startlinecolor": "#2a3f5f"
            },
            "baxis": {
             "endlinecolor": "#2a3f5f",
             "gridcolor": "white",
             "linecolor": "white",
             "minorgridcolor": "white",
             "startlinecolor": "#2a3f5f"
            },
            "type": "carpet"
           }
          ],
          "choropleth": [
           {
            "colorbar": {
             "outlinewidth": 0,
             "ticks": ""
            },
            "type": "choropleth"
           }
          ],
          "contour": [
           {
            "colorbar": {
             "outlinewidth": 0,
             "ticks": ""
            },
            "colorscale": [
             [
              0,
              "#0d0887"
             ],
             [
              0.1111111111111111,
              "#46039f"
             ],
             [
              0.2222222222222222,
              "#7201a8"
             ],
             [
              0.3333333333333333,
              "#9c179e"
             ],
             [
              0.4444444444444444,
              "#bd3786"
             ],
             [
              0.5555555555555556,
              "#d8576b"
             ],
             [
              0.6666666666666666,
              "#ed7953"
             ],
             [
              0.7777777777777778,
              "#fb9f3a"
             ],
             [
              0.8888888888888888,
              "#fdca26"
             ],
             [
              1,
              "#f0f921"
             ]
            ],
            "type": "contour"
           }
          ],
          "contourcarpet": [
           {
            "colorbar": {
             "outlinewidth": 0,
             "ticks": ""
            },
            "type": "contourcarpet"
           }
          ],
          "heatmap": [
           {
            "colorbar": {
             "outlinewidth": 0,
             "ticks": ""
            },
            "colorscale": [
             [
              0,
              "#0d0887"
             ],
             [
              0.1111111111111111,
              "#46039f"
             ],
             [
              0.2222222222222222,
              "#7201a8"
             ],
             [
              0.3333333333333333,
              "#9c179e"
             ],
             [
              0.4444444444444444,
              "#bd3786"
             ],
             [
              0.5555555555555556,
              "#d8576b"
             ],
             [
              0.6666666666666666,
              "#ed7953"
             ],
             [
              0.7777777777777778,
              "#fb9f3a"
             ],
             [
              0.8888888888888888,
              "#fdca26"
             ],
             [
              1,
              "#f0f921"
             ]
            ],
            "type": "heatmap"
           }
          ],
          "heatmapgl": [
           {
            "colorbar": {
             "outlinewidth": 0,
             "ticks": ""
            },
            "colorscale": [
             [
              0,
              "#0d0887"
             ],
             [
              0.1111111111111111,
              "#46039f"
             ],
             [
              0.2222222222222222,
              "#7201a8"
             ],
             [
              0.3333333333333333,
              "#9c179e"
             ],
             [
              0.4444444444444444,
              "#bd3786"
             ],
             [
              0.5555555555555556,
              "#d8576b"
             ],
             [
              0.6666666666666666,
              "#ed7953"
             ],
             [
              0.7777777777777778,
              "#fb9f3a"
             ],
             [
              0.8888888888888888,
              "#fdca26"
             ],
             [
              1,
              "#f0f921"
             ]
            ],
            "type": "heatmapgl"
           }
          ],
          "histogram": [
           {
            "marker": {
             "colorbar": {
              "outlinewidth": 0,
              "ticks": ""
             }
            },
            "type": "histogram"
           }
          ],
          "histogram2d": [
           {
            "colorbar": {
             "outlinewidth": 0,
             "ticks": ""
            },
            "colorscale": [
             [
              0,
              "#0d0887"
             ],
             [
              0.1111111111111111,
              "#46039f"
             ],
             [
              0.2222222222222222,
              "#7201a8"
             ],
             [
              0.3333333333333333,
              "#9c179e"
             ],
             [
              0.4444444444444444,
              "#bd3786"
             ],
             [
              0.5555555555555556,
              "#d8576b"
             ],
             [
              0.6666666666666666,
              "#ed7953"
             ],
             [
              0.7777777777777778,
              "#fb9f3a"
             ],
             [
              0.8888888888888888,
              "#fdca26"
             ],
             [
              1,
              "#f0f921"
             ]
            ],
            "type": "histogram2d"
           }
          ],
          "histogram2dcontour": [
           {
            "colorbar": {
             "outlinewidth": 0,
             "ticks": ""
            },
            "colorscale": [
             [
              0,
              "#0d0887"
             ],
             [
              0.1111111111111111,
              "#46039f"
             ],
             [
              0.2222222222222222,
              "#7201a8"
             ],
             [
              0.3333333333333333,
              "#9c179e"
             ],
             [
              0.4444444444444444,
              "#bd3786"
             ],
             [
              0.5555555555555556,
              "#d8576b"
             ],
             [
              0.6666666666666666,
              "#ed7953"
             ],
             [
              0.7777777777777778,
              "#fb9f3a"
             ],
             [
              0.8888888888888888,
              "#fdca26"
             ],
             [
              1,
              "#f0f921"
             ]
            ],
            "type": "histogram2dcontour"
           }
          ],
          "mesh3d": [
           {
            "colorbar": {
             "outlinewidth": 0,
             "ticks": ""
            },
            "type": "mesh3d"
           }
          ],
          "parcoords": [
           {
            "line": {
             "colorbar": {
              "outlinewidth": 0,
              "ticks": ""
             }
            },
            "type": "parcoords"
           }
          ],
          "pie": [
           {
            "automargin": true,
            "type": "pie"
           }
          ],
          "scatter": [
           {
            "marker": {
             "colorbar": {
              "outlinewidth": 0,
              "ticks": ""
             }
            },
            "type": "scatter"
           }
          ],
          "scatter3d": [
           {
            "line": {
             "colorbar": {
              "outlinewidth": 0,
              "ticks": ""
             }
            },
            "marker": {
             "colorbar": {
              "outlinewidth": 0,
              "ticks": ""
             }
            },
            "type": "scatter3d"
           }
          ],
          "scattercarpet": [
           {
            "marker": {
             "colorbar": {
              "outlinewidth": 0,
              "ticks": ""
             }
            },
            "type": "scattercarpet"
           }
          ],
          "scattergeo": [
           {
            "marker": {
             "colorbar": {
              "outlinewidth": 0,
              "ticks": ""
             }
            },
            "type": "scattergeo"
           }
          ],
          "scattergl": [
           {
            "marker": {
             "colorbar": {
              "outlinewidth": 0,
              "ticks": ""
             }
            },
            "type": "scattergl"
           }
          ],
          "scattermapbox": [
           {
            "marker": {
             "colorbar": {
              "outlinewidth": 0,
              "ticks": ""
             }
            },
            "type": "scattermapbox"
           }
          ],
          "scatterpolar": [
           {
            "marker": {
             "colorbar": {
              "outlinewidth": 0,
              "ticks": ""
             }
            },
            "type": "scatterpolar"
           }
          ],
          "scatterpolargl": [
           {
            "marker": {
             "colorbar": {
              "outlinewidth": 0,
              "ticks": ""
             }
            },
            "type": "scatterpolargl"
           }
          ],
          "scatterternary": [
           {
            "marker": {
             "colorbar": {
              "outlinewidth": 0,
              "ticks": ""
             }
            },
            "type": "scatterternary"
           }
          ],
          "surface": [
           {
            "colorbar": {
             "outlinewidth": 0,
             "ticks": ""
            },
            "colorscale": [
             [
              0,
              "#0d0887"
             ],
             [
              0.1111111111111111,
              "#46039f"
             ],
             [
              0.2222222222222222,
              "#7201a8"
             ],
             [
              0.3333333333333333,
              "#9c179e"
             ],
             [
              0.4444444444444444,
              "#bd3786"
             ],
             [
              0.5555555555555556,
              "#d8576b"
             ],
             [
              0.6666666666666666,
              "#ed7953"
             ],
             [
              0.7777777777777778,
              "#fb9f3a"
             ],
             [
              0.8888888888888888,
              "#fdca26"
             ],
             [
              1,
              "#f0f921"
             ]
            ],
            "type": "surface"
           }
          ],
          "table": [
           {
            "cells": {
             "fill": {
              "color": "#EBF0F8"
             },
             "line": {
              "color": "white"
             }
            },
            "header": {
             "fill": {
              "color": "#C8D4E3"
             },
             "line": {
              "color": "white"
             }
            },
            "type": "table"
           }
          ]
         },
         "layout": {
          "annotationdefaults": {
           "arrowcolor": "#2a3f5f",
           "arrowhead": 0,
           "arrowwidth": 1
          },
          "coloraxis": {
           "colorbar": {
            "outlinewidth": 0,
            "ticks": ""
           }
          },
          "colorscale": {
           "diverging": [
            [
             0,
             "#8e0152"
            ],
            [
             0.1,
             "#c51b7d"
            ],
            [
             0.2,
             "#de77ae"
            ],
            [
             0.3,
             "#f1b6da"
            ],
            [
             0.4,
             "#fde0ef"
            ],
            [
             0.5,
             "#f7f7f7"
            ],
            [
             0.6,
             "#e6f5d0"
            ],
            [
             0.7,
             "#b8e186"
            ],
            [
             0.8,
             "#7fbc41"
            ],
            [
             0.9,
             "#4d9221"
            ],
            [
             1,
             "#276419"
            ]
           ],
           "sequential": [
            [
             0,
             "#0d0887"
            ],
            [
             0.1111111111111111,
             "#46039f"
            ],
            [
             0.2222222222222222,
             "#7201a8"
            ],
            [
             0.3333333333333333,
             "#9c179e"
            ],
            [
             0.4444444444444444,
             "#bd3786"
            ],
            [
             0.5555555555555556,
             "#d8576b"
            ],
            [
             0.6666666666666666,
             "#ed7953"
            ],
            [
             0.7777777777777778,
             "#fb9f3a"
            ],
            [
             0.8888888888888888,
             "#fdca26"
            ],
            [
             1,
             "#f0f921"
            ]
           ],
           "sequentialminus": [
            [
             0,
             "#0d0887"
            ],
            [
             0.1111111111111111,
             "#46039f"
            ],
            [
             0.2222222222222222,
             "#7201a8"
            ],
            [
             0.3333333333333333,
             "#9c179e"
            ],
            [
             0.4444444444444444,
             "#bd3786"
            ],
            [
             0.5555555555555556,
             "#d8576b"
            ],
            [
             0.6666666666666666,
             "#ed7953"
            ],
            [
             0.7777777777777778,
             "#fb9f3a"
            ],
            [
             0.8888888888888888,
             "#fdca26"
            ],
            [
             1,
             "#f0f921"
            ]
           ]
          },
          "colorway": [
           "#636efa",
           "#EF553B",
           "#00cc96",
           "#ab63fa",
           "#FFA15A",
           "#19d3f3",
           "#FF6692",
           "#B6E880",
           "#FF97FF",
           "#FECB52"
          ],
          "font": {
           "color": "#2a3f5f"
          },
          "geo": {
           "bgcolor": "white",
           "lakecolor": "white",
           "landcolor": "#E5ECF6",
           "showlakes": true,
           "showland": true,
           "subunitcolor": "white"
          },
          "hoverlabel": {
           "align": "left"
          },
          "hovermode": "closest",
          "mapbox": {
           "style": "light"
          },
          "paper_bgcolor": "white",
          "plot_bgcolor": "#E5ECF6",
          "polar": {
           "angularaxis": {
            "gridcolor": "white",
            "linecolor": "white",
            "ticks": ""
           },
           "bgcolor": "#E5ECF6",
           "radialaxis": {
            "gridcolor": "white",
            "linecolor": "white",
            "ticks": ""
           }
          },
          "scene": {
           "xaxis": {
            "backgroundcolor": "#E5ECF6",
            "gridcolor": "white",
            "gridwidth": 2,
            "linecolor": "white",
            "showbackground": true,
            "ticks": "",
            "zerolinecolor": "white"
           },
           "yaxis": {
            "backgroundcolor": "#E5ECF6",
            "gridcolor": "white",
            "gridwidth": 2,
            "linecolor": "white",
            "showbackground": true,
            "ticks": "",
            "zerolinecolor": "white"
           },
           "zaxis": {
            "backgroundcolor": "#E5ECF6",
            "gridcolor": "white",
            "gridwidth": 2,
            "linecolor": "white",
            "showbackground": true,
            "ticks": "",
            "zerolinecolor": "white"
           }
          },
          "shapedefaults": {
           "line": {
            "color": "#2a3f5f"
           }
          },
          "ternary": {
           "aaxis": {
            "gridcolor": "white",
            "linecolor": "white",
            "ticks": ""
           },
           "baxis": {
            "gridcolor": "white",
            "linecolor": "white",
            "ticks": ""
           },
           "bgcolor": "#E5ECF6",
           "caxis": {
            "gridcolor": "white",
            "linecolor": "white",
            "ticks": ""
           }
          },
          "title": {
           "x": 0.05
          },
          "xaxis": {
           "automargin": true,
           "gridcolor": "white",
           "linecolor": "white",
           "ticks": "",
           "title": {
            "standoff": 15
           },
           "zerolinecolor": "white",
           "zerolinewidth": 2
          },
          "yaxis": {
           "automargin": true,
           "gridcolor": "white",
           "linecolor": "white",
           "ticks": "",
           "title": {
            "standoff": 15
           },
           "zerolinecolor": "white",
           "zerolinewidth": 2
          }
         }
        }
       }
      },
      "text/html": [
       "<div>\n",
       "        \n",
       "        \n",
       "            <div id=\"5b3793aa-4d22-4008-a7c6-0ed4068ea3be\" class=\"plotly-graph-div\" style=\"height:525px; width:100%;\"></div>\n",
       "            <script type=\"text/javascript\">\n",
       "                require([\"plotly\"], function(Plotly) {\n",
       "                    window.PLOTLYENV=window.PLOTLYENV || {};\n",
       "                    \n",
       "                if (document.getElementById(\"5b3793aa-4d22-4008-a7c6-0ed4068ea3be\")) {\n",
       "                    Plotly.newPlot(\n",
       "                        '5b3793aa-4d22-4008-a7c6-0ed4068ea3be',\n",
       "                        [{\"cells\": {\"align\": \"left\", \"fill\": {\"color\": \"lavender\"}, \"values\": [[\"United States\", \"Spain\", \"Italy\", \"Germany\", \"China\", \"France\", \"Iran\", \"United Kingdom\", \"Turkey\", \"Switzerland\", \"Belgium\", \"Netherlands\", \"Canada\", \"Austria\", \"Portugal\", \"South Korea\", \"Brazil\", \"Israel\", \"Sweden\", \"Australia\", \"Norway\", \"Russia\", \"Ireland\", \"Denmark\", \"Czech Republic\", \"Chile\", \"Poland\", \"Romania\", \"Japan\", \"Malaysia\", \"Ecuador\", \"Philippines\", \"India\", \"Luxembourg\", \"Pakistan\", \"Saudi Arabia\", \"Indonesia\", \"Thailand\", \"Mexico\", \"Finland\", \"Greece\", \"Panama\", \"Serbia\", \"Peru\", \"South Africa\", \"United Arab Emirates\", \"Dominican Republic\", \"Iceland\", \"Argentina\", \"Qatar\", \"Colombia\", \"Algeria\", \"Singapore\", \"Ukraine\", \"Croatia\", \"Estonia\", \"Egypt\", \"Slovenia\", \"New Zealand\", \"Morocco\", \"Iraq\", \"Hong Kong\", \"Lithuania\", \"Armenia\", \"Moldova\", \"Diamond Princess\", \"Bahrain\", \"Hungary\", \"Bosnia\", \"Tunisia\", \"Kazakhstan\", \"Azerbaijan\", \"Lebanon\", \"Cameroon\", \"Latvia\", \"Bulgaria\", \"North Macedonia\", \"Kuwait\", \"Slovakia\", \"Andorra\", \"Belarus\", \"Cyprus\", \"Costa Rica\", \"Uruguay\", \"Taiwan\", \"Burkina Faso\", \"Jordan\", \"Albania\", \"Afghanistan\", \"Oman\", \"Cuba\", \"Honduras\", \"Uzbekistan\", \"San Marino\", \"Vietnam\", \"Senegal\", \"Ivory Coast\", \"Malta\", \"Nigeria\", \"Ghana\", \"Palestine\", \"Mauritius\", \"Montenegro\", \"Sri Lanka\", \"Georgia\", \"Venezuela\", \"DR Congo\", \"Kyrgyzstan\", \"Bolivia\", \"Kosovo\", \"Brunei\", \"Kenya\", \"Jersey\", \"Guernsey\", \"Isle of Man\", \"Cambodia\", \"Trinidad and Tobago\", \"Paraguay\", \"Gibraltar\", \"Northern Cyprus\", \"Rwanda\", \"Liechtenstein\", \"Niger\", \"Bangladesh\", \"Monaco\", \"Aruba\", \"Madagascar\", \"El Salvador\", \"Guinea\", \"Guatemala\", \"Djibouti\", \"Jamaica\", \"Barbados\", \"Uganda\", \"Congo Republic\", \"Macau\", \"Togo\", \"Mali\", \"Zambia\", \"French Polynesia\", \"Ethiopia\", \"Bermuda\", \"Cayman Islands\", \"Bahamas\", \"Sint Maarten\", \"Eritrea\", \"Gabon\", \"Myanmar\", \"Tanzania\", \"Guyana\", \"Maldives\", \"New Caledonia\", \"Haiti\", \"Syria\", \"Equatorial Guinea\", \"Mongolia\", \"Namibia\", \"Benin\", \"Saint Lucia\", \"Fiji\", \"Libya\", \"Cura\\u00c3\\u00a7ao\", \"Greenland\", \"Seychelles\", \"Suriname\", \"Grenada\", \"Laos\", \"Mozambique\", \"Zimbabwe\", \"Eswatini\", \"Guinea-Bissau\", \"Nepal\", \"Antigua and Barbuda\", \"St. Kitts and Nevis\", \"Sudan\", \"Angola\", \"Central African Republic\", \"Chad\", \"Vatican City\", \"St. Barth\\u00c3\\u00a9lemy\", \"Cape Verde\", \"Mauritania\", \"Liberia\", \"Montserrat\", \"Turks and Caicos Islands\", \"Somalia\", \"Nicaragua\", \"Bhutan\", \"The Gambia\", \"Botswana\", \"Belize\", \"British Virgin Islands\"], [\"300615\", \"124736\", \"124632\", \"94461\", \"83349\", \"68605\", \"55743\", \"41903\", \"23934\", \"19943\", \"18431\", \"16627\", \"13849\", \"11589\", \"10524\", \"10156\", \"9216\", \"7589\", \"6443\", \"5550\", \"5519\", \"4731\", \"4604\", \"4258\", \"4194\", \"4161\", \"3627\", \"3613\", \"3497\", \"3483\", \"3465\", \"3094\", \"3076\", \"2729\", \"2724\", \"2179\", \"2092\", \"2067\", \"1688\", \"1882\", \"1673\", \"1673\", \"1624\", \"1595\", \"1505\", \"1505\", \"1488\", \"1417\", \"1353\", \"1325\", \"1267\", \"1251\", \"1189\", \"1096\", \"1079\", \"1018\", \"985\", \"977\", \"950\", \"883\", \"878\", \"863\", \"771\", \"770\", \"752\", \"712\", \"688\", \"678\", \"617\", \"553\", \"525\", \"521\", \"520\", \"509\", \"509\", \"503\", \"483\", \"479\", \"471\", \"466\", \"440\", \"426\", \"416\", \"386\", \"355\", \"318\", \"310\", \"333\", \"299\", \"299\", \"288\", \"264\", \"263\", \"259\", \"240\", \"219\", \"218\", \"213\", \"209\", \"205\", \"205\", \"196\", \"194\", \"162\", \"157\", \"153\", \"148\", \"144\", \"139\", \"135\", \"135\", \"126\", \"126\", \"114\", \"114\", \"114\", \"100\", \"96\", \"95\", \"88\", \"84\", \"75\", \"74\", \"70\", \"60\", \"60\", \"59\", \"56\", \"52\", \"50\", \"49\", \"47\", \"46\", \"45\", \"41\", \"41\", \"40\", \"39\", \"39\", \"37\", \"35\", \"35\", \"28\", \"24\", \"23\", \"22\", \"21\", \"20\", \"20\", \"19\", \"19\", \"18\", \"18\", \"16\", \"15\", \"14\", \"14\", \"13\", \"13\", \"12\", \"11\", \"11\", \"10\", \"10\", \"10\", \"10\", \"10\", \"10\", \"9\", \"9\", \"9\", \"9\", \"9\", \"9\", \"8\", \"8\", \"8\", \"7\", \"7\", \"6\", \"6\", \"6\", \"6\", \"5\", \"5\", \"5\", \"5\", \"5\", \"4\", \"4\", \"3\", \"3\"], [\"22994\", \"5537\", \"4805\", \"3258\", \"80\", \"4267\", \"2560\", \"3735\", \"3013\", \"241\", \"1661\", \"904\", \"1353\", \"73\", \"638\", \"94\", \"160\", \"161\", \"365\", \"220\", \"148\", \"582\", \"331\", \"322\", \"103\", \"424\", \"244\", \"430\", \"368\", \"150\", \"97\", \"76\", \"486\", \"117\", \"38\", \"140\", \"106\", \"89\", \"178\", \"267\", \"60\", \"0\", \"148\", \"0\", \"0\", \"241\", \"0\", \"53\", \"88\", \"250\", \"0\", \"80\", \"75\", \"24\", \"0\", \"57\", \"0\", \"43\", \"82\", \"122\", \"58\", \"17\", \"75\", \"34\", \"161\", \"0\", \"15\", \"55\", \"38\", \"58\", \"61\", \"121\", \"12\", \"0\", \"16\", \"18\", \"53\", \"62\", \"21\", \"27\", \"89\", \"30\", \"0\", \"17\", \"7\", \"16\", \"0\", \"29\", \"25\", \"47\", \"19\", \"42\", \"42\", \"8\", \"3\", \"12\", \"24\", \"11\", \"19\", \"0\", \"11\", \"10\", \"20\", \"3\", \"2\", \"0\", \"14\", \"14\", \"7\", \"9\", \"2\", \"4\", \"8\", \"0\", \"0\", \"0\", \"3\", \"4\", \"0\", \"0\", \"0\", \"0\", \"0\", \"9\", \"0\", \"0\", \"0\", \"10\", \"0\", \"0\", \"0\", \"0\", \"0\", \"0\", \"0\", \"0\", \"0\", \"0\", \"0\", \"0\", \"0\", \"0\", \"0\", \"0\", \"0\", \"0\", \"0\", \"0\", \"0\", \"0\", \"0\", \"0\", \"0\", \"0\", \"0\", \"0\", \"0\", \"0\", \"0\", \"5\", \"0\", \"0\", \"0\", \"0\", \"0\", \"0\", \"0\", \"0\", \"0\", \"0\", \"0\", \"3\", \"0\", \"0\", \"0\", \"0\", \"0\", \"0\", \"0\", \"0\", \"0\", \"0\", \"0\", \"0\", \"0\", \"0\", \"0\", \"0\", \"0\", \"0\", \"0\", \"0\"], [\"8129\", \"11814\", \"15362\", \"1365\", \"3326\", \"7560\", \"3452\", \"4313\", \"501\", \"632\", \"1283\", \"1651\", \"231\", \"186\", \"266\", \"177\", \"365\", \"43\", \"373\", \"30\", \"62\", \"43\", \"137\", \"161\", \"56\", \"27\", \"79\", \"140\", \"84\", \"57\", \"172\", \"144\", \"77\", \"31\", \"40\", \"29\", \"191\", \"20\", \"60\", \"20\", \"68\", \"41\", \"44\", \"61\", \"7\", \"10\", \"68\", \"4\", \"42\", \"3\", \"25\", \"130\", \"6\", \"28\", \"8\", \"13\", \"66\", \"22\", \"1\", \"58\", \"56\", \"4\", \"9\", \"7\", \"12\", \"11\", \"4\", \"32\", \"21\", \"19\", \"5\", \"5\", \"17\", \"8\", \"0\", \"17\", \"17\", \"1\", \"0\", \"17\", \"5\", \"13\", \"2\", \"4\", \"5\", \"16\", \"5\", \"18\", \"7\", \"1\", \"6\", \"15\", \"2\", \"32\", \"0\", \"2\", \"1\", \"0\", \"4\", \"5\", \"1\", \"7\", \"2\", \"5\", \"1\", \"7\", \"16\", \"1\", \"10\", \"1\", \"1\", \"4\", \"3\", \"2\", \"1\", \"0\", \"6\", \"3\", \"0\", \"2\", \"0\", \"0\", \"5\", \"8\", \"1\", \"0\", \"0\", \"3\", \"1\", \"1\", \"0\", \"2\", \"0\", \"0\", \"2\", \"0\", \"3\", \"3\", \"1\", \"0\", \"0\", \"0\", \"1\", \"1\", \"2\", \"0\", \"1\", \"1\", \"1\", \"4\", \"0\", \"0\", \"0\", \"2\", \"0\", \"0\", \"0\", \"0\", \"0\", \"0\", \"1\", \"1\", \"0\", \"0\", \"1\", \"0\", \"0\", \"0\", \"1\", \"0\", \"0\", \"0\", \"0\", \"0\", \"2\", \"2\", \"0\", \"0\", \"0\", \"0\", \"1\", \"1\", \"0\", \"0\", \"0\", \"0\", \"1\", \"0\", \"1\", \"1\", \"0\", \"0\"], [\"737\", \"616\", \"681\", \"59\", \"4\", \"1053\", \"158\", \"708\", \"76\", \"28\", \"140\", \"164\", \"48\", \"18\", \"20\", \"3\", \"6\", \"3\", \"40\", \"2\", \"3\", \"9\", \"17\", \"22\", \"3\", \"5\", \"8\", \"7\", \"7\", \"4\", \"27\", \"8\", \"6\", \"0\", \"0\", \"4\", \"10\", \"1\", \"10\", \"1\", \"9\", \"0\", \"5\", \"0\", \"0\", \"1\", \"0\", \"0\", \"5\", \"0\", \"0\", \"25\", \"1\", \"1\", \"0\", \"1\", \"0\", \"2\", \"0\", \"11\", \"2\", \"0\", \"0\", \"0\", \"4\", \"0\", \"0\", \"6\", \"4\", \"1\", \"2\", \"0\", \"0\", \"0\", \"0\", \"3\", \"5\", \"1\", \"0\", \"1\", \"1\", \"0\", \"0\", \"0\", \"0\", \"0\", \"0\", \"2\", \"0\", \"0\", \"0\", \"1\", \"0\", \"0\", \"0\", \"1\", \"0\", \"0\", \"2\", \"0\", \"0\", \"0\", \"0\", \"1\", \"1\", \"0\", \"3\", \"0\", \"1\", \"0\", \"0\", \"0\", \"1\", \"0\", \"0\", \"0\", \"0\", \"0\", \"0\", \"0\", \"0\", \"0\", \"0\", \"2\", \"0\", \"0\", \"0\", \"1\", \"0\", \"0\", \"0\", \"0\", \"0\", \"0\", \"0\", \"0\", \"0\", \"0\", \"0\", \"0\", \"0\", \"0\", \"0\", \"0\", \"0\", \"0\", \"0\", \"0\", \"0\", \"0\", \"0\", \"0\", \"0\", \"0\", \"0\", \"0\", \"0\", \"0\", \"0\", \"0\", \"0\", \"0\", \"0\", \"0\", \"1\", \"0\", \"0\", \"0\", \"0\", \"0\", \"0\", \"0\", \"0\", \"0\", \"0\", \"0\", \"0\", \"0\", \"0\", \"0\", \"0\", \"0\", \"0\", \"0\", \"0\", \"0\", \"0\", \"0\", \"0\", \"0\", \"0\", \"0\"]]}, \"header\": {\"align\": \"left\", \"fill\": {\"color\": \"paleturquoise\"}, \"values\": [\"<br>Pais</br> <b>Total-</b>192\", \"<br>Confirmados</br>1163100\", \"<br>Novos Casos</br>63618\", \"<br>Mortes</br>63928\", \"<br>Novas Mortes</br>4824\"]}, \"type\": \"table\"}],\n",
       "                        {\"template\": {\"data\": {\"bar\": [{\"error_x\": {\"color\": \"#2a3f5f\"}, \"error_y\": {\"color\": \"#2a3f5f\"}, \"marker\": {\"line\": {\"color\": \"#E5ECF6\", \"width\": 0.5}}, \"type\": \"bar\"}], \"barpolar\": [{\"marker\": {\"line\": {\"color\": \"#E5ECF6\", \"width\": 0.5}}, \"type\": \"barpolar\"}], \"carpet\": [{\"aaxis\": {\"endlinecolor\": \"#2a3f5f\", \"gridcolor\": \"white\", \"linecolor\": \"white\", \"minorgridcolor\": \"white\", \"startlinecolor\": \"#2a3f5f\"}, \"baxis\": {\"endlinecolor\": \"#2a3f5f\", \"gridcolor\": \"white\", \"linecolor\": \"white\", \"minorgridcolor\": \"white\", \"startlinecolor\": \"#2a3f5f\"}, \"type\": \"carpet\"}], \"choropleth\": [{\"colorbar\": {\"outlinewidth\": 0, \"ticks\": \"\"}, \"type\": \"choropleth\"}], \"contour\": [{\"colorbar\": {\"outlinewidth\": 0, \"ticks\": \"\"}, \"colorscale\": [[0.0, \"#0d0887\"], [0.1111111111111111, \"#46039f\"], [0.2222222222222222, \"#7201a8\"], [0.3333333333333333, \"#9c179e\"], [0.4444444444444444, \"#bd3786\"], [0.5555555555555556, \"#d8576b\"], [0.6666666666666666, \"#ed7953\"], [0.7777777777777778, \"#fb9f3a\"], [0.8888888888888888, \"#fdca26\"], [1.0, \"#f0f921\"]], \"type\": \"contour\"}], \"contourcarpet\": [{\"colorbar\": {\"outlinewidth\": 0, \"ticks\": \"\"}, \"type\": \"contourcarpet\"}], \"heatmap\": [{\"colorbar\": {\"outlinewidth\": 0, \"ticks\": \"\"}, \"colorscale\": [[0.0, \"#0d0887\"], [0.1111111111111111, \"#46039f\"], [0.2222222222222222, \"#7201a8\"], [0.3333333333333333, \"#9c179e\"], [0.4444444444444444, \"#bd3786\"], [0.5555555555555556, \"#d8576b\"], [0.6666666666666666, \"#ed7953\"], [0.7777777777777778, \"#fb9f3a\"], [0.8888888888888888, \"#fdca26\"], [1.0, \"#f0f921\"]], \"type\": \"heatmap\"}], \"heatmapgl\": [{\"colorbar\": {\"outlinewidth\": 0, \"ticks\": \"\"}, \"colorscale\": [[0.0, \"#0d0887\"], [0.1111111111111111, \"#46039f\"], [0.2222222222222222, \"#7201a8\"], [0.3333333333333333, \"#9c179e\"], [0.4444444444444444, \"#bd3786\"], [0.5555555555555556, \"#d8576b\"], [0.6666666666666666, \"#ed7953\"], [0.7777777777777778, \"#fb9f3a\"], [0.8888888888888888, \"#fdca26\"], [1.0, \"#f0f921\"]], \"type\": \"heatmapgl\"}], \"histogram\": [{\"marker\": {\"colorbar\": {\"outlinewidth\": 0, \"ticks\": \"\"}}, \"type\": \"histogram\"}], \"histogram2d\": [{\"colorbar\": {\"outlinewidth\": 0, \"ticks\": \"\"}, \"colorscale\": [[0.0, \"#0d0887\"], [0.1111111111111111, \"#46039f\"], [0.2222222222222222, \"#7201a8\"], [0.3333333333333333, \"#9c179e\"], [0.4444444444444444, \"#bd3786\"], [0.5555555555555556, \"#d8576b\"], [0.6666666666666666, \"#ed7953\"], [0.7777777777777778, \"#fb9f3a\"], [0.8888888888888888, \"#fdca26\"], [1.0, \"#f0f921\"]], \"type\": \"histogram2d\"}], \"histogram2dcontour\": [{\"colorbar\": {\"outlinewidth\": 0, \"ticks\": \"\"}, \"colorscale\": [[0.0, \"#0d0887\"], [0.1111111111111111, \"#46039f\"], [0.2222222222222222, \"#7201a8\"], [0.3333333333333333, \"#9c179e\"], [0.4444444444444444, \"#bd3786\"], [0.5555555555555556, \"#d8576b\"], [0.6666666666666666, \"#ed7953\"], [0.7777777777777778, \"#fb9f3a\"], [0.8888888888888888, \"#fdca26\"], [1.0, \"#f0f921\"]], \"type\": \"histogram2dcontour\"}], \"mesh3d\": [{\"colorbar\": {\"outlinewidth\": 0, \"ticks\": \"\"}, \"type\": \"mesh3d\"}], \"parcoords\": [{\"line\": {\"colorbar\": {\"outlinewidth\": 0, \"ticks\": \"\"}}, \"type\": \"parcoords\"}], \"pie\": [{\"automargin\": true, \"type\": \"pie\"}], \"scatter\": [{\"marker\": {\"colorbar\": {\"outlinewidth\": 0, \"ticks\": \"\"}}, \"type\": \"scatter\"}], \"scatter3d\": [{\"line\": {\"colorbar\": {\"outlinewidth\": 0, \"ticks\": \"\"}}, \"marker\": {\"colorbar\": {\"outlinewidth\": 0, \"ticks\": \"\"}}, \"type\": \"scatter3d\"}], \"scattercarpet\": [{\"marker\": {\"colorbar\": {\"outlinewidth\": 0, \"ticks\": \"\"}}, \"type\": \"scattercarpet\"}], \"scattergeo\": [{\"marker\": {\"colorbar\": {\"outlinewidth\": 0, \"ticks\": \"\"}}, \"type\": \"scattergeo\"}], \"scattergl\": [{\"marker\": {\"colorbar\": {\"outlinewidth\": 0, \"ticks\": \"\"}}, \"type\": \"scattergl\"}], \"scattermapbox\": [{\"marker\": {\"colorbar\": {\"outlinewidth\": 0, \"ticks\": \"\"}}, \"type\": \"scattermapbox\"}], \"scatterpolar\": [{\"marker\": {\"colorbar\": {\"outlinewidth\": 0, \"ticks\": \"\"}}, \"type\": \"scatterpolar\"}], \"scatterpolargl\": [{\"marker\": {\"colorbar\": {\"outlinewidth\": 0, \"ticks\": \"\"}}, \"type\": \"scatterpolargl\"}], \"scatterternary\": [{\"marker\": {\"colorbar\": {\"outlinewidth\": 0, \"ticks\": \"\"}}, \"type\": \"scatterternary\"}], \"surface\": [{\"colorbar\": {\"outlinewidth\": 0, \"ticks\": \"\"}, \"colorscale\": [[0.0, \"#0d0887\"], [0.1111111111111111, \"#46039f\"], [0.2222222222222222, \"#7201a8\"], [0.3333333333333333, \"#9c179e\"], [0.4444444444444444, \"#bd3786\"], [0.5555555555555556, \"#d8576b\"], [0.6666666666666666, \"#ed7953\"], [0.7777777777777778, \"#fb9f3a\"], [0.8888888888888888, \"#fdca26\"], [1.0, \"#f0f921\"]], \"type\": \"surface\"}], \"table\": [{\"cells\": {\"fill\": {\"color\": \"#EBF0F8\"}, \"line\": {\"color\": \"white\"}}, \"header\": {\"fill\": {\"color\": \"#C8D4E3\"}, \"line\": {\"color\": \"white\"}}, \"type\": \"table\"}]}, \"layout\": {\"annotationdefaults\": {\"arrowcolor\": \"#2a3f5f\", \"arrowhead\": 0, \"arrowwidth\": 1}, \"coloraxis\": {\"colorbar\": {\"outlinewidth\": 0, \"ticks\": \"\"}}, \"colorscale\": {\"diverging\": [[0, \"#8e0152\"], [0.1, \"#c51b7d\"], [0.2, \"#de77ae\"], [0.3, \"#f1b6da\"], [0.4, \"#fde0ef\"], [0.5, \"#f7f7f7\"], [0.6, \"#e6f5d0\"], [0.7, \"#b8e186\"], [0.8, \"#7fbc41\"], [0.9, \"#4d9221\"], [1, \"#276419\"]], \"sequential\": [[0.0, \"#0d0887\"], [0.1111111111111111, \"#46039f\"], [0.2222222222222222, \"#7201a8\"], [0.3333333333333333, \"#9c179e\"], [0.4444444444444444, \"#bd3786\"], [0.5555555555555556, \"#d8576b\"], [0.6666666666666666, \"#ed7953\"], [0.7777777777777778, \"#fb9f3a\"], [0.8888888888888888, \"#fdca26\"], [1.0, \"#f0f921\"]], \"sequentialminus\": [[0.0, \"#0d0887\"], [0.1111111111111111, \"#46039f\"], [0.2222222222222222, \"#7201a8\"], [0.3333333333333333, \"#9c179e\"], [0.4444444444444444, \"#bd3786\"], [0.5555555555555556, \"#d8576b\"], [0.6666666666666666, \"#ed7953\"], [0.7777777777777778, \"#fb9f3a\"], [0.8888888888888888, \"#fdca26\"], [1.0, \"#f0f921\"]]}, \"colorway\": [\"#636efa\", \"#EF553B\", \"#00cc96\", \"#ab63fa\", \"#FFA15A\", \"#19d3f3\", \"#FF6692\", \"#B6E880\", \"#FF97FF\", \"#FECB52\"], \"font\": {\"color\": \"#2a3f5f\"}, \"geo\": {\"bgcolor\": \"white\", \"lakecolor\": \"white\", \"landcolor\": \"#E5ECF6\", \"showlakes\": true, \"showland\": true, \"subunitcolor\": \"white\"}, \"hoverlabel\": {\"align\": \"left\"}, \"hovermode\": \"closest\", \"mapbox\": {\"style\": \"light\"}, \"paper_bgcolor\": \"white\", \"plot_bgcolor\": \"#E5ECF6\", \"polar\": {\"angularaxis\": {\"gridcolor\": \"white\", \"linecolor\": \"white\", \"ticks\": \"\"}, \"bgcolor\": \"#E5ECF6\", \"radialaxis\": {\"gridcolor\": \"white\", \"linecolor\": \"white\", \"ticks\": \"\"}}, \"scene\": {\"xaxis\": {\"backgroundcolor\": \"#E5ECF6\", \"gridcolor\": \"white\", \"gridwidth\": 2, \"linecolor\": \"white\", \"showbackground\": true, \"ticks\": \"\", \"zerolinecolor\": \"white\"}, \"yaxis\": {\"backgroundcolor\": \"#E5ECF6\", \"gridcolor\": \"white\", \"gridwidth\": 2, \"linecolor\": \"white\", \"showbackground\": true, \"ticks\": \"\", \"zerolinecolor\": \"white\"}, \"zaxis\": {\"backgroundcolor\": \"#E5ECF6\", \"gridcolor\": \"white\", \"gridwidth\": 2, \"linecolor\": \"white\", \"showbackground\": true, \"ticks\": \"\", \"zerolinecolor\": \"white\"}}, \"shapedefaults\": {\"line\": {\"color\": \"#2a3f5f\"}}, \"ternary\": {\"aaxis\": {\"gridcolor\": \"white\", \"linecolor\": \"white\", \"ticks\": \"\"}, \"baxis\": {\"gridcolor\": \"white\", \"linecolor\": \"white\", \"ticks\": \"\"}, \"bgcolor\": \"#E5ECF6\", \"caxis\": {\"gridcolor\": \"white\", \"linecolor\": \"white\", \"ticks\": \"\"}}, \"title\": {\"x\": 0.05}, \"xaxis\": {\"automargin\": true, \"gridcolor\": \"white\", \"linecolor\": \"white\", \"ticks\": \"\", \"title\": {\"standoff\": 15}, \"zerolinecolor\": \"white\", \"zerolinewidth\": 2}, \"yaxis\": {\"automargin\": true, \"gridcolor\": \"white\", \"linecolor\": \"white\", \"ticks\": \"\", \"title\": {\"standoff\": 15}, \"zerolinecolor\": \"white\", \"zerolinewidth\": 2}}}},\n",
       "                        {\"responsive\": true}\n",
       "                    ).then(function(){\n",
       "                            \n",
       "var gd = document.getElementById('5b3793aa-4d22-4008-a7c6-0ed4068ea3be');\n",
       "var x = new MutationObserver(function (mutations, observer) {{\n",
       "        var display = window.getComputedStyle(gd).display;\n",
       "        if (!display || display === 'none') {{\n",
       "            console.log([gd, 'removed!']);\n",
       "            Plotly.purge(gd);\n",
       "            observer.disconnect();\n",
       "        }}\n",
       "}});\n",
       "\n",
       "// Listen for the removal of the full notebook cells\n",
       "var notebookContainer = gd.closest('#notebook-container');\n",
       "if (notebookContainer) {{\n",
       "    x.observe(notebookContainer, {childList: true});\n",
       "}}\n",
       "\n",
       "// Listen for the clearing of the current output cell\n",
       "var outputEl = gd.closest('.output');\n",
       "if (outputEl) {{\n",
       "    x.observe(outputEl, {childList: true});\n",
       "}}\n",
       "\n",
       "                        })\n",
       "                };\n",
       "                });\n",
       "            </script>\n",
       "        </div>"
      ]
     },
     "metadata": {},
     "output_type": "display_data"
    }
   ],
   "source": [
    "# '<b>Data-</b>'+ str(rs.date.unique())\n",
    "fig = go.Figure(data=[go.Table(\n",
    "    header=dict(values=['<br>Pais</br> <b>Total-</b>'+str(mundo.pais.size),\n",
    "                        '<br>Confirmados</br>'+str(mundo.casos.astype(int).agg(sum)),\n",
    "                        '<br>Novos Casos</br>'+str(mundo.novoscasos.astype(int).agg(sum)),\n",
    "                        '<br>Mortes</br>'+str(mundo.mortes.astype(int).agg(sum)),\n",
    "                        '<br>Novas Mortes</br>'+str(mundo.novasmortes.astype(int).agg(sum))\n",
    "                       ],\n",
    "                fill_color='paleturquoise',\n",
    "                align='left'),\n",
    "    cells=dict(values=[mundo.pais, mundo.casos,mundo.novoscasos,mundo.mortes,mundo.novasmortes],\n",
    "               fill_color='lavender',\n",
    "               align='left'))\n",
    "])\n",
    "\n",
    "fig.show()"
   ]
  },
  {
   "cell_type": "code",
   "execution_count": 71,
   "metadata": {},
   "outputs": [],
   "source": [
    "usa = mundo [ (mundo.pais == 'United States')]\n",
    "china = mundo [ (mundo.pais == 'China')]\n",
    "italia = mundo [ (mundo.pais == 'Italy')]\n",
    "espanha = mundo [ (mundo.pais == 'Spain')]\n",
    "alemanha = mundo [ (mundo.pais == 'Germany')]\n",
    "brasil = mundo [ (mundo.pais == 'Brazil')]\n"
   ]
  },
  {
   "cell_type": "code",
   "execution_count": null,
   "metadata": {},
   "outputs": [],
   "source": []
  },
  {
   "cell_type": "code",
   "execution_count": 72,
   "metadata": {},
   "outputs": [
    {
     "data": {
      "application/vnd.plotly.v1+json": {
       "config": {
        "plotlyServerURL": "https://plot.ly"
       },
       "data": [
        {
         "name": "Casos",
         "text": [
          " 124632",
          " 300615",
          " 83349",
          " 124736",
          " 94461",
          " 9216"
         ],
         "textposition": "auto",
         "type": "bar",
         "x": [
          "Itália",
          "USA",
          "China",
          "Espanha",
          "Alemanha",
          "Brasil"
         ],
         "y": [
          " 124632",
          " 300615",
          " 83349",
          " 124736",
          " 94461",
          " 9216"
         ]
        },
        {
         "name": "Mortes",
         "text": [
          " 15362",
          " 8129",
          " 3326",
          " 11814",
          " 1365",
          " 365"
         ],
         "textposition": "auto",
         "type": "bar",
         "x": [
          "Itália",
          "USA",
          "China",
          "Espanha",
          "Alemanha",
          "Brasil"
         ],
         "y": [
          " 15362",
          " 8129",
          " 3326",
          " 11814",
          " 1365",
          " 365"
         ]
        }
       ],
       "layout": {
        "barmode": "stack",
        "template": {
         "data": {
          "bar": [
           {
            "error_x": {
             "color": "#2a3f5f"
            },
            "error_y": {
             "color": "#2a3f5f"
            },
            "marker": {
             "line": {
              "color": "#E5ECF6",
              "width": 0.5
             }
            },
            "type": "bar"
           }
          ],
          "barpolar": [
           {
            "marker": {
             "line": {
              "color": "#E5ECF6",
              "width": 0.5
             }
            },
            "type": "barpolar"
           }
          ],
          "carpet": [
           {
            "aaxis": {
             "endlinecolor": "#2a3f5f",
             "gridcolor": "white",
             "linecolor": "white",
             "minorgridcolor": "white",
             "startlinecolor": "#2a3f5f"
            },
            "baxis": {
             "endlinecolor": "#2a3f5f",
             "gridcolor": "white",
             "linecolor": "white",
             "minorgridcolor": "white",
             "startlinecolor": "#2a3f5f"
            },
            "type": "carpet"
           }
          ],
          "choropleth": [
           {
            "colorbar": {
             "outlinewidth": 0,
             "ticks": ""
            },
            "type": "choropleth"
           }
          ],
          "contour": [
           {
            "colorbar": {
             "outlinewidth": 0,
             "ticks": ""
            },
            "colorscale": [
             [
              0,
              "#0d0887"
             ],
             [
              0.1111111111111111,
              "#46039f"
             ],
             [
              0.2222222222222222,
              "#7201a8"
             ],
             [
              0.3333333333333333,
              "#9c179e"
             ],
             [
              0.4444444444444444,
              "#bd3786"
             ],
             [
              0.5555555555555556,
              "#d8576b"
             ],
             [
              0.6666666666666666,
              "#ed7953"
             ],
             [
              0.7777777777777778,
              "#fb9f3a"
             ],
             [
              0.8888888888888888,
              "#fdca26"
             ],
             [
              1,
              "#f0f921"
             ]
            ],
            "type": "contour"
           }
          ],
          "contourcarpet": [
           {
            "colorbar": {
             "outlinewidth": 0,
             "ticks": ""
            },
            "type": "contourcarpet"
           }
          ],
          "heatmap": [
           {
            "colorbar": {
             "outlinewidth": 0,
             "ticks": ""
            },
            "colorscale": [
             [
              0,
              "#0d0887"
             ],
             [
              0.1111111111111111,
              "#46039f"
             ],
             [
              0.2222222222222222,
              "#7201a8"
             ],
             [
              0.3333333333333333,
              "#9c179e"
             ],
             [
              0.4444444444444444,
              "#bd3786"
             ],
             [
              0.5555555555555556,
              "#d8576b"
             ],
             [
              0.6666666666666666,
              "#ed7953"
             ],
             [
              0.7777777777777778,
              "#fb9f3a"
             ],
             [
              0.8888888888888888,
              "#fdca26"
             ],
             [
              1,
              "#f0f921"
             ]
            ],
            "type": "heatmap"
           }
          ],
          "heatmapgl": [
           {
            "colorbar": {
             "outlinewidth": 0,
             "ticks": ""
            },
            "colorscale": [
             [
              0,
              "#0d0887"
             ],
             [
              0.1111111111111111,
              "#46039f"
             ],
             [
              0.2222222222222222,
              "#7201a8"
             ],
             [
              0.3333333333333333,
              "#9c179e"
             ],
             [
              0.4444444444444444,
              "#bd3786"
             ],
             [
              0.5555555555555556,
              "#d8576b"
             ],
             [
              0.6666666666666666,
              "#ed7953"
             ],
             [
              0.7777777777777778,
              "#fb9f3a"
             ],
             [
              0.8888888888888888,
              "#fdca26"
             ],
             [
              1,
              "#f0f921"
             ]
            ],
            "type": "heatmapgl"
           }
          ],
          "histogram": [
           {
            "marker": {
             "colorbar": {
              "outlinewidth": 0,
              "ticks": ""
             }
            },
            "type": "histogram"
           }
          ],
          "histogram2d": [
           {
            "colorbar": {
             "outlinewidth": 0,
             "ticks": ""
            },
            "colorscale": [
             [
              0,
              "#0d0887"
             ],
             [
              0.1111111111111111,
              "#46039f"
             ],
             [
              0.2222222222222222,
              "#7201a8"
             ],
             [
              0.3333333333333333,
              "#9c179e"
             ],
             [
              0.4444444444444444,
              "#bd3786"
             ],
             [
              0.5555555555555556,
              "#d8576b"
             ],
             [
              0.6666666666666666,
              "#ed7953"
             ],
             [
              0.7777777777777778,
              "#fb9f3a"
             ],
             [
              0.8888888888888888,
              "#fdca26"
             ],
             [
              1,
              "#f0f921"
             ]
            ],
            "type": "histogram2d"
           }
          ],
          "histogram2dcontour": [
           {
            "colorbar": {
             "outlinewidth": 0,
             "ticks": ""
            },
            "colorscale": [
             [
              0,
              "#0d0887"
             ],
             [
              0.1111111111111111,
              "#46039f"
             ],
             [
              0.2222222222222222,
              "#7201a8"
             ],
             [
              0.3333333333333333,
              "#9c179e"
             ],
             [
              0.4444444444444444,
              "#bd3786"
             ],
             [
              0.5555555555555556,
              "#d8576b"
             ],
             [
              0.6666666666666666,
              "#ed7953"
             ],
             [
              0.7777777777777778,
              "#fb9f3a"
             ],
             [
              0.8888888888888888,
              "#fdca26"
             ],
             [
              1,
              "#f0f921"
             ]
            ],
            "type": "histogram2dcontour"
           }
          ],
          "mesh3d": [
           {
            "colorbar": {
             "outlinewidth": 0,
             "ticks": ""
            },
            "type": "mesh3d"
           }
          ],
          "parcoords": [
           {
            "line": {
             "colorbar": {
              "outlinewidth": 0,
              "ticks": ""
             }
            },
            "type": "parcoords"
           }
          ],
          "pie": [
           {
            "automargin": true,
            "type": "pie"
           }
          ],
          "scatter": [
           {
            "marker": {
             "colorbar": {
              "outlinewidth": 0,
              "ticks": ""
             }
            },
            "type": "scatter"
           }
          ],
          "scatter3d": [
           {
            "line": {
             "colorbar": {
              "outlinewidth": 0,
              "ticks": ""
             }
            },
            "marker": {
             "colorbar": {
              "outlinewidth": 0,
              "ticks": ""
             }
            },
            "type": "scatter3d"
           }
          ],
          "scattercarpet": [
           {
            "marker": {
             "colorbar": {
              "outlinewidth": 0,
              "ticks": ""
             }
            },
            "type": "scattercarpet"
           }
          ],
          "scattergeo": [
           {
            "marker": {
             "colorbar": {
              "outlinewidth": 0,
              "ticks": ""
             }
            },
            "type": "scattergeo"
           }
          ],
          "scattergl": [
           {
            "marker": {
             "colorbar": {
              "outlinewidth": 0,
              "ticks": ""
             }
            },
            "type": "scattergl"
           }
          ],
          "scattermapbox": [
           {
            "marker": {
             "colorbar": {
              "outlinewidth": 0,
              "ticks": ""
             }
            },
            "type": "scattermapbox"
           }
          ],
          "scatterpolar": [
           {
            "marker": {
             "colorbar": {
              "outlinewidth": 0,
              "ticks": ""
             }
            },
            "type": "scatterpolar"
           }
          ],
          "scatterpolargl": [
           {
            "marker": {
             "colorbar": {
              "outlinewidth": 0,
              "ticks": ""
             }
            },
            "type": "scatterpolargl"
           }
          ],
          "scatterternary": [
           {
            "marker": {
             "colorbar": {
              "outlinewidth": 0,
              "ticks": ""
             }
            },
            "type": "scatterternary"
           }
          ],
          "surface": [
           {
            "colorbar": {
             "outlinewidth": 0,
             "ticks": ""
            },
            "colorscale": [
             [
              0,
              "#0d0887"
             ],
             [
              0.1111111111111111,
              "#46039f"
             ],
             [
              0.2222222222222222,
              "#7201a8"
             ],
             [
              0.3333333333333333,
              "#9c179e"
             ],
             [
              0.4444444444444444,
              "#bd3786"
             ],
             [
              0.5555555555555556,
              "#d8576b"
             ],
             [
              0.6666666666666666,
              "#ed7953"
             ],
             [
              0.7777777777777778,
              "#fb9f3a"
             ],
             [
              0.8888888888888888,
              "#fdca26"
             ],
             [
              1,
              "#f0f921"
             ]
            ],
            "type": "surface"
           }
          ],
          "table": [
           {
            "cells": {
             "fill": {
              "color": "#EBF0F8"
             },
             "line": {
              "color": "white"
             }
            },
            "header": {
             "fill": {
              "color": "#C8D4E3"
             },
             "line": {
              "color": "white"
             }
            },
            "type": "table"
           }
          ]
         },
         "layout": {
          "annotationdefaults": {
           "arrowcolor": "#2a3f5f",
           "arrowhead": 0,
           "arrowwidth": 1
          },
          "coloraxis": {
           "colorbar": {
            "outlinewidth": 0,
            "ticks": ""
           }
          },
          "colorscale": {
           "diverging": [
            [
             0,
             "#8e0152"
            ],
            [
             0.1,
             "#c51b7d"
            ],
            [
             0.2,
             "#de77ae"
            ],
            [
             0.3,
             "#f1b6da"
            ],
            [
             0.4,
             "#fde0ef"
            ],
            [
             0.5,
             "#f7f7f7"
            ],
            [
             0.6,
             "#e6f5d0"
            ],
            [
             0.7,
             "#b8e186"
            ],
            [
             0.8,
             "#7fbc41"
            ],
            [
             0.9,
             "#4d9221"
            ],
            [
             1,
             "#276419"
            ]
           ],
           "sequential": [
            [
             0,
             "#0d0887"
            ],
            [
             0.1111111111111111,
             "#46039f"
            ],
            [
             0.2222222222222222,
             "#7201a8"
            ],
            [
             0.3333333333333333,
             "#9c179e"
            ],
            [
             0.4444444444444444,
             "#bd3786"
            ],
            [
             0.5555555555555556,
             "#d8576b"
            ],
            [
             0.6666666666666666,
             "#ed7953"
            ],
            [
             0.7777777777777778,
             "#fb9f3a"
            ],
            [
             0.8888888888888888,
             "#fdca26"
            ],
            [
             1,
             "#f0f921"
            ]
           ],
           "sequentialminus": [
            [
             0,
             "#0d0887"
            ],
            [
             0.1111111111111111,
             "#46039f"
            ],
            [
             0.2222222222222222,
             "#7201a8"
            ],
            [
             0.3333333333333333,
             "#9c179e"
            ],
            [
             0.4444444444444444,
             "#bd3786"
            ],
            [
             0.5555555555555556,
             "#d8576b"
            ],
            [
             0.6666666666666666,
             "#ed7953"
            ],
            [
             0.7777777777777778,
             "#fb9f3a"
            ],
            [
             0.8888888888888888,
             "#fdca26"
            ],
            [
             1,
             "#f0f921"
            ]
           ]
          },
          "colorway": [
           "#636efa",
           "#EF553B",
           "#00cc96",
           "#ab63fa",
           "#FFA15A",
           "#19d3f3",
           "#FF6692",
           "#B6E880",
           "#FF97FF",
           "#FECB52"
          ],
          "font": {
           "color": "#2a3f5f"
          },
          "geo": {
           "bgcolor": "white",
           "lakecolor": "white",
           "landcolor": "#E5ECF6",
           "showlakes": true,
           "showland": true,
           "subunitcolor": "white"
          },
          "hoverlabel": {
           "align": "left"
          },
          "hovermode": "closest",
          "mapbox": {
           "style": "light"
          },
          "paper_bgcolor": "white",
          "plot_bgcolor": "#E5ECF6",
          "polar": {
           "angularaxis": {
            "gridcolor": "white",
            "linecolor": "white",
            "ticks": ""
           },
           "bgcolor": "#E5ECF6",
           "radialaxis": {
            "gridcolor": "white",
            "linecolor": "white",
            "ticks": ""
           }
          },
          "scene": {
           "xaxis": {
            "backgroundcolor": "#E5ECF6",
            "gridcolor": "white",
            "gridwidth": 2,
            "linecolor": "white",
            "showbackground": true,
            "ticks": "",
            "zerolinecolor": "white"
           },
           "yaxis": {
            "backgroundcolor": "#E5ECF6",
            "gridcolor": "white",
            "gridwidth": 2,
            "linecolor": "white",
            "showbackground": true,
            "ticks": "",
            "zerolinecolor": "white"
           },
           "zaxis": {
            "backgroundcolor": "#E5ECF6",
            "gridcolor": "white",
            "gridwidth": 2,
            "linecolor": "white",
            "showbackground": true,
            "ticks": "",
            "zerolinecolor": "white"
           }
          },
          "shapedefaults": {
           "line": {
            "color": "#2a3f5f"
           }
          },
          "ternary": {
           "aaxis": {
            "gridcolor": "white",
            "linecolor": "white",
            "ticks": ""
           },
           "baxis": {
            "gridcolor": "white",
            "linecolor": "white",
            "ticks": ""
           },
           "bgcolor": "#E5ECF6",
           "caxis": {
            "gridcolor": "white",
            "linecolor": "white",
            "ticks": ""
           }
          },
          "title": {
           "x": 0.05
          },
          "xaxis": {
           "automargin": true,
           "gridcolor": "white",
           "linecolor": "white",
           "ticks": "",
           "title": {
            "standoff": 15
           },
           "zerolinecolor": "white",
           "zerolinewidth": 2
          },
          "yaxis": {
           "automargin": true,
           "gridcolor": "white",
           "linecolor": "white",
           "ticks": "",
           "title": {
            "standoff": 15
           },
           "zerolinecolor": "white",
           "zerolinewidth": 2
          }
         }
        }
       }
      },
      "text/html": [
       "<div>\n",
       "        \n",
       "        \n",
       "            <div id=\"48b47734-5aa7-4610-8619-d5a9544aa55f\" class=\"plotly-graph-div\" style=\"height:525px; width:100%;\"></div>\n",
       "            <script type=\"text/javascript\">\n",
       "                require([\"plotly\"], function(Plotly) {\n",
       "                    window.PLOTLYENV=window.PLOTLYENV || {};\n",
       "                    \n",
       "                if (document.getElementById(\"48b47734-5aa7-4610-8619-d5a9544aa55f\")) {\n",
       "                    Plotly.newPlot(\n",
       "                        '48b47734-5aa7-4610-8619-d5a9544aa55f',\n",
       "                        [{\"name\": \"Casos\", \"text\": [\" 124632\", \" 300615\", \" 83349\", \" 124736\", \" 94461\", \" 9216\"], \"textposition\": \"auto\", \"type\": \"bar\", \"x\": [\"It\\u00e1lia\", \"USA\", \"China\", \"Espanha\", \"Alemanha\", \"Brasil\"], \"y\": [\" 124632\", \" 300615\", \" 83349\", \" 124736\", \" 94461\", \" 9216\"]}, {\"name\": \"Mortes\", \"text\": [\" 15362\", \" 8129\", \" 3326\", \" 11814\", \" 1365\", \" 365\"], \"textposition\": \"auto\", \"type\": \"bar\", \"x\": [\"It\\u00e1lia\", \"USA\", \"China\", \"Espanha\", \"Alemanha\", \"Brasil\"], \"y\": [\" 15362\", \" 8129\", \" 3326\", \" 11814\", \" 1365\", \" 365\"]}],\n",
       "                        {\"barmode\": \"stack\", \"template\": {\"data\": {\"bar\": [{\"error_x\": {\"color\": \"#2a3f5f\"}, \"error_y\": {\"color\": \"#2a3f5f\"}, \"marker\": {\"line\": {\"color\": \"#E5ECF6\", \"width\": 0.5}}, \"type\": \"bar\"}], \"barpolar\": [{\"marker\": {\"line\": {\"color\": \"#E5ECF6\", \"width\": 0.5}}, \"type\": \"barpolar\"}], \"carpet\": [{\"aaxis\": {\"endlinecolor\": \"#2a3f5f\", \"gridcolor\": \"white\", \"linecolor\": \"white\", \"minorgridcolor\": \"white\", \"startlinecolor\": \"#2a3f5f\"}, \"baxis\": {\"endlinecolor\": \"#2a3f5f\", \"gridcolor\": \"white\", \"linecolor\": \"white\", \"minorgridcolor\": \"white\", \"startlinecolor\": \"#2a3f5f\"}, \"type\": \"carpet\"}], \"choropleth\": [{\"colorbar\": {\"outlinewidth\": 0, \"ticks\": \"\"}, \"type\": \"choropleth\"}], \"contour\": [{\"colorbar\": {\"outlinewidth\": 0, \"ticks\": \"\"}, \"colorscale\": [[0.0, \"#0d0887\"], [0.1111111111111111, \"#46039f\"], [0.2222222222222222, \"#7201a8\"], [0.3333333333333333, \"#9c179e\"], [0.4444444444444444, \"#bd3786\"], [0.5555555555555556, \"#d8576b\"], [0.6666666666666666, \"#ed7953\"], [0.7777777777777778, \"#fb9f3a\"], [0.8888888888888888, \"#fdca26\"], [1.0, \"#f0f921\"]], \"type\": \"contour\"}], \"contourcarpet\": [{\"colorbar\": {\"outlinewidth\": 0, \"ticks\": \"\"}, \"type\": \"contourcarpet\"}], \"heatmap\": [{\"colorbar\": {\"outlinewidth\": 0, \"ticks\": \"\"}, \"colorscale\": [[0.0, \"#0d0887\"], [0.1111111111111111, \"#46039f\"], [0.2222222222222222, \"#7201a8\"], [0.3333333333333333, \"#9c179e\"], [0.4444444444444444, \"#bd3786\"], [0.5555555555555556, \"#d8576b\"], [0.6666666666666666, \"#ed7953\"], [0.7777777777777778, \"#fb9f3a\"], [0.8888888888888888, \"#fdca26\"], [1.0, \"#f0f921\"]], \"type\": \"heatmap\"}], \"heatmapgl\": [{\"colorbar\": {\"outlinewidth\": 0, \"ticks\": \"\"}, \"colorscale\": [[0.0, \"#0d0887\"], [0.1111111111111111, \"#46039f\"], [0.2222222222222222, \"#7201a8\"], [0.3333333333333333, \"#9c179e\"], [0.4444444444444444, \"#bd3786\"], [0.5555555555555556, \"#d8576b\"], [0.6666666666666666, \"#ed7953\"], [0.7777777777777778, \"#fb9f3a\"], [0.8888888888888888, \"#fdca26\"], [1.0, \"#f0f921\"]], \"type\": \"heatmapgl\"}], \"histogram\": [{\"marker\": {\"colorbar\": {\"outlinewidth\": 0, \"ticks\": \"\"}}, \"type\": \"histogram\"}], \"histogram2d\": [{\"colorbar\": {\"outlinewidth\": 0, \"ticks\": \"\"}, \"colorscale\": [[0.0, \"#0d0887\"], [0.1111111111111111, \"#46039f\"], [0.2222222222222222, \"#7201a8\"], [0.3333333333333333, \"#9c179e\"], [0.4444444444444444, \"#bd3786\"], [0.5555555555555556, \"#d8576b\"], [0.6666666666666666, \"#ed7953\"], [0.7777777777777778, \"#fb9f3a\"], [0.8888888888888888, \"#fdca26\"], [1.0, \"#f0f921\"]], \"type\": \"histogram2d\"}], \"histogram2dcontour\": [{\"colorbar\": {\"outlinewidth\": 0, \"ticks\": \"\"}, \"colorscale\": [[0.0, \"#0d0887\"], [0.1111111111111111, \"#46039f\"], [0.2222222222222222, \"#7201a8\"], [0.3333333333333333, \"#9c179e\"], [0.4444444444444444, \"#bd3786\"], [0.5555555555555556, \"#d8576b\"], [0.6666666666666666, \"#ed7953\"], [0.7777777777777778, \"#fb9f3a\"], [0.8888888888888888, \"#fdca26\"], [1.0, \"#f0f921\"]], \"type\": \"histogram2dcontour\"}], \"mesh3d\": [{\"colorbar\": {\"outlinewidth\": 0, \"ticks\": \"\"}, \"type\": \"mesh3d\"}], \"parcoords\": [{\"line\": {\"colorbar\": {\"outlinewidth\": 0, \"ticks\": \"\"}}, \"type\": \"parcoords\"}], \"pie\": [{\"automargin\": true, \"type\": \"pie\"}], \"scatter\": [{\"marker\": {\"colorbar\": {\"outlinewidth\": 0, \"ticks\": \"\"}}, \"type\": \"scatter\"}], \"scatter3d\": [{\"line\": {\"colorbar\": {\"outlinewidth\": 0, \"ticks\": \"\"}}, \"marker\": {\"colorbar\": {\"outlinewidth\": 0, \"ticks\": \"\"}}, \"type\": \"scatter3d\"}], \"scattercarpet\": [{\"marker\": {\"colorbar\": {\"outlinewidth\": 0, \"ticks\": \"\"}}, \"type\": \"scattercarpet\"}], \"scattergeo\": [{\"marker\": {\"colorbar\": {\"outlinewidth\": 0, \"ticks\": \"\"}}, \"type\": \"scattergeo\"}], \"scattergl\": [{\"marker\": {\"colorbar\": {\"outlinewidth\": 0, \"ticks\": \"\"}}, \"type\": \"scattergl\"}], \"scattermapbox\": [{\"marker\": {\"colorbar\": {\"outlinewidth\": 0, \"ticks\": \"\"}}, \"type\": \"scattermapbox\"}], \"scatterpolar\": [{\"marker\": {\"colorbar\": {\"outlinewidth\": 0, \"ticks\": \"\"}}, \"type\": \"scatterpolar\"}], \"scatterpolargl\": [{\"marker\": {\"colorbar\": {\"outlinewidth\": 0, \"ticks\": \"\"}}, \"type\": \"scatterpolargl\"}], \"scatterternary\": [{\"marker\": {\"colorbar\": {\"outlinewidth\": 0, \"ticks\": \"\"}}, \"type\": \"scatterternary\"}], \"surface\": [{\"colorbar\": {\"outlinewidth\": 0, \"ticks\": \"\"}, \"colorscale\": [[0.0, \"#0d0887\"], [0.1111111111111111, \"#46039f\"], [0.2222222222222222, \"#7201a8\"], [0.3333333333333333, \"#9c179e\"], [0.4444444444444444, \"#bd3786\"], [0.5555555555555556, \"#d8576b\"], [0.6666666666666666, \"#ed7953\"], [0.7777777777777778, \"#fb9f3a\"], [0.8888888888888888, \"#fdca26\"], [1.0, \"#f0f921\"]], \"type\": \"surface\"}], \"table\": [{\"cells\": {\"fill\": {\"color\": \"#EBF0F8\"}, \"line\": {\"color\": \"white\"}}, \"header\": {\"fill\": {\"color\": \"#C8D4E3\"}, \"line\": {\"color\": \"white\"}}, \"type\": \"table\"}]}, \"layout\": {\"annotationdefaults\": {\"arrowcolor\": \"#2a3f5f\", \"arrowhead\": 0, \"arrowwidth\": 1}, \"coloraxis\": {\"colorbar\": {\"outlinewidth\": 0, \"ticks\": \"\"}}, \"colorscale\": {\"diverging\": [[0, \"#8e0152\"], [0.1, \"#c51b7d\"], [0.2, \"#de77ae\"], [0.3, \"#f1b6da\"], [0.4, \"#fde0ef\"], [0.5, \"#f7f7f7\"], [0.6, \"#e6f5d0\"], [0.7, \"#b8e186\"], [0.8, \"#7fbc41\"], [0.9, \"#4d9221\"], [1, \"#276419\"]], \"sequential\": [[0.0, \"#0d0887\"], [0.1111111111111111, \"#46039f\"], [0.2222222222222222, \"#7201a8\"], [0.3333333333333333, \"#9c179e\"], [0.4444444444444444, \"#bd3786\"], [0.5555555555555556, \"#d8576b\"], [0.6666666666666666, \"#ed7953\"], [0.7777777777777778, \"#fb9f3a\"], [0.8888888888888888, \"#fdca26\"], [1.0, \"#f0f921\"]], \"sequentialminus\": [[0.0, \"#0d0887\"], [0.1111111111111111, \"#46039f\"], [0.2222222222222222, \"#7201a8\"], [0.3333333333333333, \"#9c179e\"], [0.4444444444444444, \"#bd3786\"], [0.5555555555555556, \"#d8576b\"], [0.6666666666666666, \"#ed7953\"], [0.7777777777777778, \"#fb9f3a\"], [0.8888888888888888, \"#fdca26\"], [1.0, \"#f0f921\"]]}, \"colorway\": [\"#636efa\", \"#EF553B\", \"#00cc96\", \"#ab63fa\", \"#FFA15A\", \"#19d3f3\", \"#FF6692\", \"#B6E880\", \"#FF97FF\", \"#FECB52\"], \"font\": {\"color\": \"#2a3f5f\"}, \"geo\": {\"bgcolor\": \"white\", \"lakecolor\": \"white\", \"landcolor\": \"#E5ECF6\", \"showlakes\": true, \"showland\": true, \"subunitcolor\": \"white\"}, \"hoverlabel\": {\"align\": \"left\"}, \"hovermode\": \"closest\", \"mapbox\": {\"style\": \"light\"}, \"paper_bgcolor\": \"white\", \"plot_bgcolor\": \"#E5ECF6\", \"polar\": {\"angularaxis\": {\"gridcolor\": \"white\", \"linecolor\": \"white\", \"ticks\": \"\"}, \"bgcolor\": \"#E5ECF6\", \"radialaxis\": {\"gridcolor\": \"white\", \"linecolor\": \"white\", \"ticks\": \"\"}}, \"scene\": {\"xaxis\": {\"backgroundcolor\": \"#E5ECF6\", \"gridcolor\": \"white\", \"gridwidth\": 2, \"linecolor\": \"white\", \"showbackground\": true, \"ticks\": \"\", \"zerolinecolor\": \"white\"}, \"yaxis\": {\"backgroundcolor\": \"#E5ECF6\", \"gridcolor\": \"white\", \"gridwidth\": 2, \"linecolor\": \"white\", \"showbackground\": true, \"ticks\": \"\", \"zerolinecolor\": \"white\"}, \"zaxis\": {\"backgroundcolor\": \"#E5ECF6\", \"gridcolor\": \"white\", \"gridwidth\": 2, \"linecolor\": \"white\", \"showbackground\": true, \"ticks\": \"\", \"zerolinecolor\": \"white\"}}, \"shapedefaults\": {\"line\": {\"color\": \"#2a3f5f\"}}, \"ternary\": {\"aaxis\": {\"gridcolor\": \"white\", \"linecolor\": \"white\", \"ticks\": \"\"}, \"baxis\": {\"gridcolor\": \"white\", \"linecolor\": \"white\", \"ticks\": \"\"}, \"bgcolor\": \"#E5ECF6\", \"caxis\": {\"gridcolor\": \"white\", \"linecolor\": \"white\", \"ticks\": \"\"}}, \"title\": {\"x\": 0.05}, \"xaxis\": {\"automargin\": true, \"gridcolor\": \"white\", \"linecolor\": \"white\", \"ticks\": \"\", \"title\": {\"standoff\": 15}, \"zerolinecolor\": \"white\", \"zerolinewidth\": 2}, \"yaxis\": {\"automargin\": true, \"gridcolor\": \"white\", \"linecolor\": \"white\", \"ticks\": \"\", \"title\": {\"standoff\": 15}, \"zerolinecolor\": \"white\", \"zerolinewidth\": 2}}}},\n",
       "                        {\"responsive\": true}\n",
       "                    ).then(function(){\n",
       "                            \n",
       "var gd = document.getElementById('48b47734-5aa7-4610-8619-d5a9544aa55f');\n",
       "var x = new MutationObserver(function (mutations, observer) {{\n",
       "        var display = window.getComputedStyle(gd).display;\n",
       "        if (!display || display === 'none') {{\n",
       "            console.log([gd, 'removed!']);\n",
       "            Plotly.purge(gd);\n",
       "            observer.disconnect();\n",
       "        }}\n",
       "}});\n",
       "\n",
       "// Listen for the removal of the full notebook cells\n",
       "var notebookContainer = gd.closest('#notebook-container');\n",
       "if (notebookContainer) {{\n",
       "    x.observe(notebookContainer, {childList: true});\n",
       "}}\n",
       "\n",
       "// Listen for the clearing of the current output cell\n",
       "var outputEl = gd.closest('.output');\n",
       "if (outputEl) {{\n",
       "    x.observe(outputEl, {childList: true});\n",
       "}}\n",
       "\n",
       "                        })\n",
       "                };\n",
       "                });\n",
       "            </script>\n",
       "        </div>"
      ]
     },
     "metadata": {},
     "output_type": "display_data"
    }
   ],
   "source": [
    "# automatizar! \n",
    "#Fonte:https://www.who.int/emergencies/diseases/novel-coronavirus-2019/situation-reports/\n",
    "pais=['Itália','USA', 'China', 'Espanha','Alemanha','Brasil']\n",
    "casos=[italia.casos.to_string(index=False) , usa.casos.to_string(index=False) , china.casos.to_string(index=False) , espanha.casos.to_string(index=False) , alemanha.casos.to_string(index=False) , brasil.casos.to_string(index=False)]\n",
    "mortes =[italia.mortes.to_string(index=False) , usa.mortes.to_string(index=False) , china.mortes.to_string(index=False) , espanha.mortes.to_string(index=False) , alemanha.mortes.to_string(index=False) , brasil.mortes.to_string(index=False)]\n",
    "\n",
    "fig = go.Figure(data=[\n",
    "    go.Bar(name='Casos', x=pais, y=casos, text=casos, textposition='auto'),\n",
    "    go.Bar(name='Mortes', x=pais, y=mortes, text=mortes, textposition='auto')\n",
    "])\n",
    "# Change the bar mode\n",
    "fig.update_layout(barmode='stack')\n",
    "\n",
    "fig.show()"
   ]
  },
  {
   "cell_type": "code",
   "execution_count": null,
   "metadata": {},
   "outputs": [],
   "source": []
  },
  {
   "cell_type": "code",
   "execution_count": null,
   "metadata": {},
   "outputs": [],
   "source": []
  },
  {
   "cell_type": "code",
   "execution_count": 73,
   "metadata": {},
   "outputs": [
    {
     "data": {
      "text/html": [
       "<div>\n",
       "<style scoped>\n",
       "    .dataframe tbody tr th:only-of-type {\n",
       "        vertical-align: middle;\n",
       "    }\n",
       "\n",
       "    .dataframe tbody tr th {\n",
       "        vertical-align: top;\n",
       "    }\n",
       "\n",
       "    .dataframe thead th {\n",
       "        text-align: right;\n",
       "    }\n",
       "</style>\n",
       "<table border=\"1\" class=\"dataframe\">\n",
       "  <thead>\n",
       "    <tr style=\"text-align: right;\">\n",
       "      <th></th>\n",
       "      <th>a</th>\n",
       "      <th>b</th>\n",
       "      <th>c</th>\n",
       "      <th>d</th>\n",
       "      <th>e</th>\n",
       "      <th>date</th>\n",
       "      <th>g</th>\n",
       "    </tr>\n",
       "  </thead>\n",
       "  <tbody>\n",
       "    <tr>\n",
       "      <th>0</th>\n",
       "      <td>1200013</td>\n",
       "      <td>9</td>\n",
       "      <td>0</td>\n",
       "      <td>AC</td>\n",
       "      <td>Acrelândia</td>\n",
       "      <td>2020-04-03</td>\n",
       "      <td>city</td>\n",
       "    </tr>\n",
       "    <tr>\n",
       "      <th>1</th>\n",
       "      <td>1200807</td>\n",
       "      <td>1</td>\n",
       "      <td>0</td>\n",
       "      <td>AC</td>\n",
       "      <td>Porto Acre</td>\n",
       "      <td>2020-04-03</td>\n",
       "      <td>city</td>\n",
       "    </tr>\n",
       "    <tr>\n",
       "      <th>2</th>\n",
       "      <td>1200401</td>\n",
       "      <td>36</td>\n",
       "      <td>0</td>\n",
       "      <td>AC</td>\n",
       "      <td>Rio Branco</td>\n",
       "      <td>2020-04-03</td>\n",
       "      <td>city</td>\n",
       "    </tr>\n",
       "    <tr>\n",
       "      <th>3</th>\n",
       "      <td>12</td>\n",
       "      <td>46</td>\n",
       "      <td>0</td>\n",
       "      <td>AC</td>\n",
       "      <td>0</td>\n",
       "      <td>2020-04-03</td>\n",
       "      <td>state</td>\n",
       "    </tr>\n",
       "    <tr>\n",
       "      <th>4</th>\n",
       "      <td>2704302</td>\n",
       "      <td>17</td>\n",
       "      <td>2</td>\n",
       "      <td>AL</td>\n",
       "      <td>Maceió</td>\n",
       "      <td>2020-04-03</td>\n",
       "      <td>city</td>\n",
       "    </tr>\n",
       "    <tr>\n",
       "      <th>...</th>\n",
       "      <td>...</td>\n",
       "      <td>...</td>\n",
       "      <td>...</td>\n",
       "      <td>...</td>\n",
       "      <td>...</td>\n",
       "      <td>...</td>\n",
       "      <td>...</td>\n",
       "    </tr>\n",
       "    <tr>\n",
       "      <th>974</th>\n",
       "      <td>2804508</td>\n",
       "      <td>1</td>\n",
       "      <td>0</td>\n",
       "      <td>SE</td>\n",
       "      <td>Nossa Senhora da Glória</td>\n",
       "      <td>2020-04-02</td>\n",
       "      <td>city</td>\n",
       "    </tr>\n",
       "    <tr>\n",
       "      <th>975</th>\n",
       "      <td>2805703</td>\n",
       "      <td>2</td>\n",
       "      <td>0</td>\n",
       "      <td>SE</td>\n",
       "      <td>Propriá</td>\n",
       "      <td>2020-04-02</td>\n",
       "      <td>city</td>\n",
       "    </tr>\n",
       "    <tr>\n",
       "      <th>976</th>\n",
       "      <td>28</td>\n",
       "      <td>24</td>\n",
       "      <td>2</td>\n",
       "      <td>SE</td>\n",
       "      <td>0</td>\n",
       "      <td>2020-04-02</td>\n",
       "      <td>state</td>\n",
       "    </tr>\n",
       "    <tr>\n",
       "      <th>977</th>\n",
       "      <td>3500501</td>\n",
       "      <td>1</td>\n",
       "      <td>0</td>\n",
       "      <td>SP</td>\n",
       "      <td>Águas de Lindóia</td>\n",
       "      <td>2020-04-02</td>\n",
       "      <td>city</td>\n",
       "    </tr>\n",
       "    <tr>\n",
       "      <th>978</th>\n",
       "      <td>3500709</td>\n",
       "      <td>1</td>\n",
       "      <td>0</td>\n",
       "      <td>SP</td>\n",
       "      <td>Agudos</td>\n",
       "      <td>2020-04-02</td>\n",
       "      <td>city</td>\n",
       "    </tr>\n",
       "  </tbody>\n",
       "</table>\n",
       "<p>979 rows × 7 columns</p>\n",
       "</div>"
      ],
      "text/plain": [
       "           a   b  c   d                        e        date      g\n",
       "0    1200013   9  0  AC               Acrelândia  2020-04-03   city\n",
       "1    1200807   1  0  AC               Porto Acre  2020-04-03   city\n",
       "2    1200401  36  0  AC               Rio Branco  2020-04-03   city\n",
       "3         12  46  0  AC                        0  2020-04-03  state\n",
       "4    2704302  17  2  AL                   Maceió  2020-04-03   city\n",
       "..       ...  .. ..  ..                      ...         ...    ...\n",
       "974  2804508   1  0  SE  Nossa Senhora da Glória  2020-04-02   city\n",
       "975  2805703   2  0  SE                  Propriá  2020-04-02   city\n",
       "976       28  24  2  SE                        0  2020-04-02  state\n",
       "977  3500501   1  0  SP         Águas de Lindóia  2020-04-02   city\n",
       "978  3500709   1  0  SP                   Agudos  2020-04-02   city\n",
       "\n",
       "[979 rows x 7 columns]"
      ]
     },
     "execution_count": 73,
     "metadata": {},
     "output_type": "execute_result"
    }
   ],
   "source": [
    "import json\n",
    "from pandas.io.json import json_normalize\n",
    "#brasil = pd.read_csv('covid19Dia.csv', sep=',' ,index_col=None)\n",
    "corona = 'https://brasil.io/api/dataset/covid19/caso/data?format=json'\n",
    "jsonpd = pd.read_json(corona)\n",
    "coronaCidades = pd.json_normalize(jsonpd.results)\n",
    "df1 =coronaCidades[coronaCidades.city.notnull()]\n",
    "df1 =coronaCidades[coronaCidades.city_ibge_code.notnull()]\n",
    "df = df1#[(df1.place_type == 'city')].sort_values(by='city_ibge_code',ascending=False)\n",
    "#df.groupby(['city'] )\n",
    "#df['state'].unique()\n",
    "df.fillna(0, inplace = True)\n",
    "df = df.reset_index(drop=True)\n",
    "\n",
    "\n",
    "df1= df[['city_ibge_code', 'confirmed','deaths','state','city','date','place_type']]\n",
    "df1.columns = ['a','b','c','d','e','date','g']\n",
    "\n",
    "df1"
   ]
  },
  {
   "cell_type": "code",
   "execution_count": 74,
   "metadata": {},
   "outputs": [
    {
     "data": {
      "text/html": [
       "<div>\n",
       "<style scoped>\n",
       "    .dataframe tbody tr th:only-of-type {\n",
       "        vertical-align: middle;\n",
       "    }\n",
       "\n",
       "    .dataframe tbody tr th {\n",
       "        vertical-align: top;\n",
       "    }\n",
       "\n",
       "    .dataframe thead th {\n",
       "        text-align: right;\n",
       "    }\n",
       "</style>\n",
       "<table border=\"1\" class=\"dataframe\">\n",
       "  <thead>\n",
       "    <tr style=\"text-align: right;\">\n",
       "      <th></th>\n",
       "      <th>a</th>\n",
       "      <th>e</th>\n",
       "      <th>b</th>\n",
       "      <th>d</th>\n",
       "      <th>estado</th>\n",
       "      <th>latitude</th>\n",
       "      <th>longitude</th>\n",
       "      <th>date</th>\n",
       "    </tr>\n",
       "  </thead>\n",
       "  <tbody>\n",
       "    <tr>\n",
       "      <th>0</th>\n",
       "      <td>5200050</td>\n",
       "      <td>Abadia de Goiás</td>\n",
       "      <td>52</td>\n",
       "      <td>GO</td>\n",
       "      <td>Goiás</td>\n",
       "      <td>-16.75730</td>\n",
       "      <td>-49.4412</td>\n",
       "      <td>2020-04-03</td>\n",
       "    </tr>\n",
       "    <tr>\n",
       "      <th>1</th>\n",
       "      <td>3100104</td>\n",
       "      <td>Abadia dos Dourados</td>\n",
       "      <td>31</td>\n",
       "      <td>MG</td>\n",
       "      <td>Minas Gerais</td>\n",
       "      <td>-18.48310</td>\n",
       "      <td>-47.3916</td>\n",
       "      <td>2020-04-03</td>\n",
       "    </tr>\n",
       "    <tr>\n",
       "      <th>2</th>\n",
       "      <td>5200100</td>\n",
       "      <td>Abadiânia</td>\n",
       "      <td>52</td>\n",
       "      <td>GO</td>\n",
       "      <td>Goiás</td>\n",
       "      <td>-16.19700</td>\n",
       "      <td>-48.7057</td>\n",
       "      <td>2020-04-03</td>\n",
       "    </tr>\n",
       "    <tr>\n",
       "      <th>3</th>\n",
       "      <td>3100203</td>\n",
       "      <td>Abaeté</td>\n",
       "      <td>31</td>\n",
       "      <td>MG</td>\n",
       "      <td>Minas Gerais</td>\n",
       "      <td>-19.15510</td>\n",
       "      <td>-45.4444</td>\n",
       "      <td>2020-04-03</td>\n",
       "    </tr>\n",
       "    <tr>\n",
       "      <th>4</th>\n",
       "      <td>1500107</td>\n",
       "      <td>Abaetetuba</td>\n",
       "      <td>15</td>\n",
       "      <td>PA</td>\n",
       "      <td>Pará</td>\n",
       "      <td>-1.72183</td>\n",
       "      <td>-48.8788</td>\n",
       "      <td>2020-04-03</td>\n",
       "    </tr>\n",
       "    <tr>\n",
       "      <th>...</th>\n",
       "      <td>...</td>\n",
       "      <td>...</td>\n",
       "      <td>...</td>\n",
       "      <td>...</td>\n",
       "      <td>...</td>\n",
       "      <td>...</td>\n",
       "      <td>...</td>\n",
       "      <td>...</td>\n",
       "    </tr>\n",
       "    <tr>\n",
       "      <th>5565</th>\n",
       "      <td>4314548</td>\n",
       "      <td>Pinto Bandeira</td>\n",
       "      <td>43</td>\n",
       "      <td>RS</td>\n",
       "      <td>Rio Grande do Sul</td>\n",
       "      <td>-29.09750</td>\n",
       "      <td>-51.4503</td>\n",
       "      <td>NaN</td>\n",
       "    </tr>\n",
       "    <tr>\n",
       "      <th>5566</th>\n",
       "      <td>4220000</td>\n",
       "      <td>Balneário Rincão</td>\n",
       "      <td>42</td>\n",
       "      <td>SC</td>\n",
       "      <td>Santa Catarina</td>\n",
       "      <td>-28.83140</td>\n",
       "      <td>-49.2352</td>\n",
       "      <td>NaN</td>\n",
       "    </tr>\n",
       "    <tr>\n",
       "      <th>5567</th>\n",
       "      <td>4212650</td>\n",
       "      <td>Pescaria Brava</td>\n",
       "      <td>42</td>\n",
       "      <td>SC</td>\n",
       "      <td>Santa Catarina</td>\n",
       "      <td>-28.39660</td>\n",
       "      <td>-48.8864</td>\n",
       "      <td>NaN</td>\n",
       "    </tr>\n",
       "    <tr>\n",
       "      <th>5568</th>\n",
       "      <td>1504752</td>\n",
       "      <td>Mojuí dos Campos</td>\n",
       "      <td>15</td>\n",
       "      <td>PA</td>\n",
       "      <td>Pará</td>\n",
       "      <td>-2.68220</td>\n",
       "      <td>-54.6425</td>\n",
       "      <td>NaN</td>\n",
       "    </tr>\n",
       "    <tr>\n",
       "      <th>5569</th>\n",
       "      <td>5006275</td>\n",
       "      <td>Paraíso das Águas</td>\n",
       "      <td>50</td>\n",
       "      <td>MS</td>\n",
       "      <td>Mato Grosso do Sul</td>\n",
       "      <td>-19.02160</td>\n",
       "      <td>-53.0116</td>\n",
       "      <td>NaN</td>\n",
       "    </tr>\n",
       "  </tbody>\n",
       "</table>\n",
       "<p>5570 rows × 8 columns</p>\n",
       "</div>"
      ],
      "text/plain": [
       "            a                    e   b   d              estado  latitude  \\\n",
       "0     5200050      Abadia de Goiás  52  GO               Goiás -16.75730   \n",
       "1     3100104  Abadia dos Dourados  31  MG        Minas Gerais -18.48310   \n",
       "2     5200100            Abadiânia  52  GO               Goiás -16.19700   \n",
       "3     3100203               Abaeté  31  MG        Minas Gerais -19.15510   \n",
       "4     1500107           Abaetetuba  15  PA                Pará  -1.72183   \n",
       "...       ...                  ...  ..  ..                 ...       ...   \n",
       "5565  4314548       Pinto Bandeira  43  RS   Rio Grande do Sul -29.09750   \n",
       "5566  4220000     Balneário Rincão  42  SC      Santa Catarina -28.83140   \n",
       "5567  4212650       Pescaria Brava  42  SC      Santa Catarina -28.39660   \n",
       "5568  1504752     Mojuí dos Campos  15  PA                Pará  -2.68220   \n",
       "5569  5006275    Paraíso das Águas  50  MS  Mato Grosso do Sul -19.02160   \n",
       "\n",
       "      longitude        date  \n",
       "0      -49.4412  2020-04-03  \n",
       "1      -47.3916  2020-04-03  \n",
       "2      -48.7057  2020-04-03  \n",
       "3      -45.4444  2020-04-03  \n",
       "4      -48.8788  2020-04-03  \n",
       "...         ...         ...  \n",
       "5565   -51.4503         NaN  \n",
       "5566   -49.2352         NaN  \n",
       "5567   -48.8864         NaN  \n",
       "5568   -54.6425         NaN  \n",
       "5569   -53.0116         NaN  \n",
       "\n",
       "[5570 rows x 8 columns]"
      ]
     },
     "execution_count": 74,
     "metadata": {},
     "output_type": "execute_result"
    }
   ],
   "source": [
    "geo = 'DB/Municipios_Brasileiros.json'\n",
    "df2 = pd.read_json(geo)\n",
    "df2.sort_values(by='city_ibge_code',ascending=False)\n",
    "df2 = df2.reset_index(drop=True)\n",
    "df4 = df2[['city_ibge_code', 'nome_municipio','codigo_uf','uf','estado','latitude','longitude']]\n",
    "df4.columns = ['a','e','b','d','estado','latitude','longitude']\n",
    "df4['date']= df1.date\n",
    "df4"
   ]
  },
  {
   "cell_type": "code",
   "execution_count": 75,
   "metadata": {},
   "outputs": [
    {
     "data": {
      "text/html": [
       "<div>\n",
       "<style scoped>\n",
       "    .dataframe tbody tr th:only-of-type {\n",
       "        vertical-align: middle;\n",
       "    }\n",
       "\n",
       "    .dataframe tbody tr th {\n",
       "        vertical-align: top;\n",
       "    }\n",
       "\n",
       "    .dataframe thead th {\n",
       "        text-align: right;\n",
       "    }\n",
       "</style>\n",
       "<table border=\"1\" class=\"dataframe\">\n",
       "  <thead>\n",
       "    <tr style=\"text-align: right;\">\n",
       "      <th></th>\n",
       "      <th>a</th>\n",
       "      <th>b</th>\n",
       "      <th>c</th>\n",
       "      <th>d</th>\n",
       "      <th>e</th>\n",
       "      <th>date</th>\n",
       "      <th>g</th>\n",
       "      <th>estado</th>\n",
       "      <th>latitude</th>\n",
       "      <th>longitude</th>\n",
       "    </tr>\n",
       "  </thead>\n",
       "  <tbody>\n",
       "    <tr>\n",
       "      <th>23</th>\n",
       "      <td>4300034</td>\n",
       "      <td>43</td>\n",
       "      <td>NaN</td>\n",
       "      <td>RS</td>\n",
       "      <td>Aceguá</td>\n",
       "      <td>2020-04-03</td>\n",
       "      <td>NaN</td>\n",
       "      <td>Rio Grande do Sul</td>\n",
       "      <td>-31.8665</td>\n",
       "      <td>-54.1615</td>\n",
       "    </tr>\n",
       "    <tr>\n",
       "      <th>60</th>\n",
       "      <td>4300059</td>\n",
       "      <td>43</td>\n",
       "      <td>NaN</td>\n",
       "      <td>RS</td>\n",
       "      <td>Água Santa</td>\n",
       "      <td>2020-04-03</td>\n",
       "      <td>NaN</td>\n",
       "      <td>Rio Grande do Sul</td>\n",
       "      <td>-28.1672</td>\n",
       "      <td>-52.0310</td>\n",
       "    </tr>\n",
       "    <tr>\n",
       "      <th>74</th>\n",
       "      <td>4300109</td>\n",
       "      <td>43</td>\n",
       "      <td>NaN</td>\n",
       "      <td>RS</td>\n",
       "      <td>Agudo</td>\n",
       "      <td>2020-04-03</td>\n",
       "      <td>NaN</td>\n",
       "      <td>Rio Grande do Sul</td>\n",
       "      <td>-29.6447</td>\n",
       "      <td>-53.2515</td>\n",
       "    </tr>\n",
       "    <tr>\n",
       "      <th>84</th>\n",
       "      <td>4300208</td>\n",
       "      <td>43</td>\n",
       "      <td>NaN</td>\n",
       "      <td>RS</td>\n",
       "      <td>Ajuricaba</td>\n",
       "      <td>2020-04-03</td>\n",
       "      <td>NaN</td>\n",
       "      <td>Rio Grande do Sul</td>\n",
       "      <td>-28.2342</td>\n",
       "      <td>-53.7757</td>\n",
       "    </tr>\n",
       "    <tr>\n",
       "      <th>100</th>\n",
       "      <td>4300307</td>\n",
       "      <td>43</td>\n",
       "      <td>NaN</td>\n",
       "      <td>RS</td>\n",
       "      <td>Alecrim</td>\n",
       "      <td>2020-04-03</td>\n",
       "      <td>NaN</td>\n",
       "      <td>Rio Grande do Sul</td>\n",
       "      <td>-27.6579</td>\n",
       "      <td>-54.7649</td>\n",
       "    </tr>\n",
       "    <tr>\n",
       "      <th>...</th>\n",
       "      <td>...</td>\n",
       "      <td>...</td>\n",
       "      <td>...</td>\n",
       "      <td>...</td>\n",
       "      <td>...</td>\n",
       "      <td>...</td>\n",
       "      <td>...</td>\n",
       "      <td>...</td>\n",
       "      <td>...</td>\n",
       "      <td>...</td>\n",
       "    </tr>\n",
       "    <tr>\n",
       "      <th>930</th>\n",
       "      <td>4303673</td>\n",
       "      <td>43</td>\n",
       "      <td>NaN</td>\n",
       "      <td>RS</td>\n",
       "      <td>Campestre da Serra</td>\n",
       "      <td>2020-04-02</td>\n",
       "      <td>NaN</td>\n",
       "      <td>Rio Grande do Sul</td>\n",
       "      <td>-28.7926</td>\n",
       "      <td>-51.0941</td>\n",
       "    </tr>\n",
       "    <tr>\n",
       "      <th>934</th>\n",
       "      <td>4303707</td>\n",
       "      <td>43</td>\n",
       "      <td>NaN</td>\n",
       "      <td>RS</td>\n",
       "      <td>Campina das Missões</td>\n",
       "      <td>2020-04-02</td>\n",
       "      <td>NaN</td>\n",
       "      <td>Rio Grande do Sul</td>\n",
       "      <td>-27.9888</td>\n",
       "      <td>-54.8416</td>\n",
       "    </tr>\n",
       "    <tr>\n",
       "      <th>944</th>\n",
       "      <td>4303806</td>\n",
       "      <td>43</td>\n",
       "      <td>NaN</td>\n",
       "      <td>RS</td>\n",
       "      <td>Campinas do Sul</td>\n",
       "      <td>2020-04-02</td>\n",
       "      <td>NaN</td>\n",
       "      <td>Rio Grande do Sul</td>\n",
       "      <td>-27.7174</td>\n",
       "      <td>-52.6248</td>\n",
       "    </tr>\n",
       "    <tr>\n",
       "      <th>954</th>\n",
       "      <td>4303905</td>\n",
       "      <td>43</td>\n",
       "      <td>NaN</td>\n",
       "      <td>RS</td>\n",
       "      <td>Campo Bom</td>\n",
       "      <td>2020-04-02</td>\n",
       "      <td>NaN</td>\n",
       "      <td>Rio Grande do Sul</td>\n",
       "      <td>-29.6747</td>\n",
       "      <td>-51.0606</td>\n",
       "    </tr>\n",
       "    <tr>\n",
       "      <th>972</th>\n",
       "      <td>4304002</td>\n",
       "      <td>43</td>\n",
       "      <td>NaN</td>\n",
       "      <td>RS</td>\n",
       "      <td>Campo Novo</td>\n",
       "      <td>2020-04-02</td>\n",
       "      <td>NaN</td>\n",
       "      <td>Rio Grande do Sul</td>\n",
       "      <td>-27.6792</td>\n",
       "      <td>-53.8052</td>\n",
       "    </tr>\n",
       "  </tbody>\n",
       "</table>\n",
       "<p>73 rows × 10 columns</p>\n",
       "</div>"
      ],
      "text/plain": [
       "           a   b   c   d                    e        date    g  \\\n",
       "23   4300034  43 NaN  RS               Aceguá  2020-04-03  NaN   \n",
       "60   4300059  43 NaN  RS           Água Santa  2020-04-03  NaN   \n",
       "74   4300109  43 NaN  RS                Agudo  2020-04-03  NaN   \n",
       "84   4300208  43 NaN  RS            Ajuricaba  2020-04-03  NaN   \n",
       "100  4300307  43 NaN  RS              Alecrim  2020-04-03  NaN   \n",
       "..       ...  ..  ..  ..                  ...         ...  ...   \n",
       "930  4303673  43 NaN  RS   Campestre da Serra  2020-04-02  NaN   \n",
       "934  4303707  43 NaN  RS  Campina das Missões  2020-04-02  NaN   \n",
       "944  4303806  43 NaN  RS      Campinas do Sul  2020-04-02  NaN   \n",
       "954  4303905  43 NaN  RS            Campo Bom  2020-04-02  NaN   \n",
       "972  4304002  43 NaN  RS           Campo Novo  2020-04-02  NaN   \n",
       "\n",
       "                estado  latitude  longitude  \n",
       "23   Rio Grande do Sul  -31.8665   -54.1615  \n",
       "60   Rio Grande do Sul  -28.1672   -52.0310  \n",
       "74   Rio Grande do Sul  -29.6447   -53.2515  \n",
       "84   Rio Grande do Sul  -28.2342   -53.7757  \n",
       "100  Rio Grande do Sul  -27.6579   -54.7649  \n",
       "..                 ...       ...        ...  \n",
       "930  Rio Grande do Sul  -28.7926   -51.0941  \n",
       "934  Rio Grande do Sul  -27.9888   -54.8416  \n",
       "944  Rio Grande do Sul  -27.7174   -52.6248  \n",
       "954  Rio Grande do Sul  -29.6747   -51.0606  \n",
       "972  Rio Grande do Sul  -27.6792   -53.8052  \n",
       "\n",
       "[73 rows x 10 columns]"
      ]
     },
     "execution_count": 75,
     "metadata": {},
     "output_type": "execute_result"
    }
   ],
   "source": [
    "df = pd.concat([df1, df4])\n",
    "\n",
    "dados =df[ (df.latitude.notnull()) & (df.date.notnull()) ]\n",
    "rs = dados [ (dados.d == 'RS')]\n",
    "rs"
   ]
  },
  {
   "cell_type": "code",
   "execution_count": null,
   "metadata": {},
   "outputs": [],
   "source": []
  },
  {
   "cell_type": "code",
   "execution_count": null,
   "metadata": {},
   "outputs": [],
   "source": []
  },
  {
   "cell_type": "code",
   "execution_count": null,
   "metadata": {},
   "outputs": [],
   "source": []
  },
  {
   "cell_type": "code",
   "execution_count": null,
   "metadata": {},
   "outputs": [],
   "source": []
  }
 ],
 "metadata": {
  "kernelspec": {
   "display_name": "Python 3",
   "language": "python",
   "name": "python3"
  },
  "language_info": {
   "codemirror_mode": {
    "name": "ipython",
    "version": 3
   },
   "file_extension": ".py",
   "mimetype": "text/x-python",
   "name": "python",
   "nbconvert_exporter": "python",
   "pygments_lexer": "ipython3",
   "version": "3.7.6"
  }
 },
 "nbformat": 4,
 "nbformat_minor": 2
}
