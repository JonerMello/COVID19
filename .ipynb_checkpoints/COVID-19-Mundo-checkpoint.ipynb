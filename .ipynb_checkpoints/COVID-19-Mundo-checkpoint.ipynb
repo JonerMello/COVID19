{
 "cells": [
  {
   "cell_type": "code",
   "execution_count": null,
   "metadata": {},
   "outputs": [],
   "source": [
    "#import folium\n",
    "import pandas as pd\n",
    "import numpy as np\n",
    "import cufflinks as cf\n",
    "import plotly\n",
    "import folium\n",
    "import json\n",
    "from pandas.io.json import json_normalize\n",
    "import plotly.graph_objs as go\n",
    "import plotly.offline as py\n",
    "from folium import plugins\n",
    "import matplotlib.pyplot as plt\n",
    "from numpy import nan as NA\n",
    "from plotly.offline import iplot\n",
    "from PIL import Image\n",
    "from wordcloud import WordCloud, STOPWORDS, ImageColorGenerator\n",
    "%matplotlib inline"
   ]
  },
  {
   "cell_type": "code",
   "execution_count": null,
   "metadata": {},
   "outputs": [],
   "source": []
  },
  {
   "cell_type": "code",
   "execution_count": null,
   "metadata": {},
   "outputs": [],
   "source": [
    "mundo = pd.read_csv('DB/WHO-COVID-19-global-data.csv', sep=',' ,index_col=None)\n",
    "mundo.rename(columns={\n",
    "     'day': 'data' , 'Country' : 'sigla' , 'Country Name' : 'pais' , 'Region' : 'regiao', \n",
    "     'Deaths': 'mortes', 'Cumulative Deaths' : 'mortesAcumuladas' , 'Confirmed' : 'confirmados', 'Cumulative Confirmed' : 'confirmadosAcumulado'}, inplace=True)\n",
    "\n",
    "brasil = mundo[mundo['sigla'] == 'BR']\n",
    "italia = mundo[mundo['sigla'] == 'IT']\n",
    "us = mundo[mundo['sigla'] == 'US']\n",
    "es = mundo[mundo['sigla'] == 'ES']\n",
    "alemanha = mundo[mundo['sigla'] == 'DE']\n",
    "china = mundo[mundo['sigla'] == 'CN']\n"
   ]
  },
  {
   "cell_type": "code",
   "execution_count": null,
   "metadata": {},
   "outputs": [],
   "source": [
    "\n",
    "fig = go.Figure(\n",
    "    [\n",
    "        go.Scatter(x = brasil.data, y = brasil.confirmadosAcumulado, mode = 'markers+lines',text=brasil.confirmadosAcumulado, name=\"Brasil\", line_shape='spline'),\n",
    "        go.Scatter(x = italia.data, y = italia.confirmadosAcumulado, mode = 'markers+lines',text=italia.confirmadosAcumulado, name=\"Itália\", line_shape='spline'),\n",
    "        go.Scatter(x = us.data, y = us.confirmadosAcumulado, mode = 'markers+lines',text=us.confirmadosAcumulado, name=\"USA\", line_shape='spline'),\n",
    "        go.Scatter(x = es.data, y = es.confirmadosAcumulado, mode = 'markers+lines',text=es.confirmadosAcumulado, name=\"Espanha\", line_shape='spline'),\n",
    "        go.Scatter(x = alemanha.data, y = alemanha.confirmadosAcumulado, mode = 'markers+lines',text=alemanha.confirmadosAcumulado, name=\"Alemanha\", line_shape='spline'),\n",
    "        go.Scatter(x = china.data, y = china.confirmadosAcumulado, mode = 'markers+lines',text=china.confirmadosAcumulado, name=\"China\", line_shape='spline'),\n",
    "    ]\n",
    ")\n",
    "\n",
    "fig.update_layout(title='Casos Acumulados Por País',legend_title='<b> Estados/DF </b>',\n",
    "                   \n",
    "                   showlegend=True, template=\"plotly_white\",direction='clockwise')\n",
    "\n",
    "fig.show()"
   ]
  },
  {
   "cell_type": "code",
   "execution_count": null,
   "metadata": {},
   "outputs": [],
   "source": [
    "pais=['Itália','USA', 'China', 'Espanha','Alemanha','Brasil']\n",
    "casos=[italia.confirmados.sum() , us.confirmados.sum() , china.confirmados.sum() , es.confirmados.sum() , alemanha.confirmados.sum() , brasil.confirmados.sum()]\n",
    "mortes =[ italia.mortes.sum() , us.mortes.sum() , china.mortes.sum() , es.mortes.sum() , alemanha.mortes.sum() ,brasil.mortes.sum()]\n",
    "\n",
    "fig = go.Figure(data=[\n",
    "    go.Bar(name='Casos', x=pais, y=casos, text=casos, textposition='auto'),\n",
    "    go.Bar(name='Mortes', x=pais, y=mortes, text=mortes, textposition='auto')\n",
    "])\n",
    "# Change the bar mode\n",
    "fig.update_layout(barmode='stack')\n",
    "\n",
    "fig.show()"
   ]
  },
  {
   "cell_type": "code",
   "execution_count": null,
   "metadata": {},
   "outputs": [],
   "source": [
    "ordenadomundo= mundo.sort_values(by='confirmados',ascending=False)\n",
    "mundo.groupby('sigla')\n",
    "# '<b>Data-</b>'+ str(rs.date.unique())\n",
    "fig = go.Figure(data=[go.Table(\n",
    "    header=dict(values=['<br>Pais</br> <b>Total-</b>'+str(ordenadomundo.pais.size),\n",
    "                        '<br>Confirmados</br>'+str(ordenadomundo.confirmados.astype(int).agg(sum)),\n",
    "                       # '<br>Novos Casos</br>'+str(mundo.confirmadosAcumulado.astype(int).agg(sum)),\n",
    "                        '<br>Mortes</br>'+str(ordenadomundo.mortes.astype(int).agg(sum)),\n",
    "                        #'<br>Novas Mortes</br>'+str(mundo.mortesAcumuladas.astype(int).agg(sum))\n",
    "                       ],\n",
    "                fill_color='paleturquoise',\n",
    "                align='left'),\n",
    "    cells=dict(values=[ordenadomundo.pais, ordenadomundo.confirmados,ordenadomundo.mortes],\n",
    "               fill_color='lavender',\n",
    "               align='left'))\n",
    "])\n",
    "\n",
    "fig.show()"
   ]
  },
  {
   "cell_type": "code",
   "execution_count": null,
   "metadata": {},
   "outputs": [],
   "source": [
    "paisesmundo = 'DB/world-countries.json'\n",
    "country_geo = json.load(open(paisesmundo))\n"
   ]
  },
  {
   "cell_type": "code",
   "execution_count": null,
   "metadata": {},
   "outputs": [],
   "source": [
    "ordenadomundo"
   ]
  },
  {
   "cell_type": "code",
   "execution_count": null,
   "metadata": {},
   "outputs": [],
   "source": [
    "import plotly.graph_objects as go\n",
    "import plotly.express as px\n",
    "df = px.data.gapminder().query(\"year == 2007\")\n",
    "\n",
    "fig = px.scatter_geo(df, locations=\"iso_alpha\",\n",
    "                     size=\"pop\"  )\n",
    "fig.update_geos(projection_type=\"orthographic\")\n",
    "fig.update_layout(height=300, margin={\"r\":0,\"t\":0,\"l\":0,\"b\":0})\n",
    "\n",
    "\n",
    "fig.show()"
   ]
  },
  {
   "cell_type": "code",
   "execution_count": null,
   "metadata": {},
   "outputs": [],
   "source": []
  }
 ],
 "metadata": {
  "kernelspec": {
   "display_name": "Python 3",
   "language": "python",
   "name": "python3"
  },
  "language_info": {
   "codemirror_mode": {
    "name": "ipython",
    "version": 3
   },
   "file_extension": ".py",
   "mimetype": "text/x-python",
   "name": "python",
   "nbconvert_exporter": "python",
   "pygments_lexer": "ipython3",
   "version": "3.7.6"
  }
 },
 "nbformat": 4,
 "nbformat_minor": 4
}
