{
 "cells": [
  {
   "cell_type": "markdown",
   "metadata": {
    "extensions": {
     "jupyter_dashboards": {
      "version": 1,
      "views": {
       "grid_default": {},
       "report_default": {
        "hidden": false
       }
      }
     }
    }
   },
   "source": [
    "# Monitoramento de casos de CVID19 no Brasil."
   ]
  },
  {
   "cell_type": "markdown",
   "metadata": {
    "extensions": {
     "jupyter_dashboards": {
      "version": 1,
      "views": {
       "grid_default": {},
       "report_default": {
        "hidden": false
       }
      }
     }
    }
   },
   "source": [
    "**Este notebook tem como objetivo aplicar técnicas de análise da dados, somente para fins didáticos.**"
   ]
  },
  {
   "cell_type": "markdown",
   "metadata": {
    "extensions": {
     "jupyter_dashboards": {
      "version": 1,
      "views": {
       "grid_default": {},
       "report_default": {
        "hidden": false
       }
      }
     }
    }
   },
   "source": [
    "### INFORMAÇÕES SOBRE AS BASES UTILIZADAS\n",
    "\n",
    "* Base utilizada para extrair dados do Brasil e Estados [G1  Globo](https://g1.globo.com/bemestar/coronavirus/noticia/2020/03/27/casos-de-coronavirus-no-brasil-em-27-de-marco.ghtml) Fonte: Ministério da Saúde até 15 de março; secretarias estaduais da Saúde a partir de 16 de março.Criado com Datawrapper\n",
    "\n",
    "* Base utilizada para extrair dados dos Municipios [brasil.io](https://brasil.io/dataset/covid19/caso) Boletins informativos baseado no Ministério da Saúde e secretarias estaduais da Saúde.\n",
    "\n",
    "* Base utilizada para extrair dados dos Mundial  [BNO News]( https://bnonews.com/index.php/2020/03/the-latest-coronavirus-cases ) Boletins informativos baseado nos dados da OMS.\n",
    "\n",
    "* Base utilizada para extrair dados dos Mundial [OMS]( https://who.sprinklr.com)OMS.\n",
    "\n",
    "* Base utilizada para extrair dados dos Estados [Ministério da Saúde]( https://covid.saude.gov.br/ )\n",
    "\n",
    "*Nenhuma copia deste notebook é permitida sem citar a fonte original.*"
   ]
  },
  {
   "cell_type": "code",
   "execution_count": 80,
   "metadata": {
    "extensions": {
     "jupyter_dashboards": {
      "version": 1,
      "views": {
       "grid_default": {},
       "report_default": {
        "hidden": false
       }
      }
     }
    }
   },
   "outputs": [
    {
     "data": {
      "text/html": [
       "        <script type=\"text/javascript\">\n",
       "        window.PlotlyConfig = {MathJaxConfig: 'local'};\n",
       "        if (window.MathJax) {MathJax.Hub.Config({SVG: {font: \"STIX-Web\"}});}\n",
       "        if (typeof require !== 'undefined') {\n",
       "        require.undef(\"plotly\");\n",
       "        requirejs.config({\n",
       "            paths: {\n",
       "                'plotly': ['https://cdn.plot.ly/plotly-latest.min']\n",
       "            }\n",
       "        });\n",
       "        require(['plotly'], function(Plotly) {\n",
       "            window._Plotly = Plotly;\n",
       "        });\n",
       "        }\n",
       "        </script>\n",
       "        "
      ]
     },
     "metadata": {},
     "output_type": "display_data"
    },
    {
     "data": {
      "text/html": [
       "        <script type=\"text/javascript\">\n",
       "        window.PlotlyConfig = {MathJaxConfig: 'local'};\n",
       "        if (window.MathJax) {MathJax.Hub.Config({SVG: {font: \"STIX-Web\"}});}\n",
       "        if (typeof require !== 'undefined') {\n",
       "        require.undef(\"plotly\");\n",
       "        requirejs.config({\n",
       "            paths: {\n",
       "                'plotly': ['https://cdn.plot.ly/plotly-latest.min']\n",
       "            }\n",
       "        });\n",
       "        require(['plotly'], function(Plotly) {\n",
       "            window._Plotly = Plotly;\n",
       "        });\n",
       "        }\n",
       "        </script>\n",
       "        "
      ]
     },
     "metadata": {},
     "output_type": "display_data"
    }
   ],
   "source": [
    "import pandas as pd\n",
    "import numpy as np\n",
    "import cufflinks as cf\n",
    "import wget\n",
    "import plotly\n",
    "import plotly.graph_objs as go\n",
    "import plotly.offline as py\n",
    "import plotly.express as px\n",
    "import matplotlib.pyplot as plt\n",
    "import folium\n",
    "import os\n",
    "import requests\n",
    "import json\n",
    "from pandas.io.json import json_normalize\n",
    "from folium import plugins\n",
    "from numpy import nan as NA\n",
    "from plotly.offline import iplot\n",
    "from PIL import Image\n",
    "from wordcloud import WordCloud, STOPWORDS, ImageColorGenerator\n",
    "%matplotlib inline\n",
    "cf.go_offline()\n",
    "plotly.offline.init_notebook_mode(connected=True)"
   ]
  },
  {
   "cell_type": "markdown",
   "metadata": {
    "extensions": {
     "jupyter_dashboards": {
      "version": 1,
      "views": {
       "grid_default": {},
       "report_default": {
        "hidden": false
       }
      }
     }
    }
   },
   "source": [
    "## Carregamento e Tratamento dos Dados"
   ]
  },
  {
   "cell_type": "code",
   "execution_count": 81,
   "metadata": {
    "extensions": {
     "jupyter_dashboards": {
      "version": 1,
      "views": {
       "grid_default": {},
       "report_default": {
        "hidden": false
       }
      }
     }
    }
   },
   "outputs": [
    {
     "name": "stdout",
     "output_type": "stream",
     "text": [
      "-1 / unknown"
     ]
    },
    {
     "name": "stderr",
     "output_type": "stream",
     "text": [
      "C:\\Users\\joner\\anaconda3\\lib\\site-packages\\ipykernel_launcher.py:18: FutureWarning:\n",
      "\n",
      "pandas.io.json.json_normalize is deprecated, use pandas.json_normalize instead\n",
      "\n"
     ]
    }
   ],
   "source": [
    "acumulado_dia_brasil = pd.read_csv('DB/data-43mJk.csv', sep=',' ,index_col=None)\n",
    "acumulado_estados = pd.read_csv('DB/data-eXkcW.csv', sep=',' ,index_col=None)\n",
    "estados = pd.read_csv('DB/estados.csv', encoding='utf-8')\n",
    "municipios = pd.read_csv('DB/municipios.csv', encoding='utf-8')\n",
    "api_br_io = pd.read_csv('DB/api_br_io.csv')\n",
    "api_br_io = api_br_io.fillna(0)\n",
    "api_br_io.city_ibge_code = api_br_io.city_ibge_code.astype('int64')\n",
    "\n",
    "url = 'https://brasil.io/dataset/covid19/caso?format=csv'\n",
    "if os.path.exists('DB/api_br_io.csv'):\n",
    "    os.remove('DB/api_br_io.csv')\n",
    "    wget.download(url, 'DB/api_br_io.csv')\n",
    "else:\n",
    "    wget.download(url, 'DB/api_br_io.csv')\n",
    "    \n",
    "url = 'DB/estados.json'\n",
    "cidades = pd.read_json(url)\n",
    "municipios_map = json_normalize(cidades.features)  \n",
    "\n",
    "########################################################################\n",
    "#renomeando colunas\n",
    "acumulado_dia_brasil.columns = ['data', 'casos', 'mortes','coluna1']\n",
    "municipios.columns = ['city_ibge_code','city','latitude','longitude','capital','uf_code']\n",
    "\n",
    "#tratando nomes para fazer o merge\n",
    "estados = estados[['uf', 'nome']]\n",
    "estados.columns = ['state','state_name']\n",
    "cidades = api_br_io.merge(municipios.drop('uf_code', axis=1), on=['city','city_ibge_code'], how='left')\n",
    "cidades = cidades.merge(estados, on='state', how='left')\n",
    "\n",
    "cidades = cidades[(cidades.is_last==True) & (cidades.city !='Importados/Indefinidos')]\n",
    "dados = cidades[ cidades.latitude.notnull() ]\n",
    "cidades = dados[dados.place_type == 'city']"
   ]
  },
  {
   "cell_type": "markdown",
   "metadata": {
    "extensions": {
     "jupyter_dashboards": {
      "version": 1,
      "views": {
       "grid_default": {},
       "report_default": {
        "hidden": false
       }
      }
     }
    }
   },
   "source": []
  },
  {
   "cell_type": "code",
   "execution_count": null,
   "metadata": {
    "extensions": {
     "jupyter_dashboards": {
      "version": 1,
      "views": {
       "grid_default": {},
       "report_default": {
        "hidden": true
       }
      }
     }
    }
   },
   "outputs": [],
   "source": []
  },
  {
   "cell_type": "markdown",
   "metadata": {
    "extensions": {
     "jupyter_dashboards": {
      "version": 1,
      "views": {
       "grid_default": {},
       "report_default": {
        "hidden": false
       }
      }
     }
    }
   },
   "source": [
    "### Criando as Regiões do Brasil"
   ]
  },
  {
   "cell_type": "code",
   "execution_count": 82,
   "metadata": {
    "extensions": {
     "jupyter_dashboards": {
      "version": 1,
      "views": {
       "grid_default": {},
       "report_default": {
        "hidden": true
       }
      }
     }
    }
   },
   "outputs": [
    {
     "name": "stderr",
     "output_type": "stream",
     "text": [
      "C:\\Users\\joner\\anaconda3\\lib\\site-packages\\ipykernel_launcher.py:2: FutureWarning:\n",
      "\n",
      "Indexing with multiple keys (implicitly converted to a tuple of keys) will be deprecated, use a list instead.\n",
      "\n",
      "C:\\Users\\joner\\anaconda3\\lib\\site-packages\\ipykernel_launcher.py:5: FutureWarning:\n",
      "\n",
      "Indexing with multiple keys (implicitly converted to a tuple of keys) will be deprecated, use a list instead.\n",
      "\n",
      "C:\\Users\\joner\\anaconda3\\lib\\site-packages\\ipykernel_launcher.py:8: FutureWarning:\n",
      "\n",
      "Indexing with multiple keys (implicitly converted to a tuple of keys) will be deprecated, use a list instead.\n",
      "\n",
      "C:\\Users\\joner\\anaconda3\\lib\\site-packages\\ipykernel_launcher.py:11: FutureWarning:\n",
      "\n",
      "Indexing with multiple keys (implicitly converted to a tuple of keys) will be deprecated, use a list instead.\n",
      "\n",
      "C:\\Users\\joner\\anaconda3\\lib\\site-packages\\ipykernel_launcher.py:14: FutureWarning:\n",
      "\n",
      "Indexing with multiple keys (implicitly converted to a tuple of keys) will be deprecated, use a list instead.\n",
      "\n"
     ]
    }
   ],
   "source": [
    "#Região Norte\n",
    "norte = acumulado_estados.groupby(['Estado'])['AC','AP','AM','PA','RO','RR','TO'].agg('sum')\n",
    "norte['Norte'] = norte.sum(axis=1)\n",
    "#Região Nordeste\n",
    "nordeste = acumulado_estados.groupby(['Estado'])['AL','BA','CE','MA','PB','PE','PI','RN','SE'].agg('sum')\n",
    "nordeste['Nordeste'] = nordeste.sum(axis=1)\n",
    "#Região Centro-Oeste\n",
    "centroOeste = acumulado_estados.groupby(['Estado'])['DF','GO','MT','MS'].agg('sum')\n",
    "centroOeste['CentroOeste'] = centroOeste.sum(axis=1)\n",
    "#Região Sudeste\n",
    "sudeste = acumulado_estados.groupby(['Estado'])['ES','MG','RJ','SP'].agg('sum')\n",
    "sudeste['Sudeste'] = sudeste.sum(axis=1)\n",
    "#região Sul\n",
    "sul = acumulado_estados.groupby(['Estado'])['PR','SC','RS'].agg('sum')\n",
    "sul['Sul'] = sul.sum(axis=1)\n"
   ]
  },
  {
   "cell_type": "markdown",
   "metadata": {
    "extensions": {
     "jupyter_dashboards": {
      "version": 1,
      "views": {
       "grid_default": {},
       "report_default": {
        "hidden": false
       }
      }
     }
    }
   },
   "source": [
    "# Gráficos Brasil"
   ]
  },
  {
   "cell_type": "code",
   "execution_count": 83,
   "metadata": {
    "extensions": {
     "jupyter_dashboards": {
      "version": 1,
      "views": {
       "grid_default": {},
       "report_default": {
        "hidden": false
       }
      }
     }
    }
   },
   "outputs": [
    {
     "data": {
      "application/vnd.plotly.v1+json": {
       "config": {
        "plotlyServerURL": "https://plot.ly"
       },
       "data": [
        {
         "mode": "lines+text",
         "name": "Confirmados",
         "text": [
          1,
          1,
          1,
          2,
          2,
          2,
          2,
          3,
          8,
          13,
          25,
          25,
          25,
          34,
          52,
          77,
          98,
          98,
          98,
          234,
          349,
          529,
          647,
          977,
          1226,
          1604,
          1960,
          2271,
          2555,
          2988,
          3477,
          3928,
          4313,
          4661,
          5812,
          6931,
          8076,
          9216,
          10278,
          11297,
          12232,
          13717,
          16238,
          16635
         ],
         "textposition": "top center",
         "type": "scatter",
         "x": [
          "26-fev",
          "27-fev",
          "28-fev",
          "29-fev",
          "1-mar",
          "2-mar",
          "3-mar",
          "4-mar",
          "5-mar",
          "6-mar",
          "7-mar",
          "8-mar",
          "9-mar",
          "10-mar",
          "11-mar",
          "12-mar",
          "13-mar",
          "14-mar",
          "15-mar",
          "16-mar",
          "17-mar",
          "18-mar",
          "19-mar",
          "20-mar",
          "21-mar",
          "22-mar",
          "23-mar",
          "24-mar",
          "25-mar",
          "26-mar",
          "27-mar",
          "28-mar",
          "29-mar",
          "30-mar",
          "31-mar",
          "1-abr",
          "2-abr",
          "3-abr",
          "4-abr",
          "5-abr",
          "6-abr",
          "7-abr",
          "8-abr",
          "9-abr"
         ],
         "y": [
          1,
          1,
          1,
          2,
          2,
          2,
          2,
          3,
          8,
          13,
          25,
          25,
          25,
          34,
          52,
          77,
          98,
          98,
          98,
          234,
          349,
          529,
          647,
          977,
          1226,
          1604,
          1960,
          2271,
          2555,
          2988,
          3477,
          3928,
          4313,
          4661,
          5812,
          6931,
          8076,
          9216,
          10278,
          11297,
          12232,
          13717,
          16238,
          16635
         ]
        },
        {
         "mode": "lines+text",
         "name": "Mortes",
         "text": [
          0,
          0,
          0,
          0,
          0,
          0,
          0,
          0,
          0,
          0,
          0,
          0,
          0,
          0,
          0,
          0,
          0,
          0,
          0,
          0,
          1,
          4,
          7,
          11,
          18,
          25,
          34,
          47,
          59,
          77,
          93,
          133,
          139,
          165,
          202,
          242,
          327,
          365,
          432,
          488,
          566,
          667,
          823,
          851
         ],
         "textposition": "top center",
         "type": "scatter",
         "x": [
          "26-fev",
          "27-fev",
          "28-fev",
          "29-fev",
          "1-mar",
          "2-mar",
          "3-mar",
          "4-mar",
          "5-mar",
          "6-mar",
          "7-mar",
          "8-mar",
          "9-mar",
          "10-mar",
          "11-mar",
          "12-mar",
          "13-mar",
          "14-mar",
          "15-mar",
          "16-mar",
          "17-mar",
          "18-mar",
          "19-mar",
          "20-mar",
          "21-mar",
          "22-mar",
          "23-mar",
          "24-mar",
          "25-mar",
          "26-mar",
          "27-mar",
          "28-mar",
          "29-mar",
          "30-mar",
          "31-mar",
          "1-abr",
          "2-abr",
          "3-abr",
          "4-abr",
          "5-abr",
          "6-abr",
          "7-abr",
          "8-abr",
          "9-abr"
         ],
         "y": [
          0,
          0,
          0,
          0,
          0,
          0,
          0,
          0,
          0,
          0,
          0,
          0,
          0,
          0,
          0,
          0,
          0,
          0,
          0,
          0,
          1,
          4,
          7,
          11,
          18,
          25,
          34,
          47,
          59,
          77,
          93,
          133,
          139,
          165,
          202,
          242,
          327,
          365,
          432,
          488,
          566,
          667,
          823,
          851
         ]
        }
       ],
       "layout": {
        "direction": "clockwise",
        "legend": {
         "title": {
          "text": "<b> </b>"
         }
        },
        "showlegend": true,
        "template": {
         "data": {
          "bar": [
           {
            "error_x": {
             "color": "#2a3f5f"
            },
            "error_y": {
             "color": "#2a3f5f"
            },
            "marker": {
             "line": {
              "color": "white",
              "width": 0.5
             }
            },
            "type": "bar"
           }
          ],
          "barpolar": [
           {
            "marker": {
             "line": {
              "color": "white",
              "width": 0.5
             }
            },
            "type": "barpolar"
           }
          ],
          "carpet": [
           {
            "aaxis": {
             "endlinecolor": "#2a3f5f",
             "gridcolor": "#C8D4E3",
             "linecolor": "#C8D4E3",
             "minorgridcolor": "#C8D4E3",
             "startlinecolor": "#2a3f5f"
            },
            "baxis": {
             "endlinecolor": "#2a3f5f",
             "gridcolor": "#C8D4E3",
             "linecolor": "#C8D4E3",
             "minorgridcolor": "#C8D4E3",
             "startlinecolor": "#2a3f5f"
            },
            "type": "carpet"
           }
          ],
          "choropleth": [
           {
            "colorbar": {
             "outlinewidth": 0,
             "ticks": ""
            },
            "type": "choropleth"
           }
          ],
          "contour": [
           {
            "colorbar": {
             "outlinewidth": 0,
             "ticks": ""
            },
            "colorscale": [
             [
              0,
              "#0d0887"
             ],
             [
              0.1111111111111111,
              "#46039f"
             ],
             [
              0.2222222222222222,
              "#7201a8"
             ],
             [
              0.3333333333333333,
              "#9c179e"
             ],
             [
              0.4444444444444444,
              "#bd3786"
             ],
             [
              0.5555555555555556,
              "#d8576b"
             ],
             [
              0.6666666666666666,
              "#ed7953"
             ],
             [
              0.7777777777777778,
              "#fb9f3a"
             ],
             [
              0.8888888888888888,
              "#fdca26"
             ],
             [
              1,
              "#f0f921"
             ]
            ],
            "type": "contour"
           }
          ],
          "contourcarpet": [
           {
            "colorbar": {
             "outlinewidth": 0,
             "ticks": ""
            },
            "type": "contourcarpet"
           }
          ],
          "heatmap": [
           {
            "colorbar": {
             "outlinewidth": 0,
             "ticks": ""
            },
            "colorscale": [
             [
              0,
              "#0d0887"
             ],
             [
              0.1111111111111111,
              "#46039f"
             ],
             [
              0.2222222222222222,
              "#7201a8"
             ],
             [
              0.3333333333333333,
              "#9c179e"
             ],
             [
              0.4444444444444444,
              "#bd3786"
             ],
             [
              0.5555555555555556,
              "#d8576b"
             ],
             [
              0.6666666666666666,
              "#ed7953"
             ],
             [
              0.7777777777777778,
              "#fb9f3a"
             ],
             [
              0.8888888888888888,
              "#fdca26"
             ],
             [
              1,
              "#f0f921"
             ]
            ],
            "type": "heatmap"
           }
          ],
          "heatmapgl": [
           {
            "colorbar": {
             "outlinewidth": 0,
             "ticks": ""
            },
            "colorscale": [
             [
              0,
              "#0d0887"
             ],
             [
              0.1111111111111111,
              "#46039f"
             ],
             [
              0.2222222222222222,
              "#7201a8"
             ],
             [
              0.3333333333333333,
              "#9c179e"
             ],
             [
              0.4444444444444444,
              "#bd3786"
             ],
             [
              0.5555555555555556,
              "#d8576b"
             ],
             [
              0.6666666666666666,
              "#ed7953"
             ],
             [
              0.7777777777777778,
              "#fb9f3a"
             ],
             [
              0.8888888888888888,
              "#fdca26"
             ],
             [
              1,
              "#f0f921"
             ]
            ],
            "type": "heatmapgl"
           }
          ],
          "histogram": [
           {
            "marker": {
             "colorbar": {
              "outlinewidth": 0,
              "ticks": ""
             }
            },
            "type": "histogram"
           }
          ],
          "histogram2d": [
           {
            "colorbar": {
             "outlinewidth": 0,
             "ticks": ""
            },
            "colorscale": [
             [
              0,
              "#0d0887"
             ],
             [
              0.1111111111111111,
              "#46039f"
             ],
             [
              0.2222222222222222,
              "#7201a8"
             ],
             [
              0.3333333333333333,
              "#9c179e"
             ],
             [
              0.4444444444444444,
              "#bd3786"
             ],
             [
              0.5555555555555556,
              "#d8576b"
             ],
             [
              0.6666666666666666,
              "#ed7953"
             ],
             [
              0.7777777777777778,
              "#fb9f3a"
             ],
             [
              0.8888888888888888,
              "#fdca26"
             ],
             [
              1,
              "#f0f921"
             ]
            ],
            "type": "histogram2d"
           }
          ],
          "histogram2dcontour": [
           {
            "colorbar": {
             "outlinewidth": 0,
             "ticks": ""
            },
            "colorscale": [
             [
              0,
              "#0d0887"
             ],
             [
              0.1111111111111111,
              "#46039f"
             ],
             [
              0.2222222222222222,
              "#7201a8"
             ],
             [
              0.3333333333333333,
              "#9c179e"
             ],
             [
              0.4444444444444444,
              "#bd3786"
             ],
             [
              0.5555555555555556,
              "#d8576b"
             ],
             [
              0.6666666666666666,
              "#ed7953"
             ],
             [
              0.7777777777777778,
              "#fb9f3a"
             ],
             [
              0.8888888888888888,
              "#fdca26"
             ],
             [
              1,
              "#f0f921"
             ]
            ],
            "type": "histogram2dcontour"
           }
          ],
          "mesh3d": [
           {
            "colorbar": {
             "outlinewidth": 0,
             "ticks": ""
            },
            "type": "mesh3d"
           }
          ],
          "parcoords": [
           {
            "line": {
             "colorbar": {
              "outlinewidth": 0,
              "ticks": ""
             }
            },
            "type": "parcoords"
           }
          ],
          "pie": [
           {
            "automargin": true,
            "type": "pie"
           }
          ],
          "scatter": [
           {
            "marker": {
             "colorbar": {
              "outlinewidth": 0,
              "ticks": ""
             }
            },
            "type": "scatter"
           }
          ],
          "scatter3d": [
           {
            "line": {
             "colorbar": {
              "outlinewidth": 0,
              "ticks": ""
             }
            },
            "marker": {
             "colorbar": {
              "outlinewidth": 0,
              "ticks": ""
             }
            },
            "type": "scatter3d"
           }
          ],
          "scattercarpet": [
           {
            "marker": {
             "colorbar": {
              "outlinewidth": 0,
              "ticks": ""
             }
            },
            "type": "scattercarpet"
           }
          ],
          "scattergeo": [
           {
            "marker": {
             "colorbar": {
              "outlinewidth": 0,
              "ticks": ""
             }
            },
            "type": "scattergeo"
           }
          ],
          "scattergl": [
           {
            "marker": {
             "colorbar": {
              "outlinewidth": 0,
              "ticks": ""
             }
            },
            "type": "scattergl"
           }
          ],
          "scattermapbox": [
           {
            "marker": {
             "colorbar": {
              "outlinewidth": 0,
              "ticks": ""
             }
            },
            "type": "scattermapbox"
           }
          ],
          "scatterpolar": [
           {
            "marker": {
             "colorbar": {
              "outlinewidth": 0,
              "ticks": ""
             }
            },
            "type": "scatterpolar"
           }
          ],
          "scatterpolargl": [
           {
            "marker": {
             "colorbar": {
              "outlinewidth": 0,
              "ticks": ""
             }
            },
            "type": "scatterpolargl"
           }
          ],
          "scatterternary": [
           {
            "marker": {
             "colorbar": {
              "outlinewidth": 0,
              "ticks": ""
             }
            },
            "type": "scatterternary"
           }
          ],
          "surface": [
           {
            "colorbar": {
             "outlinewidth": 0,
             "ticks": ""
            },
            "colorscale": [
             [
              0,
              "#0d0887"
             ],
             [
              0.1111111111111111,
              "#46039f"
             ],
             [
              0.2222222222222222,
              "#7201a8"
             ],
             [
              0.3333333333333333,
              "#9c179e"
             ],
             [
              0.4444444444444444,
              "#bd3786"
             ],
             [
              0.5555555555555556,
              "#d8576b"
             ],
             [
              0.6666666666666666,
              "#ed7953"
             ],
             [
              0.7777777777777778,
              "#fb9f3a"
             ],
             [
              0.8888888888888888,
              "#fdca26"
             ],
             [
              1,
              "#f0f921"
             ]
            ],
            "type": "surface"
           }
          ],
          "table": [
           {
            "cells": {
             "fill": {
              "color": "#EBF0F8"
             },
             "line": {
              "color": "white"
             }
            },
            "header": {
             "fill": {
              "color": "#C8D4E3"
             },
             "line": {
              "color": "white"
             }
            },
            "type": "table"
           }
          ]
         },
         "layout": {
          "annotationdefaults": {
           "arrowcolor": "#2a3f5f",
           "arrowhead": 0,
           "arrowwidth": 1
          },
          "coloraxis": {
           "colorbar": {
            "outlinewidth": 0,
            "ticks": ""
           }
          },
          "colorscale": {
           "diverging": [
            [
             0,
             "#8e0152"
            ],
            [
             0.1,
             "#c51b7d"
            ],
            [
             0.2,
             "#de77ae"
            ],
            [
             0.3,
             "#f1b6da"
            ],
            [
             0.4,
             "#fde0ef"
            ],
            [
             0.5,
             "#f7f7f7"
            ],
            [
             0.6,
             "#e6f5d0"
            ],
            [
             0.7,
             "#b8e186"
            ],
            [
             0.8,
             "#7fbc41"
            ],
            [
             0.9,
             "#4d9221"
            ],
            [
             1,
             "#276419"
            ]
           ],
           "sequential": [
            [
             0,
             "#0d0887"
            ],
            [
             0.1111111111111111,
             "#46039f"
            ],
            [
             0.2222222222222222,
             "#7201a8"
            ],
            [
             0.3333333333333333,
             "#9c179e"
            ],
            [
             0.4444444444444444,
             "#bd3786"
            ],
            [
             0.5555555555555556,
             "#d8576b"
            ],
            [
             0.6666666666666666,
             "#ed7953"
            ],
            [
             0.7777777777777778,
             "#fb9f3a"
            ],
            [
             0.8888888888888888,
             "#fdca26"
            ],
            [
             1,
             "#f0f921"
            ]
           ],
           "sequentialminus": [
            [
             0,
             "#0d0887"
            ],
            [
             0.1111111111111111,
             "#46039f"
            ],
            [
             0.2222222222222222,
             "#7201a8"
            ],
            [
             0.3333333333333333,
             "#9c179e"
            ],
            [
             0.4444444444444444,
             "#bd3786"
            ],
            [
             0.5555555555555556,
             "#d8576b"
            ],
            [
             0.6666666666666666,
             "#ed7953"
            ],
            [
             0.7777777777777778,
             "#fb9f3a"
            ],
            [
             0.8888888888888888,
             "#fdca26"
            ],
            [
             1,
             "#f0f921"
            ]
           ]
          },
          "colorway": [
           "#636efa",
           "#EF553B",
           "#00cc96",
           "#ab63fa",
           "#FFA15A",
           "#19d3f3",
           "#FF6692",
           "#B6E880",
           "#FF97FF",
           "#FECB52"
          ],
          "font": {
           "color": "#2a3f5f"
          },
          "geo": {
           "bgcolor": "white",
           "lakecolor": "white",
           "landcolor": "white",
           "showlakes": true,
           "showland": true,
           "subunitcolor": "#C8D4E3"
          },
          "hoverlabel": {
           "align": "left"
          },
          "hovermode": "closest",
          "mapbox": {
           "style": "light"
          },
          "paper_bgcolor": "white",
          "plot_bgcolor": "white",
          "polar": {
           "angularaxis": {
            "gridcolor": "#EBF0F8",
            "linecolor": "#EBF0F8",
            "ticks": ""
           },
           "bgcolor": "white",
           "radialaxis": {
            "gridcolor": "#EBF0F8",
            "linecolor": "#EBF0F8",
            "ticks": ""
           }
          },
          "scene": {
           "xaxis": {
            "backgroundcolor": "white",
            "gridcolor": "#DFE8F3",
            "gridwidth": 2,
            "linecolor": "#EBF0F8",
            "showbackground": true,
            "ticks": "",
            "zerolinecolor": "#EBF0F8"
           },
           "yaxis": {
            "backgroundcolor": "white",
            "gridcolor": "#DFE8F3",
            "gridwidth": 2,
            "linecolor": "#EBF0F8",
            "showbackground": true,
            "ticks": "",
            "zerolinecolor": "#EBF0F8"
           },
           "zaxis": {
            "backgroundcolor": "white",
            "gridcolor": "#DFE8F3",
            "gridwidth": 2,
            "linecolor": "#EBF0F8",
            "showbackground": true,
            "ticks": "",
            "zerolinecolor": "#EBF0F8"
           }
          },
          "shapedefaults": {
           "line": {
            "color": "#2a3f5f"
           }
          },
          "ternary": {
           "aaxis": {
            "gridcolor": "#DFE8F3",
            "linecolor": "#A2B1C6",
            "ticks": ""
           },
           "baxis": {
            "gridcolor": "#DFE8F3",
            "linecolor": "#A2B1C6",
            "ticks": ""
           },
           "bgcolor": "white",
           "caxis": {
            "gridcolor": "#DFE8F3",
            "linecolor": "#A2B1C6",
            "ticks": ""
           }
          },
          "title": {
           "x": 0.05
          },
          "xaxis": {
           "automargin": true,
           "gridcolor": "#EBF0F8",
           "linecolor": "#EBF0F8",
           "ticks": "",
           "title": {
            "standoff": 15
           },
           "zerolinecolor": "#EBF0F8",
           "zerolinewidth": 2
          },
          "yaxis": {
           "automargin": true,
           "gridcolor": "#EBF0F8",
           "linecolor": "#EBF0F8",
           "ticks": "",
           "title": {
            "standoff": 15
           },
           "zerolinecolor": "#EBF0F8",
           "zerolinewidth": 2
          }
         }
        },
        "title": {
         "text": "Casos acumulados por dia"
        }
       }
      },
      "text/html": [
       "<div>\n",
       "        \n",
       "        \n",
       "            <div id=\"2b7f38d9-35b4-44e4-9dc9-a64d8d18ff94\" class=\"plotly-graph-div\" style=\"height:525px; width:100%;\"></div>\n",
       "            <script type=\"text/javascript\">\n",
       "                require([\"plotly\"], function(Plotly) {\n",
       "                    window.PLOTLYENV=window.PLOTLYENV || {};\n",
       "                    \n",
       "                if (document.getElementById(\"2b7f38d9-35b4-44e4-9dc9-a64d8d18ff94\")) {\n",
       "                    Plotly.newPlot(\n",
       "                        '2b7f38d9-35b4-44e4-9dc9-a64d8d18ff94',\n",
       "                        [{\"mode\": \"lines+text\", \"name\": \"Confirmados\", \"text\": [1.0, 1.0, 1.0, 2.0, 2.0, 2.0, 2.0, 3.0, 8.0, 13.0, 25.0, 25.0, 25.0, 34.0, 52.0, 77.0, 98.0, 98.0, 98.0, 234.0, 349.0, 529.0, 647.0, 977.0, 1226.0, 1604.0, 1960.0, 2271.0, 2555.0, 2988.0, 3477.0, 3928.0, 4313.0, 4661.0, 5812.0, 6931.0, 8076.0, 9216.0, 10278.0, 11297.0, 12232.0, 13717.0, 16238.0, 16635.0], \"textposition\": \"top center\", \"type\": \"scatter\", \"x\": [\"26-fev\", \"27-fev\", \"28-fev\", \"29-fev\", \"1-mar\", \"2-mar\", \"3-mar\", \"4-mar\", \"5-mar\", \"6-mar\", \"7-mar\", \"8-mar\", \"9-mar\", \"10-mar\", \"11-mar\", \"12-mar\", \"13-mar\", \"14-mar\", \"15-mar\", \"16-mar\", \"17-mar\", \"18-mar\", \"19-mar\", \"20-mar\", \"21-mar\", \"22-mar\", \"23-mar\", \"24-mar\", \"25-mar\", \"26-mar\", \"27-mar\", \"28-mar\", \"29-mar\", \"30-mar\", \"31-mar\", \"1-abr\", \"2-abr\", \"3-abr\", \"4-abr\", \"5-abr\", \"6-abr\", \"7-abr\", \"8-abr\", \"9-abr\"], \"y\": [1, 1, 1, 2, 2, 2, 2, 3, 8, 13, 25, 25, 25, 34, 52, 77, 98, 98, 98, 234, 349, 529, 647, 977, 1226, 1604, 1960, 2271, 2555, 2988, 3477, 3928, 4313, 4661, 5812, 6931, 8076, 9216, 10278, 11297, 12232, 13717, 16238, 16635]}, {\"mode\": \"lines+text\", \"name\": \"Mortes\", \"text\": [0.0, 0.0, 0.0, 0.0, 0.0, 0.0, 0.0, 0.0, 0.0, 0.0, 0.0, 0.0, 0.0, 0.0, 0.0, 0.0, 0.0, 0.0, 0.0, 0.0, 1.0, 4.0, 7.0, 11.0, 18.0, 25.0, 34.0, 47.0, 59.0, 77.0, 93.0, 133.0, 139.0, 165.0, 202.0, 242.0, 327.0, 365.0, 432.0, 488.0, 566.0, 667.0, 823.0, 851.0], \"textposition\": \"top center\", \"type\": \"scatter\", \"x\": [\"26-fev\", \"27-fev\", \"28-fev\", \"29-fev\", \"1-mar\", \"2-mar\", \"3-mar\", \"4-mar\", \"5-mar\", \"6-mar\", \"7-mar\", \"8-mar\", \"9-mar\", \"10-mar\", \"11-mar\", \"12-mar\", \"13-mar\", \"14-mar\", \"15-mar\", \"16-mar\", \"17-mar\", \"18-mar\", \"19-mar\", \"20-mar\", \"21-mar\", \"22-mar\", \"23-mar\", \"24-mar\", \"25-mar\", \"26-mar\", \"27-mar\", \"28-mar\", \"29-mar\", \"30-mar\", \"31-mar\", \"1-abr\", \"2-abr\", \"3-abr\", \"4-abr\", \"5-abr\", \"6-abr\", \"7-abr\", \"8-abr\", \"9-abr\"], \"y\": [0, 0, 0, 0, 0, 0, 0, 0, 0, 0, 0, 0, 0, 0, 0, 0, 0, 0, 0, 0, 1, 4, 7, 11, 18, 25, 34, 47, 59, 77, 93, 133, 139, 165, 202, 242, 327, 365, 432, 488, 566, 667, 823, 851]}],\n",
       "                        {\"direction\": \"clockwise\", \"legend\": {\"title\": {\"text\": \"<b> </b>\"}}, \"showlegend\": true, \"template\": {\"data\": {\"bar\": [{\"error_x\": {\"color\": \"#2a3f5f\"}, \"error_y\": {\"color\": \"#2a3f5f\"}, \"marker\": {\"line\": {\"color\": \"white\", \"width\": 0.5}}, \"type\": \"bar\"}], \"barpolar\": [{\"marker\": {\"line\": {\"color\": \"white\", \"width\": 0.5}}, \"type\": \"barpolar\"}], \"carpet\": [{\"aaxis\": {\"endlinecolor\": \"#2a3f5f\", \"gridcolor\": \"#C8D4E3\", \"linecolor\": \"#C8D4E3\", \"minorgridcolor\": \"#C8D4E3\", \"startlinecolor\": \"#2a3f5f\"}, \"baxis\": {\"endlinecolor\": \"#2a3f5f\", \"gridcolor\": \"#C8D4E3\", \"linecolor\": \"#C8D4E3\", \"minorgridcolor\": \"#C8D4E3\", \"startlinecolor\": \"#2a3f5f\"}, \"type\": \"carpet\"}], \"choropleth\": [{\"colorbar\": {\"outlinewidth\": 0, \"ticks\": \"\"}, \"type\": \"choropleth\"}], \"contour\": [{\"colorbar\": {\"outlinewidth\": 0, \"ticks\": \"\"}, \"colorscale\": [[0.0, \"#0d0887\"], [0.1111111111111111, \"#46039f\"], [0.2222222222222222, \"#7201a8\"], [0.3333333333333333, \"#9c179e\"], [0.4444444444444444, \"#bd3786\"], [0.5555555555555556, \"#d8576b\"], [0.6666666666666666, \"#ed7953\"], [0.7777777777777778, \"#fb9f3a\"], [0.8888888888888888, \"#fdca26\"], [1.0, \"#f0f921\"]], \"type\": \"contour\"}], \"contourcarpet\": [{\"colorbar\": {\"outlinewidth\": 0, \"ticks\": \"\"}, \"type\": \"contourcarpet\"}], \"heatmap\": [{\"colorbar\": {\"outlinewidth\": 0, \"ticks\": \"\"}, \"colorscale\": [[0.0, \"#0d0887\"], [0.1111111111111111, \"#46039f\"], [0.2222222222222222, \"#7201a8\"], [0.3333333333333333, \"#9c179e\"], [0.4444444444444444, \"#bd3786\"], [0.5555555555555556, \"#d8576b\"], [0.6666666666666666, \"#ed7953\"], [0.7777777777777778, \"#fb9f3a\"], [0.8888888888888888, \"#fdca26\"], [1.0, \"#f0f921\"]], \"type\": \"heatmap\"}], \"heatmapgl\": [{\"colorbar\": {\"outlinewidth\": 0, \"ticks\": \"\"}, \"colorscale\": [[0.0, \"#0d0887\"], [0.1111111111111111, \"#46039f\"], [0.2222222222222222, \"#7201a8\"], [0.3333333333333333, \"#9c179e\"], [0.4444444444444444, \"#bd3786\"], [0.5555555555555556, \"#d8576b\"], [0.6666666666666666, \"#ed7953\"], [0.7777777777777778, \"#fb9f3a\"], [0.8888888888888888, \"#fdca26\"], [1.0, \"#f0f921\"]], \"type\": \"heatmapgl\"}], \"histogram\": [{\"marker\": {\"colorbar\": {\"outlinewidth\": 0, \"ticks\": \"\"}}, \"type\": \"histogram\"}], \"histogram2d\": [{\"colorbar\": {\"outlinewidth\": 0, \"ticks\": \"\"}, \"colorscale\": [[0.0, \"#0d0887\"], [0.1111111111111111, \"#46039f\"], [0.2222222222222222, \"#7201a8\"], [0.3333333333333333, \"#9c179e\"], [0.4444444444444444, \"#bd3786\"], [0.5555555555555556, \"#d8576b\"], [0.6666666666666666, \"#ed7953\"], [0.7777777777777778, \"#fb9f3a\"], [0.8888888888888888, \"#fdca26\"], [1.0, \"#f0f921\"]], \"type\": \"histogram2d\"}], \"histogram2dcontour\": [{\"colorbar\": {\"outlinewidth\": 0, \"ticks\": \"\"}, \"colorscale\": [[0.0, \"#0d0887\"], [0.1111111111111111, \"#46039f\"], [0.2222222222222222, \"#7201a8\"], [0.3333333333333333, \"#9c179e\"], [0.4444444444444444, \"#bd3786\"], [0.5555555555555556, \"#d8576b\"], [0.6666666666666666, \"#ed7953\"], [0.7777777777777778, \"#fb9f3a\"], [0.8888888888888888, \"#fdca26\"], [1.0, \"#f0f921\"]], \"type\": \"histogram2dcontour\"}], \"mesh3d\": [{\"colorbar\": {\"outlinewidth\": 0, \"ticks\": \"\"}, \"type\": \"mesh3d\"}], \"parcoords\": [{\"line\": {\"colorbar\": {\"outlinewidth\": 0, \"ticks\": \"\"}}, \"type\": \"parcoords\"}], \"pie\": [{\"automargin\": true, \"type\": \"pie\"}], \"scatter\": [{\"marker\": {\"colorbar\": {\"outlinewidth\": 0, \"ticks\": \"\"}}, \"type\": \"scatter\"}], \"scatter3d\": [{\"line\": {\"colorbar\": {\"outlinewidth\": 0, \"ticks\": \"\"}}, \"marker\": {\"colorbar\": {\"outlinewidth\": 0, \"ticks\": \"\"}}, \"type\": \"scatter3d\"}], \"scattercarpet\": [{\"marker\": {\"colorbar\": {\"outlinewidth\": 0, \"ticks\": \"\"}}, \"type\": \"scattercarpet\"}], \"scattergeo\": [{\"marker\": {\"colorbar\": {\"outlinewidth\": 0, \"ticks\": \"\"}}, \"type\": \"scattergeo\"}], \"scattergl\": [{\"marker\": {\"colorbar\": {\"outlinewidth\": 0, \"ticks\": \"\"}}, \"type\": \"scattergl\"}], \"scattermapbox\": [{\"marker\": {\"colorbar\": {\"outlinewidth\": 0, \"ticks\": \"\"}}, \"type\": \"scattermapbox\"}], \"scatterpolar\": [{\"marker\": {\"colorbar\": {\"outlinewidth\": 0, \"ticks\": \"\"}}, \"type\": \"scatterpolar\"}], \"scatterpolargl\": [{\"marker\": {\"colorbar\": {\"outlinewidth\": 0, \"ticks\": \"\"}}, \"type\": \"scatterpolargl\"}], \"scatterternary\": [{\"marker\": {\"colorbar\": {\"outlinewidth\": 0, \"ticks\": \"\"}}, \"type\": \"scatterternary\"}], \"surface\": [{\"colorbar\": {\"outlinewidth\": 0, \"ticks\": \"\"}, \"colorscale\": [[0.0, \"#0d0887\"], [0.1111111111111111, \"#46039f\"], [0.2222222222222222, \"#7201a8\"], [0.3333333333333333, \"#9c179e\"], [0.4444444444444444, \"#bd3786\"], [0.5555555555555556, \"#d8576b\"], [0.6666666666666666, \"#ed7953\"], [0.7777777777777778, \"#fb9f3a\"], [0.8888888888888888, \"#fdca26\"], [1.0, \"#f0f921\"]], \"type\": \"surface\"}], \"table\": [{\"cells\": {\"fill\": {\"color\": \"#EBF0F8\"}, \"line\": {\"color\": \"white\"}}, \"header\": {\"fill\": {\"color\": \"#C8D4E3\"}, \"line\": {\"color\": \"white\"}}, \"type\": \"table\"}]}, \"layout\": {\"annotationdefaults\": {\"arrowcolor\": \"#2a3f5f\", \"arrowhead\": 0, \"arrowwidth\": 1}, \"coloraxis\": {\"colorbar\": {\"outlinewidth\": 0, \"ticks\": \"\"}}, \"colorscale\": {\"diverging\": [[0, \"#8e0152\"], [0.1, \"#c51b7d\"], [0.2, \"#de77ae\"], [0.3, \"#f1b6da\"], [0.4, \"#fde0ef\"], [0.5, \"#f7f7f7\"], [0.6, \"#e6f5d0\"], [0.7, \"#b8e186\"], [0.8, \"#7fbc41\"], [0.9, \"#4d9221\"], [1, \"#276419\"]], \"sequential\": [[0.0, \"#0d0887\"], [0.1111111111111111, \"#46039f\"], [0.2222222222222222, \"#7201a8\"], [0.3333333333333333, \"#9c179e\"], [0.4444444444444444, \"#bd3786\"], [0.5555555555555556, \"#d8576b\"], [0.6666666666666666, \"#ed7953\"], [0.7777777777777778, \"#fb9f3a\"], [0.8888888888888888, \"#fdca26\"], [1.0, \"#f0f921\"]], \"sequentialminus\": [[0.0, \"#0d0887\"], [0.1111111111111111, \"#46039f\"], [0.2222222222222222, \"#7201a8\"], [0.3333333333333333, \"#9c179e\"], [0.4444444444444444, \"#bd3786\"], [0.5555555555555556, \"#d8576b\"], [0.6666666666666666, \"#ed7953\"], [0.7777777777777778, \"#fb9f3a\"], [0.8888888888888888, \"#fdca26\"], [1.0, \"#f0f921\"]]}, \"colorway\": [\"#636efa\", \"#EF553B\", \"#00cc96\", \"#ab63fa\", \"#FFA15A\", \"#19d3f3\", \"#FF6692\", \"#B6E880\", \"#FF97FF\", \"#FECB52\"], \"font\": {\"color\": \"#2a3f5f\"}, \"geo\": {\"bgcolor\": \"white\", \"lakecolor\": \"white\", \"landcolor\": \"white\", \"showlakes\": true, \"showland\": true, \"subunitcolor\": \"#C8D4E3\"}, \"hoverlabel\": {\"align\": \"left\"}, \"hovermode\": \"closest\", \"mapbox\": {\"style\": \"light\"}, \"paper_bgcolor\": \"white\", \"plot_bgcolor\": \"white\", \"polar\": {\"angularaxis\": {\"gridcolor\": \"#EBF0F8\", \"linecolor\": \"#EBF0F8\", \"ticks\": \"\"}, \"bgcolor\": \"white\", \"radialaxis\": {\"gridcolor\": \"#EBF0F8\", \"linecolor\": \"#EBF0F8\", \"ticks\": \"\"}}, \"scene\": {\"xaxis\": {\"backgroundcolor\": \"white\", \"gridcolor\": \"#DFE8F3\", \"gridwidth\": 2, \"linecolor\": \"#EBF0F8\", \"showbackground\": true, \"ticks\": \"\", \"zerolinecolor\": \"#EBF0F8\"}, \"yaxis\": {\"backgroundcolor\": \"white\", \"gridcolor\": \"#DFE8F3\", \"gridwidth\": 2, \"linecolor\": \"#EBF0F8\", \"showbackground\": true, \"ticks\": \"\", \"zerolinecolor\": \"#EBF0F8\"}, \"zaxis\": {\"backgroundcolor\": \"white\", \"gridcolor\": \"#DFE8F3\", \"gridwidth\": 2, \"linecolor\": \"#EBF0F8\", \"showbackground\": true, \"ticks\": \"\", \"zerolinecolor\": \"#EBF0F8\"}}, \"shapedefaults\": {\"line\": {\"color\": \"#2a3f5f\"}}, \"ternary\": {\"aaxis\": {\"gridcolor\": \"#DFE8F3\", \"linecolor\": \"#A2B1C6\", \"ticks\": \"\"}, \"baxis\": {\"gridcolor\": \"#DFE8F3\", \"linecolor\": \"#A2B1C6\", \"ticks\": \"\"}, \"bgcolor\": \"white\", \"caxis\": {\"gridcolor\": \"#DFE8F3\", \"linecolor\": \"#A2B1C6\", \"ticks\": \"\"}}, \"title\": {\"x\": 0.05}, \"xaxis\": {\"automargin\": true, \"gridcolor\": \"#EBF0F8\", \"linecolor\": \"#EBF0F8\", \"ticks\": \"\", \"title\": {\"standoff\": 15}, \"zerolinecolor\": \"#EBF0F8\", \"zerolinewidth\": 2}, \"yaxis\": {\"automargin\": true, \"gridcolor\": \"#EBF0F8\", \"linecolor\": \"#EBF0F8\", \"ticks\": \"\", \"title\": {\"standoff\": 15}, \"zerolinecolor\": \"#EBF0F8\", \"zerolinewidth\": 2}}}, \"title\": {\"text\": \"Casos acumulados por dia\"}},\n",
       "                        {\"responsive\": true}\n",
       "                    ).then(function(){\n",
       "                            \n",
       "var gd = document.getElementById('2b7f38d9-35b4-44e4-9dc9-a64d8d18ff94');\n",
       "var x = new MutationObserver(function (mutations, observer) {{\n",
       "        var display = window.getComputedStyle(gd).display;\n",
       "        if (!display || display === 'none') {{\n",
       "            console.log([gd, 'removed!']);\n",
       "            Plotly.purge(gd);\n",
       "            observer.disconnect();\n",
       "        }}\n",
       "}});\n",
       "\n",
       "// Listen for the removal of the full notebook cells\n",
       "var notebookContainer = gd.closest('#notebook-container');\n",
       "if (notebookContainer) {{\n",
       "    x.observe(notebookContainer, {childList: true});\n",
       "}}\n",
       "\n",
       "// Listen for the clearing of the current output cell\n",
       "var outputEl = gd.closest('.output');\n",
       "if (outputEl) {{\n",
       "    x.observe(outputEl, {childList: true});\n",
       "}}\n",
       "\n",
       "                        })\n",
       "                };\n",
       "                });\n",
       "            </script>\n",
       "        </div>"
      ]
     },
     "metadata": {},
     "output_type": "display_data"
    }
   ],
   "source": [
    "# Plot confirmed cases\n",
    "\n",
    "fig = go.Figure(\n",
    "    [\n",
    "        go.Scatter(x = acumulado_dia_brasil.data, y = acumulado_dia_brasil.casos, mode=\"lines+text\",\n",
    "    name=\"Confirmados\",\n",
    "    text=acumulado_dia_brasil.casos,\n",
    "    textposition=\"top center\"),\n",
    "        go.Scatter(x = acumulado_dia_brasil.data, y = acumulado_dia_brasil.mortes, mode=\"lines+text\",\n",
    "    name=\"Mortes\",\n",
    "    text=acumulado_dia_brasil.mortes,\n",
    "    textposition=\"top center\"), \n",
    "      #  go.Scatter(x = dadosdia.data, y = curados, mode=\"lines+text\",\n",
    "   # name=\"Curados\",\n",
    "   # text=curados,\n",
    "   # textposition=\"top center\"),  \n",
    "    ]\n",
    ")\n",
    "\n",
    "fig.update_layout(title='Casos acumulados por dia',legend_title='<b> </b>',\n",
    "                   \n",
    "                   showlegend=True, template=\"plotly_white\",direction='clockwise',)\n",
    "\n",
    "fig.show()"
   ]
  },
  {
   "cell_type": "markdown",
   "metadata": {
    "extensions": {
     "jupyter_dashboards": {
      "version": 1,
      "views": {
       "grid_default": {},
       "report_default": {
        "hidden": false
       }
      }
     }
    }
   },
   "source": [
    "![Figura1 Acumulado dos casos no Brasil por dia](IMG/AcumuladoBrasilDia.jpg)"
   ]
  },
  {
   "cell_type": "code",
   "execution_count": 84,
   "metadata": {
    "extensions": {
     "jupyter_dashboards": {
      "version": 1,
      "views": {
       "grid_default": {},
       "report_default": {
        "hidden": false
       }
      }
     }
    }
   },
   "outputs": [
    {
     "data": {
      "application/vnd.plotly.v1+json": {
       "config": {
        "plotlyServerURL": "https://plot.ly"
       },
       "data": [
        {
         "line": {
          "shape": "spline"
         },
         "mode": "markers+lines",
         "name": "São Paulo",
         "type": "scatter",
         "x": [
          "16-mar",
          "17-mar",
          "18-mar",
          "19-mar",
          "20-mar",
          "21-mar",
          "22-mar",
          "23-mar",
          "24-mar",
          "25-mar",
          "26-mar",
          "27-mar",
          "28-mar",
          "29-mar",
          "30-mar",
          "31-mar",
          "1º-abr",
          "2-abr",
          "3-abr",
          "4-abr",
          "5-abr",
          "6-abr",
          "7-abr",
          "8-abr",
          "9-abr"
         ],
         "y": [
          152,
          164,
          240,
          286,
          396,
          459,
          631,
          745,
          810,
          862,
          1052,
          1223,
          1406,
          1451,
          1517,
          2339,
          2981,
          3506,
          4048,
          4466,
          4620,
          4866,
          5682,
          6708,
          7480
         ]
        },
        {
         "line": {
          "shape": "spline"
         },
         "mode": "markers+lines",
         "name": "Rio de Janeiro",
         "type": "scatter",
         "x": [
          "16-mar",
          "17-mar",
          "18-mar",
          "19-mar",
          "20-mar",
          "21-mar",
          "22-mar",
          "23-mar",
          "24-mar",
          "25-mar",
          "26-mar",
          "27-mar",
          "28-mar",
          "29-mar",
          "30-mar",
          "31-mar",
          "1º-abr",
          "2-abr",
          "3-abr",
          "4-abr",
          "5-abr",
          "6-abr",
          "7-abr",
          "8-abr",
          "9-abr"
         ],
         "y": [
          31,
          33,
          63,
          66,
          109,
          119,
          186,
          233,
          305,
          370,
          421,
          493,
          558,
          600,
          657,
          708,
          832,
          992,
          1074,
          1246,
          1394,
          1461,
          1688,
          1938,
          2216
         ]
        },
        {
         "line": {
          "shape": "spline"
         },
         "mode": "markers+lines",
         "name": "Rio Grande do Sul",
         "type": "scatter",
         "x": [
          "16-mar",
          "17-mar",
          "18-mar",
          "19-mar",
          "20-mar",
          "21-mar",
          "22-mar",
          "23-mar",
          "24-mar",
          "25-mar",
          "26-mar",
          "27-mar",
          "28-mar",
          "29-mar",
          "30-mar",
          "31-mar",
          "1º-abr",
          "2-abr",
          "3-abr",
          "4-abr",
          "5-abr",
          "6-abr",
          "7-abr",
          "8-abr",
          "9-abr"
         ],
         "y": [
          6,
          19,
          28,
          37,
          56,
          71,
          77,
          96,
          112,
          162,
          190,
          197,
          200,
          239,
          254,
          305,
          316,
          386,
          410,
          418,
          468,
          501,
          555,
          581,
          636
         ]
        },
        {
         "line": {
          "shape": "spline"
         },
         "mode": "markers+lines",
         "name": "Distrito Federal",
         "type": "scatter",
         "x": [
          "16-mar",
          "17-mar",
          "18-mar",
          "19-mar",
          "20-mar",
          "21-mar",
          "22-mar",
          "23-mar",
          "24-mar",
          "25-mar",
          "26-mar",
          "27-mar",
          "28-mar",
          "29-mar",
          "30-mar",
          "31-mar",
          "1º-abr",
          "2-abr",
          "3-abr",
          "4-abr",
          "5-abr",
          "6-abr",
          "7-abr",
          "8-abr",
          "9-abr"
         ],
         "y": [
          13,
          19,
          36,
          42,
          87,
          112,
          131,
          146,
          177,
          191,
          203,
          242,
          260,
          298,
          312,
          333,
          370,
          377,
          422,
          454,
          468,
          485,
          492,
          511,
          527
         ]
        },
        {
         "mode": "markers+lines",
         "name": "Ceará",
         "type": "scatter",
         "x": [
          "16-mar",
          "17-mar",
          "18-mar",
          "19-mar",
          "20-mar",
          "21-mar",
          "22-mar",
          "23-mar",
          "24-mar",
          "25-mar",
          "26-mar",
          "27-mar",
          "28-mar",
          "29-mar",
          "30-mar",
          "31-mar",
          "1º-abr",
          "2-abr",
          "3-abr",
          "4-abr",
          "5-abr",
          "6-abr",
          "7-abr",
          "8-abr",
          "9-abr"
         ],
         "y": [
          0,
          11,
          20,
          24,
          68,
          84,
          125,
          164,
          185,
          211,
          238,
          282,
          322,
          359,
          382,
          401,
          445,
          563,
          658,
          745,
          824,
          1023,
          1188,
          1374,
          1445
         ]
        },
        {
         "mode": "markers+lines",
         "name": "Goiás",
         "type": "scatter",
         "x": [
          "16-mar",
          "17-mar",
          "18-mar",
          "19-mar",
          "20-mar",
          "21-mar",
          "22-mar",
          "23-mar",
          "24-mar",
          "25-mar",
          "26-mar",
          "27-mar",
          "28-mar",
          "29-mar",
          "30-mar",
          "31-mar",
          "1º-abr",
          "2-abr",
          "3-abr",
          "4-abr",
          "5-abr",
          "6-abr",
          "7-abr",
          "8-abr",
          "9-abr"
         ],
         "y": [
          3,
          10,
          12,
          15,
          15,
          18,
          21,
          23,
          29,
          29,
          38,
          49,
          56,
          58,
          60,
          65,
          73,
          73,
          88,
          103,
          115,
          119,
          133,
          159,
          179
         ]
        },
        {
         "mode": "markers+lines",
         "name": "Acre",
         "type": "scatter",
         "x": [
          "16-mar",
          "17-mar",
          "18-mar",
          "19-mar",
          "20-mar",
          "21-mar",
          "22-mar",
          "23-mar",
          "24-mar",
          "25-mar",
          "26-mar",
          "27-mar",
          "28-mar",
          "29-mar",
          "30-mar",
          "31-mar",
          "1º-abr",
          "2-abr",
          "3-abr",
          "4-abr",
          "5-abr",
          "6-abr",
          "7-abr",
          "8-abr",
          "9-abr"
         ],
         "y": [
          0,
          3,
          3,
          3,
          7,
          11,
          11,
          17,
          21,
          23,
          23,
          25,
          25,
          34,
          41,
          42,
          43,
          45,
          46,
          46,
          48,
          50,
          50,
          58,
          62
         ]
        },
        {
         "mode": "markers+lines",
         "name": "Alagoas",
         "type": "scatter",
         "x": [
          "16-mar",
          "17-mar",
          "18-mar",
          "19-mar",
          "20-mar",
          "21-mar",
          "22-mar",
          "23-mar",
          "24-mar",
          "25-mar",
          "26-mar",
          "27-mar",
          "28-mar",
          "29-mar",
          "30-mar",
          "31-mar",
          "1º-abr",
          "2-abr",
          "3-abr",
          "4-abr",
          "5-abr",
          "6-abr",
          "7-abr",
          "8-abr",
          "9-abr"
         ],
         "y": [
          1,
          1,
          1,
          4,
          6,
          7,
          7,
          8,
          10,
          11,
          11,
          12,
          14,
          14,
          17,
          18,
          18,
          18,
          23,
          23,
          28,
          31,
          34,
          34,
          37
         ]
        },
        {
         "mode": "markers+lines",
         "name": "Amazonas",
         "type": "scatter",
         "x": [
          "16-mar",
          "17-mar",
          "18-mar",
          "19-mar",
          "20-mar",
          "21-mar",
          "22-mar",
          "23-mar",
          "24-mar",
          "25-mar",
          "26-mar",
          "27-mar",
          "28-mar",
          "29-mar",
          "30-mar",
          "31-mar",
          "1º-abr",
          "2-abr",
          "3-abr",
          "4-abr",
          "5-abr",
          "6-abr",
          "7-abr",
          "8-abr",
          "9-abr"
         ],
         "y": [
          1,
          1,
          2,
          3,
          7,
          26,
          26,
          32,
          47,
          54,
          67,
          81,
          111,
          140,
          151,
          175,
          200,
          229,
          260,
          311,
          417,
          532,
          636,
          804,
          899
         ]
        },
        {
         "mode": "markers+lines",
         "name": "Amapá",
         "type": "scatter",
         "x": [
          "16-mar",
          "17-mar",
          "18-mar",
          "19-mar",
          "20-mar",
          "21-mar",
          "22-mar",
          "23-mar",
          "24-mar",
          "25-mar",
          "26-mar",
          "27-mar",
          "28-mar",
          "29-mar",
          "30-mar",
          "31-mar",
          "1º-abr",
          "2-abr",
          "3-abr",
          "4-abr",
          "5-abr",
          "6-abr",
          "7-abr",
          "8-abr",
          "9-abr"
         ],
         "y": [
          0,
          0,
          0,
          0,
          1,
          1,
          1,
          1,
          1,
          2,
          2,
          3,
          4,
          4,
          8,
          10,
          11,
          12,
          19,
          29,
          31,
          30,
          51,
          107,
          110
         ]
        },
        {
         "mode": "markers+lines",
         "name": "Bahia",
         "type": "scatter",
         "x": [
          "16-mar",
          "17-mar",
          "18-mar",
          "19-mar",
          "20-mar",
          "21-mar",
          "22-mar",
          "23-mar",
          "24-mar",
          "25-mar",
          "26-mar",
          "27-mar",
          "28-mar",
          "29-mar",
          "30-mar",
          "31-mar",
          "1º-abr",
          "2-abr",
          "3-abr",
          "4-abr",
          "5-abr",
          "6-abr",
          "7-abr",
          "8-abr",
          "9-abr"
         ],
         "y": [
          2,
          16,
          27,
          31,
          34,
          49,
          55,
          63,
          79,
          91,
          108,
          123,
          127,
          156,
          176,
          217,
          246,
          267,
          290,
          332,
          401,
          437,
          462,
          515,
          568
         ]
        },
        {
         "mode": "markers+lines",
         "name": "Espírito Santo",
         "type": "scatter",
         "x": [
          "16-mar",
          "17-mar",
          "18-mar",
          "19-mar",
          "20-mar",
          "21-mar",
          "22-mar",
          "23-mar",
          "24-mar",
          "25-mar",
          "26-mar",
          "27-mar",
          "28-mar",
          "29-mar",
          "30-mar",
          "31-mar",
          "1º-abr",
          "2-abr",
          "3-abr",
          "4-abr",
          "5-abr",
          "6-abr",
          "7-abr",
          "8-abr",
          "9-abr"
         ],
         "y": [
          1,
          8,
          11,
          13,
          16,
          26,
          26,
          33,
          40,
          40,
          48,
          54,
          61,
          72,
          85,
          97,
          120,
          139,
          153,
          153,
          194,
          209,
          227,
          273,
          300
         ]
        },
        {
         "mode": "markers+lines",
         "name": "Maranhão",
         "type": "scatter",
         "x": [
          "16-mar",
          "17-mar",
          "18-mar",
          "19-mar",
          "20-mar",
          "21-mar",
          "22-mar",
          "23-mar",
          "24-mar",
          "25-mar",
          "26-mar",
          "27-mar",
          "28-mar",
          "29-mar",
          "30-mar",
          "31-mar",
          "1º-abr",
          "2-abr",
          "3-abr",
          "4-abr",
          "5-abr",
          "6-abr",
          "7-abr",
          "8-abr",
          "9-abr"
         ],
         "y": [
          0,
          0,
          0,
          0,
          0,
          2,
          2,
          8,
          8,
          8,
          10,
          14,
          14,
          22,
          31,
          52,
          71,
          81,
          88,
          96,
          133,
          172,
          230,
          273,
          293
         ]
        },
        {
         "mode": "markers+lines",
         "name": "Mato Grosso",
         "type": "scatter",
         "x": [
          "16-mar",
          "17-mar",
          "18-mar",
          "19-mar",
          "20-mar",
          "21-mar",
          "22-mar",
          "23-mar",
          "24-mar",
          "25-mar",
          "26-mar",
          "27-mar",
          "28-mar",
          "29-mar",
          "30-mar",
          "31-mar",
          "1º-abr",
          "2-abr",
          "3-abr",
          "4-abr",
          "5-abr",
          "6-abr",
          "7-abr",
          "8-abr",
          "9-abr"
         ],
         "y": [
          0,
          0,
          0,
          0,
          1,
          2,
          2,
          6,
          7,
          9,
          11,
          11,
          11,
          11,
          18,
          25,
          28,
          41,
          44,
          60,
          60,
          76,
          78,
          90,
          108
         ]
        },
        {
         "mode": "markers+lines",
         "name": "Mato Grosso do Sul",
         "type": "scatter",
         "x": [
          "16-mar",
          "17-mar",
          "18-mar",
          "19-mar",
          "20-mar",
          "21-mar",
          "22-mar",
          "23-mar",
          "24-mar",
          "25-mar",
          "26-mar",
          "27-mar",
          "28-mar",
          "29-mar",
          "30-mar",
          "31-mar",
          "1º-abr",
          "2-abr",
          "3-abr",
          "4-abr",
          "5-abr",
          "6-abr",
          "7-abr",
          "8-abr",
          "9-abr"
         ],
         "y": [
          2,
          6,
          7,
          9,
          12,
          16,
          21,
          21,
          24,
          24,
          25,
          28,
          31,
          36,
          44,
          48,
          51,
          53,
          60,
          62,
          65,
          66,
          80,
          85,
          89
         ]
        },
        {
         "mode": "markers+lines",
         "name": "Minas Gerais",
         "type": "scatter",
         "x": [
          "16-mar",
          "17-mar",
          "18-mar",
          "19-mar",
          "20-mar",
          "21-mar",
          "22-mar",
          "23-mar",
          "24-mar",
          "25-mar",
          "26-mar",
          "27-mar",
          "28-mar",
          "29-mar",
          "30-mar",
          "31-mar",
          "1º-abr",
          "2-abr",
          "3-abr",
          "4-abr",
          "5-abr",
          "6-abr",
          "7-abr",
          "8-abr",
          "9-abr"
         ],
         "y": [
          5,
          14,
          19,
          29,
          38,
          55,
          83,
          128,
          130,
          133,
          153,
          189,
          205,
          231,
          261,
          275,
          314,
          370,
          397,
          430,
          498,
          525,
          559,
          614,
          655
         ]
        },
        {
         "mode": "markers+lines",
         "name": "Pará",
         "type": "scatter",
         "x": [
          "16-mar",
          "17-mar",
          "18-mar",
          "19-mar",
          "20-mar",
          "21-mar",
          "22-mar",
          "23-mar",
          "24-mar",
          "25-mar",
          "26-mar",
          "27-mar",
          "28-mar",
          "29-mar",
          "30-mar",
          "31-mar",
          "1º-abr",
          "2-abr",
          "3-abr",
          "4-abr",
          "5-abr",
          "6-abr",
          "7-abr",
          "8-abr",
          "9-abr"
         ],
         "y": [
          0,
          0,
          1,
          1,
          2,
          4,
          4,
          5,
          5,
          7,
          13,
          16,
          17,
          20,
          26,
          34,
          40,
          49,
          75,
          80,
          102,
          123,
          154,
          165,
          169
         ]
        },
        {
         "mode": "markers+lines",
         "name": "Paraíba",
         "type": "scatter",
         "x": [
          "16-mar",
          "17-mar",
          "18-mar",
          "19-mar",
          "20-mar",
          "21-mar",
          "22-mar",
          "23-mar",
          "24-mar",
          "25-mar",
          "26-mar",
          "27-mar",
          "28-mar",
          "29-mar",
          "30-mar",
          "31-mar",
          "1º-abr",
          "2-abr",
          "3-abr",
          "4-abr",
          "5-abr",
          "6-abr",
          "7-abr",
          "8-abr",
          "9-abr"
         ],
         "y": [
          0,
          0,
          1,
          1,
          1,
          1,
          1,
          2,
          3,
          5,
          6,
          10,
          14,
          14,
          17,
          19,
          21,
          29,
          32,
          34,
          35,
          36,
          41,
          55,
          79
         ]
        },
        {
         "mode": "markers+lines",
         "name": "Paraná",
         "type": "scatter",
         "x": [
          "16-mar",
          "17-mar",
          "18-mar",
          "19-mar",
          "20-mar",
          "21-mar",
          "22-mar",
          "23-mar",
          "24-mar",
          "25-mar",
          "26-mar",
          "27-mar",
          "28-mar",
          "29-mar",
          "30-mar",
          "31-mar",
          "1º-abr",
          "2-abr",
          "3-abr",
          "4-abr",
          "5-abr",
          "6-abr",
          "7-abr",
          "8-abr",
          "9-abr"
         ],
         "y": [
          6,
          12,
          14,
          23,
          36,
          43,
          54,
          60,
          70,
          97,
          106,
          125,
          137,
          152,
          160,
          185,
          229,
          258,
          307,
          401,
          445,
          466,
          511,
          550,
          621
         ]
        },
        {
         "mode": "markers+lines",
         "name": "Pernambuco",
         "type": "scatter",
         "x": [
          "16-mar",
          "17-mar",
          "18-mar",
          "19-mar",
          "20-mar",
          "21-mar",
          "22-mar",
          "23-mar",
          "24-mar",
          "25-mar",
          "26-mar",
          "27-mar",
          "28-mar",
          "29-mar",
          "30-mar",
          "31-mar",
          "1º-abr",
          "2-abr",
          "3-abr",
          "4-abr",
          "5-abr",
          "6-abr",
          "7-abr",
          "8-abr",
          "9-abr"
         ],
         "y": [
          2,
          19,
          22,
          28,
          31,
          33,
          37,
          42,
          42,
          46,
          48,
          57,
          68,
          73,
          77,
          87,
          95,
          106,
          136,
          176,
          201,
          223,
          352,
          401,
          555
         ]
        },
        {
         "mode": "markers+lines",
         "name": "Piauí",
         "type": "scatter",
         "x": [
          "16-mar",
          "17-mar",
          "18-mar",
          "19-mar",
          "20-mar",
          "21-mar",
          "22-mar",
          "23-mar",
          "24-mar",
          "25-mar",
          "26-mar",
          "27-mar",
          "28-mar",
          "29-mar",
          "30-mar",
          "31-mar",
          "1º-abr",
          "2-abr",
          "3-abr",
          "4-abr",
          "5-abr",
          "6-abr",
          "7-abr",
          "8-abr",
          "9-abr"
         ],
         "y": [
          0,
          0,
          0,
          3,
          4,
          4,
          6,
          6,
          8,
          8,
          9,
          9,
          11,
          16,
          18,
          18,
          19,
          19,
          22,
          24,
          24,
          26,
          31,
          38,
          40
         ]
        },
        {
         "mode": "markers+lines",
         "name": "Rio Grande do Norte",
         "type": "scatter",
         "x": [
          "16-mar",
          "17-mar",
          "18-mar",
          "19-mar",
          "20-mar",
          "21-mar",
          "22-mar",
          "23-mar",
          "24-mar",
          "25-mar",
          "26-mar",
          "27-mar",
          "28-mar",
          "29-mar",
          "30-mar",
          "31-mar",
          "1º-abr",
          "2-abr",
          "3-abr",
          "4-abr",
          "5-abr",
          "6-abr",
          "7-abr",
          "8-abr",
          "9-abr"
         ],
         "y": [
          1,
          1,
          1,
          1,
          1,
          9,
          9,
          13,
          14,
          14,
          19,
          28,
          45,
          68,
          77,
          82,
          92,
          106,
          176,
          215,
          242,
          246,
          254,
          261,
          261
         ]
        },
        {
         "mode": "markers+lines",
         "name": "Rondônia",
         "type": "scatter",
         "x": [
          "16-mar",
          "17-mar",
          "18-mar",
          "19-mar",
          "20-mar",
          "21-mar",
          "22-mar",
          "23-mar",
          "24-mar",
          "25-mar",
          "26-mar",
          "27-mar",
          "28-mar",
          "29-mar",
          "30-mar",
          "31-mar",
          "1º-abr",
          "2-abr",
          "3-abr",
          "4-abr",
          "5-abr",
          "6-abr",
          "7-abr",
          "8-abr",
          "9-abr"
         ],
         "y": [
          0,
          0,
          0,
          0,
          1,
          3,
          3,
          3,
          5,
          5,
          6,
          6,
          6,
          6,
          8,
          9,
          9,
          10,
          10,
          11,
          14,
          18,
          23,
          26,
          28
         ]
        },
        {
         "mode": "markers+lines",
         "name": "Roraima",
         "type": "scatter",
         "x": [
          "16-mar",
          "17-mar",
          "18-mar",
          "19-mar",
          "20-mar",
          "21-mar",
          "22-mar",
          "23-mar",
          "24-mar",
          "25-mar",
          "26-mar",
          "27-mar",
          "28-mar",
          "29-mar",
          "30-mar",
          "31-mar",
          "1º-abr",
          "2-abr",
          "3-abr",
          "4-abr",
          "5-abr",
          "6-abr",
          "7-abr",
          "8-abr",
          "9-abr"
         ],
         "y": [
          0,
          0,
          0,
          0,
          0,
          2,
          2,
          2,
          8,
          8,
          8,
          12,
          16,
          16,
          16,
          22,
          26,
          30,
          37,
          42,
          42,
          42,
          49,
          52,
          63
         ]
        },
        {
         "mode": "markers+lines",
         "name": "Santa Catarina",
         "type": "scatter",
         "x": [
          "16-mar",
          "17-mar",
          "18-mar",
          "19-mar",
          "20-mar",
          "21-mar",
          "22-mar",
          "23-mar",
          "24-mar",
          "25-mar",
          "26-mar",
          "27-mar",
          "28-mar",
          "29-mar",
          "30-mar",
          "31-mar",
          "1º-abr",
          "2-abr",
          "3-abr",
          "4-abr",
          "5-abr",
          "6-abr",
          "7-abr",
          "8-abr",
          "9-abr"
         ],
         "y": [
          7,
          7,
          14,
          21,
          40,
          57,
          68,
          86,
          109,
          122,
          149,
          163,
          184,
          197,
          219,
          235,
          247,
          281,
          301,
          356,
          379,
          417,
          457,
          501,
          693
         ]
        },
        {
         "mode": "markers+lines",
         "name": "Sergipe",
         "type": "scatter",
         "x": [
          "16-mar",
          "17-mar",
          "18-mar",
          "19-mar",
          "20-mar",
          "21-mar",
          "22-mar",
          "23-mar",
          "24-mar",
          "25-mar",
          "26-mar",
          "27-mar",
          "28-mar",
          "29-mar",
          "30-mar",
          "31-mar",
          "1º-abr",
          "2-abr",
          "3-abr",
          "4-abr",
          "5-abr",
          "6-abr",
          "7-abr",
          "8-abr",
          "9-abr"
         ],
         "y": [
          1,
          5,
          6,
          6,
          7,
          10,
          10,
          10,
          15,
          16,
          16,
          16,
          16,
          16,
          18,
          20,
          22,
          24,
          27,
          32,
          32,
          32,
          36,
          39,
          40
         ]
        },
        {
         "mode": "markers+lines",
         "name": "Tocantins",
         "type": "scatter",
         "x": [
          "16-mar",
          "17-mar",
          "18-mar",
          "19-mar",
          "20-mar",
          "21-mar",
          "22-mar",
          "23-mar",
          "24-mar",
          "25-mar",
          "26-mar",
          "27-mar",
          "28-mar",
          "29-mar",
          "30-mar",
          "31-mar",
          "1º-abr",
          "2-abr",
          "3-abr",
          "4-abr",
          "5-abr",
          "6-abr",
          "7-abr",
          "8-abr",
          "9-abr"
         ],
         "y": [
          0,
          0,
          1,
          1,
          1,
          2,
          5,
          7,
          7,
          7,
          8,
          9,
          9,
          10,
          11,
          12,
          12,
          12,
          13,
          16,
          17,
          18,
          19,
          23,
          23
         ]
        }
       ],
       "layout": {
        "direction": "clockwise",
        "legend": {
         "title": {
          "text": "<b> Estados/DF </b>"
         }
        },
        "showlegend": true,
        "template": {
         "data": {
          "bar": [
           {
            "error_x": {
             "color": "#2a3f5f"
            },
            "error_y": {
             "color": "#2a3f5f"
            },
            "marker": {
             "line": {
              "color": "white",
              "width": 0.5
             }
            },
            "type": "bar"
           }
          ],
          "barpolar": [
           {
            "marker": {
             "line": {
              "color": "white",
              "width": 0.5
             }
            },
            "type": "barpolar"
           }
          ],
          "carpet": [
           {
            "aaxis": {
             "endlinecolor": "#2a3f5f",
             "gridcolor": "#C8D4E3",
             "linecolor": "#C8D4E3",
             "minorgridcolor": "#C8D4E3",
             "startlinecolor": "#2a3f5f"
            },
            "baxis": {
             "endlinecolor": "#2a3f5f",
             "gridcolor": "#C8D4E3",
             "linecolor": "#C8D4E3",
             "minorgridcolor": "#C8D4E3",
             "startlinecolor": "#2a3f5f"
            },
            "type": "carpet"
           }
          ],
          "choropleth": [
           {
            "colorbar": {
             "outlinewidth": 0,
             "ticks": ""
            },
            "type": "choropleth"
           }
          ],
          "contour": [
           {
            "colorbar": {
             "outlinewidth": 0,
             "ticks": ""
            },
            "colorscale": [
             [
              0,
              "#0d0887"
             ],
             [
              0.1111111111111111,
              "#46039f"
             ],
             [
              0.2222222222222222,
              "#7201a8"
             ],
             [
              0.3333333333333333,
              "#9c179e"
             ],
             [
              0.4444444444444444,
              "#bd3786"
             ],
             [
              0.5555555555555556,
              "#d8576b"
             ],
             [
              0.6666666666666666,
              "#ed7953"
             ],
             [
              0.7777777777777778,
              "#fb9f3a"
             ],
             [
              0.8888888888888888,
              "#fdca26"
             ],
             [
              1,
              "#f0f921"
             ]
            ],
            "type": "contour"
           }
          ],
          "contourcarpet": [
           {
            "colorbar": {
             "outlinewidth": 0,
             "ticks": ""
            },
            "type": "contourcarpet"
           }
          ],
          "heatmap": [
           {
            "colorbar": {
             "outlinewidth": 0,
             "ticks": ""
            },
            "colorscale": [
             [
              0,
              "#0d0887"
             ],
             [
              0.1111111111111111,
              "#46039f"
             ],
             [
              0.2222222222222222,
              "#7201a8"
             ],
             [
              0.3333333333333333,
              "#9c179e"
             ],
             [
              0.4444444444444444,
              "#bd3786"
             ],
             [
              0.5555555555555556,
              "#d8576b"
             ],
             [
              0.6666666666666666,
              "#ed7953"
             ],
             [
              0.7777777777777778,
              "#fb9f3a"
             ],
             [
              0.8888888888888888,
              "#fdca26"
             ],
             [
              1,
              "#f0f921"
             ]
            ],
            "type": "heatmap"
           }
          ],
          "heatmapgl": [
           {
            "colorbar": {
             "outlinewidth": 0,
             "ticks": ""
            },
            "colorscale": [
             [
              0,
              "#0d0887"
             ],
             [
              0.1111111111111111,
              "#46039f"
             ],
             [
              0.2222222222222222,
              "#7201a8"
             ],
             [
              0.3333333333333333,
              "#9c179e"
             ],
             [
              0.4444444444444444,
              "#bd3786"
             ],
             [
              0.5555555555555556,
              "#d8576b"
             ],
             [
              0.6666666666666666,
              "#ed7953"
             ],
             [
              0.7777777777777778,
              "#fb9f3a"
             ],
             [
              0.8888888888888888,
              "#fdca26"
             ],
             [
              1,
              "#f0f921"
             ]
            ],
            "type": "heatmapgl"
           }
          ],
          "histogram": [
           {
            "marker": {
             "colorbar": {
              "outlinewidth": 0,
              "ticks": ""
             }
            },
            "type": "histogram"
           }
          ],
          "histogram2d": [
           {
            "colorbar": {
             "outlinewidth": 0,
             "ticks": ""
            },
            "colorscale": [
             [
              0,
              "#0d0887"
             ],
             [
              0.1111111111111111,
              "#46039f"
             ],
             [
              0.2222222222222222,
              "#7201a8"
             ],
             [
              0.3333333333333333,
              "#9c179e"
             ],
             [
              0.4444444444444444,
              "#bd3786"
             ],
             [
              0.5555555555555556,
              "#d8576b"
             ],
             [
              0.6666666666666666,
              "#ed7953"
             ],
             [
              0.7777777777777778,
              "#fb9f3a"
             ],
             [
              0.8888888888888888,
              "#fdca26"
             ],
             [
              1,
              "#f0f921"
             ]
            ],
            "type": "histogram2d"
           }
          ],
          "histogram2dcontour": [
           {
            "colorbar": {
             "outlinewidth": 0,
             "ticks": ""
            },
            "colorscale": [
             [
              0,
              "#0d0887"
             ],
             [
              0.1111111111111111,
              "#46039f"
             ],
             [
              0.2222222222222222,
              "#7201a8"
             ],
             [
              0.3333333333333333,
              "#9c179e"
             ],
             [
              0.4444444444444444,
              "#bd3786"
             ],
             [
              0.5555555555555556,
              "#d8576b"
             ],
             [
              0.6666666666666666,
              "#ed7953"
             ],
             [
              0.7777777777777778,
              "#fb9f3a"
             ],
             [
              0.8888888888888888,
              "#fdca26"
             ],
             [
              1,
              "#f0f921"
             ]
            ],
            "type": "histogram2dcontour"
           }
          ],
          "mesh3d": [
           {
            "colorbar": {
             "outlinewidth": 0,
             "ticks": ""
            },
            "type": "mesh3d"
           }
          ],
          "parcoords": [
           {
            "line": {
             "colorbar": {
              "outlinewidth": 0,
              "ticks": ""
             }
            },
            "type": "parcoords"
           }
          ],
          "pie": [
           {
            "automargin": true,
            "type": "pie"
           }
          ],
          "scatter": [
           {
            "marker": {
             "colorbar": {
              "outlinewidth": 0,
              "ticks": ""
             }
            },
            "type": "scatter"
           }
          ],
          "scatter3d": [
           {
            "line": {
             "colorbar": {
              "outlinewidth": 0,
              "ticks": ""
             }
            },
            "marker": {
             "colorbar": {
              "outlinewidth": 0,
              "ticks": ""
             }
            },
            "type": "scatter3d"
           }
          ],
          "scattercarpet": [
           {
            "marker": {
             "colorbar": {
              "outlinewidth": 0,
              "ticks": ""
             }
            },
            "type": "scattercarpet"
           }
          ],
          "scattergeo": [
           {
            "marker": {
             "colorbar": {
              "outlinewidth": 0,
              "ticks": ""
             }
            },
            "type": "scattergeo"
           }
          ],
          "scattergl": [
           {
            "marker": {
             "colorbar": {
              "outlinewidth": 0,
              "ticks": ""
             }
            },
            "type": "scattergl"
           }
          ],
          "scattermapbox": [
           {
            "marker": {
             "colorbar": {
              "outlinewidth": 0,
              "ticks": ""
             }
            },
            "type": "scattermapbox"
           }
          ],
          "scatterpolar": [
           {
            "marker": {
             "colorbar": {
              "outlinewidth": 0,
              "ticks": ""
             }
            },
            "type": "scatterpolar"
           }
          ],
          "scatterpolargl": [
           {
            "marker": {
             "colorbar": {
              "outlinewidth": 0,
              "ticks": ""
             }
            },
            "type": "scatterpolargl"
           }
          ],
          "scatterternary": [
           {
            "marker": {
             "colorbar": {
              "outlinewidth": 0,
              "ticks": ""
             }
            },
            "type": "scatterternary"
           }
          ],
          "surface": [
           {
            "colorbar": {
             "outlinewidth": 0,
             "ticks": ""
            },
            "colorscale": [
             [
              0,
              "#0d0887"
             ],
             [
              0.1111111111111111,
              "#46039f"
             ],
             [
              0.2222222222222222,
              "#7201a8"
             ],
             [
              0.3333333333333333,
              "#9c179e"
             ],
             [
              0.4444444444444444,
              "#bd3786"
             ],
             [
              0.5555555555555556,
              "#d8576b"
             ],
             [
              0.6666666666666666,
              "#ed7953"
             ],
             [
              0.7777777777777778,
              "#fb9f3a"
             ],
             [
              0.8888888888888888,
              "#fdca26"
             ],
             [
              1,
              "#f0f921"
             ]
            ],
            "type": "surface"
           }
          ],
          "table": [
           {
            "cells": {
             "fill": {
              "color": "#EBF0F8"
             },
             "line": {
              "color": "white"
             }
            },
            "header": {
             "fill": {
              "color": "#C8D4E3"
             },
             "line": {
              "color": "white"
             }
            },
            "type": "table"
           }
          ]
         },
         "layout": {
          "annotationdefaults": {
           "arrowcolor": "#2a3f5f",
           "arrowhead": 0,
           "arrowwidth": 1
          },
          "coloraxis": {
           "colorbar": {
            "outlinewidth": 0,
            "ticks": ""
           }
          },
          "colorscale": {
           "diverging": [
            [
             0,
             "#8e0152"
            ],
            [
             0.1,
             "#c51b7d"
            ],
            [
             0.2,
             "#de77ae"
            ],
            [
             0.3,
             "#f1b6da"
            ],
            [
             0.4,
             "#fde0ef"
            ],
            [
             0.5,
             "#f7f7f7"
            ],
            [
             0.6,
             "#e6f5d0"
            ],
            [
             0.7,
             "#b8e186"
            ],
            [
             0.8,
             "#7fbc41"
            ],
            [
             0.9,
             "#4d9221"
            ],
            [
             1,
             "#276419"
            ]
           ],
           "sequential": [
            [
             0,
             "#0d0887"
            ],
            [
             0.1111111111111111,
             "#46039f"
            ],
            [
             0.2222222222222222,
             "#7201a8"
            ],
            [
             0.3333333333333333,
             "#9c179e"
            ],
            [
             0.4444444444444444,
             "#bd3786"
            ],
            [
             0.5555555555555556,
             "#d8576b"
            ],
            [
             0.6666666666666666,
             "#ed7953"
            ],
            [
             0.7777777777777778,
             "#fb9f3a"
            ],
            [
             0.8888888888888888,
             "#fdca26"
            ],
            [
             1,
             "#f0f921"
            ]
           ],
           "sequentialminus": [
            [
             0,
             "#0d0887"
            ],
            [
             0.1111111111111111,
             "#46039f"
            ],
            [
             0.2222222222222222,
             "#7201a8"
            ],
            [
             0.3333333333333333,
             "#9c179e"
            ],
            [
             0.4444444444444444,
             "#bd3786"
            ],
            [
             0.5555555555555556,
             "#d8576b"
            ],
            [
             0.6666666666666666,
             "#ed7953"
            ],
            [
             0.7777777777777778,
             "#fb9f3a"
            ],
            [
             0.8888888888888888,
             "#fdca26"
            ],
            [
             1,
             "#f0f921"
            ]
           ]
          },
          "colorway": [
           "#636efa",
           "#EF553B",
           "#00cc96",
           "#ab63fa",
           "#FFA15A",
           "#19d3f3",
           "#FF6692",
           "#B6E880",
           "#FF97FF",
           "#FECB52"
          ],
          "font": {
           "color": "#2a3f5f"
          },
          "geo": {
           "bgcolor": "white",
           "lakecolor": "white",
           "landcolor": "white",
           "showlakes": true,
           "showland": true,
           "subunitcolor": "#C8D4E3"
          },
          "hoverlabel": {
           "align": "left"
          },
          "hovermode": "closest",
          "mapbox": {
           "style": "light"
          },
          "paper_bgcolor": "white",
          "plot_bgcolor": "white",
          "polar": {
           "angularaxis": {
            "gridcolor": "#EBF0F8",
            "linecolor": "#EBF0F8",
            "ticks": ""
           },
           "bgcolor": "white",
           "radialaxis": {
            "gridcolor": "#EBF0F8",
            "linecolor": "#EBF0F8",
            "ticks": ""
           }
          },
          "scene": {
           "xaxis": {
            "backgroundcolor": "white",
            "gridcolor": "#DFE8F3",
            "gridwidth": 2,
            "linecolor": "#EBF0F8",
            "showbackground": true,
            "ticks": "",
            "zerolinecolor": "#EBF0F8"
           },
           "yaxis": {
            "backgroundcolor": "white",
            "gridcolor": "#DFE8F3",
            "gridwidth": 2,
            "linecolor": "#EBF0F8",
            "showbackground": true,
            "ticks": "",
            "zerolinecolor": "#EBF0F8"
           },
           "zaxis": {
            "backgroundcolor": "white",
            "gridcolor": "#DFE8F3",
            "gridwidth": 2,
            "linecolor": "#EBF0F8",
            "showbackground": true,
            "ticks": "",
            "zerolinecolor": "#EBF0F8"
           }
          },
          "shapedefaults": {
           "line": {
            "color": "#2a3f5f"
           }
          },
          "ternary": {
           "aaxis": {
            "gridcolor": "#DFE8F3",
            "linecolor": "#A2B1C6",
            "ticks": ""
           },
           "baxis": {
            "gridcolor": "#DFE8F3",
            "linecolor": "#A2B1C6",
            "ticks": ""
           },
           "bgcolor": "white",
           "caxis": {
            "gridcolor": "#DFE8F3",
            "linecolor": "#A2B1C6",
            "ticks": ""
           }
          },
          "title": {
           "x": 0.05
          },
          "xaxis": {
           "automargin": true,
           "gridcolor": "#EBF0F8",
           "linecolor": "#EBF0F8",
           "ticks": "",
           "title": {
            "standoff": 15
           },
           "zerolinecolor": "#EBF0F8",
           "zerolinewidth": 2
          },
          "yaxis": {
           "automargin": true,
           "gridcolor": "#EBF0F8",
           "linecolor": "#EBF0F8",
           "ticks": "",
           "title": {
            "standoff": 15
           },
           "zerolinecolor": "#EBF0F8",
           "zerolinewidth": 2
          }
         }
        },
        "title": {
         "text": "Casos acumulados por Estado"
        }
       }
      },
      "text/html": [
       "<div>\n",
       "        \n",
       "        \n",
       "            <div id=\"64479ac6-6558-4437-a0d9-640de6e6bb18\" class=\"plotly-graph-div\" style=\"height:525px; width:100%;\"></div>\n",
       "            <script type=\"text/javascript\">\n",
       "                require([\"plotly\"], function(Plotly) {\n",
       "                    window.PLOTLYENV=window.PLOTLYENV || {};\n",
       "                    \n",
       "                if (document.getElementById(\"64479ac6-6558-4437-a0d9-640de6e6bb18\")) {\n",
       "                    Plotly.newPlot(\n",
       "                        '64479ac6-6558-4437-a0d9-640de6e6bb18',\n",
       "                        [{\"line\": {\"shape\": \"spline\"}, \"mode\": \"markers+lines\", \"name\": \"S\\u00e3o Paulo\", \"type\": \"scatter\", \"x\": [\"16-mar\", \"17-mar\", \"18-mar\", \"19-mar\", \"20-mar\", \"21-mar\", \"22-mar\", \"23-mar\", \"24-mar\", \"25-mar\", \"26-mar\", \"27-mar\", \"28-mar\", \"29-mar\", \"30-mar\", \"31-mar\", \"1\\u00ba-abr\", \"2-abr\", \"3-abr\", \"4-abr\", \"5-abr\", \"6-abr\", \"7-abr\", \"8-abr\", \"9-abr\"], \"y\": [152, 164, 240, 286, 396, 459, 631, 745, 810, 862, 1052, 1223, 1406, 1451, 1517, 2339, 2981, 3506, 4048, 4466, 4620, 4866, 5682, 6708, 7480]}, {\"line\": {\"shape\": \"spline\"}, \"mode\": \"markers+lines\", \"name\": \"Rio de Janeiro\", \"type\": \"scatter\", \"x\": [\"16-mar\", \"17-mar\", \"18-mar\", \"19-mar\", \"20-mar\", \"21-mar\", \"22-mar\", \"23-mar\", \"24-mar\", \"25-mar\", \"26-mar\", \"27-mar\", \"28-mar\", \"29-mar\", \"30-mar\", \"31-mar\", \"1\\u00ba-abr\", \"2-abr\", \"3-abr\", \"4-abr\", \"5-abr\", \"6-abr\", \"7-abr\", \"8-abr\", \"9-abr\"], \"y\": [31, 33, 63, 66, 109, 119, 186, 233, 305, 370, 421, 493, 558, 600, 657, 708, 832, 992, 1074, 1246, 1394, 1461, 1688, 1938, 2216]}, {\"line\": {\"shape\": \"spline\"}, \"mode\": \"markers+lines\", \"name\": \"Rio Grande do Sul\", \"type\": \"scatter\", \"x\": [\"16-mar\", \"17-mar\", \"18-mar\", \"19-mar\", \"20-mar\", \"21-mar\", \"22-mar\", \"23-mar\", \"24-mar\", \"25-mar\", \"26-mar\", \"27-mar\", \"28-mar\", \"29-mar\", \"30-mar\", \"31-mar\", \"1\\u00ba-abr\", \"2-abr\", \"3-abr\", \"4-abr\", \"5-abr\", \"6-abr\", \"7-abr\", \"8-abr\", \"9-abr\"], \"y\": [6, 19, 28, 37, 56, 71, 77, 96, 112, 162, 190, 197, 200, 239, 254, 305, 316, 386, 410, 418, 468, 501, 555, 581, 636]}, {\"line\": {\"shape\": \"spline\"}, \"mode\": \"markers+lines\", \"name\": \"Distrito Federal\", \"type\": \"scatter\", \"x\": [\"16-mar\", \"17-mar\", \"18-mar\", \"19-mar\", \"20-mar\", \"21-mar\", \"22-mar\", \"23-mar\", \"24-mar\", \"25-mar\", \"26-mar\", \"27-mar\", \"28-mar\", \"29-mar\", \"30-mar\", \"31-mar\", \"1\\u00ba-abr\", \"2-abr\", \"3-abr\", \"4-abr\", \"5-abr\", \"6-abr\", \"7-abr\", \"8-abr\", \"9-abr\"], \"y\": [13, 19, 36, 42, 87, 112, 131, 146, 177, 191, 203, 242, 260, 298, 312, 333, 370, 377, 422, 454, 468, 485, 492, 511, 527]}, {\"mode\": \"markers+lines\", \"name\": \"Cear\\u00e1\", \"type\": \"scatter\", \"x\": [\"16-mar\", \"17-mar\", \"18-mar\", \"19-mar\", \"20-mar\", \"21-mar\", \"22-mar\", \"23-mar\", \"24-mar\", \"25-mar\", \"26-mar\", \"27-mar\", \"28-mar\", \"29-mar\", \"30-mar\", \"31-mar\", \"1\\u00ba-abr\", \"2-abr\", \"3-abr\", \"4-abr\", \"5-abr\", \"6-abr\", \"7-abr\", \"8-abr\", \"9-abr\"], \"y\": [0, 11, 20, 24, 68, 84, 125, 164, 185, 211, 238, 282, 322, 359, 382, 401, 445, 563, 658, 745, 824, 1023, 1188, 1374, 1445]}, {\"mode\": \"markers+lines\", \"name\": \"Goi\\u00e1s\", \"type\": \"scatter\", \"x\": [\"16-mar\", \"17-mar\", \"18-mar\", \"19-mar\", \"20-mar\", \"21-mar\", \"22-mar\", \"23-mar\", \"24-mar\", \"25-mar\", \"26-mar\", \"27-mar\", \"28-mar\", \"29-mar\", \"30-mar\", \"31-mar\", \"1\\u00ba-abr\", \"2-abr\", \"3-abr\", \"4-abr\", \"5-abr\", \"6-abr\", \"7-abr\", \"8-abr\", \"9-abr\"], \"y\": [3, 10, 12, 15, 15, 18, 21, 23, 29, 29, 38, 49, 56, 58, 60, 65, 73, 73, 88, 103, 115, 119, 133, 159, 179]}, {\"mode\": \"markers+lines\", \"name\": \"Acre\", \"type\": \"scatter\", \"x\": [\"16-mar\", \"17-mar\", \"18-mar\", \"19-mar\", \"20-mar\", \"21-mar\", \"22-mar\", \"23-mar\", \"24-mar\", \"25-mar\", \"26-mar\", \"27-mar\", \"28-mar\", \"29-mar\", \"30-mar\", \"31-mar\", \"1\\u00ba-abr\", \"2-abr\", \"3-abr\", \"4-abr\", \"5-abr\", \"6-abr\", \"7-abr\", \"8-abr\", \"9-abr\"], \"y\": [0, 3, 3, 3, 7, 11, 11, 17, 21, 23, 23, 25, 25, 34, 41, 42, 43, 45, 46, 46, 48, 50, 50, 58, 62]}, {\"mode\": \"markers+lines\", \"name\": \"Alagoas\", \"type\": \"scatter\", \"x\": [\"16-mar\", \"17-mar\", \"18-mar\", \"19-mar\", \"20-mar\", \"21-mar\", \"22-mar\", \"23-mar\", \"24-mar\", \"25-mar\", \"26-mar\", \"27-mar\", \"28-mar\", \"29-mar\", \"30-mar\", \"31-mar\", \"1\\u00ba-abr\", \"2-abr\", \"3-abr\", \"4-abr\", \"5-abr\", \"6-abr\", \"7-abr\", \"8-abr\", \"9-abr\"], \"y\": [1, 1, 1, 4, 6, 7, 7, 8, 10, 11, 11, 12, 14, 14, 17, 18, 18, 18, 23, 23, 28, 31, 34, 34, 37]}, {\"mode\": \"markers+lines\", \"name\": \"Amazonas\", \"type\": \"scatter\", \"x\": [\"16-mar\", \"17-mar\", \"18-mar\", \"19-mar\", \"20-mar\", \"21-mar\", \"22-mar\", \"23-mar\", \"24-mar\", \"25-mar\", \"26-mar\", \"27-mar\", \"28-mar\", \"29-mar\", \"30-mar\", \"31-mar\", \"1\\u00ba-abr\", \"2-abr\", \"3-abr\", \"4-abr\", \"5-abr\", \"6-abr\", \"7-abr\", \"8-abr\", \"9-abr\"], \"y\": [1, 1, 2, 3, 7, 26, 26, 32, 47, 54, 67, 81, 111, 140, 151, 175, 200, 229, 260, 311, 417, 532, 636, 804, 899]}, {\"mode\": \"markers+lines\", \"name\": \"Amap\\u00e1\", \"type\": \"scatter\", \"x\": [\"16-mar\", \"17-mar\", \"18-mar\", \"19-mar\", \"20-mar\", \"21-mar\", \"22-mar\", \"23-mar\", \"24-mar\", \"25-mar\", \"26-mar\", \"27-mar\", \"28-mar\", \"29-mar\", \"30-mar\", \"31-mar\", \"1\\u00ba-abr\", \"2-abr\", \"3-abr\", \"4-abr\", \"5-abr\", \"6-abr\", \"7-abr\", \"8-abr\", \"9-abr\"], \"y\": [0, 0, 0, 0, 1, 1, 1, 1, 1, 2, 2, 3, 4, 4, 8, 10, 11, 12, 19, 29, 31, 30, 51, 107, 110]}, {\"mode\": \"markers+lines\", \"name\": \"Bahia\", \"type\": \"scatter\", \"x\": [\"16-mar\", \"17-mar\", \"18-mar\", \"19-mar\", \"20-mar\", \"21-mar\", \"22-mar\", \"23-mar\", \"24-mar\", \"25-mar\", \"26-mar\", \"27-mar\", \"28-mar\", \"29-mar\", \"30-mar\", \"31-mar\", \"1\\u00ba-abr\", \"2-abr\", \"3-abr\", \"4-abr\", \"5-abr\", \"6-abr\", \"7-abr\", \"8-abr\", \"9-abr\"], \"y\": [2, 16, 27, 31, 34, 49, 55, 63, 79, 91, 108, 123, 127, 156, 176, 217, 246, 267, 290, 332, 401, 437, 462, 515, 568]}, {\"mode\": \"markers+lines\", \"name\": \"Esp\\u00edrito Santo\", \"type\": \"scatter\", \"x\": [\"16-mar\", \"17-mar\", \"18-mar\", \"19-mar\", \"20-mar\", \"21-mar\", \"22-mar\", \"23-mar\", \"24-mar\", \"25-mar\", \"26-mar\", \"27-mar\", \"28-mar\", \"29-mar\", \"30-mar\", \"31-mar\", \"1\\u00ba-abr\", \"2-abr\", \"3-abr\", \"4-abr\", \"5-abr\", \"6-abr\", \"7-abr\", \"8-abr\", \"9-abr\"], \"y\": [1, 8, 11, 13, 16, 26, 26, 33, 40, 40, 48, 54, 61, 72, 85, 97, 120, 139, 153, 153, 194, 209, 227, 273, 300]}, {\"mode\": \"markers+lines\", \"name\": \"Maranh\\u00e3o\", \"type\": \"scatter\", \"x\": [\"16-mar\", \"17-mar\", \"18-mar\", \"19-mar\", \"20-mar\", \"21-mar\", \"22-mar\", \"23-mar\", \"24-mar\", \"25-mar\", \"26-mar\", \"27-mar\", \"28-mar\", \"29-mar\", \"30-mar\", \"31-mar\", \"1\\u00ba-abr\", \"2-abr\", \"3-abr\", \"4-abr\", \"5-abr\", \"6-abr\", \"7-abr\", \"8-abr\", \"9-abr\"], \"y\": [0, 0, 0, 0, 0, 2, 2, 8, 8, 8, 10, 14, 14, 22, 31, 52, 71, 81, 88, 96, 133, 172, 230, 273, 293]}, {\"mode\": \"markers+lines\", \"name\": \"Mato Grosso\", \"type\": \"scatter\", \"x\": [\"16-mar\", \"17-mar\", \"18-mar\", \"19-mar\", \"20-mar\", \"21-mar\", \"22-mar\", \"23-mar\", \"24-mar\", \"25-mar\", \"26-mar\", \"27-mar\", \"28-mar\", \"29-mar\", \"30-mar\", \"31-mar\", \"1\\u00ba-abr\", \"2-abr\", \"3-abr\", \"4-abr\", \"5-abr\", \"6-abr\", \"7-abr\", \"8-abr\", \"9-abr\"], \"y\": [0, 0, 0, 0, 1, 2, 2, 6, 7, 9, 11, 11, 11, 11, 18, 25, 28, 41, 44, 60, 60, 76, 78, 90, 108]}, {\"mode\": \"markers+lines\", \"name\": \"Mato Grosso do Sul\", \"type\": \"scatter\", \"x\": [\"16-mar\", \"17-mar\", \"18-mar\", \"19-mar\", \"20-mar\", \"21-mar\", \"22-mar\", \"23-mar\", \"24-mar\", \"25-mar\", \"26-mar\", \"27-mar\", \"28-mar\", \"29-mar\", \"30-mar\", \"31-mar\", \"1\\u00ba-abr\", \"2-abr\", \"3-abr\", \"4-abr\", \"5-abr\", \"6-abr\", \"7-abr\", \"8-abr\", \"9-abr\"], \"y\": [2, 6, 7, 9, 12, 16, 21, 21, 24, 24, 25, 28, 31, 36, 44, 48, 51, 53, 60, 62, 65, 66, 80, 85, 89]}, {\"mode\": \"markers+lines\", \"name\": \"Minas Gerais\", \"type\": \"scatter\", \"x\": [\"16-mar\", \"17-mar\", \"18-mar\", \"19-mar\", \"20-mar\", \"21-mar\", \"22-mar\", \"23-mar\", \"24-mar\", \"25-mar\", \"26-mar\", \"27-mar\", \"28-mar\", \"29-mar\", \"30-mar\", \"31-mar\", \"1\\u00ba-abr\", \"2-abr\", \"3-abr\", \"4-abr\", \"5-abr\", \"6-abr\", \"7-abr\", \"8-abr\", \"9-abr\"], \"y\": [5, 14, 19, 29, 38, 55, 83, 128, 130, 133, 153, 189, 205, 231, 261, 275, 314, 370, 397, 430, 498, 525, 559, 614, 655]}, {\"mode\": \"markers+lines\", \"name\": \"Par\\u00e1\", \"type\": \"scatter\", \"x\": [\"16-mar\", \"17-mar\", \"18-mar\", \"19-mar\", \"20-mar\", \"21-mar\", \"22-mar\", \"23-mar\", \"24-mar\", \"25-mar\", \"26-mar\", \"27-mar\", \"28-mar\", \"29-mar\", \"30-mar\", \"31-mar\", \"1\\u00ba-abr\", \"2-abr\", \"3-abr\", \"4-abr\", \"5-abr\", \"6-abr\", \"7-abr\", \"8-abr\", \"9-abr\"], \"y\": [0, 0, 1, 1, 2, 4, 4, 5, 5, 7, 13, 16, 17, 20, 26, 34, 40, 49, 75, 80, 102, 123, 154, 165, 169]}, {\"mode\": \"markers+lines\", \"name\": \"Para\\u00edba\", \"type\": \"scatter\", \"x\": [\"16-mar\", \"17-mar\", \"18-mar\", \"19-mar\", \"20-mar\", \"21-mar\", \"22-mar\", \"23-mar\", \"24-mar\", \"25-mar\", \"26-mar\", \"27-mar\", \"28-mar\", \"29-mar\", \"30-mar\", \"31-mar\", \"1\\u00ba-abr\", \"2-abr\", \"3-abr\", \"4-abr\", \"5-abr\", \"6-abr\", \"7-abr\", \"8-abr\", \"9-abr\"], \"y\": [0, 0, 1, 1, 1, 1, 1, 2, 3, 5, 6, 10, 14, 14, 17, 19, 21, 29, 32, 34, 35, 36, 41, 55, 79]}, {\"mode\": \"markers+lines\", \"name\": \"Paran\\u00e1\", \"type\": \"scatter\", \"x\": [\"16-mar\", \"17-mar\", \"18-mar\", \"19-mar\", \"20-mar\", \"21-mar\", \"22-mar\", \"23-mar\", \"24-mar\", \"25-mar\", \"26-mar\", \"27-mar\", \"28-mar\", \"29-mar\", \"30-mar\", \"31-mar\", \"1\\u00ba-abr\", \"2-abr\", \"3-abr\", \"4-abr\", \"5-abr\", \"6-abr\", \"7-abr\", \"8-abr\", \"9-abr\"], \"y\": [6, 12, 14, 23, 36, 43, 54, 60, 70, 97, 106, 125, 137, 152, 160, 185, 229, 258, 307, 401, 445, 466, 511, 550, 621]}, {\"mode\": \"markers+lines\", \"name\": \"Pernambuco\", \"type\": \"scatter\", \"x\": [\"16-mar\", \"17-mar\", \"18-mar\", \"19-mar\", \"20-mar\", \"21-mar\", \"22-mar\", \"23-mar\", \"24-mar\", \"25-mar\", \"26-mar\", \"27-mar\", \"28-mar\", \"29-mar\", \"30-mar\", \"31-mar\", \"1\\u00ba-abr\", \"2-abr\", \"3-abr\", \"4-abr\", \"5-abr\", \"6-abr\", \"7-abr\", \"8-abr\", \"9-abr\"], \"y\": [2, 19, 22, 28, 31, 33, 37, 42, 42, 46, 48, 57, 68, 73, 77, 87, 95, 106, 136, 176, 201, 223, 352, 401, 555]}, {\"mode\": \"markers+lines\", \"name\": \"Piau\\u00ed\", \"type\": \"scatter\", \"x\": [\"16-mar\", \"17-mar\", \"18-mar\", \"19-mar\", \"20-mar\", \"21-mar\", \"22-mar\", \"23-mar\", \"24-mar\", \"25-mar\", \"26-mar\", \"27-mar\", \"28-mar\", \"29-mar\", \"30-mar\", \"31-mar\", \"1\\u00ba-abr\", \"2-abr\", \"3-abr\", \"4-abr\", \"5-abr\", \"6-abr\", \"7-abr\", \"8-abr\", \"9-abr\"], \"y\": [0, 0, 0, 3, 4, 4, 6, 6, 8, 8, 9, 9, 11, 16, 18, 18, 19, 19, 22, 24, 24, 26, 31, 38, 40]}, {\"mode\": \"markers+lines\", \"name\": \"Rio Grande do Norte\", \"type\": \"scatter\", \"x\": [\"16-mar\", \"17-mar\", \"18-mar\", \"19-mar\", \"20-mar\", \"21-mar\", \"22-mar\", \"23-mar\", \"24-mar\", \"25-mar\", \"26-mar\", \"27-mar\", \"28-mar\", \"29-mar\", \"30-mar\", \"31-mar\", \"1\\u00ba-abr\", \"2-abr\", \"3-abr\", \"4-abr\", \"5-abr\", \"6-abr\", \"7-abr\", \"8-abr\", \"9-abr\"], \"y\": [1, 1, 1, 1, 1, 9, 9, 13, 14, 14, 19, 28, 45, 68, 77, 82, 92, 106, 176, 215, 242, 246, 254, 261, 261]}, {\"mode\": \"markers+lines\", \"name\": \"Rond\\u00f4nia\", \"type\": \"scatter\", \"x\": [\"16-mar\", \"17-mar\", \"18-mar\", \"19-mar\", \"20-mar\", \"21-mar\", \"22-mar\", \"23-mar\", \"24-mar\", \"25-mar\", \"26-mar\", \"27-mar\", \"28-mar\", \"29-mar\", \"30-mar\", \"31-mar\", \"1\\u00ba-abr\", \"2-abr\", \"3-abr\", \"4-abr\", \"5-abr\", \"6-abr\", \"7-abr\", \"8-abr\", \"9-abr\"], \"y\": [0, 0, 0, 0, 1, 3, 3, 3, 5, 5, 6, 6, 6, 6, 8, 9, 9, 10, 10, 11, 14, 18, 23, 26, 28]}, {\"mode\": \"markers+lines\", \"name\": \"Roraima\", \"type\": \"scatter\", \"x\": [\"16-mar\", \"17-mar\", \"18-mar\", \"19-mar\", \"20-mar\", \"21-mar\", \"22-mar\", \"23-mar\", \"24-mar\", \"25-mar\", \"26-mar\", \"27-mar\", \"28-mar\", \"29-mar\", \"30-mar\", \"31-mar\", \"1\\u00ba-abr\", \"2-abr\", \"3-abr\", \"4-abr\", \"5-abr\", \"6-abr\", \"7-abr\", \"8-abr\", \"9-abr\"], \"y\": [0, 0, 0, 0, 0, 2, 2, 2, 8, 8, 8, 12, 16, 16, 16, 22, 26, 30, 37, 42, 42, 42, 49, 52, 63]}, {\"mode\": \"markers+lines\", \"name\": \"Santa Catarina\", \"type\": \"scatter\", \"x\": [\"16-mar\", \"17-mar\", \"18-mar\", \"19-mar\", \"20-mar\", \"21-mar\", \"22-mar\", \"23-mar\", \"24-mar\", \"25-mar\", \"26-mar\", \"27-mar\", \"28-mar\", \"29-mar\", \"30-mar\", \"31-mar\", \"1\\u00ba-abr\", \"2-abr\", \"3-abr\", \"4-abr\", \"5-abr\", \"6-abr\", \"7-abr\", \"8-abr\", \"9-abr\"], \"y\": [7, 7, 14, 21, 40, 57, 68, 86, 109, 122, 149, 163, 184, 197, 219, 235, 247, 281, 301, 356, 379, 417, 457, 501, 693]}, {\"mode\": \"markers+lines\", \"name\": \"Sergipe\", \"type\": \"scatter\", \"x\": [\"16-mar\", \"17-mar\", \"18-mar\", \"19-mar\", \"20-mar\", \"21-mar\", \"22-mar\", \"23-mar\", \"24-mar\", \"25-mar\", \"26-mar\", \"27-mar\", \"28-mar\", \"29-mar\", \"30-mar\", \"31-mar\", \"1\\u00ba-abr\", \"2-abr\", \"3-abr\", \"4-abr\", \"5-abr\", \"6-abr\", \"7-abr\", \"8-abr\", \"9-abr\"], \"y\": [1, 5, 6, 6, 7, 10, 10, 10, 15, 16, 16, 16, 16, 16, 18, 20, 22, 24, 27, 32, 32, 32, 36, 39, 40]}, {\"mode\": \"markers+lines\", \"name\": \"Tocantins\", \"type\": \"scatter\", \"x\": [\"16-mar\", \"17-mar\", \"18-mar\", \"19-mar\", \"20-mar\", \"21-mar\", \"22-mar\", \"23-mar\", \"24-mar\", \"25-mar\", \"26-mar\", \"27-mar\", \"28-mar\", \"29-mar\", \"30-mar\", \"31-mar\", \"1\\u00ba-abr\", \"2-abr\", \"3-abr\", \"4-abr\", \"5-abr\", \"6-abr\", \"7-abr\", \"8-abr\", \"9-abr\"], \"y\": [0, 0, 1, 1, 1, 2, 5, 7, 7, 7, 8, 9, 9, 10, 11, 12, 12, 12, 13, 16, 17, 18, 19, 23, 23]}],\n",
       "                        {\"direction\": \"clockwise\", \"legend\": {\"title\": {\"text\": \"<b> Estados/DF </b>\"}}, \"showlegend\": true, \"template\": {\"data\": {\"bar\": [{\"error_x\": {\"color\": \"#2a3f5f\"}, \"error_y\": {\"color\": \"#2a3f5f\"}, \"marker\": {\"line\": {\"color\": \"white\", \"width\": 0.5}}, \"type\": \"bar\"}], \"barpolar\": [{\"marker\": {\"line\": {\"color\": \"white\", \"width\": 0.5}}, \"type\": \"barpolar\"}], \"carpet\": [{\"aaxis\": {\"endlinecolor\": \"#2a3f5f\", \"gridcolor\": \"#C8D4E3\", \"linecolor\": \"#C8D4E3\", \"minorgridcolor\": \"#C8D4E3\", \"startlinecolor\": \"#2a3f5f\"}, \"baxis\": {\"endlinecolor\": \"#2a3f5f\", \"gridcolor\": \"#C8D4E3\", \"linecolor\": \"#C8D4E3\", \"minorgridcolor\": \"#C8D4E3\", \"startlinecolor\": \"#2a3f5f\"}, \"type\": \"carpet\"}], \"choropleth\": [{\"colorbar\": {\"outlinewidth\": 0, \"ticks\": \"\"}, \"type\": \"choropleth\"}], \"contour\": [{\"colorbar\": {\"outlinewidth\": 0, \"ticks\": \"\"}, \"colorscale\": [[0.0, \"#0d0887\"], [0.1111111111111111, \"#46039f\"], [0.2222222222222222, \"#7201a8\"], [0.3333333333333333, \"#9c179e\"], [0.4444444444444444, \"#bd3786\"], [0.5555555555555556, \"#d8576b\"], [0.6666666666666666, \"#ed7953\"], [0.7777777777777778, \"#fb9f3a\"], [0.8888888888888888, \"#fdca26\"], [1.0, \"#f0f921\"]], \"type\": \"contour\"}], \"contourcarpet\": [{\"colorbar\": {\"outlinewidth\": 0, \"ticks\": \"\"}, \"type\": \"contourcarpet\"}], \"heatmap\": [{\"colorbar\": {\"outlinewidth\": 0, \"ticks\": \"\"}, \"colorscale\": [[0.0, \"#0d0887\"], [0.1111111111111111, \"#46039f\"], [0.2222222222222222, \"#7201a8\"], [0.3333333333333333, \"#9c179e\"], [0.4444444444444444, \"#bd3786\"], [0.5555555555555556, \"#d8576b\"], [0.6666666666666666, \"#ed7953\"], [0.7777777777777778, \"#fb9f3a\"], [0.8888888888888888, \"#fdca26\"], [1.0, \"#f0f921\"]], \"type\": \"heatmap\"}], \"heatmapgl\": [{\"colorbar\": {\"outlinewidth\": 0, \"ticks\": \"\"}, \"colorscale\": [[0.0, \"#0d0887\"], [0.1111111111111111, \"#46039f\"], [0.2222222222222222, \"#7201a8\"], [0.3333333333333333, \"#9c179e\"], [0.4444444444444444, \"#bd3786\"], [0.5555555555555556, \"#d8576b\"], [0.6666666666666666, \"#ed7953\"], [0.7777777777777778, \"#fb9f3a\"], [0.8888888888888888, \"#fdca26\"], [1.0, \"#f0f921\"]], \"type\": \"heatmapgl\"}], \"histogram\": [{\"marker\": {\"colorbar\": {\"outlinewidth\": 0, \"ticks\": \"\"}}, \"type\": \"histogram\"}], \"histogram2d\": [{\"colorbar\": {\"outlinewidth\": 0, \"ticks\": \"\"}, \"colorscale\": [[0.0, \"#0d0887\"], [0.1111111111111111, \"#46039f\"], [0.2222222222222222, \"#7201a8\"], [0.3333333333333333, \"#9c179e\"], [0.4444444444444444, \"#bd3786\"], [0.5555555555555556, \"#d8576b\"], [0.6666666666666666, \"#ed7953\"], [0.7777777777777778, \"#fb9f3a\"], [0.8888888888888888, \"#fdca26\"], [1.0, \"#f0f921\"]], \"type\": \"histogram2d\"}], \"histogram2dcontour\": [{\"colorbar\": {\"outlinewidth\": 0, \"ticks\": \"\"}, \"colorscale\": [[0.0, \"#0d0887\"], [0.1111111111111111, \"#46039f\"], [0.2222222222222222, \"#7201a8\"], [0.3333333333333333, \"#9c179e\"], [0.4444444444444444, \"#bd3786\"], [0.5555555555555556, \"#d8576b\"], [0.6666666666666666, \"#ed7953\"], [0.7777777777777778, \"#fb9f3a\"], [0.8888888888888888, \"#fdca26\"], [1.0, \"#f0f921\"]], \"type\": \"histogram2dcontour\"}], \"mesh3d\": [{\"colorbar\": {\"outlinewidth\": 0, \"ticks\": \"\"}, \"type\": \"mesh3d\"}], \"parcoords\": [{\"line\": {\"colorbar\": {\"outlinewidth\": 0, \"ticks\": \"\"}}, \"type\": \"parcoords\"}], \"pie\": [{\"automargin\": true, \"type\": \"pie\"}], \"scatter\": [{\"marker\": {\"colorbar\": {\"outlinewidth\": 0, \"ticks\": \"\"}}, \"type\": \"scatter\"}], \"scatter3d\": [{\"line\": {\"colorbar\": {\"outlinewidth\": 0, \"ticks\": \"\"}}, \"marker\": {\"colorbar\": {\"outlinewidth\": 0, \"ticks\": \"\"}}, \"type\": \"scatter3d\"}], \"scattercarpet\": [{\"marker\": {\"colorbar\": {\"outlinewidth\": 0, \"ticks\": \"\"}}, \"type\": \"scattercarpet\"}], \"scattergeo\": [{\"marker\": {\"colorbar\": {\"outlinewidth\": 0, \"ticks\": \"\"}}, \"type\": \"scattergeo\"}], \"scattergl\": [{\"marker\": {\"colorbar\": {\"outlinewidth\": 0, \"ticks\": \"\"}}, \"type\": \"scattergl\"}], \"scattermapbox\": [{\"marker\": {\"colorbar\": {\"outlinewidth\": 0, \"ticks\": \"\"}}, \"type\": \"scattermapbox\"}], \"scatterpolar\": [{\"marker\": {\"colorbar\": {\"outlinewidth\": 0, \"ticks\": \"\"}}, \"type\": \"scatterpolar\"}], \"scatterpolargl\": [{\"marker\": {\"colorbar\": {\"outlinewidth\": 0, \"ticks\": \"\"}}, \"type\": \"scatterpolargl\"}], \"scatterternary\": [{\"marker\": {\"colorbar\": {\"outlinewidth\": 0, \"ticks\": \"\"}}, \"type\": \"scatterternary\"}], \"surface\": [{\"colorbar\": {\"outlinewidth\": 0, \"ticks\": \"\"}, \"colorscale\": [[0.0, \"#0d0887\"], [0.1111111111111111, \"#46039f\"], [0.2222222222222222, \"#7201a8\"], [0.3333333333333333, \"#9c179e\"], [0.4444444444444444, \"#bd3786\"], [0.5555555555555556, \"#d8576b\"], [0.6666666666666666, \"#ed7953\"], [0.7777777777777778, \"#fb9f3a\"], [0.8888888888888888, \"#fdca26\"], [1.0, \"#f0f921\"]], \"type\": \"surface\"}], \"table\": [{\"cells\": {\"fill\": {\"color\": \"#EBF0F8\"}, \"line\": {\"color\": \"white\"}}, \"header\": {\"fill\": {\"color\": \"#C8D4E3\"}, \"line\": {\"color\": \"white\"}}, \"type\": \"table\"}]}, \"layout\": {\"annotationdefaults\": {\"arrowcolor\": \"#2a3f5f\", \"arrowhead\": 0, \"arrowwidth\": 1}, \"coloraxis\": {\"colorbar\": {\"outlinewidth\": 0, \"ticks\": \"\"}}, \"colorscale\": {\"diverging\": [[0, \"#8e0152\"], [0.1, \"#c51b7d\"], [0.2, \"#de77ae\"], [0.3, \"#f1b6da\"], [0.4, \"#fde0ef\"], [0.5, \"#f7f7f7\"], [0.6, \"#e6f5d0\"], [0.7, \"#b8e186\"], [0.8, \"#7fbc41\"], [0.9, \"#4d9221\"], [1, \"#276419\"]], \"sequential\": [[0.0, \"#0d0887\"], [0.1111111111111111, \"#46039f\"], [0.2222222222222222, \"#7201a8\"], [0.3333333333333333, \"#9c179e\"], [0.4444444444444444, \"#bd3786\"], [0.5555555555555556, \"#d8576b\"], [0.6666666666666666, \"#ed7953\"], [0.7777777777777778, \"#fb9f3a\"], [0.8888888888888888, \"#fdca26\"], [1.0, \"#f0f921\"]], \"sequentialminus\": [[0.0, \"#0d0887\"], [0.1111111111111111, \"#46039f\"], [0.2222222222222222, \"#7201a8\"], [0.3333333333333333, \"#9c179e\"], [0.4444444444444444, \"#bd3786\"], [0.5555555555555556, \"#d8576b\"], [0.6666666666666666, \"#ed7953\"], [0.7777777777777778, \"#fb9f3a\"], [0.8888888888888888, \"#fdca26\"], [1.0, \"#f0f921\"]]}, \"colorway\": [\"#636efa\", \"#EF553B\", \"#00cc96\", \"#ab63fa\", \"#FFA15A\", \"#19d3f3\", \"#FF6692\", \"#B6E880\", \"#FF97FF\", \"#FECB52\"], \"font\": {\"color\": \"#2a3f5f\"}, \"geo\": {\"bgcolor\": \"white\", \"lakecolor\": \"white\", \"landcolor\": \"white\", \"showlakes\": true, \"showland\": true, \"subunitcolor\": \"#C8D4E3\"}, \"hoverlabel\": {\"align\": \"left\"}, \"hovermode\": \"closest\", \"mapbox\": {\"style\": \"light\"}, \"paper_bgcolor\": \"white\", \"plot_bgcolor\": \"white\", \"polar\": {\"angularaxis\": {\"gridcolor\": \"#EBF0F8\", \"linecolor\": \"#EBF0F8\", \"ticks\": \"\"}, \"bgcolor\": \"white\", \"radialaxis\": {\"gridcolor\": \"#EBF0F8\", \"linecolor\": \"#EBF0F8\", \"ticks\": \"\"}}, \"scene\": {\"xaxis\": {\"backgroundcolor\": \"white\", \"gridcolor\": \"#DFE8F3\", \"gridwidth\": 2, \"linecolor\": \"#EBF0F8\", \"showbackground\": true, \"ticks\": \"\", \"zerolinecolor\": \"#EBF0F8\"}, \"yaxis\": {\"backgroundcolor\": \"white\", \"gridcolor\": \"#DFE8F3\", \"gridwidth\": 2, \"linecolor\": \"#EBF0F8\", \"showbackground\": true, \"ticks\": \"\", \"zerolinecolor\": \"#EBF0F8\"}, \"zaxis\": {\"backgroundcolor\": \"white\", \"gridcolor\": \"#DFE8F3\", \"gridwidth\": 2, \"linecolor\": \"#EBF0F8\", \"showbackground\": true, \"ticks\": \"\", \"zerolinecolor\": \"#EBF0F8\"}}, \"shapedefaults\": {\"line\": {\"color\": \"#2a3f5f\"}}, \"ternary\": {\"aaxis\": {\"gridcolor\": \"#DFE8F3\", \"linecolor\": \"#A2B1C6\", \"ticks\": \"\"}, \"baxis\": {\"gridcolor\": \"#DFE8F3\", \"linecolor\": \"#A2B1C6\", \"ticks\": \"\"}, \"bgcolor\": \"white\", \"caxis\": {\"gridcolor\": \"#DFE8F3\", \"linecolor\": \"#A2B1C6\", \"ticks\": \"\"}}, \"title\": {\"x\": 0.05}, \"xaxis\": {\"automargin\": true, \"gridcolor\": \"#EBF0F8\", \"linecolor\": \"#EBF0F8\", \"ticks\": \"\", \"title\": {\"standoff\": 15}, \"zerolinecolor\": \"#EBF0F8\", \"zerolinewidth\": 2}, \"yaxis\": {\"automargin\": true, \"gridcolor\": \"#EBF0F8\", \"linecolor\": \"#EBF0F8\", \"ticks\": \"\", \"title\": {\"standoff\": 15}, \"zerolinecolor\": \"#EBF0F8\", \"zerolinewidth\": 2}}}, \"title\": {\"text\": \"Casos acumulados por Estado\"}},\n",
       "                        {\"responsive\": true}\n",
       "                    ).then(function(){\n",
       "                            \n",
       "var gd = document.getElementById('64479ac6-6558-4437-a0d9-640de6e6bb18');\n",
       "var x = new MutationObserver(function (mutations, observer) {{\n",
       "        var display = window.getComputedStyle(gd).display;\n",
       "        if (!display || display === 'none') {{\n",
       "            console.log([gd, 'removed!']);\n",
       "            Plotly.purge(gd);\n",
       "            observer.disconnect();\n",
       "        }}\n",
       "}});\n",
       "\n",
       "// Listen for the removal of the full notebook cells\n",
       "var notebookContainer = gd.closest('#notebook-container');\n",
       "if (notebookContainer) {{\n",
       "    x.observe(notebookContainer, {childList: true});\n",
       "}}\n",
       "\n",
       "// Listen for the clearing of the current output cell\n",
       "var outputEl = gd.closest('.output');\n",
       "if (outputEl) {{\n",
       "    x.observe(outputEl, {childList: true});\n",
       "}}\n",
       "\n",
       "                        })\n",
       "                };\n",
       "                });\n",
       "            </script>\n",
       "        </div>"
      ]
     },
     "metadata": {},
     "output_type": "display_data"
    }
   ],
   "source": [
    "# Plot confirmed cases\n",
    "fig = go.Figure(\n",
    "    [\n",
    "        go.Scatter(x = acumulado_estados.Estado, y = acumulado_estados.SP, mode = 'markers+lines', name=\"São Paulo\", line_shape='spline'),\n",
    "        go.Scatter(x = acumulado_estados.Estado, y = acumulado_estados.RJ, mode = 'markers+lines', name=\"Rio de Janeiro\", line_shape='spline'),\n",
    "         go.Scatter(x = acumulado_estados.Estado, y = acumulado_estados.RS, mode = 'markers+lines', name=\"Rio Grande do Sul\", line_shape='spline'),\n",
    "        go.Scatter(x = acumulado_estados.Estado, y = acumulado_estados.DF, mode = 'markers+lines', name=\"Distrito Federal\", line_shape='spline'),\n",
    "        go.Scatter(x = acumulado_estados.Estado, y = acumulado_estados.CE, mode = 'markers+lines', name=\"Ceará\"),\n",
    "        go.Scatter(x = acumulado_estados.Estado, y = acumulado_estados.GO, mode = 'markers+lines', name=\"Goiás\"),\n",
    "        go.Scatter(x = acumulado_estados.Estado, y = acumulado_estados.AC, mode = 'markers+lines', name=\"Acre\"),\n",
    "        go.Scatter(x = acumulado_estados.Estado, y = acumulado_estados.AL, mode = 'markers+lines', name=\"Alagoas\"),\n",
    "        go.Scatter(x = acumulado_estados.Estado, y = acumulado_estados.AM, mode = 'markers+lines', name=\"Amazonas\"),\n",
    "        go.Scatter(x = acumulado_estados.Estado, y = acumulado_estados.AP, mode = 'markers+lines', name=\"Amapá\"),\n",
    "        go.Scatter(x = acumulado_estados.Estado, y = acumulado_estados.BA, mode = 'markers+lines', name=\"Bahia\"),\n",
    "        \n",
    "        go.Scatter(x = acumulado_estados.Estado, y = acumulado_estados.ES, mode = 'markers+lines', name=\"Espírito Santo\"),\n",
    "        go.Scatter(x = acumulado_estados.Estado, y = acumulado_estados.MA, mode = 'markers+lines', name=\"Maranhão\"),\n",
    "        go.Scatter(x = acumulado_estados.Estado, y = acumulado_estados.MT, mode = 'markers+lines', name=\"Mato Grosso\"),\n",
    "        go.Scatter(x = acumulado_estados.Estado, y = acumulado_estados.MS, mode = 'markers+lines', name=\"Mato Grosso do Sul\"),\n",
    "        go.Scatter(x = acumulado_estados.Estado, y = acumulado_estados.MG, mode = 'markers+lines', name=\"Minas Gerais\"),\n",
    "        go.Scatter(x = acumulado_estados.Estado, y = acumulado_estados.PA, mode = 'markers+lines', name=\"Pará\"),\n",
    "        go.Scatter(x = acumulado_estados.Estado, y = acumulado_estados.PB, mode = 'markers+lines', name=\"Paraíba\"),\n",
    "        go.Scatter(x = acumulado_estados.Estado, y = acumulado_estados.PR, mode = 'markers+lines', name=\"Paraná\"),\n",
    "        go.Scatter(x = acumulado_estados.Estado, y = acumulado_estados.PE, mode = 'markers+lines', name=\"Pernambuco\"),\n",
    "        go.Scatter(x = acumulado_estados.Estado, y = acumulado_estados.PI, mode = 'markers+lines', name=\"Piauí\"),\n",
    "        go.Scatter(x = acumulado_estados.Estado, y = acumulado_estados.RN, mode = 'markers+lines', name=\"Rio Grande do Norte\"),\n",
    "        \n",
    "        go.Scatter(x = acumulado_estados.Estado, y = acumulado_estados.RO, mode = 'markers+lines', name=\"Rondônia\"),\n",
    "        go.Scatter(x = acumulado_estados.Estado, y = acumulado_estados.RR, mode = 'markers+lines', name=\"Roraima\"),\n",
    "        go.Scatter(x = acumulado_estados.Estado, y = acumulado_estados.SC, mode = 'markers+lines', name=\"Santa Catarina\"),\n",
    "        go.Scatter(x = acumulado_estados.Estado, y = acumulado_estados.SE, mode = 'markers+lines', name=\"Sergipe\"),\n",
    "        go.Scatter(x = acumulado_estados.Estado, y = acumulado_estados.TO, mode = 'markers+lines', name=\"Tocantins\"),\n",
    "    ]\n",
    ")\n",
    "\n",
    "fig.update_layout(title='Casos acumulados por Estado',legend_title='<b> Estados/DF </b>',\n",
    "                   \n",
    "                   showlegend=True, template=\"plotly_white\",direction='clockwise')\n",
    "\n",
    "fig.show()"
   ]
  },
  {
   "cell_type": "markdown",
   "metadata": {
    "extensions": {
     "jupyter_dashboards": {
      "version": 1,
      "views": {
       "grid_default": {},
       "report_default": {
        "hidden": false
       }
      }
     }
    }
   },
   "source": [
    "![Figura2 Acumulado dos casos no Brasil por dia](IMG/AcumuladoEstadosDia.jpg)"
   ]
  },
  {
   "cell_type": "code",
   "execution_count": 85,
   "metadata": {
    "extensions": {
     "jupyter_dashboards": {
      "version": 1,
      "views": {
       "grid_default": {},
       "report_default": {
        "hidden": false
       }
      }
     }
    }
   },
   "outputs": [
    {
     "data": {
      "application/vnd.plotly.v1+json": {
       "config": {
        "plotlyServerURL": "https://plot.ly"
       },
       "data": [
        {
         "labels": [
          "Norte",
          "Sul",
          "Nordeste",
          "Centro-Oeste",
          "Sudeste"
         ],
         "textinfo": "label+percent",
         "type": "pie",
         "values": [
          1354,
          1950,
          3318,
          903,
          10651
         ]
        }
       ],
       "layout": {
        "template": {
         "data": {
          "bar": [
           {
            "error_x": {
             "color": "#2a3f5f"
            },
            "error_y": {
             "color": "#2a3f5f"
            },
            "marker": {
             "line": {
              "color": "#E5ECF6",
              "width": 0.5
             }
            },
            "type": "bar"
           }
          ],
          "barpolar": [
           {
            "marker": {
             "line": {
              "color": "#E5ECF6",
              "width": 0.5
             }
            },
            "type": "barpolar"
           }
          ],
          "carpet": [
           {
            "aaxis": {
             "endlinecolor": "#2a3f5f",
             "gridcolor": "white",
             "linecolor": "white",
             "minorgridcolor": "white",
             "startlinecolor": "#2a3f5f"
            },
            "baxis": {
             "endlinecolor": "#2a3f5f",
             "gridcolor": "white",
             "linecolor": "white",
             "minorgridcolor": "white",
             "startlinecolor": "#2a3f5f"
            },
            "type": "carpet"
           }
          ],
          "choropleth": [
           {
            "colorbar": {
             "outlinewidth": 0,
             "ticks": ""
            },
            "type": "choropleth"
           }
          ],
          "contour": [
           {
            "colorbar": {
             "outlinewidth": 0,
             "ticks": ""
            },
            "colorscale": [
             [
              0,
              "#0d0887"
             ],
             [
              0.1111111111111111,
              "#46039f"
             ],
             [
              0.2222222222222222,
              "#7201a8"
             ],
             [
              0.3333333333333333,
              "#9c179e"
             ],
             [
              0.4444444444444444,
              "#bd3786"
             ],
             [
              0.5555555555555556,
              "#d8576b"
             ],
             [
              0.6666666666666666,
              "#ed7953"
             ],
             [
              0.7777777777777778,
              "#fb9f3a"
             ],
             [
              0.8888888888888888,
              "#fdca26"
             ],
             [
              1,
              "#f0f921"
             ]
            ],
            "type": "contour"
           }
          ],
          "contourcarpet": [
           {
            "colorbar": {
             "outlinewidth": 0,
             "ticks": ""
            },
            "type": "contourcarpet"
           }
          ],
          "heatmap": [
           {
            "colorbar": {
             "outlinewidth": 0,
             "ticks": ""
            },
            "colorscale": [
             [
              0,
              "#0d0887"
             ],
             [
              0.1111111111111111,
              "#46039f"
             ],
             [
              0.2222222222222222,
              "#7201a8"
             ],
             [
              0.3333333333333333,
              "#9c179e"
             ],
             [
              0.4444444444444444,
              "#bd3786"
             ],
             [
              0.5555555555555556,
              "#d8576b"
             ],
             [
              0.6666666666666666,
              "#ed7953"
             ],
             [
              0.7777777777777778,
              "#fb9f3a"
             ],
             [
              0.8888888888888888,
              "#fdca26"
             ],
             [
              1,
              "#f0f921"
             ]
            ],
            "type": "heatmap"
           }
          ],
          "heatmapgl": [
           {
            "colorbar": {
             "outlinewidth": 0,
             "ticks": ""
            },
            "colorscale": [
             [
              0,
              "#0d0887"
             ],
             [
              0.1111111111111111,
              "#46039f"
             ],
             [
              0.2222222222222222,
              "#7201a8"
             ],
             [
              0.3333333333333333,
              "#9c179e"
             ],
             [
              0.4444444444444444,
              "#bd3786"
             ],
             [
              0.5555555555555556,
              "#d8576b"
             ],
             [
              0.6666666666666666,
              "#ed7953"
             ],
             [
              0.7777777777777778,
              "#fb9f3a"
             ],
             [
              0.8888888888888888,
              "#fdca26"
             ],
             [
              1,
              "#f0f921"
             ]
            ],
            "type": "heatmapgl"
           }
          ],
          "histogram": [
           {
            "marker": {
             "colorbar": {
              "outlinewidth": 0,
              "ticks": ""
             }
            },
            "type": "histogram"
           }
          ],
          "histogram2d": [
           {
            "colorbar": {
             "outlinewidth": 0,
             "ticks": ""
            },
            "colorscale": [
             [
              0,
              "#0d0887"
             ],
             [
              0.1111111111111111,
              "#46039f"
             ],
             [
              0.2222222222222222,
              "#7201a8"
             ],
             [
              0.3333333333333333,
              "#9c179e"
             ],
             [
              0.4444444444444444,
              "#bd3786"
             ],
             [
              0.5555555555555556,
              "#d8576b"
             ],
             [
              0.6666666666666666,
              "#ed7953"
             ],
             [
              0.7777777777777778,
              "#fb9f3a"
             ],
             [
              0.8888888888888888,
              "#fdca26"
             ],
             [
              1,
              "#f0f921"
             ]
            ],
            "type": "histogram2d"
           }
          ],
          "histogram2dcontour": [
           {
            "colorbar": {
             "outlinewidth": 0,
             "ticks": ""
            },
            "colorscale": [
             [
              0,
              "#0d0887"
             ],
             [
              0.1111111111111111,
              "#46039f"
             ],
             [
              0.2222222222222222,
              "#7201a8"
             ],
             [
              0.3333333333333333,
              "#9c179e"
             ],
             [
              0.4444444444444444,
              "#bd3786"
             ],
             [
              0.5555555555555556,
              "#d8576b"
             ],
             [
              0.6666666666666666,
              "#ed7953"
             ],
             [
              0.7777777777777778,
              "#fb9f3a"
             ],
             [
              0.8888888888888888,
              "#fdca26"
             ],
             [
              1,
              "#f0f921"
             ]
            ],
            "type": "histogram2dcontour"
           }
          ],
          "mesh3d": [
           {
            "colorbar": {
             "outlinewidth": 0,
             "ticks": ""
            },
            "type": "mesh3d"
           }
          ],
          "parcoords": [
           {
            "line": {
             "colorbar": {
              "outlinewidth": 0,
              "ticks": ""
             }
            },
            "type": "parcoords"
           }
          ],
          "pie": [
           {
            "automargin": true,
            "type": "pie"
           }
          ],
          "scatter": [
           {
            "marker": {
             "colorbar": {
              "outlinewidth": 0,
              "ticks": ""
             }
            },
            "type": "scatter"
           }
          ],
          "scatter3d": [
           {
            "line": {
             "colorbar": {
              "outlinewidth": 0,
              "ticks": ""
             }
            },
            "marker": {
             "colorbar": {
              "outlinewidth": 0,
              "ticks": ""
             }
            },
            "type": "scatter3d"
           }
          ],
          "scattercarpet": [
           {
            "marker": {
             "colorbar": {
              "outlinewidth": 0,
              "ticks": ""
             }
            },
            "type": "scattercarpet"
           }
          ],
          "scattergeo": [
           {
            "marker": {
             "colorbar": {
              "outlinewidth": 0,
              "ticks": ""
             }
            },
            "type": "scattergeo"
           }
          ],
          "scattergl": [
           {
            "marker": {
             "colorbar": {
              "outlinewidth": 0,
              "ticks": ""
             }
            },
            "type": "scattergl"
           }
          ],
          "scattermapbox": [
           {
            "marker": {
             "colorbar": {
              "outlinewidth": 0,
              "ticks": ""
             }
            },
            "type": "scattermapbox"
           }
          ],
          "scatterpolar": [
           {
            "marker": {
             "colorbar": {
              "outlinewidth": 0,
              "ticks": ""
             }
            },
            "type": "scatterpolar"
           }
          ],
          "scatterpolargl": [
           {
            "marker": {
             "colorbar": {
              "outlinewidth": 0,
              "ticks": ""
             }
            },
            "type": "scatterpolargl"
           }
          ],
          "scatterternary": [
           {
            "marker": {
             "colorbar": {
              "outlinewidth": 0,
              "ticks": ""
             }
            },
            "type": "scatterternary"
           }
          ],
          "surface": [
           {
            "colorbar": {
             "outlinewidth": 0,
             "ticks": ""
            },
            "colorscale": [
             [
              0,
              "#0d0887"
             ],
             [
              0.1111111111111111,
              "#46039f"
             ],
             [
              0.2222222222222222,
              "#7201a8"
             ],
             [
              0.3333333333333333,
              "#9c179e"
             ],
             [
              0.4444444444444444,
              "#bd3786"
             ],
             [
              0.5555555555555556,
              "#d8576b"
             ],
             [
              0.6666666666666666,
              "#ed7953"
             ],
             [
              0.7777777777777778,
              "#fb9f3a"
             ],
             [
              0.8888888888888888,
              "#fdca26"
             ],
             [
              1,
              "#f0f921"
             ]
            ],
            "type": "surface"
           }
          ],
          "table": [
           {
            "cells": {
             "fill": {
              "color": "#EBF0F8"
             },
             "line": {
              "color": "white"
             }
            },
            "header": {
             "fill": {
              "color": "#C8D4E3"
             },
             "line": {
              "color": "white"
             }
            },
            "type": "table"
           }
          ]
         },
         "layout": {
          "annotationdefaults": {
           "arrowcolor": "#2a3f5f",
           "arrowhead": 0,
           "arrowwidth": 1
          },
          "coloraxis": {
           "colorbar": {
            "outlinewidth": 0,
            "ticks": ""
           }
          },
          "colorscale": {
           "diverging": [
            [
             0,
             "#8e0152"
            ],
            [
             0.1,
             "#c51b7d"
            ],
            [
             0.2,
             "#de77ae"
            ],
            [
             0.3,
             "#f1b6da"
            ],
            [
             0.4,
             "#fde0ef"
            ],
            [
             0.5,
             "#f7f7f7"
            ],
            [
             0.6,
             "#e6f5d0"
            ],
            [
             0.7,
             "#b8e186"
            ],
            [
             0.8,
             "#7fbc41"
            ],
            [
             0.9,
             "#4d9221"
            ],
            [
             1,
             "#276419"
            ]
           ],
           "sequential": [
            [
             0,
             "#0d0887"
            ],
            [
             0.1111111111111111,
             "#46039f"
            ],
            [
             0.2222222222222222,
             "#7201a8"
            ],
            [
             0.3333333333333333,
             "#9c179e"
            ],
            [
             0.4444444444444444,
             "#bd3786"
            ],
            [
             0.5555555555555556,
             "#d8576b"
            ],
            [
             0.6666666666666666,
             "#ed7953"
            ],
            [
             0.7777777777777778,
             "#fb9f3a"
            ],
            [
             0.8888888888888888,
             "#fdca26"
            ],
            [
             1,
             "#f0f921"
            ]
           ],
           "sequentialminus": [
            [
             0,
             "#0d0887"
            ],
            [
             0.1111111111111111,
             "#46039f"
            ],
            [
             0.2222222222222222,
             "#7201a8"
            ],
            [
             0.3333333333333333,
             "#9c179e"
            ],
            [
             0.4444444444444444,
             "#bd3786"
            ],
            [
             0.5555555555555556,
             "#d8576b"
            ],
            [
             0.6666666666666666,
             "#ed7953"
            ],
            [
             0.7777777777777778,
             "#fb9f3a"
            ],
            [
             0.8888888888888888,
             "#fdca26"
            ],
            [
             1,
             "#f0f921"
            ]
           ]
          },
          "colorway": [
           "#636efa",
           "#EF553B",
           "#00cc96",
           "#ab63fa",
           "#FFA15A",
           "#19d3f3",
           "#FF6692",
           "#B6E880",
           "#FF97FF",
           "#FECB52"
          ],
          "font": {
           "color": "#2a3f5f"
          },
          "geo": {
           "bgcolor": "white",
           "lakecolor": "white",
           "landcolor": "#E5ECF6",
           "showlakes": true,
           "showland": true,
           "subunitcolor": "white"
          },
          "hoverlabel": {
           "align": "left"
          },
          "hovermode": "closest",
          "mapbox": {
           "style": "light"
          },
          "paper_bgcolor": "white",
          "plot_bgcolor": "#E5ECF6",
          "polar": {
           "angularaxis": {
            "gridcolor": "white",
            "linecolor": "white",
            "ticks": ""
           },
           "bgcolor": "#E5ECF6",
           "radialaxis": {
            "gridcolor": "white",
            "linecolor": "white",
            "ticks": ""
           }
          },
          "scene": {
           "xaxis": {
            "backgroundcolor": "#E5ECF6",
            "gridcolor": "white",
            "gridwidth": 2,
            "linecolor": "white",
            "showbackground": true,
            "ticks": "",
            "zerolinecolor": "white"
           },
           "yaxis": {
            "backgroundcolor": "#E5ECF6",
            "gridcolor": "white",
            "gridwidth": 2,
            "linecolor": "white",
            "showbackground": true,
            "ticks": "",
            "zerolinecolor": "white"
           },
           "zaxis": {
            "backgroundcolor": "#E5ECF6",
            "gridcolor": "white",
            "gridwidth": 2,
            "linecolor": "white",
            "showbackground": true,
            "ticks": "",
            "zerolinecolor": "white"
           }
          },
          "shapedefaults": {
           "line": {
            "color": "#2a3f5f"
           }
          },
          "ternary": {
           "aaxis": {
            "gridcolor": "white",
            "linecolor": "white",
            "ticks": ""
           },
           "baxis": {
            "gridcolor": "white",
            "linecolor": "white",
            "ticks": ""
           },
           "bgcolor": "#E5ECF6",
           "caxis": {
            "gridcolor": "white",
            "linecolor": "white",
            "ticks": ""
           }
          },
          "title": {
           "x": 0.05
          },
          "xaxis": {
           "automargin": true,
           "gridcolor": "white",
           "linecolor": "white",
           "ticks": "",
           "title": {
            "standoff": 15
           },
           "zerolinecolor": "white",
           "zerolinewidth": 2
          },
          "yaxis": {
           "automargin": true,
           "gridcolor": "white",
           "linecolor": "white",
           "ticks": "",
           "title": {
            "standoff": 15
           },
           "zerolinecolor": "white",
           "zerolinewidth": 2
          }
         }
        }
       }
      },
      "text/html": [
       "<div>\n",
       "        \n",
       "        \n",
       "            <div id=\"6022f135-038d-475b-b6e4-00c5b5dca163\" class=\"plotly-graph-div\" style=\"height:525px; width:100%;\"></div>\n",
       "            <script type=\"text/javascript\">\n",
       "                require([\"plotly\"], function(Plotly) {\n",
       "                    window.PLOTLYENV=window.PLOTLYENV || {};\n",
       "                    \n",
       "                if (document.getElementById(\"6022f135-038d-475b-b6e4-00c5b5dca163\")) {\n",
       "                    Plotly.newPlot(\n",
       "                        '6022f135-038d-475b-b6e4-00c5b5dca163',\n",
       "                        [{\"labels\": [\"Norte\", \"Sul\", \"Nordeste\", \"Centro-Oeste\", \"Sudeste\"], \"textinfo\": \"label+percent\", \"type\": \"pie\", \"values\": [1354, 1950, 3318, 903, 10651]}],\n",
       "                        {\"template\": {\"data\": {\"bar\": [{\"error_x\": {\"color\": \"#2a3f5f\"}, \"error_y\": {\"color\": \"#2a3f5f\"}, \"marker\": {\"line\": {\"color\": \"#E5ECF6\", \"width\": 0.5}}, \"type\": \"bar\"}], \"barpolar\": [{\"marker\": {\"line\": {\"color\": \"#E5ECF6\", \"width\": 0.5}}, \"type\": \"barpolar\"}], \"carpet\": [{\"aaxis\": {\"endlinecolor\": \"#2a3f5f\", \"gridcolor\": \"white\", \"linecolor\": \"white\", \"minorgridcolor\": \"white\", \"startlinecolor\": \"#2a3f5f\"}, \"baxis\": {\"endlinecolor\": \"#2a3f5f\", \"gridcolor\": \"white\", \"linecolor\": \"white\", \"minorgridcolor\": \"white\", \"startlinecolor\": \"#2a3f5f\"}, \"type\": \"carpet\"}], \"choropleth\": [{\"colorbar\": {\"outlinewidth\": 0, \"ticks\": \"\"}, \"type\": \"choropleth\"}], \"contour\": [{\"colorbar\": {\"outlinewidth\": 0, \"ticks\": \"\"}, \"colorscale\": [[0.0, \"#0d0887\"], [0.1111111111111111, \"#46039f\"], [0.2222222222222222, \"#7201a8\"], [0.3333333333333333, \"#9c179e\"], [0.4444444444444444, \"#bd3786\"], [0.5555555555555556, \"#d8576b\"], [0.6666666666666666, \"#ed7953\"], [0.7777777777777778, \"#fb9f3a\"], [0.8888888888888888, \"#fdca26\"], [1.0, \"#f0f921\"]], \"type\": \"contour\"}], \"contourcarpet\": [{\"colorbar\": {\"outlinewidth\": 0, \"ticks\": \"\"}, \"type\": \"contourcarpet\"}], \"heatmap\": [{\"colorbar\": {\"outlinewidth\": 0, \"ticks\": \"\"}, \"colorscale\": [[0.0, \"#0d0887\"], [0.1111111111111111, \"#46039f\"], [0.2222222222222222, \"#7201a8\"], [0.3333333333333333, \"#9c179e\"], [0.4444444444444444, \"#bd3786\"], [0.5555555555555556, \"#d8576b\"], [0.6666666666666666, \"#ed7953\"], [0.7777777777777778, \"#fb9f3a\"], [0.8888888888888888, \"#fdca26\"], [1.0, \"#f0f921\"]], \"type\": \"heatmap\"}], \"heatmapgl\": [{\"colorbar\": {\"outlinewidth\": 0, \"ticks\": \"\"}, \"colorscale\": [[0.0, \"#0d0887\"], [0.1111111111111111, \"#46039f\"], [0.2222222222222222, \"#7201a8\"], [0.3333333333333333, \"#9c179e\"], [0.4444444444444444, \"#bd3786\"], [0.5555555555555556, \"#d8576b\"], [0.6666666666666666, \"#ed7953\"], [0.7777777777777778, \"#fb9f3a\"], [0.8888888888888888, \"#fdca26\"], [1.0, \"#f0f921\"]], \"type\": \"heatmapgl\"}], \"histogram\": [{\"marker\": {\"colorbar\": {\"outlinewidth\": 0, \"ticks\": \"\"}}, \"type\": \"histogram\"}], \"histogram2d\": [{\"colorbar\": {\"outlinewidth\": 0, \"ticks\": \"\"}, \"colorscale\": [[0.0, \"#0d0887\"], [0.1111111111111111, \"#46039f\"], [0.2222222222222222, \"#7201a8\"], [0.3333333333333333, \"#9c179e\"], [0.4444444444444444, \"#bd3786\"], [0.5555555555555556, \"#d8576b\"], [0.6666666666666666, \"#ed7953\"], [0.7777777777777778, \"#fb9f3a\"], [0.8888888888888888, \"#fdca26\"], [1.0, \"#f0f921\"]], \"type\": \"histogram2d\"}], \"histogram2dcontour\": [{\"colorbar\": {\"outlinewidth\": 0, \"ticks\": \"\"}, \"colorscale\": [[0.0, \"#0d0887\"], [0.1111111111111111, \"#46039f\"], [0.2222222222222222, \"#7201a8\"], [0.3333333333333333, \"#9c179e\"], [0.4444444444444444, \"#bd3786\"], [0.5555555555555556, \"#d8576b\"], [0.6666666666666666, \"#ed7953\"], [0.7777777777777778, \"#fb9f3a\"], [0.8888888888888888, \"#fdca26\"], [1.0, \"#f0f921\"]], \"type\": \"histogram2dcontour\"}], \"mesh3d\": [{\"colorbar\": {\"outlinewidth\": 0, \"ticks\": \"\"}, \"type\": \"mesh3d\"}], \"parcoords\": [{\"line\": {\"colorbar\": {\"outlinewidth\": 0, \"ticks\": \"\"}}, \"type\": \"parcoords\"}], \"pie\": [{\"automargin\": true, \"type\": \"pie\"}], \"scatter\": [{\"marker\": {\"colorbar\": {\"outlinewidth\": 0, \"ticks\": \"\"}}, \"type\": \"scatter\"}], \"scatter3d\": [{\"line\": {\"colorbar\": {\"outlinewidth\": 0, \"ticks\": \"\"}}, \"marker\": {\"colorbar\": {\"outlinewidth\": 0, \"ticks\": \"\"}}, \"type\": \"scatter3d\"}], \"scattercarpet\": [{\"marker\": {\"colorbar\": {\"outlinewidth\": 0, \"ticks\": \"\"}}, \"type\": \"scattercarpet\"}], \"scattergeo\": [{\"marker\": {\"colorbar\": {\"outlinewidth\": 0, \"ticks\": \"\"}}, \"type\": \"scattergeo\"}], \"scattergl\": [{\"marker\": {\"colorbar\": {\"outlinewidth\": 0, \"ticks\": \"\"}}, \"type\": \"scattergl\"}], \"scattermapbox\": [{\"marker\": {\"colorbar\": {\"outlinewidth\": 0, \"ticks\": \"\"}}, \"type\": \"scattermapbox\"}], \"scatterpolar\": [{\"marker\": {\"colorbar\": {\"outlinewidth\": 0, \"ticks\": \"\"}}, \"type\": \"scatterpolar\"}], \"scatterpolargl\": [{\"marker\": {\"colorbar\": {\"outlinewidth\": 0, \"ticks\": \"\"}}, \"type\": \"scatterpolargl\"}], \"scatterternary\": [{\"marker\": {\"colorbar\": {\"outlinewidth\": 0, \"ticks\": \"\"}}, \"type\": \"scatterternary\"}], \"surface\": [{\"colorbar\": {\"outlinewidth\": 0, \"ticks\": \"\"}, \"colorscale\": [[0.0, \"#0d0887\"], [0.1111111111111111, \"#46039f\"], [0.2222222222222222, \"#7201a8\"], [0.3333333333333333, \"#9c179e\"], [0.4444444444444444, \"#bd3786\"], [0.5555555555555556, \"#d8576b\"], [0.6666666666666666, \"#ed7953\"], [0.7777777777777778, \"#fb9f3a\"], [0.8888888888888888, \"#fdca26\"], [1.0, \"#f0f921\"]], \"type\": \"surface\"}], \"table\": [{\"cells\": {\"fill\": {\"color\": \"#EBF0F8\"}, \"line\": {\"color\": \"white\"}}, \"header\": {\"fill\": {\"color\": \"#C8D4E3\"}, \"line\": {\"color\": \"white\"}}, \"type\": \"table\"}]}, \"layout\": {\"annotationdefaults\": {\"arrowcolor\": \"#2a3f5f\", \"arrowhead\": 0, \"arrowwidth\": 1}, \"coloraxis\": {\"colorbar\": {\"outlinewidth\": 0, \"ticks\": \"\"}}, \"colorscale\": {\"diverging\": [[0, \"#8e0152\"], [0.1, \"#c51b7d\"], [0.2, \"#de77ae\"], [0.3, \"#f1b6da\"], [0.4, \"#fde0ef\"], [0.5, \"#f7f7f7\"], [0.6, \"#e6f5d0\"], [0.7, \"#b8e186\"], [0.8, \"#7fbc41\"], [0.9, \"#4d9221\"], [1, \"#276419\"]], \"sequential\": [[0.0, \"#0d0887\"], [0.1111111111111111, \"#46039f\"], [0.2222222222222222, \"#7201a8\"], [0.3333333333333333, \"#9c179e\"], [0.4444444444444444, \"#bd3786\"], [0.5555555555555556, \"#d8576b\"], [0.6666666666666666, \"#ed7953\"], [0.7777777777777778, \"#fb9f3a\"], [0.8888888888888888, \"#fdca26\"], [1.0, \"#f0f921\"]], \"sequentialminus\": [[0.0, \"#0d0887\"], [0.1111111111111111, \"#46039f\"], [0.2222222222222222, \"#7201a8\"], [0.3333333333333333, \"#9c179e\"], [0.4444444444444444, \"#bd3786\"], [0.5555555555555556, \"#d8576b\"], [0.6666666666666666, \"#ed7953\"], [0.7777777777777778, \"#fb9f3a\"], [0.8888888888888888, \"#fdca26\"], [1.0, \"#f0f921\"]]}, \"colorway\": [\"#636efa\", \"#EF553B\", \"#00cc96\", \"#ab63fa\", \"#FFA15A\", \"#19d3f3\", \"#FF6692\", \"#B6E880\", \"#FF97FF\", \"#FECB52\"], \"font\": {\"color\": \"#2a3f5f\"}, \"geo\": {\"bgcolor\": \"white\", \"lakecolor\": \"white\", \"landcolor\": \"#E5ECF6\", \"showlakes\": true, \"showland\": true, \"subunitcolor\": \"white\"}, \"hoverlabel\": {\"align\": \"left\"}, \"hovermode\": \"closest\", \"mapbox\": {\"style\": \"light\"}, \"paper_bgcolor\": \"white\", \"plot_bgcolor\": \"#E5ECF6\", \"polar\": {\"angularaxis\": {\"gridcolor\": \"white\", \"linecolor\": \"white\", \"ticks\": \"\"}, \"bgcolor\": \"#E5ECF6\", \"radialaxis\": {\"gridcolor\": \"white\", \"linecolor\": \"white\", \"ticks\": \"\"}}, \"scene\": {\"xaxis\": {\"backgroundcolor\": \"#E5ECF6\", \"gridcolor\": \"white\", \"gridwidth\": 2, \"linecolor\": \"white\", \"showbackground\": true, \"ticks\": \"\", \"zerolinecolor\": \"white\"}, \"yaxis\": {\"backgroundcolor\": \"#E5ECF6\", \"gridcolor\": \"white\", \"gridwidth\": 2, \"linecolor\": \"white\", \"showbackground\": true, \"ticks\": \"\", \"zerolinecolor\": \"white\"}, \"zaxis\": {\"backgroundcolor\": \"#E5ECF6\", \"gridcolor\": \"white\", \"gridwidth\": 2, \"linecolor\": \"white\", \"showbackground\": true, \"ticks\": \"\", \"zerolinecolor\": \"white\"}}, \"shapedefaults\": {\"line\": {\"color\": \"#2a3f5f\"}}, \"ternary\": {\"aaxis\": {\"gridcolor\": \"white\", \"linecolor\": \"white\", \"ticks\": \"\"}, \"baxis\": {\"gridcolor\": \"white\", \"linecolor\": \"white\", \"ticks\": \"\"}, \"bgcolor\": \"#E5ECF6\", \"caxis\": {\"gridcolor\": \"white\", \"linecolor\": \"white\", \"ticks\": \"\"}}, \"title\": {\"x\": 0.05}, \"xaxis\": {\"automargin\": true, \"gridcolor\": \"white\", \"linecolor\": \"white\", \"ticks\": \"\", \"title\": {\"standoff\": 15}, \"zerolinecolor\": \"white\", \"zerolinewidth\": 2}, \"yaxis\": {\"automargin\": true, \"gridcolor\": \"white\", \"linecolor\": \"white\", \"ticks\": \"\", \"title\": {\"standoff\": 15}, \"zerolinecolor\": \"white\", \"zerolinewidth\": 2}}}},\n",
       "                        {\"responsive\": true}\n",
       "                    ).then(function(){\n",
       "                            \n",
       "var gd = document.getElementById('6022f135-038d-475b-b6e4-00c5b5dca163');\n",
       "var x = new MutationObserver(function (mutations, observer) {{\n",
       "        var display = window.getComputedStyle(gd).display;\n",
       "        if (!display || display === 'none') {{\n",
       "            console.log([gd, 'removed!']);\n",
       "            Plotly.purge(gd);\n",
       "            observer.disconnect();\n",
       "        }}\n",
       "}});\n",
       "\n",
       "// Listen for the removal of the full notebook cells\n",
       "var notebookContainer = gd.closest('#notebook-container');\n",
       "if (notebookContainer) {{\n",
       "    x.observe(notebookContainer, {childList: true});\n",
       "}}\n",
       "\n",
       "// Listen for the clearing of the current output cell\n",
       "var outputEl = gd.closest('.output');\n",
       "if (outputEl) {{\n",
       "    x.observe(outputEl, {childList: true});\n",
       "}}\n",
       "\n",
       "                        })\n",
       "                };\n",
       "                });\n",
       "            </script>\n",
       "        </div>"
      ]
     },
     "metadata": {},
     "output_type": "display_data"
    }
   ],
   "source": [
    "labels = ['Norte','Sul','Nordeste','Centro-Oeste','Sudeste']\n",
    "values = [norte.Norte.max(),sul.Sul.max(), nordeste.Nordeste.max(),centroOeste.CentroOeste.max(),sudeste.Sudeste.max()]\n",
    "\n",
    "fig = go.Figure(data=[go.Pie(labels=labels, values=values, textinfo='label+percent')])\n",
    "fig.show()"
   ]
  },
  {
   "cell_type": "markdown",
   "metadata": {
    "extensions": {
     "jupyter_dashboards": {
      "version": 1,
      "views": {
       "grid_default": {},
       "report_default": {
        "hidden": false
       }
      }
     }
    }
   },
   "source": [
    "![Figura3 Percentual dos casos confirmados por região](IMG/regioes.jpg)"
   ]
  },
  {
   "cell_type": "code",
   "execution_count": 86,
   "metadata": {
    "extensions": {
     "jupyter_dashboards": {
      "version": 1,
      "views": {
       "grid_default": {},
       "report_default": {
        "hidden": true
       }
      }
     }
    }
   },
   "outputs": [],
   "source": [
    "#api_br_io[ (api_br_io.state == 'RS')]"
   ]
  },
  {
   "cell_type": "code",
   "execution_count": null,
   "metadata": {
    "extensions": {
     "jupyter_dashboards": {
      "version": 1,
      "views": {
       "grid_default": {},
       "report_default": {
        "hidden": false
       }
      }
     }
    }
   },
   "outputs": [],
   "source": [
    "dataRS =api_br_io[ api_br_io.city.notnull() ]\n",
    "rs = dataRS [ (dataRS.state == 'RS')&(dataRS.date == '2020-04-08') & (dataRS.place_type =='city')].sort_values(by='confirmed',ascending=False)\n",
    "rs.groupby(['city'] )\n",
    "rs.fillna(0, inplace = True)\n",
    "fig = go.Figure(data=[go.Table(\n",
    "    header=dict(values=['Cidades  % '+ str(round(rs.city.size*100/497,2)) +'<br><b>Total--</b>'+str(rs.city.size) +'</br>' ,\n",
    "                        '<br>Confirmados</br> <b>Total-</b>'+ str(rs.confirmed.sum()),\n",
    "                        '<br>Mortes</br>  <b>Total-</b>'+ str(rs.deaths.sum().astype(int))],\n",
    "                fill_color='paleturquoise',\n",
    "                align='left'),\n",
    "    cells=dict(values=[rs.city, rs.confirmed,rs.deaths],\n",
    "               fill_color='lavender',\n",
    "               align='left'))\n",
    "])\n",
    "\n",
    "fig.show()"
   ]
  },
  {
   "cell_type": "markdown",
   "metadata": {
    "extensions": {
     "jupyter_dashboards": {
      "version": 1,
      "views": {
       "grid_default": {},
       "report_default": {
        "hidden": false
       }
      }
     }
    }
   },
   "source": [
    "![Tabela1 casos confirmados por cidades do RS](IMG/Alegrete.jpg)"
   ]
  },
  {
   "cell_type": "code",
   "execution_count": null,
   "metadata": {
    "extensions": {
     "jupyter_dashboards": {
      "version": 1,
      "views": {
       "grid_default": {},
       "report_default": {
        "hidden": false
       }
      }
     }
    }
   },
   "outputs": [],
   "source": [
    "import plotly.express as px\n",
    "\n",
    "\n",
    "fig = px.bar(rs.head(10), y='city', x='confirmed',color='deaths', text='confirmed',orientation='h')\n",
    "\n",
    "fig.update_traces( textposition='outside')\n",
    "fig.update_layout(uniformtext_minsize=8, uniformtext_mode='hide')\n",
    "fig.show()"
   ]
  },
  {
   "cell_type": "markdown",
   "metadata": {
    "extensions": {
     "jupyter_dashboards": {
      "version": 1,
      "views": {
       "grid_default": {},
       "report_default": {
        "hidden": false
       }
      }
     }
    }
   },
   "source": [
    "![Figura4 Acumulado dos casos no RS e óbitos](IMG/RS.jpg)"
   ]
  },
  {
   "cell_type": "code",
   "execution_count": null,
   "metadata": {
    "extensions": {
     "jupyter_dashboards": {
      "version": 1,
      "views": {
       "grid_default": {},
       "report_default": {
        "hidden": true
       }
      }
     }
    }
   },
   "outputs": [],
   "source": [
    "br_estados = 'DB/br_states.json'\n",
    "geo_json_data = json.load(open(br_estados))\n"
   ]
  },
  {
   "cell_type": "code",
   "execution_count": null,
   "metadata": {
    "extensions": {
     "jupyter_dashboards": {
      "version": 1,
      "views": {
       "grid_default": {},
       "report_default": {
        "hidden": true
       }
      }
     }
    }
   },
   "outputs": [],
   "source": [
    "dados= cidades.copy()\n",
    "df_bsb =dados[( dados.city.notnull()) & (dados.place_type =='city') ]\n",
    "\n",
    "brasil = folium.Map(\n",
    "    location=[-15.77972, -47.92972],    # Coordenadas retiradas do Google Maps / Longitude ajustada\n",
    "    zoom_start=4\n",
    ")\n",
    "\n"
   ]
  },
  {
   "cell_type": "code",
   "execution_count": null,
   "metadata": {
    "extensions": {
     "jupyter_dashboards": {
      "version": 1,
      "views": {
       "grid_default": {},
       "report_default": {
        "hidden": false
       }
      }
     }
    }
   },
   "outputs": [],
   "source": [
    "\n",
    "for _, dados in df_bsb.iterrows():\n",
    "    folium.Marker(\n",
    "        location=[dados['latitude'], dados['longitude']],clustered_marker = True,\n",
    "        popup= dados.city +'<br><b>Casos--</b>'+str(dados.confirmed) +'</br>'+'<br><b>Óbitos--</b>'+str(dados.deaths) +'</br>'+'<br><b>Taxa de Mortalidade--</b>'+str(dados.death_rate) +'</br>',\n",
    "        icon=folium.Icon(color='red',\n",
    "                    icon_color='black',\n",
    "                    icon='exclamation-triangle',\n",
    "                    prefix='fa')\n",
    "    ).add_to(brasil)\n",
    "    \n",
    "brasil"
   ]
  },
  {
   "cell_type": "markdown",
   "metadata": {
    "extensions": {
     "jupyter_dashboards": {
      "version": 1,
      "views": {
       "grid_default": {},
       "report_default": {
        "hidden": false
       }
      }
     }
    }
   },
   "source": [
    "![Figura5 casos no Brasil por dia](IMG/BrasilCasosDITRI.jpg)"
   ]
  },
  {
   "cell_type": "code",
   "execution_count": null,
   "metadata": {
    "extensions": {
     "jupyter_dashboards": {
      "version": 1,
      "views": {
       "grid_default": {},
       "report_default": {
        "hidden": false
       }
      }
     }
    }
   },
   "outputs": [],
   "source": [
    "folium.GeoJson(\n",
    "    geo_json_data,\n",
    "    style_function=lambda feature: {\n",
    "         \n",
    "        'fillColor': 'green',\n",
    "        'color': 'darkred',\n",
    "        'weight': 0.5,\n",
    "    }\n",
    ").add_to(brasil)\n",
    "brasil"
   ]
  },
  {
   "cell_type": "markdown",
   "metadata": {
    "extensions": {
     "jupyter_dashboards": {
      "version": 1,
      "views": {
       "grid_default": {},
       "report_default": {
        "hidden": false
       }
      }
     }
    }
   },
   "source": [
    "![Figura6 casos no RS ](IMG/RScasosDISTRI.jpg)"
   ]
  },
  {
   "cell_type": "code",
   "execution_count": null,
   "metadata": {
    "extensions": {
     "jupyter_dashboards": {
      "version": 1,
      "views": {
       "grid_default": {},
       "report_default": {
        "hidden": true
       }
      }
     }
    }
   },
   "outputs": [],
   "source": []
  },
  {
   "cell_type": "code",
   "execution_count": null,
   "metadata": {
    "extensions": {
     "jupyter_dashboards": {
      "version": 1,
      "views": {
       "grid_default": {},
       "report_default": {
        "hidden": true
       }
      }
     }
    }
   },
   "outputs": [],
   "source": []
  },
  {
   "cell_type": "code",
   "execution_count": null,
   "metadata": {
    "extensions": {
     "jupyter_dashboards": {
      "version": 1,
      "views": {
       "grid_default": {},
       "report_default": {
        "hidden": true
       }
      }
     }
    }
   },
   "outputs": [],
   "source": []
  },
  {
   "cell_type": "code",
   "execution_count": null,
   "metadata": {
    "extensions": {
     "jupyter_dashboards": {
      "version": 1,
      "views": {
       "grid_default": {},
       "report_default": {
        "hidden": true
       }
      }
     }
    }
   },
   "outputs": [],
   "source": []
  }
 ],
 "metadata": {
  "extensions": {
   "jupyter_dashboards": {
    "activeView": "report_default",
    "version": 1,
    "views": {
     "grid_default": {
      "cellMargin": 10,
      "defaultCellHeight": 20,
      "maxColumns": 12,
      "name": "grid",
      "type": "grid"
     },
     "report_default": {
      "name": "report",
      "type": "report"
     }
    }
   }
  },
  "kernelspec": {
   "display_name": "Python 3",
   "language": "python",
   "name": "python3"
  },
  "language_info": {
   "codemirror_mode": {
    "name": "ipython",
    "version": 3
   },
   "file_extension": ".py",
   "mimetype": "text/x-python",
   "name": "python",
   "nbconvert_exporter": "python",
   "pygments_lexer": "ipython3",
   "version": "3.7.6"
  }
 },
 "nbformat": 4,
 "nbformat_minor": 4
}
